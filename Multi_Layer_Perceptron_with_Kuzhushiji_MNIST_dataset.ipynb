{
  "nbformat": 4,
  "nbformat_minor": 0,
  "metadata": {
    "colab": {
      "name": "Multi Layer Perceptron with Kuzhushiji MNIST dataset.ipynb",
      "provenance": [],
      "collapsed_sections": [],
      "authorship_tag": "ABX9TyO2fi1c8h6Oy+uOg0b134s4",
      "include_colab_link": true
    },
    "kernelspec": {
      "name": "python3",
      "display_name": "Python 3"
    },
    "language_info": {
      "name": "python"
    },
    "accelerator": "GPU"
  },
  "cells": [
    {
      "cell_type": "markdown",
      "metadata": {
        "id": "view-in-github",
        "colab_type": "text"
      },
      "source": [
        "<a href=\"https://colab.research.google.com/github/kurkurzz/neural-computing-assignments/blob/master/Multi_Layer_Perceptron_with_Kuzhushiji_MNIST_dataset.ipynb\" target=\"_parent\"><img src=\"https://colab.research.google.com/assets/colab-badge.svg\" alt=\"Open In Colab\"/></a>"
      ]
    },
    {
      "cell_type": "code",
      "source": [
        "!pip install \"ray[tune]\""
      ],
      "metadata": {
        "colab": {
          "base_uri": "https://localhost:8080/"
        },
        "id": "7ECZG7yNcNLZ",
        "outputId": "1b51120d-e0d4-4b30-b243-5a40676c59ae"
      },
      "execution_count": 86,
      "outputs": [
        {
          "output_type": "stream",
          "name": "stdout",
          "text": [
            "Looking in indexes: https://pypi.org/simple, https://us-python.pkg.dev/colab-wheels/public/simple/\n",
            "Requirement already satisfied: ray[tune] in /usr/local/lib/python3.7/dist-packages (1.12.1)\n",
            "Requirement already satisfied: grpcio<=1.43.0,>=1.28.1 in /usr/local/lib/python3.7/dist-packages (from ray[tune]) (1.43.0)\n",
            "Requirement already satisfied: click>=7.0 in /usr/local/lib/python3.7/dist-packages (from ray[tune]) (7.1.2)\n",
            "Requirement already satisfied: attrs in /usr/local/lib/python3.7/dist-packages (from ray[tune]) (21.4.0)\n",
            "Requirement already satisfied: msgpack<2.0.0,>=1.0.0 in /usr/local/lib/python3.7/dist-packages (from ray[tune]) (1.0.3)\n",
            "Requirement already satisfied: numpy>=1.16 in /usr/local/lib/python3.7/dist-packages (from ray[tune]) (1.21.6)\n",
            "Requirement already satisfied: jsonschema in /usr/local/lib/python3.7/dist-packages (from ray[tune]) (4.3.3)\n",
            "Requirement already satisfied: virtualenv in /usr/local/lib/python3.7/dist-packages (from ray[tune]) (20.14.1)\n",
            "Requirement already satisfied: filelock in /usr/local/lib/python3.7/dist-packages (from ray[tune]) (3.7.0)\n",
            "Requirement already satisfied: aiosignal in /usr/local/lib/python3.7/dist-packages (from ray[tune]) (1.2.0)\n",
            "Requirement already satisfied: requests in /usr/local/lib/python3.7/dist-packages (from ray[tune]) (2.23.0)\n",
            "Requirement already satisfied: pyyaml in /usr/local/lib/python3.7/dist-packages (from ray[tune]) (3.13)\n",
            "Requirement already satisfied: protobuf>=3.15.3 in /usr/local/lib/python3.7/dist-packages (from ray[tune]) (3.17.3)\n",
            "Requirement already satisfied: frozenlist in /usr/local/lib/python3.7/dist-packages (from ray[tune]) (1.3.0)\n",
            "Requirement already satisfied: tensorboardX>=1.9 in /usr/local/lib/python3.7/dist-packages (from ray[tune]) (2.5)\n",
            "Requirement already satisfied: tabulate in /usr/local/lib/python3.7/dist-packages (from ray[tune]) (0.8.9)\n",
            "Requirement already satisfied: pandas in /usr/local/lib/python3.7/dist-packages (from ray[tune]) (1.3.5)\n",
            "Requirement already satisfied: six>=1.5.2 in /usr/local/lib/python3.7/dist-packages (from grpcio<=1.43.0,>=1.28.1->ray[tune]) (1.15.0)\n",
            "Requirement already satisfied: importlib-metadata in /usr/local/lib/python3.7/dist-packages (from jsonschema->ray[tune]) (4.11.3)\n",
            "Requirement already satisfied: importlib-resources>=1.4.0 in /usr/local/lib/python3.7/dist-packages (from jsonschema->ray[tune]) (5.7.1)\n",
            "Requirement already satisfied: typing-extensions in /usr/local/lib/python3.7/dist-packages (from jsonschema->ray[tune]) (4.2.0)\n",
            "Requirement already satisfied: pyrsistent!=0.17.0,!=0.17.1,!=0.17.2,>=0.14.0 in /usr/local/lib/python3.7/dist-packages (from jsonschema->ray[tune]) (0.18.1)\n",
            "Requirement already satisfied: zipp>=3.1.0 in /usr/local/lib/python3.7/dist-packages (from importlib-resources>=1.4.0->jsonschema->ray[tune]) (3.8.0)\n",
            "Requirement already satisfied: pytz>=2017.3 in /usr/local/lib/python3.7/dist-packages (from pandas->ray[tune]) (2022.1)\n",
            "Requirement already satisfied: python-dateutil>=2.7.3 in /usr/local/lib/python3.7/dist-packages (from pandas->ray[tune]) (2.8.2)\n",
            "Requirement already satisfied: urllib3!=1.25.0,!=1.25.1,<1.26,>=1.21.1 in /usr/local/lib/python3.7/dist-packages (from requests->ray[tune]) (1.24.3)\n",
            "Requirement already satisfied: certifi>=2017.4.17 in /usr/local/lib/python3.7/dist-packages (from requests->ray[tune]) (2022.5.18.1)\n",
            "Requirement already satisfied: idna<3,>=2.5 in /usr/local/lib/python3.7/dist-packages (from requests->ray[tune]) (2.10)\n",
            "Requirement already satisfied: chardet<4,>=3.0.2 in /usr/local/lib/python3.7/dist-packages (from requests->ray[tune]) (3.0.4)\n",
            "Requirement already satisfied: platformdirs<3,>=2 in /usr/local/lib/python3.7/dist-packages (from virtualenv->ray[tune]) (2.5.2)\n",
            "Requirement already satisfied: distlib<1,>=0.3.1 in /usr/local/lib/python3.7/dist-packages (from virtualenv->ray[tune]) (0.3.4)\n"
          ]
        }
      ]
    },
    {
      "cell_type": "code",
      "execution_count": 87,
      "metadata": {
        "id": "Hh39PZuWPtfv"
      },
      "outputs": [],
      "source": [
        "import sys\n",
        "import math\n",
        "\n",
        "import torch\n",
        "from torch import nn\n",
        "from torch import optim\n",
        "import torch.nn.functional as F\n",
        "from torchvision import datasets, transforms\n",
        "from torch.utils.data import random_split, DataLoader\n",
        "\n",
        "import matplotlib.pyplot as plt\n",
        "from ray import tune\n",
        "import numpy as np\n",
        "import seaborn as sns"
      ]
    },
    {
      "cell_type": "markdown",
      "source": [
        "# Task 1"
      ],
      "metadata": {
        "id": "rLygOJ_243NX"
      }
    },
    {
      "cell_type": "markdown",
      "source": [
        "## Loading Data"
      ],
      "metadata": {
        "id": "Yge8aY1sV0fm"
      }
    },
    {
      "cell_type": "markdown",
      "source": [
        "**Train data**"
      ],
      "metadata": {
        "id": "rF8dMvMFV9QU"
      }
    },
    {
      "cell_type": "code",
      "source": [
        "train_data = datasets.KMNIST('data', train=True, download=True, transform=transforms.ToTensor())\n",
        "print(train_data)\n",
        "train, val = random_split(train_data, [45_000, 15_000])"
      ],
      "metadata": {
        "colab": {
          "base_uri": "https://localhost:8080/"
        },
        "id": "VJJIj5BuV94a",
        "outputId": "3b7d959d-1029-4888-e0ff-fdc0686252d6"
      },
      "execution_count": 88,
      "outputs": [
        {
          "output_type": "stream",
          "name": "stdout",
          "text": [
            "Dataset KMNIST\n",
            "    Number of datapoints: 60000\n",
            "    Root location: data\n",
            "    Split: Train\n",
            "    StandardTransform\n",
            "Transform: ToTensor()\n"
          ]
        }
      ]
    },
    {
      "cell_type": "code",
      "source": [
        "train_loader = DataLoader(train, batch_size=32, shuffle=True)\n",
        "val_loader = DataLoader(val, batch_size=32)"
      ],
      "metadata": {
        "id": "aBtTEHBbWCEV"
      },
      "execution_count": 89,
      "outputs": []
    },
    {
      "cell_type": "markdown",
      "source": [
        "**Test data**"
      ],
      "metadata": {
        "id": "fYF_EbBGWDb5"
      }
    },
    {
      "cell_type": "code",
      "source": [
        "test_data = datasets.KMNIST('data', train=False, download=True, transform=transforms.ToTensor())\n",
        "test_data"
      ],
      "metadata": {
        "colab": {
          "base_uri": "https://localhost:8080/"
        },
        "id": "yLaaRDbVWGSq",
        "outputId": "3ae347e2-a83b-441f-e115-747ea0687f98"
      },
      "execution_count": 90,
      "outputs": [
        {
          "output_type": "execute_result",
          "data": {
            "text/plain": [
              "Dataset KMNIST\n",
              "    Number of datapoints: 10000\n",
              "    Root location: data\n",
              "    Split: Test\n",
              "    StandardTransform\n",
              "Transform: ToTensor()"
            ]
          },
          "metadata": {},
          "execution_count": 90
        }
      ]
    },
    {
      "cell_type": "code",
      "source": [
        "test_loader = DataLoader(test_data, batch_size=32)"
      ],
      "metadata": {
        "id": "9xpBy9oTWGQs"
      },
      "execution_count": 91,
      "outputs": []
    },
    {
      "cell_type": "markdown",
      "source": [
        "## Check 1: Visualize Data"
      ],
      "metadata": {
        "id": "EUmK3VK1WGOm"
      }
    },
    {
      "cell_type": "code",
      "source": [
        "examples = enumerate(train_loader)\n",
        "batch_idx, (example_data, example_targets) = next(examples)"
      ],
      "metadata": {
        "id": "4V3-6BJCWGM1"
      },
      "execution_count": 92,
      "outputs": []
    },
    {
      "cell_type": "code",
      "source": [
        "print(f'X shape: {example_data.shape}')\n",
        "print(f'y shape: {example_targets.shape}')"
      ],
      "metadata": {
        "colab": {
          "base_uri": "https://localhost:8080/"
        },
        "id": "lOk0KJG2WGLG",
        "outputId": "15ae437d-d2c6-4bcf-96d0-7ab2b8af45ba"
      },
      "execution_count": 93,
      "outputs": [
        {
          "output_type": "stream",
          "name": "stdout",
          "text": [
            "X shape: torch.Size([32, 1, 28, 28])\n",
            "y shape: torch.Size([32])\n"
          ]
        }
      ]
    },
    {
      "cell_type": "code",
      "source": [
        "fig = plt.figure()\n",
        "for i in range(6):\n",
        "    plt.subplot(2, 3, i+1)\n",
        "    plt.tight_layout()\n",
        "    plt.imshow(example_data[i][0, :, :], cmap='gray', interpolation='none')\n",
        "    plt.title(f'Ground Truth: {example_targets[i]}')\n",
        "    plt.xticks([])\n",
        "    plt.yticks([])\n",
        "fig"
      ],
      "metadata": {
        "colab": {
          "base_uri": "https://localhost:8080/",
          "height": 551
        },
        "id": "N-h2rXveWUEC",
        "outputId": "24aab7b4-3dee-4e18-8481-5821e624e82d"
      },
      "execution_count": 94,
      "outputs": [
        {
          "output_type": "execute_result",
          "data": {
            "text/plain": [
              "<Figure size 432x288 with 6 Axes>"
            ],
            "image/png": "[encoded data removed]"
          },
          "metadata": {},
          "execution_count": 94
        },
        {
          "output_type": "display_data",
          "data": {
            "text/plain": [
              "<Figure size 432x288 with 6 Axes>"
            ],
            "image/png": "[encoded data removed]"
          },
          "metadata": {}
        }
      ]
    },
    {
      "cell_type": "markdown",
      "source": [
        "## Check 2: Check Labels"
      ],
      "metadata": {
        "id": "p1-G6Ve7WUBz"
      }
    },
    {
      "cell_type": "code",
      "source": [
        "num_classes = 10"
      ],
      "metadata": {
        "id": "2tQRsrJTWT_9"
      },
      "execution_count": 95,
      "outputs": []
    },
    {
      "cell_type": "code",
      "source": [
        "train_data.classes"
      ],
      "metadata": {
        "colab": {
          "base_uri": "https://localhost:8080/"
        },
        "id": "vDIr_8Zctr7n",
        "outputId": "c3b0c17d-180d-42fd-be63-8173a1d6ba76"
      },
      "execution_count": 96,
      "outputs": [
        {
          "output_type": "execute_result",
          "data": {
            "text/plain": [
              "['o', 'ki', 'su', 'tsu', 'na', 'ha', 'ma', 'ya', 're', 'wo']"
            ]
          },
          "metadata": {},
          "execution_count": 96
        }
      ]
    },
    {
      "cell_type": "code",
      "source": [
        "train_class_count = [0 for i in range(num_classes)]\n",
        "for _, labels_batch in train_loader:\n",
        "    for label in labels_batch:\n",
        "        train_class_count[label] += 1"
      ],
      "metadata": {
        "id": "ws7ETTDJWT96"
      },
      "execution_count": 97,
      "outputs": []
    },
    {
      "cell_type": "code",
      "source": [
        "print('Train data:')\n",
        "for idx, num in enumerate(train_class_count):\n",
        "    print(f'Label {train_data.classes[idx]}: {num}')"
      ],
      "metadata": {
        "colab": {
          "base_uri": "https://localhost:8080/"
        },
        "id": "BVKAaTqtWT6I",
        "outputId": "26b7c9a1-a1f3-4e55-9ce8-c65a9f279355"
      },
      "execution_count": 98,
      "outputs": [
        {
          "output_type": "stream",
          "name": "stdout",
          "text": [
            "Train data:\n",
            "Label o: 4496\n",
            "Label ki: 4471\n",
            "Label su: 4481\n",
            "Label tsu: 4572\n",
            "Label na: 4537\n",
            "Label ha: 4473\n",
            "Label ma: 4522\n",
            "Label ya: 4485\n",
            "Label re: 4513\n",
            "Label wo: 4450\n"
          ]
        }
      ]
    },
    {
      "cell_type": "code",
      "source": [
        "val_class_count = [0 for i in range(num_classes)]\n",
        "for _, labels_batch in val_loader:\n",
        "    for label in labels_batch:\n",
        "        val_class_count[label] += 1"
      ],
      "metadata": {
        "id": "RvmubX8-WT4Q"
      },
      "execution_count": 100,
      "outputs": []
    },
    {
      "cell_type": "code",
      "source": [
        "print('Validation data:')\n",
        "for idx, num in enumerate(val_class_count):\n",
        "    print(f'Label {train_data.classes[idx]}: {num}')"
      ],
      "metadata": {
        "colab": {
          "base_uri": "https://localhost:8080/"
        },
        "id": "HGUrFbDMWTO8",
        "outputId": "5d1d6bee-ffe5-49ed-b24f-4b98aa16d297"
      },
      "execution_count": 102,
      "outputs": [
        {
          "output_type": "stream",
          "name": "stdout",
          "text": [
            "Validation data:\n",
            "Label o: 1504\n",
            "Label ki: 1529\n",
            "Label su: 1519\n",
            "Label tsu: 1428\n",
            "Label na: 1463\n",
            "Label ha: 1527\n",
            "Label ma: 1478\n",
            "Label ya: 1515\n",
            "Label re: 1487\n",
            "Label wo: 1550\n"
          ]
        }
      ]
    },
    {
      "cell_type": "code",
      "source": [
        "print('All Training data:')\n",
        "total_sample = 0\n",
        "for idx, num in enumerate(train_class_count):\n",
        "    print(f'Label {train_data.classes[idx]}: {num + val_class_count[idx]}')\n",
        "    total_sample += num + val_class_count[idx]\n",
        "\n",
        "print()\n",
        "print(f'Total samples for training data: {total_sample}')"
      ],
      "metadata": {
        "colab": {
          "base_uri": "https://localhost:8080/"
        },
        "id": "Tguj_mF9WdD5",
        "outputId": "75c9f668-c929-4033-c6b4-0252a632725f"
      },
      "execution_count": 103,
      "outputs": [
        {
          "output_type": "stream",
          "name": "stdout",
          "text": [
            "All Training data:\n",
            "Label o: 6000\n",
            "Label ki: 6000\n",
            "Label su: 6000\n",
            "Label tsu: 6000\n",
            "Label na: 6000\n",
            "Label ha: 6000\n",
            "Label ma: 6000\n",
            "Label ya: 6000\n",
            "Label re: 6000\n",
            "Label wo: 6000\n",
            "\n",
            "Total samples for training data: 60000\n"
          ]
        }
      ]
    },
    {
      "cell_type": "code",
      "source": [
        "test_class_count = [0 for i in range(num_classes)]\n",
        "for _, labels_batch in test_loader:\n",
        "    for label in labels_batch:\n",
        "        test_class_count[label] += 1"
      ],
      "metadata": {
        "id": "PDlIopYNWeEe"
      },
      "execution_count": 105,
      "outputs": []
    },
    {
      "cell_type": "code",
      "source": [
        "print('Test data:')\n",
        "total_sample = 0\n",
        "for idx, num in enumerate(test_class_count):\n",
        "    print(f'Label {train_data.classes[idx]}: {num}')\n",
        "    total_sample += num\n",
        "\n",
        "print()\n",
        "print(f'Total samples for test data: {total_sample}')"
      ],
      "metadata": {
        "colab": {
          "base_uri": "https://localhost:8080/"
        },
        "id": "Dx_X-SCiWi1u",
        "outputId": "5a7d9711-8972-4d27-e342-a4f5529ea4b9"
      },
      "execution_count": 106,
      "outputs": [
        {
          "output_type": "stream",
          "name": "stdout",
          "text": [
            "Test data:\n",
            "Label o: 1000\n",
            "Label ki: 1000\n",
            "Label su: 1000\n",
            "Label tsu: 1000\n",
            "Label na: 1000\n",
            "Label ha: 1000\n",
            "Label ma: 1000\n",
            "Label ya: 1000\n",
            "Label re: 1000\n",
            "Label wo: 1000\n",
            "\n",
            "Total samples for test data: 10000\n"
          ]
        }
      ]
    },
    {
      "cell_type": "markdown",
      "source": [
        "## Create Model\n",
        "\n"
      ],
      "metadata": {
        "id": "dUlsvwt_WiyF"
      }
    },
    {
      "cell_type": "code",
      "source": [
        "# define func to create a model\n",
        "class MLP(nn.Module):\n",
        "    def __init__(self, hidden_layer_num, hidden_layer_unit):\n",
        "        super(MLP, self).__init__()\n",
        "        self.fc1 = nn.Linear(28*28, hidden_layer_unit)\n",
        "        \n",
        "        self.fc_list = nn.ModuleList()\n",
        "        for i in range(hidden_layer_num):\n",
        "            if i == 1:\n",
        "                continue\n",
        "            if i == hidden_layer_num - 1:\n",
        "                break\n",
        "            self.fc_list.append(nn.Linear(hidden_layer_unit, hidden_layer_unit))\n",
        "        \n",
        "        self.fc_last = nn.Linear(hidden_layer_unit, 10)\n",
        "\n",
        "    def forward(self, x):\n",
        "        # flatten all dimensions except the batch dimension\n",
        "        x = x.view(x.shape[0],-1)  \n",
        "        x = F.relu(self.fc1(x))\n",
        "        \n",
        "        for fc in self.fc_list:\n",
        "            x = F.relu(fc(x))\n",
        "        \n",
        "        x = self.fc_last(x)\n",
        "        return x"
      ],
      "metadata": {
        "id": "mQbSQm8XWiwA"
      },
      "execution_count": 107,
      "outputs": []
    },
    {
      "cell_type": "code",
      "source": [
        "torch.cuda.is_available()"
      ],
      "metadata": {
        "colab": {
          "base_uri": "https://localhost:8080/"
        },
        "id": "0QQsGj00cdPp",
        "outputId": "f2122100-8b07-42ff-e3cf-1e6ab2205b8c"
      },
      "execution_count": 108,
      "outputs": [
        {
          "output_type": "execute_result",
          "data": {
            "text/plain": [
              "True"
            ]
          },
          "metadata": {},
          "execution_count": 108
        }
      ]
    },
    {
      "cell_type": "code",
      "source": [
        "# define func to create model + criterion and chosen optimizer\n",
        "def create_model(hidden_layer_num, hidden_layer_unit, optimizer_name):\n",
        "    model = MLP(hidden_layer_num=hidden_layer_num, hidden_layer_unit=hidden_layer_unit)\n",
        "    if torch.cuda.is_available():\n",
        "        model = model.cuda()\n",
        "    criterion = nn.CrossEntropyLoss()\n",
        "    \n",
        "    if optimizer_name == 'SGD':\n",
        "        optimizer = optim.SGD(model.parameters(), lr=0.01)\n",
        "    elif optimizer_name == 'Adam':\n",
        "        optimizer = optim.Adam(model.parameters(), lr=0.001)\n",
        "    \n",
        "    return model, criterion, optimizer"
      ],
      "metadata": {
        "id": "RwbfaOwiWiuK"
      },
      "execution_count": 109,
      "outputs": []
    },
    {
      "cell_type": "code",
      "source": [
        "# sample model\n",
        "create_model(2, 256, 'SGD')"
      ],
      "metadata": {
        "colab": {
          "base_uri": "https://localhost:8080/"
        },
        "id": "YnDUL3heWisY",
        "outputId": "bb9d1a6f-d082-4c6e-f464-7b5fc3102bdf"
      },
      "execution_count": 110,
      "outputs": [
        {
          "output_type": "execute_result",
          "data": {
            "text/plain": [
              "(MLP(\n",
              "   (fc1): Linear(in_features=784, out_features=256, bias=True)\n",
              "   (fc_list): ModuleList(\n",
              "     (0): Linear(in_features=256, out_features=256, bias=True)\n",
              "   )\n",
              "   (fc_last): Linear(in_features=256, out_features=10, bias=True)\n",
              " ), CrossEntropyLoss(), SGD (\n",
              " Parameter Group 0\n",
              "     dampening: 0\n",
              "     lr: 0.01\n",
              "     maximize: False\n",
              "     momentum: 0\n",
              "     nesterov: False\n",
              "     weight_decay: 0\n",
              " ))"
            ]
          },
          "metadata": {},
          "execution_count": 110
        }
      ]
    },
    {
      "cell_type": "code",
      "source": [
        "def train_kmnist(config):\n",
        "    num_epoch = 5\n",
        "    log_interval = 200\n",
        "    \n",
        "    print(config)\n",
        "    model, criterion, optimizer = create_model(config['hidden_layer_num'], \n",
        "                                               config['hidden_layer_unit'], \n",
        "                                               config['optimizer_name'])\n",
        "\n",
        "    train_losses_minibatches = []\n",
        "    train_losses_epoch = []\n",
        "    val_losses = []\n",
        "    \n",
        "    \n",
        "    for epoch in range(num_epoch):\n",
        "        model.train()\n",
        "        epoch_losses = 0\n",
        "        for batch_idx, (data, target) in enumerate(train_loader):\n",
        "            if torch.cuda.is_available():\n",
        "                data, target = data.cuda(), target.cuda()\n",
        "\n",
        "            optimizer.zero_grad()\n",
        "            output = model(data)\n",
        "            loss = criterion(output, target)\n",
        "            loss.backward()\n",
        "            optimizer.step()\n",
        "        \n",
        "            train_losses_minibatches.append(loss.item())\n",
        "            epoch_losses += loss.item()\n",
        "\n",
        "            # if batch_idx % log_interval == 0:\n",
        "            #     print('Train Epoch: {} [{}/{} ({:.0f}%)]\\tLoss: {:.6f}'.format(\n",
        "            #         epoch, batch_idx * len(data), len(train_loader.dataset),\n",
        "            #         100. * batch_idx / len(train_loader), loss.item()))\n",
        "                \n",
        "        train_losses_epoch.append(epoch_losses)\n",
        "        \n",
        "        # check in validation set\n",
        "        \n",
        "        model.eval()\n",
        "        val_loss = 0\n",
        "        correct_train = 0\n",
        "        correct_val = 0\n",
        "        with torch.no_grad():\n",
        "            # calculate accuracy on train set\n",
        "            for data, target in train_loader:\n",
        "                if torch.cuda.is_available():\n",
        "                   data, target = data.cuda(), target.cuda()\n",
        "\n",
        "                output = model(data)\n",
        "                val_loss += criterion(output, target).item()\n",
        "                pred = output.data.max(1, keepdim=True)[1]\n",
        "                correct_train += pred.eq(target.data.view_as(pred)).sum()\n",
        "\n",
        "\n",
        "            # calculate accuracy on valdiation set\n",
        "            for data, target in val_loader:\n",
        "                if torch.cuda.is_available():\n",
        "                   data, target = data.cuda(), target.cuda()\n",
        "\n",
        "                output = model(data)\n",
        "                val_loss += criterion(output, target).item()\n",
        "                pred = output.data.max(1, keepdim=True)[1]\n",
        "                correct_val += pred.eq(target.data.view_as(pred)).sum()\n",
        "\n",
        "            val_loss /= len(val_loader.dataset)\n",
        "            val_losses.append(val_loss)\n",
        "\n",
        "            # print('\\nTest set: Avg. loss: {:.4f}, Accuracy: {}/{} ({:.0f}%)\\n'.format(\n",
        "            #     val_loss, correct, len(val_loader.dataset),\n",
        "            #     100. * correct / len(val_loader.dataset)))\n",
        "            \n",
        "            tune.report(train_accuracy=100. * correct_train.item() / len(train_loader.dataset), val_accuracy=100. * correct_val.item() / len(val_loader.dataset))"
      ],
      "metadata": {
        "id": "DIRFskhUWiZb"
      },
      "execution_count": null,
      "outputs": []
    },
    {
      "cell_type": "markdown",
      "source": [
        ""
      ],
      "metadata": {
        "id": "ozTsLILHjIoa"
      }
    },
    {
      "cell_type": "markdown",
      "source": [
        "## Hyperparameter Tuning"
      ],
      "metadata": {
        "id": "1xCswEv4dNTx"
      }
    },
    {
      "cell_type": "code",
      "source": [
        "%%time\n",
        "analysis = tune.run(\n",
        "    train_kmnist, config={\n",
        "        'hidden_layer_num': tune.grid_search([1, 3, 5]),\n",
        "        'hidden_layer_unit': tune.grid_search([128, 256]),\n",
        "        'optimizer_name': tune.grid_search(['SGD', 'Adam'])\n",
        "        }, resources_per_trial={'gpu': 1}, verbose=0)"
      ],
      "metadata": {
        "colab": {
          "base_uri": "https://localhost:8080/"
        },
        "id": "XcTrXsGzWuc7",
        "outputId": "4f25f88f-2a86-4ab3-ea60-bdd9ae9acc97"
      },
      "execution_count": null,
      "outputs": [
        {
          "output_type": "stream",
          "name": "stderr",
          "text": [
            "2022-05-25 14:25:42,695\tINFO trial_runner.py:803 -- starting train_kmnist_8b2e4_00000\n",
            "2022-05-25 14:25:43,538\tWARNING worker.py:1382 -- Warning: The actor ImplicitFunc is very large (45 MiB). Check that its definition is not implicitly capturing a large array or other object in scope. Tip: use ray.put() to put large objects in the Ray object store.\n",
            "2022-05-25 14:25:43,769\tWARNING util.py:171 -- The `start_trial` operation took 1.069 s, which may be a performance bottleneck.\n"
          ]
        },
        {
          "output_type": "stream",
          "name": "stdout",
          "text": [
            "\u001b[2m\u001b[36m(train_kmnist pid=3533)\u001b[0m {'hidden_layer_num': 1, 'hidden_layer_unit': 128, 'optimizer_name': 'SGD'}\n"
          ]
        },
        {
          "output_type": "stream",
          "name": "stderr",
          "text": [
            "2022-05-25 14:26:43,859\tINFO trial_runner.py:803 -- starting train_kmnist_8b2e4_00001\n"
          ]
        },
        {
          "output_type": "stream",
          "name": "stdout",
          "text": [
            "\u001b[2m\u001b[36m(train_kmnist pid=3597)\u001b[0m {'hidden_layer_num': 3, 'hidden_layer_unit': 128, 'optimizer_name': 'SGD'}\n"
          ]
        },
        {
          "output_type": "stream",
          "name": "stderr",
          "text": [
            "2022-05-25 14:27:45,871\tINFO trial_runner.py:803 -- starting train_kmnist_8b2e4_00002\n"
          ]
        },
        {
          "output_type": "stream",
          "name": "stdout",
          "text": [
            "\u001b[2m\u001b[36m(train_kmnist pid=3660)\u001b[0m {'hidden_layer_num': 5, 'hidden_layer_unit': 128, 'optimizer_name': 'SGD'}\n"
          ]
        },
        {
          "output_type": "stream",
          "name": "stderr",
          "text": [
            "2022-05-25 14:28:51,880\tINFO trial_runner.py:803 -- starting train_kmnist_8b2e4_00003\n"
          ]
        },
        {
          "output_type": "stream",
          "name": "stdout",
          "text": [
            "\u001b[2m\u001b[36m(train_kmnist pid=3724)\u001b[0m {'hidden_layer_num': 1, 'hidden_layer_unit': 256, 'optimizer_name': 'SGD'}\n"
          ]
        },
        {
          "output_type": "stream",
          "name": "stderr",
          "text": [
            "2022-05-25 14:29:52,915\tINFO trial_runner.py:803 -- starting train_kmnist_8b2e4_00004\n"
          ]
        },
        {
          "output_type": "stream",
          "name": "stdout",
          "text": [
            "\u001b[2m\u001b[36m(train_kmnist pid=3787)\u001b[0m {'hidden_layer_num': 3, 'hidden_layer_unit': 256, 'optimizer_name': 'SGD'}\n"
          ]
        },
        {
          "output_type": "stream",
          "name": "stderr",
          "text": [
            "2022-05-25 14:30:54,922\tINFO trial_runner.py:803 -- starting train_kmnist_8b2e4_00005\n"
          ]
        },
        {
          "output_type": "stream",
          "name": "stdout",
          "text": [
            "\u001b[2m\u001b[36m(train_kmnist pid=3851)\u001b[0m {'hidden_layer_num': 5, 'hidden_layer_unit': 256, 'optimizer_name': 'SGD'}\n"
          ]
        },
        {
          "output_type": "stream",
          "name": "stderr",
          "text": [
            "2022-05-25 14:32:01,935\tINFO trial_runner.py:803 -- starting train_kmnist_8b2e4_00006\n"
          ]
        },
        {
          "output_type": "stream",
          "name": "stdout",
          "text": [
            "\u001b[2m\u001b[36m(train_kmnist pid=3915)\u001b[0m {'hidden_layer_num': 1, 'hidden_layer_unit': 128, 'optimizer_name': 'Adam'}\n"
          ]
        },
        {
          "output_type": "stream",
          "name": "stderr",
          "text": [
            "2022-05-25 14:33:03,943\tINFO trial_runner.py:803 -- starting train_kmnist_8b2e4_00007\n"
          ]
        },
        {
          "output_type": "stream",
          "name": "stdout",
          "text": [
            "\u001b[2m\u001b[36m(train_kmnist pid=3980)\u001b[0m {'hidden_layer_num': 3, 'hidden_layer_unit': 128, 'optimizer_name': 'Adam'}\n"
          ]
        },
        {
          "output_type": "stream",
          "name": "stderr",
          "text": [
            "2022-05-25 14:34:08,951\tINFO trial_runner.py:803 -- starting train_kmnist_8b2e4_00008\n"
          ]
        },
        {
          "output_type": "stream",
          "name": "stdout",
          "text": [
            "\u001b[2m\u001b[36m(train_kmnist pid=4045)\u001b[0m {'hidden_layer_num': 5, 'hidden_layer_unit': 128, 'optimizer_name': 'Adam'}\n"
          ]
        },
        {
          "output_type": "stream",
          "name": "stderr",
          "text": [
            "2022-05-25 14:35:19,964\tINFO trial_runner.py:803 -- starting train_kmnist_8b2e4_00009\n"
          ]
        },
        {
          "output_type": "stream",
          "name": "stdout",
          "text": [
            "\u001b[2m\u001b[36m(train_kmnist pid=4111)\u001b[0m {'hidden_layer_num': 1, 'hidden_layer_unit': 256, 'optimizer_name': 'Adam'}\n"
          ]
        },
        {
          "output_type": "stream",
          "name": "stderr",
          "text": [
            "2022-05-25 14:36:22,971\tINFO trial_runner.py:803 -- starting train_kmnist_8b2e4_00010\n"
          ]
        },
        {
          "output_type": "stream",
          "name": "stdout",
          "text": [
            "\u001b[2m\u001b[36m(train_kmnist pid=4174)\u001b[0m {'hidden_layer_num': 3, 'hidden_layer_unit': 256, 'optimizer_name': 'Adam'}\n"
          ]
        },
        {
          "output_type": "stream",
          "name": "stderr",
          "text": [
            "2022-05-25 14:37:28,981\tINFO trial_runner.py:803 -- starting train_kmnist_8b2e4_00011\n"
          ]
        },
        {
          "output_type": "stream",
          "name": "stdout",
          "text": [
            "\u001b[2m\u001b[36m(train_kmnist pid=4240)\u001b[0m {'hidden_layer_num': 5, 'hidden_layer_unit': 256, 'optimizer_name': 'Adam'}\n",
            "CPU times: user 17.7 s, sys: 3.72 s, total: 21.4 s\n",
            "Wall time: 13min 5s\n"
          ]
        }
      ]
    },
    {
      "cell_type": "code",
      "source": [
        "df = analysis.dataframe()\n",
        "df.head()"
      ],
      "metadata": {
        "colab": {
          "base_uri": "https://localhost:8080/",
          "height": 560
        },
        "id": "8kgZNexiaOrc",
        "outputId": "9058ece4-366f-4d65-9ed2-c26493edc7ad"
      },
      "execution_count": null,
      "outputs": [
        {
          "output_type": "execute_result",
          "data": {
            "text/plain": [
              "   train_accuracy  val_accuracy  time_this_iter_s   done  timesteps_total  \\\n",
              "0       87.537778     86.746667         10.553428  False              NaN   \n",
              "1       88.702222     87.666667         10.937069  False              NaN   \n",
              "2       86.448889     85.433333         12.229949  False              NaN   \n",
              "3       87.973333     87.153333         10.727961  False              NaN   \n",
              "4       88.642222     87.766667         11.017715  False              NaN   \n",
              "\n",
              "   episodes_total  training_iteration     trial_id  \\\n",
              "0             NaN                   5  8b2e4_00000   \n",
              "1             NaN                   5  8b2e4_00001   \n",
              "2             NaN                   5  8b2e4_00002   \n",
              "3             NaN                   5  8b2e4_00003   \n",
              "4             NaN                   5  8b2e4_00004   \n",
              "\n",
              "                      experiment_id                 date  ...      hostname  \\\n",
              "0  eedba981e29f4716a8eb44ee5856bd85  2022-05-25_14-26-43  ...  db5fb9aa6cd6   \n",
              "1  f60a9dede90a44d6b4e92b05797b2829  2022-05-25_14-27-45  ...  db5fb9aa6cd6   \n",
              "2  f0260a4d816b407b96c3516f6ca97c3b  2022-05-25_14-28-51  ...  db5fb9aa6cd6   \n",
              "3  e17ca02638af4d1c8a758b8361ccc36d  2022-05-25_14-29-52  ...  db5fb9aa6cd6   \n",
              "4  4ab53ff543954d1bab215077260c1ec9  2022-05-25_14-30-54  ...  db5fb9aa6cd6   \n",
              "\n",
              "      node_ip  time_since_restore timesteps_since_restore  \\\n",
              "0  172.28.0.2           57.056912                       0   \n",
              "1  172.28.0.2           58.504091                       0   \n",
              "2  172.28.0.2           62.853097                       0   \n",
              "3  172.28.0.2           57.559098                       0   \n",
              "4  172.28.0.2           58.826188                       0   \n",
              "\n",
              "  iterations_since_restore  warmup_time  config/hidden_layer_num  \\\n",
              "0                        5     0.003110                        1   \n",
              "1                        5     0.003701                        3   \n",
              "2                        5     0.003448                        5   \n",
              "3                        5     0.003723                        1   \n",
              "4                        5     0.003186                        3   \n",
              "\n",
              "   config/hidden_layer_unit  config/optimizer_name  \\\n",
              "0                       128                    SGD   \n",
              "1                       128                    SGD   \n",
              "2                       128                    SGD   \n",
              "3                       256                    SGD   \n",
              "4                       256                    SGD   \n",
              "\n",
              "                                              logdir  \n",
              "0  /root/ray_results/train_kmnist_2022-05-25_14-2...  \n",
              "1  /root/ray_results/train_kmnist_2022-05-25_14-2...  \n",
              "2  /root/ray_results/train_kmnist_2022-05-25_14-2...  \n",
              "3  /root/ray_results/train_kmnist_2022-05-25_14-2...  \n",
              "4  /root/ray_results/train_kmnist_2022-05-25_14-2...  \n",
              "\n",
              "[5 rows x 23 columns]"
            ],
            "text/html": [
              "\n",
              "  <div id=\"df-dda59408-e31b-4ba2-9e03-fe534326607f\">\n",
              "    <div class=\"colab-df-container\">\n",
              "      <div>\n",
              "<style scoped>\n",
              "    .dataframe tbody tr th:only-of-type {\n",
              "        vertical-align: middle;\n",
              "    }\n",
              "\n",
              "    .dataframe tbody tr th {\n",
              "        vertical-align: top;\n",
              "    }\n",
              "\n",
              "    .dataframe thead th {\n",
              "        text-align: right;\n",
              "    }\n",
              "</style>\n",
              "<table border=\"1\" class=\"dataframe\">\n",
              "  <thead>\n",
              "    <tr style=\"text-align: right;\">\n",
              "      <th></th>\n",
              "      <th>train_accuracy</th>\n",
              "      <th>val_accuracy</th>\n",
              "      <th>time_this_iter_s</th>\n",
              "      <th>done</th>\n",
              "      <th>timesteps_total</th>\n",
              "      <th>episodes_total</th>\n",
              "      <th>training_iteration</th>\n",
              "      <th>trial_id</th>\n",
              "      <th>experiment_id</th>\n",
              "      <th>date</th>\n",
              "      <th>...</th>\n",
              "      <th>hostname</th>\n",
              "      <th>node_ip</th>\n",
              "      <th>time_since_restore</th>\n",
              "      <th>timesteps_since_restore</th>\n",
              "      <th>iterations_since_restore</th>\n",
              "      <th>warmup_time</th>\n",
              "      <th>config/hidden_layer_num</th>\n",
              "      <th>config/hidden_layer_unit</th>\n",
              "      <th>config/optimizer_name</th>\n",
              "      <th>logdir</th>\n",
              "    </tr>\n",
              "  </thead>\n",
              "  <tbody>\n",
              "    <tr>\n",
              "      <th>0</th>\n",
              "      <td>87.537778</td>\n",
              "      <td>86.746667</td>\n",
              "      <td>10.553428</td>\n",
              "      <td>False</td>\n",
              "      <td>NaN</td>\n",
              "      <td>NaN</td>\n",
              "      <td>5</td>\n",
              "      <td>8b2e4_00000</td>\n",
              "      <td>eedba981e29f4716a8eb44ee5856bd85</td>\n",
              "      <td>2022-05-25_14-26-43</td>\n",
              "      <td>...</td>\n",
              "      <td>db5fb9aa6cd6</td>\n",
              "      <td>172.28.0.2</td>\n",
              "      <td>57.056912</td>\n",
              "      <td>0</td>\n",
              "      <td>5</td>\n",
              "      <td>0.003110</td>\n",
              "      <td>1</td>\n",
              "      <td>128</td>\n",
              "      <td>SGD</td>\n",
              "      <td>/root/ray_results/train_kmnist_2022-05-25_14-2...</td>\n",
              "    </tr>\n",
              "    <tr>\n",
              "      <th>1</th>\n",
              "      <td>88.702222</td>\n",
              "      <td>87.666667</td>\n",
              "      <td>10.937069</td>\n",
              "      <td>False</td>\n",
              "      <td>NaN</td>\n",
              "      <td>NaN</td>\n",
              "      <td>5</td>\n",
              "      <td>8b2e4_00001</td>\n",
              "      <td>f60a9dede90a44d6b4e92b05797b2829</td>\n",
              "      <td>2022-05-25_14-27-45</td>\n",
              "      <td>...</td>\n",
              "      <td>db5fb9aa6cd6</td>\n",
              "      <td>172.28.0.2</td>\n",
              "      <td>58.504091</td>\n",
              "      <td>0</td>\n",
              "      <td>5</td>\n",
              "      <td>0.003701</td>\n",
              "      <td>3</td>\n",
              "      <td>128</td>\n",
              "      <td>SGD</td>\n",
              "      <td>/root/ray_results/train_kmnist_2022-05-25_14-2...</td>\n",
              "    </tr>\n",
              "    <tr>\n",
              "      <th>2</th>\n",
              "      <td>86.448889</td>\n",
              "      <td>85.433333</td>\n",
              "      <td>12.229949</td>\n",
              "      <td>False</td>\n",
              "      <td>NaN</td>\n",
              "      <td>NaN</td>\n",
              "      <td>5</td>\n",
              "      <td>8b2e4_00002</td>\n",
              "      <td>f0260a4d816b407b96c3516f6ca97c3b</td>\n",
              "      <td>2022-05-25_14-28-51</td>\n",
              "      <td>...</td>\n",
              "      <td>db5fb9aa6cd6</td>\n",
              "      <td>172.28.0.2</td>\n",
              "      <td>62.853097</td>\n",
              "      <td>0</td>\n",
              "      <td>5</td>\n",
              "      <td>0.003448</td>\n",
              "      <td>5</td>\n",
              "      <td>128</td>\n",
              "      <td>SGD</td>\n",
              "      <td>/root/ray_results/train_kmnist_2022-05-25_14-2...</td>\n",
              "    </tr>\n",
              "    <tr>\n",
              "      <th>3</th>\n",
              "      <td>87.973333</td>\n",
              "      <td>87.153333</td>\n",
              "      <td>10.727961</td>\n",
              "      <td>False</td>\n",
              "      <td>NaN</td>\n",
              "      <td>NaN</td>\n",
              "      <td>5</td>\n",
              "      <td>8b2e4_00003</td>\n",
              "      <td>e17ca02638af4d1c8a758b8361ccc36d</td>\n",
              "      <td>2022-05-25_14-29-52</td>\n",
              "      <td>...</td>\n",
              "      <td>db5fb9aa6cd6</td>\n",
              "      <td>172.28.0.2</td>\n",
              "      <td>57.559098</td>\n",
              "      <td>0</td>\n",
              "      <td>5</td>\n",
              "      <td>0.003723</td>\n",
              "      <td>1</td>\n",
              "      <td>256</td>\n",
              "      <td>SGD</td>\n",
              "      <td>/root/ray_results/train_kmnist_2022-05-25_14-2...</td>\n",
              "    </tr>\n",
              "    <tr>\n",
              "      <th>4</th>\n",
              "      <td>88.642222</td>\n",
              "      <td>87.766667</td>\n",
              "      <td>11.017715</td>\n",
              "      <td>False</td>\n",
              "      <td>NaN</td>\n",
              "      <td>NaN</td>\n",
              "      <td>5</td>\n",
              "      <td>8b2e4_00004</td>\n",
              "      <td>4ab53ff543954d1bab215077260c1ec9</td>\n",
              "      <td>2022-05-25_14-30-54</td>\n",
              "      <td>...</td>\n",
              "      <td>db5fb9aa6cd6</td>\n",
              "      <td>172.28.0.2</td>\n",
              "      <td>58.826188</td>\n",
              "      <td>0</td>\n",
              "      <td>5</td>\n",
              "      <td>0.003186</td>\n",
              "      <td>3</td>\n",
              "      <td>256</td>\n",
              "      <td>SGD</td>\n",
              "      <td>/root/ray_results/train_kmnist_2022-05-25_14-2...</td>\n",
              "    </tr>\n",
              "  </tbody>\n",
              "</table>\n",
              "<p>5 rows × 23 columns</p>\n",
              "</div>\n",
              "      <button class=\"colab-df-convert\" onclick=\"convertToInteractive('df-dda59408-e31b-4ba2-9e03-fe534326607f')\"\n",
              "              title=\"Convert this dataframe to an interactive table.\"\n",
              "              style=\"display:none;\">\n",
              "        \n",
              "  <svg xmlns=\"http://www.w3.org/2000/svg\" height=\"24px\"viewBox=\"0 0 24 24\"\n",
              "       width=\"24px\">\n",
              "    <path d=\"M0 0h24v24H0V0z\" fill=\"none\"/>\n",
              "    <path d=\"M18.56 5.44l.94 2.06.94-2.06 2.06-.94-2.06-.94-.94-2.06-.94 2.06-2.06.94zm-11 1L8.5 8.5l.94-2.06 2.06-.94-2.06-.94L8.5 2.5l-.94 2.06-2.06.94zm10 10l.94 2.06.94-2.06 2.06-.94-2.06-.94-.94-2.06-.94 2.06-2.06.94z\"/><path d=\"M17.41 7.96l-1.37-1.37c-.4-.4-.92-.59-1.43-.59-.52 0-1.04.2-1.43.59L10.3 9.45l-7.72 7.72c-.78.78-.78 2.05 0 2.83L4 21.41c.39.39.9.59 1.41.59.51 0 1.02-.2 1.41-.59l7.78-7.78 2.81-2.81c.8-.78.8-2.07 0-2.86zM5.41 20L4 18.59l7.72-7.72 1.47 1.35L5.41 20z\"/>\n",
              "  </svg>\n",
              "      </button>\n",
              "      \n",
              "  <style>\n",
              "    .colab-df-container {\n",
              "      display:flex;\n",
              "      flex-wrap:wrap;\n",
              "      gap: 12px;\n",
              "    }\n",
              "\n",
              "    .colab-df-convert {\n",
              "      background-color: #E8F0FE;\n",
              "      border: none;\n",
              "      border-radius: 50%;\n",
              "      cursor: pointer;\n",
              "      display: none;\n",
              "      fill: #1967D2;\n",
              "      height: 32px;\n",
              "      padding: 0 0 0 0;\n",
              "      width: 32px;\n",
              "    }\n",
              "\n",
              "    .colab-df-convert:hover {\n",
              "      background-color: #E2EBFA;\n",
              "      box-shadow: 0px 1px 2px rgba(60, 64, 67, 0.3), 0px 1px 3px 1px rgba(60, 64, 67, 0.15);\n",
              "      fill: #174EA6;\n",
              "    }\n",
              "\n",
              "    [theme=dark] .colab-df-convert {\n",
              "      background-color: #3B4455;\n",
              "      fill: #D2E3FC;\n",
              "    }\n",
              "\n",
              "    [theme=dark] .colab-df-convert:hover {\n",
              "      background-color: #434B5C;\n",
              "      box-shadow: 0px 1px 3px 1px rgba(0, 0, 0, 0.15);\n",
              "      filter: drop-shadow(0px 1px 2px rgba(0, 0, 0, 0.3));\n",
              "      fill: #FFFFFF;\n",
              "    }\n",
              "  </style>\n",
              "\n",
              "      <script>\n",
              "        const buttonEl =\n",
              "          document.querySelector('#df-dda59408-e31b-4ba2-9e03-fe534326607f button.colab-df-convert');\n",
              "        buttonEl.style.display =\n",
              "          google.colab.kernel.accessAllowed ? 'block' : 'none';\n",
              "\n",
              "        async function convertToInteractive(key) {\n",
              "          const element = document.querySelector('#df-dda59408-e31b-4ba2-9e03-fe534326607f');\n",
              "          const dataTable =\n",
              "            await google.colab.kernel.invokeFunction('convertToInteractive',\n",
              "                                                     [key], {});\n",
              "          if (!dataTable) return;\n",
              "\n",
              "          const docLinkHtml = 'Like what you see? Visit the ' +\n",
              "            '<a target=\"_blank\" href=https://colab.research.google.com/notebooks/data_table.ipynb>data table notebook</a>'\n",
              "            + ' to learn more about interactive tables.';\n",
              "          element.innerHTML = '';\n",
              "          dataTable['output_type'] = 'display_data';\n",
              "          await google.colab.output.renderOutput(dataTable, element);\n",
              "          const docLink = document.createElement('div');\n",
              "          docLink.innerHTML = docLinkHtml;\n",
              "          element.appendChild(docLink);\n",
              "        }\n",
              "      </script>\n",
              "    </div>\n",
              "  </div>\n",
              "  "
            ]
          },
          "metadata": {},
          "execution_count": 57
        }
      ]
    },
    {
      "cell_type": "code",
      "source": [
        "df.columns"
      ],
      "metadata": {
        "colab": {
          "base_uri": "https://localhost:8080/"
        },
        "id": "3JrJbRKoa5MI",
        "outputId": "3e7068c5-05af-43cd-a77f-624631d2a48d"
      },
      "execution_count": null,
      "outputs": [
        {
          "output_type": "execute_result",
          "data": {
            "text/plain": [
              "Index(['train_accuracy', 'val_accuracy', 'time_this_iter_s', 'done',\n",
              "       'timesteps_total', 'episodes_total', 'training_iteration', 'trial_id',\n",
              "       'experiment_id', 'date', 'timestamp', 'time_total_s', 'pid', 'hostname',\n",
              "       'node_ip', 'time_since_restore', 'timesteps_since_restore',\n",
              "       'iterations_since_restore', 'warmup_time', 'config/hidden_layer_num',\n",
              "       'config/hidden_layer_unit', 'config/optimizer_name', 'logdir'],\n",
              "      dtype='object')"
            ]
          },
          "metadata": {},
          "execution_count": 58
        }
      ]
    },
    {
      "cell_type": "code",
      "source": [
        "df = df[['config/hidden_layer_num', 'config/hidden_layer_unit', 'config/optimizer_name', 'train_accuracy', 'val_accuracy', 'time_total_s']]"
      ],
      "metadata": {
        "id": "RTeMD_Ana5uq"
      },
      "execution_count": null,
      "outputs": []
    },
    {
      "cell_type": "code",
      "source": [
        "df = df.sort_values('val_accuracy', ascending=False)\n",
        "df"
      ],
      "metadata": {
        "colab": {
          "base_uri": "https://localhost:8080/",
          "height": 425
        },
        "id": "WDTJcxUijXP9",
        "outputId": "1747eeb0-00d5-4359-80c3-7f96002025a5"
      },
      "execution_count": null,
      "outputs": [
        {
          "output_type": "execute_result",
          "data": {
            "text/plain": [
              "    config/hidden_layer_num  config/hidden_layer_unit config/optimizer_name  \\\n",
              "10                        3                       256                  Adam   \n",
              "11                        5                       256                  Adam   \n",
              "9                         1                       256                  Adam   \n",
              "7                         3                       128                  Adam   \n",
              "6                         1                       128                  Adam   \n",
              "8                         5                       128                  Adam   \n",
              "5                         5                       256                   SGD   \n",
              "4                         3                       256                   SGD   \n",
              "1                         3                       128                   SGD   \n",
              "3                         1                       256                   SGD   \n",
              "0                         1                       128                   SGD   \n",
              "2                         5                       128                   SGD   \n",
              "\n",
              "    train_accuracy  val_accuracy  time_total_s  \n",
              "10       98.926667     95.573333     62.987633  \n",
              "11       98.477778     95.566667     68.844087  \n",
              "9        98.673333     95.186667     59.716369  \n",
              "7        98.404444     94.906667     61.949591  \n",
              "6        98.160000     94.860000     58.703691  \n",
              "8        97.711111     94.466667     67.720645  \n",
              "5        89.253333     88.420000     63.310016  \n",
              "4        88.642222     87.766667     58.826188  \n",
              "1        88.702222     87.666667     58.504091  \n",
              "3        87.973333     87.153333     57.559098  \n",
              "0        87.537778     86.746667     57.056912  \n",
              "2        86.448889     85.433333     62.853097  "
            ],
            "text/html": [
              "\n",
              "  <div id=\"df-5ff724e0-1044-45c4-b661-439f9d573f16\">\n",
              "    <div class=\"colab-df-container\">\n",
              "      <div>\n",
              "<style scoped>\n",
              "    .dataframe tbody tr th:only-of-type {\n",
              "        vertical-align: middle;\n",
              "    }\n",
              "\n",
              "    .dataframe tbody tr th {\n",
              "        vertical-align: top;\n",
              "    }\n",
              "\n",
              "    .dataframe thead th {\n",
              "        text-align: right;\n",
              "    }\n",
              "</style>\n",
              "<table border=\"1\" class=\"dataframe\">\n",
              "  <thead>\n",
              "    <tr style=\"text-align: right;\">\n",
              "      <th></th>\n",
              "      <th>config/hidden_layer_num</th>\n",
              "      <th>config/hidden_layer_unit</th>\n",
              "      <th>config/optimizer_name</th>\n",
              "      <th>train_accuracy</th>\n",
              "      <th>val_accuracy</th>\n",
              "      <th>time_total_s</th>\n",
              "    </tr>\n",
              "  </thead>\n",
              "  <tbody>\n",
              "    <tr>\n",
              "      <th>10</th>\n",
              "      <td>3</td>\n",
              "      <td>256</td>\n",
              "      <td>Adam</td>\n",
              "      <td>98.926667</td>\n",
              "      <td>95.573333</td>\n",
              "      <td>62.987633</td>\n",
              "    </tr>\n",
              "    <tr>\n",
              "      <th>11</th>\n",
              "      <td>5</td>\n",
              "      <td>256</td>\n",
              "      <td>Adam</td>\n",
              "      <td>98.477778</td>\n",
              "      <td>95.566667</td>\n",
              "      <td>68.844087</td>\n",
              "    </tr>\n",
              "    <tr>\n",
              "      <th>9</th>\n",
              "      <td>1</td>\n",
              "      <td>256</td>\n",
              "      <td>Adam</td>\n",
              "      <td>98.673333</td>\n",
              "      <td>95.186667</td>\n",
              "      <td>59.716369</td>\n",
              "    </tr>\n",
              "    <tr>\n",
              "      <th>7</th>\n",
              "      <td>3</td>\n",
              "      <td>128</td>\n",
              "      <td>Adam</td>\n",
              "      <td>98.404444</td>\n",
              "      <td>94.906667</td>\n",
              "      <td>61.949591</td>\n",
              "    </tr>\n",
              "    <tr>\n",
              "      <th>6</th>\n",
              "      <td>1</td>\n",
              "      <td>128</td>\n",
              "      <td>Adam</td>\n",
              "      <td>98.160000</td>\n",
              "      <td>94.860000</td>\n",
              "      <td>58.703691</td>\n",
              "    </tr>\n",
              "    <tr>\n",
              "      <th>8</th>\n",
              "      <td>5</td>\n",
              "      <td>128</td>\n",
              "      <td>Adam</td>\n",
              "      <td>97.711111</td>\n",
              "      <td>94.466667</td>\n",
              "      <td>67.720645</td>\n",
              "    </tr>\n",
              "    <tr>\n",
              "      <th>5</th>\n",
              "      <td>5</td>\n",
              "      <td>256</td>\n",
              "      <td>SGD</td>\n",
              "      <td>89.253333</td>\n",
              "      <td>88.420000</td>\n",
              "      <td>63.310016</td>\n",
              "    </tr>\n",
              "    <tr>\n",
              "      <th>4</th>\n",
              "      <td>3</td>\n",
              "      <td>256</td>\n",
              "      <td>SGD</td>\n",
              "      <td>88.642222</td>\n",
              "      <td>87.766667</td>\n",
              "      <td>58.826188</td>\n",
              "    </tr>\n",
              "    <tr>\n",
              "      <th>1</th>\n",
              "      <td>3</td>\n",
              "      <td>128</td>\n",
              "      <td>SGD</td>\n",
              "      <td>88.702222</td>\n",
              "      <td>87.666667</td>\n",
              "      <td>58.504091</td>\n",
              "    </tr>\n",
              "    <tr>\n",
              "      <th>3</th>\n",
              "      <td>1</td>\n",
              "      <td>256</td>\n",
              "      <td>SGD</td>\n",
              "      <td>87.973333</td>\n",
              "      <td>87.153333</td>\n",
              "      <td>57.559098</td>\n",
              "    </tr>\n",
              "    <tr>\n",
              "      <th>0</th>\n",
              "      <td>1</td>\n",
              "      <td>128</td>\n",
              "      <td>SGD</td>\n",
              "      <td>87.537778</td>\n",
              "      <td>86.746667</td>\n",
              "      <td>57.056912</td>\n",
              "    </tr>\n",
              "    <tr>\n",
              "      <th>2</th>\n",
              "      <td>5</td>\n",
              "      <td>128</td>\n",
              "      <td>SGD</td>\n",
              "      <td>86.448889</td>\n",
              "      <td>85.433333</td>\n",
              "      <td>62.853097</td>\n",
              "    </tr>\n",
              "  </tbody>\n",
              "</table>\n",
              "</div>\n",
              "      <button class=\"colab-df-convert\" onclick=\"convertToInteractive('df-5ff724e0-1044-45c4-b661-439f9d573f16')\"\n",
              "              title=\"Convert this dataframe to an interactive table.\"\n",
              "              style=\"display:none;\">\n",
              "        \n",
              "  <svg xmlns=\"http://www.w3.org/2000/svg\" height=\"24px\"viewBox=\"0 0 24 24\"\n",
              "       width=\"24px\">\n",
              "    <path d=\"M0 0h24v24H0V0z\" fill=\"none\"/>\n",
              "    <path d=\"M18.56 5.44l.94 2.06.94-2.06 2.06-.94-2.06-.94-.94-2.06-.94 2.06-2.06.94zm-11 1L8.5 8.5l.94-2.06 2.06-.94-2.06-.94L8.5 2.5l-.94 2.06-2.06.94zm10 10l.94 2.06.94-2.06 2.06-.94-2.06-.94-.94-2.06-.94 2.06-2.06.94z\"/><path d=\"M17.41 7.96l-1.37-1.37c-.4-.4-.92-.59-1.43-.59-.52 0-1.04.2-1.43.59L10.3 9.45l-7.72 7.72c-.78.78-.78 2.05 0 2.83L4 21.41c.39.39.9.59 1.41.59.51 0 1.02-.2 1.41-.59l7.78-7.78 2.81-2.81c.8-.78.8-2.07 0-2.86zM5.41 20L4 18.59l7.72-7.72 1.47 1.35L5.41 20z\"/>\n",
              "  </svg>\n",
              "      </button>\n",
              "      \n",
              "  <style>\n",
              "    .colab-df-container {\n",
              "      display:flex;\n",
              "      flex-wrap:wrap;\n",
              "      gap: 12px;\n",
              "    }\n",
              "\n",
              "    .colab-df-convert {\n",
              "      background-color: #E8F0FE;\n",
              "      border: none;\n",
              "      border-radius: 50%;\n",
              "      cursor: pointer;\n",
              "      display: none;\n",
              "      fill: #1967D2;\n",
              "      height: 32px;\n",
              "      padding: 0 0 0 0;\n",
              "      width: 32px;\n",
              "    }\n",
              "\n",
              "    .colab-df-convert:hover {\n",
              "      background-color: #E2EBFA;\n",
              "      box-shadow: 0px 1px 2px rgba(60, 64, 67, 0.3), 0px 1px 3px 1px rgba(60, 64, 67, 0.15);\n",
              "      fill: #174EA6;\n",
              "    }\n",
              "\n",
              "    [theme=dark] .colab-df-convert {\n",
              "      background-color: #3B4455;\n",
              "      fill: #D2E3FC;\n",
              "    }\n",
              "\n",
              "    [theme=dark] .colab-df-convert:hover {\n",
              "      background-color: #434B5C;\n",
              "      box-shadow: 0px 1px 3px 1px rgba(0, 0, 0, 0.15);\n",
              "      filter: drop-shadow(0px 1px 2px rgba(0, 0, 0, 0.3));\n",
              "      fill: #FFFFFF;\n",
              "    }\n",
              "  </style>\n",
              "\n",
              "      <script>\n",
              "        const buttonEl =\n",
              "          document.querySelector('#df-5ff724e0-1044-45c4-b661-439f9d573f16 button.colab-df-convert');\n",
              "        buttonEl.style.display =\n",
              "          google.colab.kernel.accessAllowed ? 'block' : 'none';\n",
              "\n",
              "        async function convertToInteractive(key) {\n",
              "          const element = document.querySelector('#df-5ff724e0-1044-45c4-b661-439f9d573f16');\n",
              "          const dataTable =\n",
              "            await google.colab.kernel.invokeFunction('convertToInteractive',\n",
              "                                                     [key], {});\n",
              "          if (!dataTable) return;\n",
              "\n",
              "          const docLinkHtml = 'Like what you see? Visit the ' +\n",
              "            '<a target=\"_blank\" href=https://colab.research.google.com/notebooks/data_table.ipynb>data table notebook</a>'\n",
              "            + ' to learn more about interactive tables.';\n",
              "          element.innerHTML = '';\n",
              "          dataTable['output_type'] = 'display_data';\n",
              "          await google.colab.output.renderOutput(dataTable, element);\n",
              "          const docLink = document.createElement('div');\n",
              "          docLink.innerHTML = docLinkHtml;\n",
              "          element.appendChild(docLink);\n",
              "        }\n",
              "      </script>\n",
              "    </div>\n",
              "  </div>\n",
              "  "
            ]
          },
          "metadata": {},
          "execution_count": 60
        }
      ]
    },
    {
      "cell_type": "code",
      "source": [
        "df.rename(columns = {'config/hidden_layer_num':'hidden_layer_number', \n",
        "                      'config/hidden_layer_unit':'hidden unit per layer',\n",
        "                      'config/optimizer_name': 'optimizer',\n",
        "                      'time_total_s': 'training time (s)'\n",
        "                      }, inplace=True)"
      ],
      "metadata": {
        "id": "h36zsLnxqNgt"
      },
      "execution_count": null,
      "outputs": []
    },
    {
      "cell_type": "code",
      "source": [
        "df['epoch'] = 5\n",
        "df['minibacth_size'] = 32\n",
        "df['training_size'] = 45000\n",
        "df['validation_size'] = 15000\n",
        "\n",
        "df['learning_rate'] = df['optimizer'].apply(lambda x: 0.01 if x=='SGD' else 0.001)"
      ],
      "metadata": {
        "id": "bJJBJKIfq9DK"
      },
      "execution_count": null,
      "outputs": []
    },
    {
      "cell_type": "code",
      "source": [
        "df"
      ],
      "metadata": {
        "colab": {
          "base_uri": "https://localhost:8080/",
          "height": 425
        },
        "id": "Y-Jr7V_jrcvL",
        "outputId": "4fbb33da-a8ba-4ea6-b7ad-fccf3bc73146"
      },
      "execution_count": null,
      "outputs": [
        {
          "output_type": "execute_result",
          "data": {
            "text/plain": [
              "    hidden_layer_number  hidden unit per layer optimizer  train_accuracy  \\\n",
              "10                    3                    256      Adam       98.926667   \n",
              "11                    5                    256      Adam       98.477778   \n",
              "9                     1                    256      Adam       98.673333   \n",
              "7                     3                    128      Adam       98.404444   \n",
              "6                     1                    128      Adam       98.160000   \n",
              "8                     5                    128      Adam       97.711111   \n",
              "5                     5                    256       SGD       89.253333   \n",
              "4                     3                    256       SGD       88.642222   \n",
              "1                     3                    128       SGD       88.702222   \n",
              "3                     1                    256       SGD       87.973333   \n",
              "0                     1                    128       SGD       87.537778   \n",
              "2                     5                    128       SGD       86.448889   \n",
              "\n",
              "    val_accuracy  training time (s)  epoch  minibacth_size  training_size  \\\n",
              "10     95.573333          62.987633      5              32          45000   \n",
              "11     95.566667          68.844087      5              32          45000   \n",
              "9      95.186667          59.716369      5              32          45000   \n",
              "7      94.906667          61.949591      5              32          45000   \n",
              "6      94.860000          58.703691      5              32          45000   \n",
              "8      94.466667          67.720645      5              32          45000   \n",
              "5      88.420000          63.310016      5              32          45000   \n",
              "4      87.766667          58.826188      5              32          45000   \n",
              "1      87.666667          58.504091      5              32          45000   \n",
              "3      87.153333          57.559098      5              32          45000   \n",
              "0      86.746667          57.056912      5              32          45000   \n",
              "2      85.433333          62.853097      5              32          45000   \n",
              "\n",
              "    validation_size  learning_rate  \n",
              "10            15000          0.001  \n",
              "11            15000          0.001  \n",
              "9             15000          0.001  \n",
              "7             15000          0.001  \n",
              "6             15000          0.001  \n",
              "8             15000          0.001  \n",
              "5             15000          0.010  \n",
              "4             15000          0.010  \n",
              "1             15000          0.010  \n",
              "3             15000          0.010  \n",
              "0             15000          0.010  \n",
              "2             15000          0.010  "
            ],
            "text/html": [
              "\n",
              "  <div id=\"df-93feb195-fc3f-425f-ba06-10c1877b55c2\">\n",
              "    <div class=\"colab-df-container\">\n",
              "      <div>\n",
              "<style scoped>\n",
              "    .dataframe tbody tr th:only-of-type {\n",
              "        vertical-align: middle;\n",
              "    }\n",
              "\n",
              "    .dataframe tbody tr th {\n",
              "        vertical-align: top;\n",
              "    }\n",
              "\n",
              "    .dataframe thead th {\n",
              "        text-align: right;\n",
              "    }\n",
              "</style>\n",
              "<table border=\"1\" class=\"dataframe\">\n",
              "  <thead>\n",
              "    <tr style=\"text-align: right;\">\n",
              "      <th></th>\n",
              "      <th>hidden_layer_number</th>\n",
              "      <th>hidden unit per layer</th>\n",
              "      <th>optimizer</th>\n",
              "      <th>train_accuracy</th>\n",
              "      <th>val_accuracy</th>\n",
              "      <th>training time (s)</th>\n",
              "      <th>epoch</th>\n",
              "      <th>minibacth_size</th>\n",
              "      <th>training_size</th>\n",
              "      <th>validation_size</th>\n",
              "      <th>learning_rate</th>\n",
              "    </tr>\n",
              "  </thead>\n",
              "  <tbody>\n",
              "    <tr>\n",
              "      <th>10</th>\n",
              "      <td>3</td>\n",
              "      <td>256</td>\n",
              "      <td>Adam</td>\n",
              "      <td>98.926667</td>\n",
              "      <td>95.573333</td>\n",
              "      <td>62.987633</td>\n",
              "      <td>5</td>\n",
              "      <td>32</td>\n",
              "      <td>45000</td>\n",
              "      <td>15000</td>\n",
              "      <td>0.001</td>\n",
              "    </tr>\n",
              "    <tr>\n",
              "      <th>11</th>\n",
              "      <td>5</td>\n",
              "      <td>256</td>\n",
              "      <td>Adam</td>\n",
              "      <td>98.477778</td>\n",
              "      <td>95.566667</td>\n",
              "      <td>68.844087</td>\n",
              "      <td>5</td>\n",
              "      <td>32</td>\n",
              "      <td>45000</td>\n",
              "      <td>15000</td>\n",
              "      <td>0.001</td>\n",
              "    </tr>\n",
              "    <tr>\n",
              "      <th>9</th>\n",
              "      <td>1</td>\n",
              "      <td>256</td>\n",
              "      <td>Adam</td>\n",
              "      <td>98.673333</td>\n",
              "      <td>95.186667</td>\n",
              "      <td>59.716369</td>\n",
              "      <td>5</td>\n",
              "      <td>32</td>\n",
              "      <td>45000</td>\n",
              "      <td>15000</td>\n",
              "      <td>0.001</td>\n",
              "    </tr>\n",
              "    <tr>\n",
              "      <th>7</th>\n",
              "      <td>3</td>\n",
              "      <td>128</td>\n",
              "      <td>Adam</td>\n",
              "      <td>98.404444</td>\n",
              "      <td>94.906667</td>\n",
              "      <td>61.949591</td>\n",
              "      <td>5</td>\n",
              "      <td>32</td>\n",
              "      <td>45000</td>\n",
              "      <td>15000</td>\n",
              "      <td>0.001</td>\n",
              "    </tr>\n",
              "    <tr>\n",
              "      <th>6</th>\n",
              "      <td>1</td>\n",
              "      <td>128</td>\n",
              "      <td>Adam</td>\n",
              "      <td>98.160000</td>\n",
              "      <td>94.860000</td>\n",
              "      <td>58.703691</td>\n",
              "      <td>5</td>\n",
              "      <td>32</td>\n",
              "      <td>45000</td>\n",
              "      <td>15000</td>\n",
              "      <td>0.001</td>\n",
              "    </tr>\n",
              "    <tr>\n",
              "      <th>8</th>\n",
              "      <td>5</td>\n",
              "      <td>128</td>\n",
              "      <td>Adam</td>\n",
              "      <td>97.711111</td>\n",
              "      <td>94.466667</td>\n",
              "      <td>67.720645</td>\n",
              "      <td>5</td>\n",
              "      <td>32</td>\n",
              "      <td>45000</td>\n",
              "      <td>15000</td>\n",
              "      <td>0.001</td>\n",
              "    </tr>\n",
              "    <tr>\n",
              "      <th>5</th>\n",
              "      <td>5</td>\n",
              "      <td>256</td>\n",
              "      <td>SGD</td>\n",
              "      <td>89.253333</td>\n",
              "      <td>88.420000</td>\n",
              "      <td>63.310016</td>\n",
              "      <td>5</td>\n",
              "      <td>32</td>\n",
              "      <td>45000</td>\n",
              "      <td>15000</td>\n",
              "      <td>0.010</td>\n",
              "    </tr>\n",
              "    <tr>\n",
              "      <th>4</th>\n",
              "      <td>3</td>\n",
              "      <td>256</td>\n",
              "      <td>SGD</td>\n",
              "      <td>88.642222</td>\n",
              "      <td>87.766667</td>\n",
              "      <td>58.826188</td>\n",
              "      <td>5</td>\n",
              "      <td>32</td>\n",
              "      <td>45000</td>\n",
              "      <td>15000</td>\n",
              "      <td>0.010</td>\n",
              "    </tr>\n",
              "    <tr>\n",
              "      <th>1</th>\n",
              "      <td>3</td>\n",
              "      <td>128</td>\n",
              "      <td>SGD</td>\n",
              "      <td>88.702222</td>\n",
              "      <td>87.666667</td>\n",
              "      <td>58.504091</td>\n",
              "      <td>5</td>\n",
              "      <td>32</td>\n",
              "      <td>45000</td>\n",
              "      <td>15000</td>\n",
              "      <td>0.010</td>\n",
              "    </tr>\n",
              "    <tr>\n",
              "      <th>3</th>\n",
              "      <td>1</td>\n",
              "      <td>256</td>\n",
              "      <td>SGD</td>\n",
              "      <td>87.973333</td>\n",
              "      <td>87.153333</td>\n",
              "      <td>57.559098</td>\n",
              "      <td>5</td>\n",
              "      <td>32</td>\n",
              "      <td>45000</td>\n",
              "      <td>15000</td>\n",
              "      <td>0.010</td>\n",
              "    </tr>\n",
              "    <tr>\n",
              "      <th>0</th>\n",
              "      <td>1</td>\n",
              "      <td>128</td>\n",
              "      <td>SGD</td>\n",
              "      <td>87.537778</td>\n",
              "      <td>86.746667</td>\n",
              "      <td>57.056912</td>\n",
              "      <td>5</td>\n",
              "      <td>32</td>\n",
              "      <td>45000</td>\n",
              "      <td>15000</td>\n",
              "      <td>0.010</td>\n",
              "    </tr>\n",
              "    <tr>\n",
              "      <th>2</th>\n",
              "      <td>5</td>\n",
              "      <td>128</td>\n",
              "      <td>SGD</td>\n",
              "      <td>86.448889</td>\n",
              "      <td>85.433333</td>\n",
              "      <td>62.853097</td>\n",
              "      <td>5</td>\n",
              "      <td>32</td>\n",
              "      <td>45000</td>\n",
              "      <td>15000</td>\n",
              "      <td>0.010</td>\n",
              "    </tr>\n",
              "  </tbody>\n",
              "</table>\n",
              "</div>\n",
              "      <button class=\"colab-df-convert\" onclick=\"convertToInteractive('df-93feb195-fc3f-425f-ba06-10c1877b55c2')\"\n",
              "              title=\"Convert this dataframe to an interactive table.\"\n",
              "              style=\"display:none;\">\n",
              "        \n",
              "  <svg xmlns=\"http://www.w3.org/2000/svg\" height=\"24px\"viewBox=\"0 0 24 24\"\n",
              "       width=\"24px\">\n",
              "    <path d=\"M0 0h24v24H0V0z\" fill=\"none\"/>\n",
              "    <path d=\"M18.56 5.44l.94 2.06.94-2.06 2.06-.94-2.06-.94-.94-2.06-.94 2.06-2.06.94zm-11 1L8.5 8.5l.94-2.06 2.06-.94-2.06-.94L8.5 2.5l-.94 2.06-2.06.94zm10 10l.94 2.06.94-2.06 2.06-.94-2.06-.94-.94-2.06-.94 2.06-2.06.94z\"/><path d=\"M17.41 7.96l-1.37-1.37c-.4-.4-.92-.59-1.43-.59-.52 0-1.04.2-1.43.59L10.3 9.45l-7.72 7.72c-.78.78-.78 2.05 0 2.83L4 21.41c.39.39.9.59 1.41.59.51 0 1.02-.2 1.41-.59l7.78-7.78 2.81-2.81c.8-.78.8-2.07 0-2.86zM5.41 20L4 18.59l7.72-7.72 1.47 1.35L5.41 20z\"/>\n",
              "  </svg>\n",
              "      </button>\n",
              "      \n",
              "  <style>\n",
              "    .colab-df-container {\n",
              "      display:flex;\n",
              "      flex-wrap:wrap;\n",
              "      gap: 12px;\n",
              "    }\n",
              "\n",
              "    .colab-df-convert {\n",
              "      background-color: #E8F0FE;\n",
              "      border: none;\n",
              "      border-radius: 50%;\n",
              "      cursor: pointer;\n",
              "      display: none;\n",
              "      fill: #1967D2;\n",
              "      height: 32px;\n",
              "      padding: 0 0 0 0;\n",
              "      width: 32px;\n",
              "    }\n",
              "\n",
              "    .colab-df-convert:hover {\n",
              "      background-color: #E2EBFA;\n",
              "      box-shadow: 0px 1px 2px rgba(60, 64, 67, 0.3), 0px 1px 3px 1px rgba(60, 64, 67, 0.15);\n",
              "      fill: #174EA6;\n",
              "    }\n",
              "\n",
              "    [theme=dark] .colab-df-convert {\n",
              "      background-color: #3B4455;\n",
              "      fill: #D2E3FC;\n",
              "    }\n",
              "\n",
              "    [theme=dark] .colab-df-convert:hover {\n",
              "      background-color: #434B5C;\n",
              "      box-shadow: 0px 1px 3px 1px rgba(0, 0, 0, 0.15);\n",
              "      filter: drop-shadow(0px 1px 2px rgba(0, 0, 0, 0.3));\n",
              "      fill: #FFFFFF;\n",
              "    }\n",
              "  </style>\n",
              "\n",
              "      <script>\n",
              "        const buttonEl =\n",
              "          document.querySelector('#df-93feb195-fc3f-425f-ba06-10c1877b55c2 button.colab-df-convert');\n",
              "        buttonEl.style.display =\n",
              "          google.colab.kernel.accessAllowed ? 'block' : 'none';\n",
              "\n",
              "        async function convertToInteractive(key) {\n",
              "          const element = document.querySelector('#df-93feb195-fc3f-425f-ba06-10c1877b55c2');\n",
              "          const dataTable =\n",
              "            await google.colab.kernel.invokeFunction('convertToInteractive',\n",
              "                                                     [key], {});\n",
              "          if (!dataTable) return;\n",
              "\n",
              "          const docLinkHtml = 'Like what you see? Visit the ' +\n",
              "            '<a target=\"_blank\" href=https://colab.research.google.com/notebooks/data_table.ipynb>data table notebook</a>'\n",
              "            + ' to learn more about interactive tables.';\n",
              "          element.innerHTML = '';\n",
              "          dataTable['output_type'] = 'display_data';\n",
              "          await google.colab.output.renderOutput(dataTable, element);\n",
              "          const docLink = document.createElement('div');\n",
              "          docLink.innerHTML = docLinkHtml;\n",
              "          element.appendChild(docLink);\n",
              "        }\n",
              "      </script>\n",
              "    </div>\n",
              "  </div>\n",
              "  "
            ]
          },
          "metadata": {},
          "execution_count": 64
        }
      ]
    },
    {
      "cell_type": "markdown",
      "source": [
        "## Train Model with selected Hyperparameters"
      ],
      "metadata": {
        "id": "At2fzC4Vk34l"
      }
    },
    {
      "cell_type": "code",
      "source": [
        "model, criterion, optimizer = create_model(3, 256, 'Adam')"
      ],
      "metadata": {
        "id": "CcE4Nr9zkq1A"
      },
      "execution_count": 111,
      "outputs": []
    },
    {
      "cell_type": "code",
      "source": [
        "max_num_epoch = 10\n",
        "log_interval = 200\n",
        "\n",
        "train_losses_minibatches = []\n",
        "train_losses_epoch = []\n",
        "val_losses = []\n",
        "\n",
        "train_accuracy = []\n",
        "val_accuracy = []\n",
        "\n",
        "lowest_val_error = sys.maxsize\n",
        "patience = 2"
      ],
      "metadata": {
        "id": "wnVCUiFjyLNY"
      },
      "execution_count": 112,
      "outputs": []
    },
    {
      "cell_type": "code",
      "source": [
        "def train(epoch):\n",
        "    model.train()\n",
        "    for batch_idx, (data, target) in enumerate(train_loader):\n",
        "        if torch.cuda.is_available():\n",
        "            data, target = data.cuda(), target.cuda()\n",
        "\n",
        "        optimizer.zero_grad()\n",
        "        output = model(data)\n",
        "        loss = criterion(output, target)\n",
        "        loss.backward()\n",
        "        optimizer.step()\n",
        "    \n",
        "        train_losses_minibatches.append(loss.item())\n",
        "\n",
        "        if batch_idx % log_interval == 0:\n",
        "            print('Train Epoch: {} [{}/{} ({:.0f}%)]\\tLoss: {:.6f}'.format(\n",
        "                epoch, batch_idx * len(data), len(train_loader.dataset),\n",
        "                100. * batch_idx / len(train_loader), loss.item()))"
      ],
      "metadata": {
        "id": "94FN0JFEx1ou"
      },
      "execution_count": 113,
      "outputs": []
    },
    {
      "cell_type": "code",
      "source": [
        "def evaluate():\n",
        "    model.eval()\n",
        "    val_loss = 0\n",
        "    train_loss = 0\n",
        "    correct_train = 0\n",
        "    correct_val = 0\n",
        "    with torch.no_grad():\n",
        "          # calculate accuracy on train set\n",
        "          for data, target in train_loader:\n",
        "              if torch.cuda.is_available():\n",
        "                  data, target = data.cuda(), target.cuda()\n",
        "\n",
        "              output = model(data)\n",
        "              train_loss += criterion(output, target).item()\n",
        "              pred = output.data.max(1, keepdim=True)[1]\n",
        "              correct_train += pred.eq(target.data.view_as(pred)).sum()\n",
        "\n",
        "          train_loss /= len(train_loader.dataset)\n",
        "          train_losses_epoch.append(train_loss)\n",
        "          train_accuracy.append(100. * correct_train.item() / len(train_loader.dataset))\n",
        "\n",
        "          # calculate accuracy on valdiation set\n",
        "          for data, target in val_loader:\n",
        "              if torch.cuda.is_available():\n",
        "                  data, target = data.cuda(), target.cuda()\n",
        "\n",
        "              output = model(data)\n",
        "              val_loss += criterion(output, target).item()\n",
        "              pred = output.data.max(1, keepdim=True)[1]\n",
        "              correct_val += pred.eq(target.data.view_as(pred)).sum()\n",
        "\n",
        "          val_loss /= len(val_loader.dataset)\n",
        "          val_losses.append(val_loss)\n",
        "          val_accuracy.append(100. * correct_val.item() / len(val_loader.dataset))\n",
        "\n",
        "          print('Training set: Avg. loss: {:.4f}, Accuracy: {}/{} ({:.0f}%)'.format(\n",
        "              train_loss, correct_train, len(train_loader.dataset),\n",
        "              100. * correct_train.item() / len(train_loader.dataset)))\n",
        "          print('Validation set: Avg. loss: {:.4f}, Accuracy: {}/{} ({:.0f}%)\\n'.format(\n",
        "              val_loss, correct_val, len(val_loader.dataset),\n",
        "              100. * correct_val.item() / len(val_loader.dataset)))\n",
        "      \n",
        "    return val_loss"
      ],
      "metadata": {
        "id": "iHy0HEilyM-x"
      },
      "execution_count": 114,
      "outputs": []
    },
    {
      "cell_type": "code",
      "source": [
        "no_improve_counter = 0\n",
        "evaluate()\n",
        "for epoch in range(max_num_epoch):\n",
        "    train(epoch)\n",
        "    loss = evaluate()\n",
        "    if loss <= lowest_val_error:\n",
        "        lowest_val_error = loss\n",
        "        no_improve_counter = 0\n",
        "    else:\n",
        "        no_improve_counter += 1\n",
        "    \n",
        "    if no_improve_counter >= patience:\n",
        "        print(f'Early stopping at epoch: {epoch} because no decrement in the validation loss.')\n",
        "        break"
      ],
      "metadata": {
        "colab": {
          "base_uri": "https://localhost:8080/"
        },
        "id": "MtuRCffYyV2h",
        "outputId": "c24db2bf-fc50-4619-ecc9-0a6e30b98ee8"
      },
      "execution_count": 115,
      "outputs": [
        {
          "output_type": "stream",
          "name": "stdout",
          "text": [
            "Training set: Avg. loss: 0.0719, Accuracy: 6238/45000 (14%)\n",
            "Validation set: Avg. loss: 0.0719, Accuracy: 1976/15000 (13%)\n",
            "\n",
            "Train Epoch: 0 [0/45000 (0%)]\tLoss: 2.314587\n",
            "Train Epoch: 0 [6400/45000 (14%)]\tLoss: 0.694074\n",
            "Train Epoch: 0 [12800/45000 (28%)]\tLoss: 0.619816\n",
            "Train Epoch: 0 [19200/45000 (43%)]\tLoss: 0.199498\n",
            "Train Epoch: 0 [25600/45000 (57%)]\tLoss: 0.616423\n",
            "Train Epoch: 0 [32000/45000 (71%)]\tLoss: 0.190123\n",
            "Train Epoch: 0 [38400/45000 (85%)]\tLoss: 0.254990\n",
            "Train Epoch: 0 [44800/45000 (100%)]\tLoss: 0.045270\n",
            "Training set: Avg. loss: 0.0067, Accuracy: 42082/45000 (94%)\n",
            "Validation set: Avg. loss: 0.0084, Accuracy: 13801/15000 (92%)\n",
            "\n",
            "Train Epoch: 1 [0/45000 (0%)]\tLoss: 0.328646\n",
            "Train Epoch: 1 [6400/45000 (14%)]\tLoss: 0.154558\n",
            "Train Epoch: 1 [12800/45000 (28%)]\tLoss: 0.235181\n",
            "Train Epoch: 1 [19200/45000 (43%)]\tLoss: 0.088306\n",
            "Train Epoch: 1 [25600/45000 (57%)]\tLoss: 0.058591\n",
            "Train Epoch: 1 [32000/45000 (71%)]\tLoss: 0.133241\n",
            "Train Epoch: 1 [38400/45000 (85%)]\tLoss: 0.328430\n",
            "Train Epoch: 1 [44800/45000 (100%)]\tLoss: 0.039723\n",
            "Training set: Avg. loss: 0.0028, Accuracy: 43817/45000 (97%)\n",
            "Validation set: Avg. loss: 0.0054, Accuracy: 14225/15000 (95%)\n",
            "\n",
            "Train Epoch: 2 [0/45000 (0%)]\tLoss: 0.159600\n",
            "Train Epoch: 2 [6400/45000 (14%)]\tLoss: 0.054912\n",
            "Train Epoch: 2 [12800/45000 (28%)]\tLoss: 0.080561\n",
            "Train Epoch: 2 [19200/45000 (43%)]\tLoss: 0.179318\n",
            "Train Epoch: 2 [25600/45000 (57%)]\tLoss: 0.060568\n",
            "Train Epoch: 2 [32000/45000 (71%)]\tLoss: 0.015460\n",
            "Train Epoch: 2 [38400/45000 (85%)]\tLoss: 0.058314\n",
            "Train Epoch: 2 [44800/45000 (100%)]\tLoss: 0.099819\n",
            "Training set: Avg. loss: 0.0023, Accuracy: 43988/45000 (98%)\n",
            "Validation set: Avg. loss: 0.0058, Accuracy: 14206/15000 (95%)\n",
            "\n",
            "Train Epoch: 3 [0/45000 (0%)]\tLoss: 0.172208\n",
            "Train Epoch: 3 [6400/45000 (14%)]\tLoss: 0.121963\n",
            "Train Epoch: 3 [12800/45000 (28%)]\tLoss: 0.036270\n",
            "Train Epoch: 3 [19200/45000 (43%)]\tLoss: 0.069714\n",
            "Train Epoch: 3 [25600/45000 (57%)]\tLoss: 0.015297\n",
            "Train Epoch: 3 [32000/45000 (71%)]\tLoss: 0.166102\n",
            "Train Epoch: 3 [38400/45000 (85%)]\tLoss: 0.090020\n",
            "Train Epoch: 3 [44800/45000 (100%)]\tLoss: 0.036266\n",
            "Training set: Avg. loss: 0.0015, Accuracy: 44363/45000 (99%)\n",
            "Validation set: Avg. loss: 0.0055, Accuracy: 14258/15000 (95%)\n",
            "\n",
            "Early stopping at epoch: 3 because no decrement in the validation loss.\n"
          ]
        }
      ]
    },
    {
      "cell_type": "markdown",
      "source": [
        "### Losses of every minibatches\n"
      ],
      "metadata": {
        "id": "nLg0xUD2tzBm"
      }
    },
    {
      "cell_type": "code",
      "source": [
        "plt.plot(train_losses_minibatches)"
      ],
      "metadata": {
        "colab": {
          "base_uri": "https://localhost:8080/",
          "height": 282
        },
        "id": "pVR6tiUfjk72",
        "outputId": "b0b41b8f-e9b2-46ac-b224-28f761386b44"
      },
      "execution_count": 116,
      "outputs": [
        {
          "output_type": "execute_result",
          "data": {
            "text/plain": [
              "[<matplotlib.lines.Line2D at 0x7f02b3f22850>]"
            ]
          },
          "metadata": {},
          "execution_count": 116
        },
        {
          "output_type": "display_data",
          "data": {
            "text/plain": [
              "<Figure size 432x288 with 1 Axes>"
            ],
            "image/png": "[encoded data removed]"
          },
          "metadata": {
            "needs_background": "light"
          }
        }
      ]
    },
    {
      "cell_type": "markdown",
      "source": [
        "### Losses of every epoch"
      ],
      "metadata": {
        "id": "_O24BuVxt4so"
      }
    },
    {
      "cell_type": "code",
      "source": [
        "plt.plot(train_losses_epoch)\n",
        "plt.plot(val_losses, color='orange')\n",
        "plt.legend(['train', 'val'])"
      ],
      "metadata": {
        "colab": {
          "base_uri": "https://localhost:8080/",
          "height": 282
        },
        "id": "xxr9-WbXs_th",
        "outputId": "85db16bb-2784-4690-8de9-dd22a6e73dbd"
      },
      "execution_count": 117,
      "outputs": [
        {
          "output_type": "execute_result",
          "data": {
            "text/plain": [
              "<matplotlib.legend.Legend at 0x7f02b7d94550>"
            ]
          },
          "metadata": {},
          "execution_count": 117
        },
        {
          "output_type": "display_data",
          "data": {
            "text/plain": [
              "<Figure size 432x288 with 1 Axes>"
            ],
            "image/png": "[encoded data removed]"
          },
          "metadata": {
            "needs_background": "light"
          }
        }
      ]
    },
    {
      "cell_type": "markdown",
      "source": [
        "### Accuracy after of every epoch"
      ],
      "metadata": {
        "id": "mvQFMDIwvBTV"
      }
    },
    {
      "cell_type": "code",
      "source": [
        "plt.plot(train_accuracy)\n",
        "plt.plot(val_accuracy, color='orange')\n",
        "plt.legend(['train', 'val'])"
      ],
      "metadata": {
        "colab": {
          "base_uri": "https://localhost:8080/",
          "height": 282
        },
        "id": "Ln1mp_O-vIXX",
        "outputId": "6b506038-6786-4399-ad40-729cd7a57f4c"
      },
      "execution_count": 118,
      "outputs": [
        {
          "output_type": "execute_result",
          "data": {
            "text/plain": [
              "<matplotlib.legend.Legend at 0x7f02b54f4790>"
            ]
          },
          "metadata": {},
          "execution_count": 118
        },
        {
          "output_type": "display_data",
          "data": {
            "text/plain": [
              "<Figure size 432x288 with 1 Axes>"
            ],
            "image/png": "[encoded data removed]"
          },
          "metadata": {
            "needs_background": "light"
          }
        }
      ]
    },
    {
      "cell_type": "markdown",
      "source": [
        "### Accuracy on Test Set"
      ],
      "metadata": {
        "id": "-G67q2BXtdRK"
      }
    },
    {
      "cell_type": "code",
      "source": [
        "model.eval()\n",
        "test_loss = 0\n",
        "correct_test = 0\n",
        "\n",
        "with torch.no_grad():\n",
        "    for data, target in test_loader:\n",
        "        if torch.cuda.is_available():\n",
        "            data, target = data.cuda(), target.cuda()\n",
        "\n",
        "        output = model(data)\n",
        "        test_loss += criterion(output, target).item()\n",
        "        pred = output.data.max(1, keepdim=True)[1]\n",
        "        correct_test += pred.eq(target.data.view_as(pred)).sum()\n",
        "\n",
        "    test_loss /= len(test_loader.dataset)\n",
        "\n",
        "    print('Test set: Avg. loss: {:.4f}, Accuracy: {}/{} ({:.0f}%)'.format(\n",
        "        test_loss, correct_test, len(test_loader.dataset),\n",
        "        100. * correct_test.item() / len(test_loader.dataset)))"
      ],
      "metadata": {
        "colab": {
          "base_uri": "https://localhost:8080/"
        },
        "id": "mix5U53MvKFJ",
        "outputId": "4abb9b81-5078-46b0-c310-f539820c1748"
      },
      "execution_count": null,
      "outputs": [
        {
          "output_type": "stream",
          "name": "stdout",
          "text": [
            "Test set: Avg. loss: 0.0143, Accuracy: 8918/10000 (89%)\n"
          ]
        }
      ]
    },
    {
      "cell_type": "markdown",
      "source": [
        "# Task 2"
      ],
      "metadata": {
        "id": "NzO54P-etSiy"
      }
    },
    {
      "cell_type": "code",
      "source": [
        "def compute_probability_dist(dataset):\n",
        "    dataset_np = dataset.data.numpy()\n",
        "    dataset_np = np.reshape(dataset_np, (-1, 28*28))\n",
        "\n",
        "    pixel_proba = np.array([[0. for j in range(256)] for i in range(28*28)])\n",
        "    \n",
        "    for i in range(28*28):\n",
        "        pixel_i = dataset_np[:, i]\n",
        "        unique_count = np.unique(pixel_i, return_counts=True)\n",
        "\n",
        "        for idx, value in enumerate(unique_count[0]):\n",
        "            pixel_proba[i][value] = unique_count[1][idx]/len(dataset_np)\n",
        "\n",
        "    return pixel_proba\n"
      ],
      "metadata": {
        "id": "NAvTMsrHtSi3"
      },
      "execution_count": null,
      "outputs": []
    },
    {
      "cell_type": "markdown",
      "source": [
        "### Q1 Probability on Training Data"
      ],
      "metadata": {
        "id": "wqFfOAzytSi3"
      }
    },
    {
      "cell_type": "code",
      "source": [
        "train_pixel_proba = compute_probability_dist(train_data)"
      ],
      "metadata": {
        "id": "mDi4af7ntSi3"
      },
      "execution_count": null,
      "outputs": []
    },
    {
      "cell_type": "code",
      "source": [
        "# peek into the pixel probability array\n",
        "train_pixel_proba[0][:20]"
      ],
      "metadata": {
        "colab": {
          "base_uri": "https://localhost:8080/"
        },
        "outputId": "b036546e-ef83-49bd-de6f-ba5b28f41f62",
        "id": "pbAD3lpqtSi3"
      },
      "execution_count": null,
      "outputs": [
        {
          "output_type": "execute_result",
          "data": {
            "text/plain": [
              "array([9.94100000e-01, 5.00000000e-04, 2.66666667e-04, 2.83333333e-04,\n",
              "       1.50000000e-04, 1.66666667e-04, 1.83333333e-04, 1.00000000e-04,\n",
              "       5.00000000e-05, 1.00000000e-04, 1.00000000e-04, 6.66666667e-05,\n",
              "       5.00000000e-05, 1.33333333e-04, 1.33333333e-04, 3.33333333e-05,\n",
              "       8.33333333e-05, 8.33333333e-05, 6.66666667e-05, 3.33333333e-05])"
            ]
          },
          "metadata": {},
          "execution_count": 9
        }
      ]
    },
    {
      "cell_type": "markdown",
      "source": [
        "### Q2 Probability on Test Data"
      ],
      "metadata": {
        "id": "UsLLxH-KtSi4"
      }
    },
    {
      "cell_type": "code",
      "source": [
        "test_pixel_proba = compute_probability_dist(test_data)"
      ],
      "metadata": {
        "id": "Np_OVZCZtSi4"
      },
      "execution_count": null,
      "outputs": []
    },
    {
      "cell_type": "code",
      "source": [
        "# peek into the pixel probability array\n",
        "test_pixel_proba[0][:20]"
      ],
      "metadata": {
        "colab": {
          "base_uri": "https://localhost:8080/"
        },
        "outputId": "1f2b25b0-c392-461e-8485-db57c6929fb7",
        "id": "43eYzvw-tSi4"
      },
      "execution_count": null,
      "outputs": [
        {
          "output_type": "execute_result",
          "data": {
            "text/plain": [
              "array([9.949e-01, 3.000e-04, 1.000e-04, 1.000e-04, 2.000e-04, 2.000e-04,\n",
              "       3.000e-04, 1.000e-04, 3.000e-04, 1.000e-04, 2.000e-04, 1.000e-04,\n",
              "       1.000e-04, 2.000e-04, 1.000e-04, 0.000e+00, 0.000e+00, 0.000e+00,\n",
              "       2.000e-04, 0.000e+00])"
            ]
          },
          "metadata": {},
          "execution_count": 12
        }
      ]
    },
    {
      "cell_type": "markdown",
      "source": [
        "### Q3 Visualize probability for pixel #123"
      ],
      "metadata": {
        "id": "agxkfF0xtSi4"
      }
    },
    {
      "cell_type": "code",
      "source": [
        "# make sure that the total of proba is 1\n",
        "print(train_pixel_proba[123].sum())\n",
        "print(test_pixel_proba[123].sum())"
      ],
      "metadata": {
        "colab": {
          "base_uri": "https://localhost:8080/"
        },
        "outputId": "60fb804f-7d3d-4f73-ce9d-e420d2a69b65",
        "id": "DmxgD2hxtSi4"
      },
      "execution_count": null,
      "outputs": [
        {
          "output_type": "stream",
          "name": "stdout",
          "text": [
            "1.0000000000000002\n",
            "0.9999999999999998\n"
          ]
        }
      ]
    },
    {
      "cell_type": "code",
      "source": [
        "fig, (ax1, ax2) = plt.subplots(1, 2, figsize=(10,5))\n",
        "\n",
        "ax1.hist(x=[i for i in range(256)], bins=256, weights=train_pixel_proba[123]);\n",
        "ax1.set_title('Probability Distribution for train data #123')\n",
        "ax1.set_xlabel(\"Pixel values\")\n",
        "ax1.set_ylabel(\"Probability\")\n",
        "\n",
        "ax2.hist(x=[i for i in range(256)], bins=256, weights=test_pixel_proba[123]);\n",
        "ax2.set_title('Probability Distribution for test data #123')\n",
        "ax2.set_xlabel(\"Pixel values\")\n",
        "ax2.set_ylabel(\"Probability\");"
      ],
      "metadata": {
        "colab": {
          "base_uri": "https://localhost:8080/",
          "height": 350
        },
        "outputId": "39aac374-ad8a-4758-fc68-7d9332414b89",
        "id": "pgppIjh1tSi4"
      },
      "execution_count": null,
      "outputs": [
        {
          "output_type": "display_data",
          "data": {
            "text/plain": [
              "<Figure size 720x360 with 2 Axes>"
            ],
            "image/png": "[encoded data removed]"
          },
          "metadata": {
            "needs_background": "light"
          }
        }
      ]
    },
    {
      "cell_type": "markdown",
      "source": [
        "### Q4a Compute the Shannon Entropy"
      ],
      "metadata": {
        "id": "aFHPVCUCtSi4"
      }
    },
    {
      "cell_type": "code",
      "source": [
        "def shannon_log(x):\n",
        "    return -1 * x * math.log(x, 2)"
      ],
      "metadata": {
        "id": "3OO9hXEstSi4"
      },
      "execution_count": null,
      "outputs": []
    },
    {
      "cell_type": "code",
      "source": [
        "def compute_entropy(probability_dist):\n",
        "    entropies = []\n",
        "\n",
        "    for proba in probability_dist:\n",
        "        entropy = [shannon_log(x) for x in proba if x>0]\n",
        "        entropies.append(sum(entropy))\n",
        "\n",
        "    total_entropy = sum(entropies)\n",
        "\n",
        "    return np.array(entropies), total_entropy"
      ],
      "metadata": {
        "id": "h4DiA1MntSi4"
      },
      "execution_count": null,
      "outputs": []
    },
    {
      "cell_type": "code",
      "source": [
        "train_entropy_list, train_total_entropy = compute_entropy(train_pixel_proba)\n",
        "print(f'Entropy for train data H(x): {train_total_entropy}')"
      ],
      "metadata": {
        "colab": {
          "base_uri": "https://localhost:8080/"
        },
        "outputId": "3dd68886-b07c-4711-99fb-a7e3aad90198",
        "id": "qaeIKAn8tSi4"
      },
      "execution_count": null,
      "outputs": [
        {
          "output_type": "stream",
          "name": "stdout",
          "text": [
            "Entropy for train data H(x): 2447.150658798105\n"
          ]
        }
      ]
    },
    {
      "cell_type": "code",
      "source": [
        "test_entropy_list, test_total_entropy = compute_entropy(test_pixel_proba)\n",
        "print(f'Entropy for test data H(x): {test_total_entropy}')"
      ],
      "metadata": {
        "colab": {
          "base_uri": "https://localhost:8080/"
        },
        "outputId": "91bf3727-8343-4ed2-a536-b95d010f2ff1",
        "id": "YqrXmnostSi5"
      },
      "execution_count": null,
      "outputs": [
        {
          "output_type": "stream",
          "name": "stdout",
          "text": [
            "Entropy for test data H(x): 2407.1840029090063\n"
          ]
        }
      ]
    },
    {
      "cell_type": "code",
      "source": [
        "print(train_entropy_list.shape)\n",
        "train_entropy_list[:20]"
      ],
      "metadata": {
        "colab": {
          "base_uri": "https://localhost:8080/"
        },
        "outputId": "0c2fcbff-761f-44b9-efec-a02194496a2c",
        "id": "jsTZbfXutSi5"
      },
      "execution_count": null,
      "outputs": [
        {
          "output_type": "stream",
          "name": "stdout",
          "text": [
            "(784,)\n"
          ]
        },
        {
          "output_type": "execute_result",
          "data": {
            "text/plain": [
              "array([0.0895588 , 0.16458159, 0.26130604, 0.39351536, 0.59963562,\n",
              "       0.87885991, 1.23728993, 1.62892182, 2.03865259, 2.43851124,\n",
              "       2.825307  , 3.20288528, 3.4651016 , 3.55357147, 3.41686392,\n",
              "       3.07092999, 2.54436874, 1.99952839, 1.60492879, 1.32814015])"
            ]
          },
          "metadata": {},
          "execution_count": 44
        }
      ]
    },
    {
      "cell_type": "code",
      "source": [
        "fig, (ax1, ax2) = plt.subplots(1, 2, figsize=(10,5))\n",
        "\n",
        "ax1.hist(x=[i for i in range(784)], bins=784, weights=train_entropy_list);\n",
        "ax1.set_title('-P(x)log2[P(x)] Distribution')\n",
        "ax1.set_xlabel(\"Features (0-784)\")\n",
        "ax1.set_ylabel(\"h(x)\")\n",
        "\n",
        "ax2.hist(x=[i for i in range(784)], bins=784, weights=test_entropy_list);\n",
        "ax2.set_title('-Q(x)log2[Q(x)] Distribution')\n",
        "ax2.set_xlabel(\"Features (0-784)\")\n",
        "ax2.set_ylabel(\"h(x)\");"
      ],
      "metadata": {
        "colab": {
          "base_uri": "https://localhost:8080/",
          "height": 350
        },
        "outputId": "66543f9e-996d-4636-ac7f-808a688087eb",
        "id": "u3p-8G7CtSi5"
      },
      "execution_count": null,
      "outputs": [
        {
          "output_type": "display_data",
          "data": {
            "text/plain": [
              "<Figure size 720x360 with 2 Axes>"
            ],
            "image/png": "[encoded data removed]"
          },
          "metadata": {
            "needs_background": "light"
          }
        }
      ]
    },
    {
      "cell_type": "markdown",
      "source": [
        "### Q4b What is the best way to measure the difference between entropy of training vs test dataset that you have computed?"
      ],
      "metadata": {
        "id": "5r17y5WItSi5"
      }
    },
    {
      "cell_type": "markdown",
      "source": [
        "The best way to measure the difference between entropy of training vs test dataset is by compute the total entropy of each feature and compared it between the train and test set. After we get a table of differences between each feature, we could evaluate between the most and the least important feature in the dataset."
      ],
      "metadata": {
        "id": "0NlB4wtrtSi5"
      }
    },
    {
      "cell_type": "code",
      "source": [
        "plt.figure(figsize=(10,8))\n",
        "entropy_diff = np.array(abs(train_entropy_list-test_entropy_list))\n",
        "plt.hist(x=[i for i in range(784)], bins=784, weights=entropy_diff);"
      ],
      "metadata": {
        "colab": {
          "base_uri": "https://localhost:8080/",
          "height": 483
        },
        "outputId": "e98e4a52-0b81-47a8-81b3-7a2f04849b8f",
        "id": "NeqIysqRtSi5"
      },
      "execution_count": null,
      "outputs": [
        {
          "output_type": "display_data",
          "data": {
            "text/plain": [
              "<Figure size 720x576 with 1 Axes>"
            ],
            "image/png": "[encoded data removed]"
          },
          "metadata": {
            "needs_background": "light"
          }
        }
      ]
    },
    {
      "cell_type": "code",
      "source": [
        "top_20_entropy_diff = np.argsort(-entropy_diff)[:20]\n",
        "print(f'Features with the highest amount of difference in entropy: {top_20_entropy_diff+1}')"
      ],
      "metadata": {
        "colab": {
          "base_uri": "https://localhost:8080/"
        },
        "outputId": "eeec02ad-7c90-41f0-9a9c-b136a4343c75",
        "id": "lHltFRBUtSi5"
      },
      "execution_count": null,
      "outputs": [
        {
          "output_type": "stream",
          "name": "stdout",
          "text": [
            "Features with the highest amount of difference in entropy: [392 420 364 448 307 335 336 363 306 334 391 278 419 476 279 333 447 277\n",
            " 305 308]\n"
          ]
        }
      ]
    },
    {
      "cell_type": "code",
      "source": [
        "bottom_20_entropy_diff = np.argsort(entropy_diff)[:20]\n",
        "print(f'Features with the lowest amount of difference in entropy: {bottom_20_entropy_diff+1}')"
      ],
      "metadata": {
        "colab": {
          "base_uri": "https://localhost:8080/"
        },
        "outputId": "87fdcb26-d4cd-4fe1-afea-7b88b08c6865",
        "id": "HbG5AgsutSi5"
      },
      "execution_count": null,
      "outputs": [
        {
          "output_type": "stream",
          "name": "stdout",
          "text": [
            "Features with the lowest amount of difference in entropy: [700 455 713 518 454 662 136   3 591 605 659 728 546 182 599   2 618 612\n",
            " 401  34]\n"
          ]
        }
      ]
    },
    {
      "cell_type": "markdown",
      "source": [
        "We can see that feature #392 has the highest amount of difference in entropy. This means that this particular feature contribute the most in identifying the label.\n",
        "\n",
        "We also could see that all the top features are located at the centre of the image while bottom features otherwise."
      ],
      "metadata": {
        "id": "C7_DxCHftSi5"
      }
    }
  ]
}