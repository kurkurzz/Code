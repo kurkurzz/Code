{
 "cells": [
  {
   "cell_type": "code",
   "execution_count": 1,
   "metadata": {
    "colab": {
     "base_uri": "https://localhost:8080/"
    },
    "id": "7ECZG7yNcNLZ",
    "outputId": "9a1f24e2-fefb-4e56-fe43-2544cd2e6da4"
   },
   "outputs": [
    {
     "name": "stdout",
     "output_type": "stream",
     "text": [
      "Looking in indexes: https://pypi.org/simple, https://us-python.pkg.dev/colab-wheels/public/simple/\n",
      "Collecting ray[tune]\n",
      "  Downloading ray-1.12.1-cp37-cp37m-manylinux2014_x86_64.whl (53.2 MB)\n",
      "\u001b[K     |████████████████████████████████| 53.2 MB 259 kB/s \n",
      "\u001b[?25hRequirement already satisfied: requests in /usr/local/lib/python3.7/dist-packages (from ray[tune]) (2.23.0)\n",
      "Requirement already satisfied: msgpack<2.0.0,>=1.0.0 in /usr/local/lib/python3.7/dist-packages (from ray[tune]) (1.0.3)\n",
      "Requirement already satisfied: pyyaml in /usr/local/lib/python3.7/dist-packages (from ray[tune]) (3.13)\n",
      "Collecting virtualenv\n",
      "  Downloading virtualenv-20.14.1-py2.py3-none-any.whl (8.8 MB)\n",
      "\u001b[K     |████████████████████████████████| 8.8 MB 57.1 MB/s \n",
      "\u001b[?25hRequirement already satisfied: protobuf>=3.15.3 in /usr/local/lib/python3.7/dist-packages (from ray[tune]) (3.17.3)\n",
      "Requirement already satisfied: filelock in /usr/local/lib/python3.7/dist-packages (from ray[tune]) (3.7.0)\n",
      "Collecting aiosignal\n",
      "  Downloading aiosignal-1.2.0-py3-none-any.whl (8.2 kB)\n",
      "Requirement already satisfied: attrs in /usr/local/lib/python3.7/dist-packages (from ray[tune]) (21.4.0)\n",
      "Collecting frozenlist\n",
      "  Downloading frozenlist-1.3.0-cp37-cp37m-manylinux_2_5_x86_64.manylinux1_x86_64.manylinux_2_17_x86_64.manylinux2014_x86_64.whl (144 kB)\n",
      "\u001b[K     |████████████████████████████████| 144 kB 63.7 MB/s \n",
      "\u001b[?25hRequirement already satisfied: numpy>=1.16 in /usr/local/lib/python3.7/dist-packages (from ray[tune]) (1.21.6)\n",
      "Collecting grpcio<=1.43.0,>=1.28.1\n",
      "  Downloading grpcio-1.43.0-cp37-cp37m-manylinux_2_17_x86_64.manylinux2014_x86_64.whl (4.1 MB)\n",
      "\u001b[K     |████████████████████████████████| 4.1 MB 61.0 MB/s \n",
      "\u001b[?25hRequirement already satisfied: click>=7.0 in /usr/local/lib/python3.7/dist-packages (from ray[tune]) (7.1.2)\n",
      "Requirement already satisfied: jsonschema in /usr/local/lib/python3.7/dist-packages (from ray[tune]) (4.3.3)\n",
      "Requirement already satisfied: pandas in /usr/local/lib/python3.7/dist-packages (from ray[tune]) (1.3.5)\n",
      "Collecting tensorboardX>=1.9\n",
      "  Downloading tensorboardX-2.5-py2.py3-none-any.whl (125 kB)\n",
      "\u001b[K     |████████████████████████████████| 125 kB 71.8 MB/s \n",
      "\u001b[?25hRequirement already satisfied: tabulate in /usr/local/lib/python3.7/dist-packages (from ray[tune]) (0.8.9)\n",
      "Requirement already satisfied: six>=1.5.2 in /usr/local/lib/python3.7/dist-packages (from grpcio<=1.43.0,>=1.28.1->ray[tune]) (1.15.0)\n",
      "Requirement already satisfied: importlib-resources>=1.4.0 in /usr/local/lib/python3.7/dist-packages (from jsonschema->ray[tune]) (5.7.1)\n",
      "Requirement already satisfied: importlib-metadata in /usr/local/lib/python3.7/dist-packages (from jsonschema->ray[tune]) (4.11.3)\n",
      "Requirement already satisfied: typing-extensions in /usr/local/lib/python3.7/dist-packages (from jsonschema->ray[tune]) (4.2.0)\n",
      "Requirement already satisfied: pyrsistent!=0.17.0,!=0.17.1,!=0.17.2,>=0.14.0 in /usr/local/lib/python3.7/dist-packages (from jsonschema->ray[tune]) (0.18.1)\n",
      "Requirement already satisfied: zipp>=3.1.0 in /usr/local/lib/python3.7/dist-packages (from importlib-resources>=1.4.0->jsonschema->ray[tune]) (3.8.0)\n",
      "Requirement already satisfied: python-dateutil>=2.7.3 in /usr/local/lib/python3.7/dist-packages (from pandas->ray[tune]) (2.8.2)\n",
      "Requirement already satisfied: pytz>=2017.3 in /usr/local/lib/python3.7/dist-packages (from pandas->ray[tune]) (2022.1)\n",
      "Requirement already satisfied: urllib3!=1.25.0,!=1.25.1,<1.26,>=1.21.1 in /usr/local/lib/python3.7/dist-packages (from requests->ray[tune]) (1.24.3)\n",
      "Requirement already satisfied: certifi>=2017.4.17 in /usr/local/lib/python3.7/dist-packages (from requests->ray[tune]) (2022.5.18.1)\n",
      "Requirement already satisfied: idna<3,>=2.5 in /usr/local/lib/python3.7/dist-packages (from requests->ray[tune]) (2.10)\n",
      "Requirement already satisfied: chardet<4,>=3.0.2 in /usr/local/lib/python3.7/dist-packages (from requests->ray[tune]) (3.0.4)\n",
      "Collecting distlib<1,>=0.3.1\n",
      "  Downloading distlib-0.3.4-py2.py3-none-any.whl (461 kB)\n",
      "\u001b[K     |████████████████████████████████| 461 kB 72.5 MB/s \n",
      "\u001b[?25hCollecting platformdirs<3,>=2\n",
      "  Downloading platformdirs-2.5.2-py3-none-any.whl (14 kB)\n",
      "Installing collected packages: platformdirs, frozenlist, distlib, virtualenv, grpcio, aiosignal, tensorboardX, ray\n",
      "  Attempting uninstall: grpcio\n",
      "    Found existing installation: grpcio 1.46.1\n",
      "    Uninstalling grpcio-1.46.1:\n",
      "      Successfully uninstalled grpcio-1.46.1\n",
      "\u001b[31mERROR: pip's dependency resolver does not currently take into account all the packages that are installed. This behaviour is the source of the following dependency conflicts.\n",
      "tensorflow 2.8.0+zzzcolab20220506162203 requires tf-estimator-nightly==2.8.0.dev2021122109, which is not installed.\u001b[0m\n",
      "Successfully installed aiosignal-1.2.0 distlib-0.3.4 frozenlist-1.3.0 grpcio-1.43.0 platformdirs-2.5.2 ray-1.12.1 tensorboardX-2.5 virtualenv-20.14.1\n"
     ]
    }
   ],
   "source": [
    "!pip install \"ray[tune]\""
   ]
  },
  {
   "cell_type": "code",
   "execution_count": 135,
   "metadata": {
    "id": "Hh39PZuWPtfv"
   },
   "outputs": [],
   "source": [
    "import sys\n",
    "\n",
    "import torch\n",
    "from torch import nn\n",
    "from torch import optim\n",
    "import torch.nn.functional as F\n",
    "from torchvision import datasets, transforms\n",
    "from torch.utils.data import random_split, DataLoader\n",
    "\n",
    "import matplotlib.pyplot as plt\n",
    "from ray import tune"
   ]
  },
  {
   "cell_type": "markdown",
   "metadata": {
    "id": "Yge8aY1sV0fm"
   },
   "source": [
    "## Loading Data"
   ]
  },
  {
   "cell_type": "markdown",
   "metadata": {
    "id": "rF8dMvMFV9QU"
   },
   "source": [
    "**Train data**"
   ]
  },
  {
   "cell_type": "code",
   "execution_count": 3,
   "metadata": {
    "colab": {
     "base_uri": "https://localhost:8080/",
     "height": 547,
     "referenced_widgets": [
      "982f315272e64439ab47f843a7aab44a",
      "751a37e8422644a787a5010ae930975f",
      "eb73f666b73c4c6db12b1a5edf20c43f",
      "663669260d4c4b1cb8f9f24224623b6f",
      "14f77ef8c29445fdb9d5f3ce4f4a766a",
      "ade188ae729b49f28f174472764e7a43",
      "7a9d4256152248b9b63f5d2b763e6b90",
      "c1cf4d2a1d33412cb5127970254936a1",
      "a212bf9ac19e4910ac710193e2fdf9b1",
      "8c2b747707a849318a916fd325519828",
      "9cc16ae372dd4bbe885cf661b9da20e2",
      "5f596824de63430fb0e262010b6b06c7",
      "8f1e06dcdf6742709f68bd8e69bb808b",
      "5e8f8d8f875348bfbfb69a1044761b51",
      "7504c612baa34b5e8caa6a609858fc52",
      "bada08c619fe4cfab6e4c32855ba6beb",
      "d1b6dfd15c0e4ee99fbb20b089022f93",
      "b42fe36c38ef4e088bb0a74d961af522",
      "bae565320eed4b40b6c09d6965040b04",
      "3ac6b86f8bd4420e88218ef55132d2c3",
      "7bec0738d1c448309f5aa7e3847afd77",
      "b6c71c704681472985c4282802945050",
      "24636d04f6ef45e4904d3196adf58d58",
      "baf115c9d5794c3ebd68c236f91fc218",
      "f05863c597a049a79bd88e9d75553b67",
      "9779723f793946119525f679e2483f85",
      "a7e9b85171fa455da88291b1908f7201",
      "d4503bc0e4f14739a875a2d322ac34ce",
      "f9426a514ef64211ad1c226cdeaccdac",
      "339489e452e145e2bbc4e8a4188e1b97",
      "607c2a8aa948496d8eb14aa4165ba2d7",
      "c42f28af0bbc4b39b2e9fabdf2886e25",
      "4bc8a8fe626147f2a089cff35aaf175d",
      "90b974b74ff341bdb3ab6663cec67927",
      "23f850cfb7294412954a22c39981feaa",
      "153ae4159d43493497923af94dc2e12d",
      "82de1613dfd344e0bce8e5af47d4b4fa",
      "541fb737d4884f02b06d040a446688b6",
      "6f363c76026a4e0f929f422b9b134a31",
      "a48e52869289428faeb7fe85618605df",
      "d7de7f9cb86848c08779c653b663f995",
      "133b12fb5ce44956aadc385ad31bbf84",
      "67ec23c690ad4072b7b2b02c865bd87f",
      "5c5ce766e45a4124a1730abe19a1ab81"
     ]
    },
    "id": "VJJIj5BuV94a",
    "outputId": "8c1b09cf-930e-4e69-ca19-44e9c348b27a"
   },
   "outputs": [
    {
     "name": "stdout",
     "output_type": "stream",
     "text": [
      "Downloading http://codh.rois.ac.jp/kmnist/dataset/kmnist/train-images-idx3-ubyte.gz\n",
      "Downloading http://codh.rois.ac.jp/kmnist/dataset/kmnist/train-images-idx3-ubyte.gz to data/KMNIST/raw/train-images-idx3-ubyte.gz\n"
     ]
    },
    {
     "data": {
      "application/vnd.jupyter.widget-view+json": {
       "model_id": "982f315272e64439ab47f843a7aab44a",
       "version_major": 2,
       "version_minor": 0
      },
      "text/plain": [
       "  0%|          | 0/18165135 [00:00<?, ?it/s]"
      ]
     },
     "metadata": {},
     "output_type": "display_data"
    },
    {
     "name": "stdout",
     "output_type": "stream",
     "text": [
      "Extracting data/KMNIST/raw/train-images-idx3-ubyte.gz to data/KMNIST/raw\n",
      "\n",
      "Downloading http://codh.rois.ac.jp/kmnist/dataset/kmnist/train-labels-idx1-ubyte.gz\n",
      "Downloading http://codh.rois.ac.jp/kmnist/dataset/kmnist/train-labels-idx1-ubyte.gz to data/KMNIST/raw/train-labels-idx1-ubyte.gz\n"
     ]
    },
    {
     "data": {
      "application/vnd.jupyter.widget-view+json": {
       "model_id": "5f596824de63430fb0e262010b6b06c7",
       "version_major": 2,
       "version_minor": 0
      },
      "text/plain": [
       "  0%|          | 0/29497 [00:00<?, ?it/s]"
      ]
     },
     "metadata": {},
     "output_type": "display_data"
    },
    {
     "name": "stdout",
     "output_type": "stream",
     "text": [
      "Extracting data/KMNIST/raw/train-labels-idx1-ubyte.gz to data/KMNIST/raw\n",
      "\n",
      "Downloading http://codh.rois.ac.jp/kmnist/dataset/kmnist/t10k-images-idx3-ubyte.gz\n",
      "Downloading http://codh.rois.ac.jp/kmnist/dataset/kmnist/t10k-images-idx3-ubyte.gz to data/KMNIST/raw/t10k-images-idx3-ubyte.gz\n"
     ]
    },
    {
     "data": {
      "application/vnd.jupyter.widget-view+json": {
       "model_id": "24636d04f6ef45e4904d3196adf58d58",
       "version_major": 2,
       "version_minor": 0
      },
      "text/plain": [
       "  0%|          | 0/3041136 [00:00<?, ?it/s]"
      ]
     },
     "metadata": {},
     "output_type": "display_data"
    },
    {
     "name": "stdout",
     "output_type": "stream",
     "text": [
      "Extracting data/KMNIST/raw/t10k-images-idx3-ubyte.gz to data/KMNIST/raw\n",
      "\n",
      "Downloading http://codh.rois.ac.jp/kmnist/dataset/kmnist/t10k-labels-idx1-ubyte.gz\n",
      "Downloading http://codh.rois.ac.jp/kmnist/dataset/kmnist/t10k-labels-idx1-ubyte.gz to data/KMNIST/raw/t10k-labels-idx1-ubyte.gz\n"
     ]
    },
    {
     "data": {
      "application/vnd.jupyter.widget-view+json": {
       "model_id": "90b974b74ff341bdb3ab6663cec67927",
       "version_major": 2,
       "version_minor": 0
      },
      "text/plain": [
       "  0%|          | 0/5120 [00:00<?, ?it/s]"
      ]
     },
     "metadata": {},
     "output_type": "display_data"
    },
    {
     "name": "stdout",
     "output_type": "stream",
     "text": [
      "Extracting data/KMNIST/raw/t10k-labels-idx1-ubyte.gz to data/KMNIST/raw\n",
      "\n",
      "Dataset KMNIST\n",
      "    Number of datapoints: 60000\n",
      "    Root location: data\n",
      "    Split: Train\n",
      "    StandardTransform\n",
      "Transform: ToTensor()\n"
     ]
    }
   ],
   "source": [
    "train_data = datasets.KMNIST('data', train=True, download=True, transform=transforms.ToTensor())\n",
    "print(train_data)\n",
    "train, val = random_split(train_data, [45_000, 15_000])"
   ]
  },
  {
   "cell_type": "code",
   "execution_count": 4,
   "metadata": {
    "id": "aBtTEHBbWCEV"
   },
   "outputs": [],
   "source": [
    "train_loader = DataLoader(train, batch_size=32, shuffle=True)\n",
    "val_loader = DataLoader(val, batch_size=32)"
   ]
  },
  {
   "cell_type": "markdown",
   "metadata": {
    "id": "fYF_EbBGWDb5"
   },
   "source": [
    "**Test data**"
   ]
  },
  {
   "cell_type": "code",
   "execution_count": 5,
   "metadata": {
    "colab": {
     "base_uri": "https://localhost:8080/"
    },
    "id": "yLaaRDbVWGSq",
    "outputId": "03a3a6d2-1571-41ee-ccf7-217a2d0095b9"
   },
   "outputs": [
    {
     "data": {
      "text/plain": [
       "Dataset KMNIST\n",
       "    Number of datapoints: 10000\n",
       "    Root location: data\n",
       "    Split: Test\n",
       "    StandardTransform\n",
       "Transform: ToTensor()"
      ]
     },
     "execution_count": 5,
     "metadata": {},
     "output_type": "execute_result"
    }
   ],
   "source": [
    "test_data = datasets.KMNIST('data', train=False, download=True, transform=transforms.ToTensor())\n",
    "test_data"
   ]
  },
  {
   "cell_type": "code",
   "execution_count": 6,
   "metadata": {
    "id": "9xpBy9oTWGQs"
   },
   "outputs": [],
   "source": [
    "test_loader = DataLoader(test_data, batch_size=32)"
   ]
  },
  {
   "cell_type": "markdown",
   "metadata": {
    "id": "EUmK3VK1WGOm"
   },
   "source": [
    "## Check 1: Visualize Data"
   ]
  },
  {
   "cell_type": "code",
   "execution_count": 7,
   "metadata": {
    "id": "4V3-6BJCWGM1"
   },
   "outputs": [],
   "source": [
    "examples = enumerate(train_loader)\n",
    "batch_idx, (example_data, example_targets) = next(examples)"
   ]
  },
  {
   "cell_type": "code",
   "execution_count": 8,
   "metadata": {
    "colab": {
     "base_uri": "https://localhost:8080/"
    },
    "id": "lOk0KJG2WGLG",
    "outputId": "abb87770-d6dc-4a49-af0c-e0ffd8a7d5a0"
   },
   "outputs": [
    {
     "name": "stdout",
     "output_type": "stream",
     "text": [
      "X shape: torch.Size([32, 1, 28, 28])\n",
      "y shape: torch.Size([32])\n"
     ]
    }
   ],
   "source": [
    "print(f'X shape: {example_data.shape}')\n",
    "print(f'y shape: {example_targets.shape}')"
   ]
  },
  {
   "cell_type": "code",
   "execution_count": 9,
   "metadata": {
    "colab": {
     "base_uri": "https://localhost:8080/",
     "height": 551
    },
    "id": "N-h2rXveWUEC",
    "outputId": "d878541f-10e3-40b0-cb8b-ddd6c913bbab"
   },
   "outputs": [
    {
     "data": {
      "image/png": "[encoded data removed]",
      "text/plain": [
       "<Figure size 432x288 with 6 Axes>"
      ]
     },
     "execution_count": 9,
     "metadata": {},
     "output_type": "execute_result"
    },
    {
     "data": {
      "image/png": "[encoded data removed]",
      "text/plain": [
       "<Figure size 432x288 with 6 Axes>"
      ]
     },
     "metadata": {},
     "output_type": "display_data"
    }
   ],
   "source": [
    "fig = plt.figure()\n",
    "for i in range(6):\n",
    "    plt.subplot(2, 3, i+1)\n",
    "    plt.tight_layout()\n",
    "    plt.imshow(example_data[i][0, :, :], cmap='gray', interpolation='none')\n",
    "    plt.title(f'Ground Truth: {example_targets[i]}')\n",
    "    plt.xticks([])\n",
    "    plt.yticks([])\n",
    "fig"
   ]
  },
  {
   "cell_type": "markdown",
   "metadata": {
    "id": "p1-G6Ve7WUBz"
   },
   "source": [
    "## Check 2: Check Labels"
   ]
  },
  {
   "cell_type": "code",
   "execution_count": 10,
   "metadata": {
    "id": "2tQRsrJTWT_9"
   },
   "outputs": [],
   "source": [
    "num_classes = 10"
   ]
  },
  {
   "cell_type": "code",
   "execution_count": 11,
   "metadata": {
    "id": "ws7ETTDJWT96"
   },
   "outputs": [],
   "source": [
    "train_class_count = [0 for i in range(num_classes)]\n",
    "for _, labels_batch in train_loader:\n",
    "    for label in labels_batch:\n",
    "        train_class_count[label] += 1"
   ]
  },
  {
   "cell_type": "code",
   "execution_count": 12,
   "metadata": {
    "colab": {
     "base_uri": "https://localhost:8080/"
    },
    "id": "BVKAaTqtWT6I",
    "outputId": "fdcd2561-60d7-4454-c3d9-5fab253e945f"
   },
   "outputs": [
    {
     "name": "stdout",
     "output_type": "stream",
     "text": [
      "Train data:\n",
      "Label 0: 4459\n",
      "Label 1: 4558\n",
      "Label 2: 4519\n",
      "Label 3: 4542\n",
      "Label 4: 4525\n",
      "Label 5: 4491\n",
      "Label 6: 4423\n",
      "Label 7: 4441\n",
      "Label 8: 4522\n",
      "Label 9: 4520\n"
     ]
    }
   ],
   "source": [
    "print('Train data:')\n",
    "for idx, num in enumerate(train_class_count):\n",
    "    print(f'Label {idx}: {num}')"
   ]
  },
  {
   "cell_type": "code",
   "execution_count": 13,
   "metadata": {
    "id": "RvmubX8-WT4Q"
   },
   "outputs": [],
   "source": [
    "val_class_count = [0 for i in range(num_classes)]\n",
    "for _, labels_batch in val_loader:\n",
    "    for label in labels_batch:\n",
    "        val_class_count[label] += 1"
   ]
  },
  {
   "cell_type": "code",
   "execution_count": 14,
   "metadata": {
    "colab": {
     "base_uri": "https://localhost:8080/"
    },
    "id": "HGUrFbDMWTO8",
    "outputId": "81689a55-b0a3-424d-b715-7eb107e96f29"
   },
   "outputs": [
    {
     "name": "stdout",
     "output_type": "stream",
     "text": [
      "Validation data:\n",
      "Label 0: 1541\n",
      "Label 1: 1442\n",
      "Label 2: 1481\n",
      "Label 3: 1458\n",
      "Label 4: 1475\n",
      "Label 5: 1509\n",
      "Label 6: 1577\n",
      "Label 7: 1559\n",
      "Label 8: 1478\n",
      "Label 9: 1480\n"
     ]
    }
   ],
   "source": [
    "print('Validation data:')\n",
    "for idx, num in enumerate(val_class_count):\n",
    "    print(f'Label {idx}: {num}')"
   ]
  },
  {
   "cell_type": "code",
   "execution_count": 15,
   "metadata": {
    "colab": {
     "base_uri": "https://localhost:8080/"
    },
    "id": "Tguj_mF9WdD5",
    "outputId": "7648bfdb-a464-465f-cc15-4dbcee83104e"
   },
   "outputs": [
    {
     "name": "stdout",
     "output_type": "stream",
     "text": [
      "All Training data:\n",
      "Label 0: 6000\n",
      "Label 1: 6000\n",
      "Label 2: 6000\n",
      "Label 3: 6000\n",
      "Label 4: 6000\n",
      "Label 5: 6000\n",
      "Label 6: 6000\n",
      "Label 7: 6000\n",
      "Label 8: 6000\n",
      "Label 9: 6000\n",
      "\n",
      "Total samples for training data: 60000\n"
     ]
    }
   ],
   "source": [
    "print('All Training data:')\n",
    "total_sample = 0\n",
    "for idx, num in enumerate(train_class_count):\n",
    "    print(f'Label {idx}: {num + val_class_count[idx]}')\n",
    "    total_sample += num + val_class_count[idx]\n",
    "\n",
    "print()\n",
    "print(f'Total samples for training data: {total_sample}')"
   ]
  },
  {
   "cell_type": "code",
   "execution_count": 16,
   "metadata": {
    "id": "PDlIopYNWeEe"
   },
   "outputs": [],
   "source": [
    "test_class_count = [0 for i in range(num_classes)]\n",
    "for _, labels_batch in test_loader:\n",
    "    for label in labels_batch:\n",
    "        test_class_count[label] += 1"
   ]
  },
  {
   "cell_type": "code",
   "execution_count": 17,
   "metadata": {
    "colab": {
     "base_uri": "https://localhost:8080/"
    },
    "id": "Dx_X-SCiWi1u",
    "outputId": "5b0c8ddb-2e34-4751-eba7-2adb93f1b696"
   },
   "outputs": [
    {
     "name": "stdout",
     "output_type": "stream",
     "text": [
      "Test data:\n",
      "Label 0: 1000\n",
      "Label 1: 1000\n",
      "Label 2: 1000\n",
      "Label 3: 1000\n",
      "Label 4: 1000\n",
      "Label 5: 1000\n",
      "Label 6: 1000\n",
      "Label 7: 1000\n",
      "Label 8: 1000\n",
      "Label 9: 1000\n",
      "\n",
      "Total samples for test data: 10000\n"
     ]
    }
   ],
   "source": [
    "print('Test data:')\n",
    "total_sample = 0\n",
    "for idx, num in enumerate(test_class_count):\n",
    "    print(f'Label {idx}: {num}')\n",
    "    total_sample += num\n",
    "\n",
    "print()\n",
    "print(f'Total samples for test data: {total_sample}')"
   ]
  },
  {
   "cell_type": "markdown",
   "metadata": {
    "id": "dUlsvwt_WiyF"
   },
   "source": [
    "## Create Model\n",
    "\n"
   ]
  },
  {
   "cell_type": "code",
   "execution_count": 18,
   "metadata": {
    "id": "mQbSQm8XWiwA"
   },
   "outputs": [],
   "source": [
    "# define func to create a model\n",
    "class MLP(nn.Module):\n",
    "    def __init__(self, hidden_layer_num, hidden_layer_unit):\n",
    "        super(MLP, self).__init__()\n",
    "        self.fc1 = nn.Linear(28*28, hidden_layer_unit)\n",
    "        \n",
    "        self.fc_list = nn.ModuleList()\n",
    "        for i in range(hidden_layer_num):\n",
    "            if i == 1:\n",
    "                continue\n",
    "            if i == hidden_layer_num - 1:\n",
    "                break\n",
    "            self.fc_list.append(nn.Linear(hidden_layer_unit, hidden_layer_unit))\n",
    "        \n",
    "        self.fc_last = nn.Linear(hidden_layer_unit, 10)\n",
    "\n",
    "    def forward(self, x):\n",
    "        # flatten all dimensions except the batch dimension\n",
    "        x = x.view(x.shape[0],-1)  \n",
    "        x = F.relu(self.fc1(x))\n",
    "        \n",
    "        for fc in self.fc_list:\n",
    "            x = F.relu(fc(x))\n",
    "        \n",
    "        x = self.fc_last(x)\n",
    "        return x"
   ]
  },
  {
   "cell_type": "code",
   "execution_count": 19,
   "metadata": {
    "colab": {
     "base_uri": "https://localhost:8080/"
    },
    "id": "0QQsGj00cdPp",
    "outputId": "fd7464b4-1d19-4f48-c351-f775a06420ec"
   },
   "outputs": [
    {
     "data": {
      "text/plain": [
       "True"
      ]
     },
     "execution_count": 19,
     "metadata": {},
     "output_type": "execute_result"
    }
   ],
   "source": [
    "torch.cuda.is_available()"
   ]
  },
  {
   "cell_type": "code",
   "execution_count": 29,
   "metadata": {
    "id": "RwbfaOwiWiuK"
   },
   "outputs": [],
   "source": [
    "# define func to create model + criterion and chosen optimizer\n",
    "def create_model(hidden_layer_num, hidden_layer_unit, optimizer_name):\n",
    "    model = MLP(hidden_layer_num=hidden_layer_num, hidden_layer_unit=hidden_layer_unit)\n",
    "    if torch.cuda.is_available():\n",
    "        model = model.cuda()\n",
    "    criterion = nn.CrossEntropyLoss()\n",
    "    \n",
    "    if optimizer_name == 'SGD':\n",
    "        optimizer = optim.SGD(model.parameters(), lr=0.01)\n",
    "    elif optimizer_name == 'Adam':\n",
    "        optimizer = optim.Adam(model.parameters(), lr=0.001)\n",
    "    \n",
    "    return model, criterion, optimizer"
   ]
  },
  {
   "cell_type": "code",
   "execution_count": 30,
   "metadata": {
    "colab": {
     "base_uri": "https://localhost:8080/"
    },
    "id": "YnDUL3heWisY",
    "outputId": "1582d3f2-96f4-4710-ad5a-0d9ea7374d15"
   },
   "outputs": [
    {
     "data": {
      "text/plain": [
       "(MLP(\n",
       "   (fc1): Linear(in_features=784, out_features=256, bias=True)\n",
       "   (fc_list): ModuleList(\n",
       "     (0): Linear(in_features=256, out_features=256, bias=True)\n",
       "   )\n",
       "   (fc_last): Linear(in_features=256, out_features=10, bias=True)\n",
       " ), CrossEntropyLoss(), SGD (\n",
       " Parameter Group 0\n",
       "     dampening: 0\n",
       "     lr: 0.01\n",
       "     maximize: False\n",
       "     momentum: 0\n",
       "     nesterov: False\n",
       "     weight_decay: 0\n",
       " ))"
      ]
     },
     "execution_count": 30,
     "metadata": {},
     "output_type": "execute_result"
    }
   ],
   "source": [
    "# sample model\n",
    "create_model(2, 256, 'SGD')"
   ]
  },
  {
   "cell_type": "code",
   "execution_count": 44,
   "metadata": {
    "id": "DIRFskhUWiZb"
   },
   "outputs": [],
   "source": [
    "def train_kmnist(config):\n",
    "    num_epoch = 5\n",
    "    log_interval = 200\n",
    "    \n",
    "    print(config)\n",
    "    model, criterion, optimizer = create_model(config['hidden_layer_num'], \n",
    "                                               config['hidden_layer_unit'], \n",
    "                                               config['optimizer_name'])\n",
    "\n",
    "    train_losses_minibatches = []\n",
    "    train_losses_epoch = []\n",
    "    val_losses = []\n",
    "    \n",
    "    \n",
    "    for epoch in range(num_epoch):\n",
    "        model.train()\n",
    "        epoch_losses = 0\n",
    "        for batch_idx, (data, target) in enumerate(train_loader):\n",
    "            if torch.cuda.is_available():\n",
    "                data, target = data.cuda(), target.cuda()\n",
    "\n",
    "            optimizer.zero_grad()\n",
    "            output = model(data)\n",
    "            loss = criterion(output, target)\n",
    "            loss.backward()\n",
    "            optimizer.step()\n",
    "        \n",
    "            train_losses_minibatches.append(loss.item())\n",
    "            epoch_losses += loss.item()\n",
    "\n",
    "            # if batch_idx % log_interval == 0:\n",
    "            #     print('Train Epoch: {} [{}/{} ({:.0f}%)]\\tLoss: {:.6f}'.format(\n",
    "            #         epoch, batch_idx * len(data), len(train_loader.dataset),\n",
    "            #         100. * batch_idx / len(train_loader), loss.item()))\n",
    "                \n",
    "        train_losses_epoch.append(epoch_losses)\n",
    "        \n",
    "        # check in validation set\n",
    "        \n",
    "        model.eval()\n",
    "        val_loss = 0\n",
    "        correct_train = 0\n",
    "        correct_val = 0\n",
    "        with torch.no_grad():\n",
    "            # calculate accuracy on train set\n",
    "            for data, target in train_loader:\n",
    "                if torch.cuda.is_available():\n",
    "                   data, target = data.cuda(), target.cuda()\n",
    "\n",
    "                output = model(data)\n",
    "                val_loss += criterion(output, target).item()\n",
    "                pred = output.data.max(1, keepdim=True)[1]\n",
    "                correct_train += pred.eq(target.data.view_as(pred)).sum()\n",
    "\n",
    "\n",
    "            # calculate accuracy on valdiation set\n",
    "            for data, target in val_loader:\n",
    "                if torch.cuda.is_available():\n",
    "                   data, target = data.cuda(), target.cuda()\n",
    "\n",
    "                output = model(data)\n",
    "                val_loss += criterion(output, target).item()\n",
    "                pred = output.data.max(1, keepdim=True)[1]\n",
    "                correct_val += pred.eq(target.data.view_as(pred)).sum()\n",
    "\n",
    "            val_loss /= len(val_loader.dataset)\n",
    "            val_losses.append(val_loss)\n",
    "\n",
    "            # print('\\nTest set: Avg. loss: {:.4f}, Accuracy: {}/{} ({:.0f}%)\\n'.format(\n",
    "            #     val_loss, correct, len(val_loader.dataset),\n",
    "            #     100. * correct / len(val_loader.dataset)))\n",
    "            \n",
    "            tune.report(train_accuracy=100. * correct_train.item() / len(train_loader.dataset), val_accuracy=100. * correct_val.item() / len(val_loader.dataset))"
   ]
  },
  {
   "cell_type": "markdown",
   "metadata": {
    "id": "ozTsLILHjIoa"
   },
   "source": []
  },
  {
   "cell_type": "markdown",
   "metadata": {
    "id": "1xCswEv4dNTx"
   },
   "source": [
    "## Hyperparameter Tuning"
   ]
  },
  {
   "cell_type": "code",
   "execution_count": 56,
   "metadata": {
    "colab": {
     "base_uri": "https://localhost:8080/"
    },
    "id": "XcTrXsGzWuc7",
    "outputId": "4f25f88f-2a86-4ab3-ea60-bdd9ae9acc97"
   },
   "outputs": [
    {
     "name": "stderr",
     "output_type": "stream",
     "text": [
      "2022-05-25 14:25:42,695\tINFO trial_runner.py:803 -- starting train_kmnist_8b2e4_00000\n",
      "2022-05-25 14:25:43,538\tWARNING worker.py:1382 -- Warning: The actor ImplicitFunc is very large (45 MiB). Check that its definition is not implicitly capturing a large array or other object in scope. Tip: use ray.put() to put large objects in the Ray object store.\n",
      "2022-05-25 14:25:43,769\tWARNING util.py:171 -- The `start_trial` operation took 1.069 s, which may be a performance bottleneck.\n"
     ]
    },
    {
     "name": "stdout",
     "output_type": "stream",
     "text": [
      "\u001b[2m\u001b[36m(train_kmnist pid=3533)\u001b[0m {'hidden_layer_num': 1, 'hidden_layer_unit': 128, 'optimizer_name': 'SGD'}\n"
     ]
    },
    {
     "name": "stderr",
     "output_type": "stream",
     "text": [
      "2022-05-25 14:26:43,859\tINFO trial_runner.py:803 -- starting train_kmnist_8b2e4_00001\n"
     ]
    },
    {
     "name": "stdout",
     "output_type": "stream",
     "text": [
      "\u001b[2m\u001b[36m(train_kmnist pid=3597)\u001b[0m {'hidden_layer_num': 3, 'hidden_layer_unit': 128, 'optimizer_name': 'SGD'}\n"
     ]
    },
    {
     "name": "stderr",
     "output_type": "stream",
     "text": [
      "2022-05-25 14:27:45,871\tINFO trial_runner.py:803 -- starting train_kmnist_8b2e4_00002\n"
     ]
    },
    {
     "name": "stdout",
     "output_type": "stream",
     "text": [
      "\u001b[2m\u001b[36m(train_kmnist pid=3660)\u001b[0m {'hidden_layer_num': 5, 'hidden_layer_unit': 128, 'optimizer_name': 'SGD'}\n"
     ]
    },
    {
     "name": "stderr",
     "output_type": "stream",
     "text": [
      "2022-05-25 14:28:51,880\tINFO trial_runner.py:803 -- starting train_kmnist_8b2e4_00003\n"
     ]
    },
    {
     "name": "stdout",
     "output_type": "stream",
     "text": [
      "\u001b[2m\u001b[36m(train_kmnist pid=3724)\u001b[0m {'hidden_layer_num': 1, 'hidden_layer_unit': 256, 'optimizer_name': 'SGD'}\n"
     ]
    },
    {
     "name": "stderr",
     "output_type": "stream",
     "text": [
      "2022-05-25 14:29:52,915\tINFO trial_runner.py:803 -- starting train_kmnist_8b2e4_00004\n"
     ]
    },
    {
     "name": "stdout",
     "output_type": "stream",
     "text": [
      "\u001b[2m\u001b[36m(train_kmnist pid=3787)\u001b[0m {'hidden_layer_num': 3, 'hidden_layer_unit': 256, 'optimizer_name': 'SGD'}\n"
     ]
    },
    {
     "name": "stderr",
     "output_type": "stream",
     "text": [
      "2022-05-25 14:30:54,922\tINFO trial_runner.py:803 -- starting train_kmnist_8b2e4_00005\n"
     ]
    },
    {
     "name": "stdout",
     "output_type": "stream",
     "text": [
      "\u001b[2m\u001b[36m(train_kmnist pid=3851)\u001b[0m {'hidden_layer_num': 5, 'hidden_layer_unit': 256, 'optimizer_name': 'SGD'}\n"
     ]
    },
    {
     "name": "stderr",
     "output_type": "stream",
     "text": [
      "2022-05-25 14:32:01,935\tINFO trial_runner.py:803 -- starting train_kmnist_8b2e4_00006\n"
     ]
    },
    {
     "name": "stdout",
     "output_type": "stream",
     "text": [
      "\u001b[2m\u001b[36m(train_kmnist pid=3915)\u001b[0m {'hidden_layer_num': 1, 'hidden_layer_unit': 128, 'optimizer_name': 'Adam'}\n"
     ]
    },
    {
     "name": "stderr",
     "output_type": "stream",
     "text": [
      "2022-05-25 14:33:03,943\tINFO trial_runner.py:803 -- starting train_kmnist_8b2e4_00007\n"
     ]
    },
    {
     "name": "stdout",
     "output_type": "stream",
     "text": [
      "\u001b[2m\u001b[36m(train_kmnist pid=3980)\u001b[0m {'hidden_layer_num': 3, 'hidden_layer_unit': 128, 'optimizer_name': 'Adam'}\n"
     ]
    },
    {
     "name": "stderr",
     "output_type": "stream",
     "text": [
      "2022-05-25 14:34:08,951\tINFO trial_runner.py:803 -- starting train_kmnist_8b2e4_00008\n"
     ]
    },
    {
     "name": "stdout",
     "output_type": "stream",
     "text": [
      "\u001b[2m\u001b[36m(train_kmnist pid=4045)\u001b[0m {'hidden_layer_num': 5, 'hidden_layer_unit': 128, 'optimizer_name': 'Adam'}\n"
     ]
    },
    {
     "name": "stderr",
     "output_type": "stream",
     "text": [
      "2022-05-25 14:35:19,964\tINFO trial_runner.py:803 -- starting train_kmnist_8b2e4_00009\n"
     ]
    },
    {
     "name": "stdout",
     "output_type": "stream",
     "text": [
      "\u001b[2m\u001b[36m(train_kmnist pid=4111)\u001b[0m {'hidden_layer_num': 1, 'hidden_layer_unit': 256, 'optimizer_name': 'Adam'}\n"
     ]
    },
    {
     "name": "stderr",
     "output_type": "stream",
     "text": [
      "2022-05-25 14:36:22,971\tINFO trial_runner.py:803 -- starting train_kmnist_8b2e4_00010\n"
     ]
    },
    {
     "name": "stdout",
     "output_type": "stream",
     "text": [
      "\u001b[2m\u001b[36m(train_kmnist pid=4174)\u001b[0m {'hidden_layer_num': 3, 'hidden_layer_unit': 256, 'optimizer_name': 'Adam'}\n"
     ]
    },
    {
     "name": "stderr",
     "output_type": "stream",
     "text": [
      "2022-05-25 14:37:28,981\tINFO trial_runner.py:803 -- starting train_kmnist_8b2e4_00011\n"
     ]
    },
    {
     "name": "stdout",
     "output_type": "stream",
     "text": [
      "\u001b[2m\u001b[36m(train_kmnist pid=4240)\u001b[0m {'hidden_layer_num': 5, 'hidden_layer_unit': 256, 'optimizer_name': 'Adam'}\n",
      "CPU times: user 17.7 s, sys: 3.72 s, total: 21.4 s\n",
      "Wall time: 13min 5s\n"
     ]
    }
   ],
   "source": [
    "%%time\n",
    "analysis = tune.run(\n",
    "    train_kmnist, config={\n",
    "        'hidden_layer_num': tune.grid_search([1, 3, 5]),\n",
    "        'hidden_layer_unit': tune.grid_search([128, 256]),\n",
    "        'optimizer_name': tune.grid_search(['SGD', 'Adam'])\n",
    "        }, resources_per_trial={'gpu': 1}, verbose=0)"
   ]
  },
  {
   "cell_type": "code",
   "execution_count": 57,
   "metadata": {
    "colab": {
     "base_uri": "https://localhost:8080/",
     "height": 560
    },
    "id": "8kgZNexiaOrc",
    "outputId": "9058ece4-366f-4d65-9ed2-c26493edc7ad"
   },
   "outputs": [
    {
     "data": {
      "text/html": [
       "\n",
       "  <div id=\"df-dda59408-e31b-4ba2-9e03-fe534326607f\">\n",
       "    <div class=\"colab-df-container\">\n",
       "      <div>\n",
       "<style scoped>\n",
       "    .dataframe tbody tr th:only-of-type {\n",
       "        vertical-align: middle;\n",
       "    }\n",
       "\n",
       "    .dataframe tbody tr th {\n",
       "        vertical-align: top;\n",
       "    }\n",
       "\n",
       "    .dataframe thead th {\n",
       "        text-align: right;\n",
       "    }\n",
       "</style>\n",
       "<table border=\"1\" class=\"dataframe\">\n",
       "  <thead>\n",
       "    <tr style=\"text-align: right;\">\n",
       "      <th></th>\n",
       "      <th>train_accuracy</th>\n",
       "      <th>val_accuracy</th>\n",
       "      <th>time_this_iter_s</th>\n",
       "      <th>done</th>\n",
       "      <th>timesteps_total</th>\n",
       "      <th>episodes_total</th>\n",
       "      <th>training_iteration</th>\n",
       "      <th>trial_id</th>\n",
       "      <th>experiment_id</th>\n",
       "      <th>date</th>\n",
       "      <th>...</th>\n",
       "      <th>hostname</th>\n",
       "      <th>node_ip</th>\n",
       "      <th>time_since_restore</th>\n",
       "      <th>timesteps_since_restore</th>\n",
       "      <th>iterations_since_restore</th>\n",
       "      <th>warmup_time</th>\n",
       "      <th>config/hidden_layer_num</th>\n",
       "      <th>config/hidden_layer_unit</th>\n",
       "      <th>config/optimizer_name</th>\n",
       "      <th>logdir</th>\n",
       "    </tr>\n",
       "  </thead>\n",
       "  <tbody>\n",
       "    <tr>\n",
       "      <th>0</th>\n",
       "      <td>87.537778</td>\n",
       "      <td>86.746667</td>\n",
       "      <td>10.553428</td>\n",
       "      <td>False</td>\n",
       "      <td>NaN</td>\n",
       "      <td>NaN</td>\n",
       "      <td>5</td>\n",
       "      <td>8b2e4_00000</td>\n",
       "      <td>eedba981e29f4716a8eb44ee5856bd85</td>\n",
       "      <td>2022-05-25_14-26-43</td>\n",
       "      <td>...</td>\n",
       "      <td>db5fb9aa6cd6</td>\n",
       "      <td>172.28.0.2</td>\n",
       "      <td>57.056912</td>\n",
       "      <td>0</td>\n",
       "      <td>5</td>\n",
       "      <td>0.003110</td>\n",
       "      <td>1</td>\n",
       "      <td>128</td>\n",
       "      <td>SGD</td>\n",
       "      <td>/root/ray_results/train_kmnist_2022-05-25_14-2...</td>\n",
       "    </tr>\n",
       "    <tr>\n",
       "      <th>1</th>\n",
       "      <td>88.702222</td>\n",
       "      <td>87.666667</td>\n",
       "      <td>10.937069</td>\n",
       "      <td>False</td>\n",
       "      <td>NaN</td>\n",
       "      <td>NaN</td>\n",
       "      <td>5</td>\n",
       "      <td>8b2e4_00001</td>\n",
       "      <td>f60a9dede90a44d6b4e92b05797b2829</td>\n",
       "      <td>2022-05-25_14-27-45</td>\n",
       "      <td>...</td>\n",
       "      <td>db5fb9aa6cd6</td>\n",
       "      <td>172.28.0.2</td>\n",
       "      <td>58.504091</td>\n",
       "      <td>0</td>\n",
       "      <td>5</td>\n",
       "      <td>0.003701</td>\n",
       "      <td>3</td>\n",
       "      <td>128</td>\n",
       "      <td>SGD</td>\n",
       "      <td>/root/ray_results/train_kmnist_2022-05-25_14-2...</td>\n",
       "    </tr>\n",
       "    <tr>\n",
       "      <th>2</th>\n",
       "      <td>86.448889</td>\n",
       "      <td>85.433333</td>\n",
       "      <td>12.229949</td>\n",
       "      <td>False</td>\n",
       "      <td>NaN</td>\n",
       "      <td>NaN</td>\n",
       "      <td>5</td>\n",
       "      <td>8b2e4_00002</td>\n",
       "      <td>f0260a4d816b407b96c3516f6ca97c3b</td>\n",
       "      <td>2022-05-25_14-28-51</td>\n",
       "      <td>...</td>\n",
       "      <td>db5fb9aa6cd6</td>\n",
       "      <td>172.28.0.2</td>\n",
       "      <td>62.853097</td>\n",
       "      <td>0</td>\n",
       "      <td>5</td>\n",
       "      <td>0.003448</td>\n",
       "      <td>5</td>\n",
       "      <td>128</td>\n",
       "      <td>SGD</td>\n",
       "      <td>/root/ray_results/train_kmnist_2022-05-25_14-2...</td>\n",
       "    </tr>\n",
       "    <tr>\n",
       "      <th>3</th>\n",
       "      <td>87.973333</td>\n",
       "      <td>87.153333</td>\n",
       "      <td>10.727961</td>\n",
       "      <td>False</td>\n",
       "      <td>NaN</td>\n",
       "      <td>NaN</td>\n",
       "      <td>5</td>\n",
       "      <td>8b2e4_00003</td>\n",
       "      <td>e17ca02638af4d1c8a758b8361ccc36d</td>\n",
       "      <td>2022-05-25_14-29-52</td>\n",
       "      <td>...</td>\n",
       "      <td>db5fb9aa6cd6</td>\n",
       "      <td>172.28.0.2</td>\n",
       "      <td>57.559098</td>\n",
       "      <td>0</td>\n",
       "      <td>5</td>\n",
       "      <td>0.003723</td>\n",
       "      <td>1</td>\n",
       "      <td>256</td>\n",
       "      <td>SGD</td>\n",
       "      <td>/root/ray_results/train_kmnist_2022-05-25_14-2...</td>\n",
       "    </tr>\n",
       "    <tr>\n",
       "      <th>4</th>\n",
       "      <td>88.642222</td>\n",
       "      <td>87.766667</td>\n",
       "      <td>11.017715</td>\n",
       "      <td>False</td>\n",
       "      <td>NaN</td>\n",
       "      <td>NaN</td>\n",
       "      <td>5</td>\n",
       "      <td>8b2e4_00004</td>\n",
       "      <td>4ab53ff543954d1bab215077260c1ec9</td>\n",
       "      <td>2022-05-25_14-30-54</td>\n",
       "      <td>...</td>\n",
       "      <td>db5fb9aa6cd6</td>\n",
       "      <td>172.28.0.2</td>\n",
       "      <td>58.826188</td>\n",
       "      <td>0</td>\n",
       "      <td>5</td>\n",
       "      <td>0.003186</td>\n",
       "      <td>3</td>\n",
       "      <td>256</td>\n",
       "      <td>SGD</td>\n",
       "      <td>/root/ray_results/train_kmnist_2022-05-25_14-2...</td>\n",
       "    </tr>\n",
       "  </tbody>\n",
       "</table>\n",
       "<p>5 rows × 23 columns</p>\n",
       "</div>\n",
       "      <button class=\"colab-df-convert\" onclick=\"convertToInteractive('df-dda59408-e31b-4ba2-9e03-fe534326607f')\"\n",
       "              title=\"Convert this dataframe to an interactive table.\"\n",
       "              style=\"display:none;\">\n",
       "        \n",
       "  <svg xmlns=\"http://www.w3.org/2000/svg\" height=\"24px\"viewBox=\"0 0 24 24\"\n",
       "       width=\"24px\">\n",
       "    <path d=\"M0 0h24v24H0V0z\" fill=\"none\"/>\n",
       "    <path d=\"M18.56 5.44l.94 2.06.94-2.06 2.06-.94-2.06-.94-.94-2.06-.94 2.06-2.06.94zm-11 1L8.5 8.5l.94-2.06 2.06-.94-2.06-.94L8.5 2.5l-.94 2.06-2.06.94zm10 10l.94 2.06.94-2.06 2.06-.94-2.06-.94-.94-2.06-.94 2.06-2.06.94z\"/><path d=\"M17.41 7.96l-1.37-1.37c-.4-.4-.92-.59-1.43-.59-.52 0-1.04.2-1.43.59L10.3 9.45l-7.72 7.72c-.78.78-.78 2.05 0 2.83L4 21.41c.39.39.9.59 1.41.59.51 0 1.02-.2 1.41-.59l7.78-7.78 2.81-2.81c.8-.78.8-2.07 0-2.86zM5.41 20L4 18.59l7.72-7.72 1.47 1.35L5.41 20z\"/>\n",
       "  </svg>\n",
       "      </button>\n",
       "      \n",
       "  <style>\n",
       "    .colab-df-container {\n",
       "      display:flex;\n",
       "      flex-wrap:wrap;\n",
       "      gap: 12px;\n",
       "    }\n",
       "\n",
       "    .colab-df-convert {\n",
       "      background-color: #E8F0FE;\n",
       "      border: none;\n",
       "      border-radius: 50%;\n",
       "      cursor: pointer;\n",
       "      display: none;\n",
       "      fill: #1967D2;\n",
       "      height: 32px;\n",
       "      padding: 0 0 0 0;\n",
       "      width: 32px;\n",
       "    }\n",
       "\n",
       "    .colab-df-convert:hover {\n",
       "      background-color: #E2EBFA;\n",
       "      box-shadow: 0px 1px 2px rgba(60, 64, 67, 0.3), 0px 1px 3px 1px rgba(60, 64, 67, 0.15);\n",
       "      fill: #174EA6;\n",
       "    }\n",
       "\n",
       "    [theme=dark] .colab-df-convert {\n",
       "      background-color: #3B4455;\n",
       "      fill: #D2E3FC;\n",
       "    }\n",
       "\n",
       "    [theme=dark] .colab-df-convert:hover {\n",
       "      background-color: #434B5C;\n",
       "      box-shadow: 0px 1px 3px 1px rgba(0, 0, 0, 0.15);\n",
       "      filter: drop-shadow(0px 1px 2px rgba(0, 0, 0, 0.3));\n",
       "      fill: #FFFFFF;\n",
       "    }\n",
       "  </style>\n",
       "\n",
       "      <script>\n",
       "        const buttonEl =\n",
       "          document.querySelector('#df-dda59408-e31b-4ba2-9e03-fe534326607f button.colab-df-convert');\n",
       "        buttonEl.style.display =\n",
       "          google.colab.kernel.accessAllowed ? 'block' : 'none';\n",
       "\n",
       "        async function convertToInteractive(key) {\n",
       "          const element = document.querySelector('#df-dda59408-e31b-4ba2-9e03-fe534326607f');\n",
       "          const dataTable =\n",
       "            await google.colab.kernel.invokeFunction('convertToInteractive',\n",
       "                                                     [key], {});\n",
       "          if (!dataTable) return;\n",
       "\n",
       "          const docLinkHtml = 'Like what you see? Visit the ' +\n",
       "            '<a target=\"_blank\" href=https://colab.research.google.com/notebooks/data_table.ipynb>data table notebook</a>'\n",
       "            + ' to learn more about interactive tables.';\n",
       "          element.innerHTML = '';\n",
       "          dataTable['output_type'] = 'display_data';\n",
       "          await google.colab.output.renderOutput(dataTable, element);\n",
       "          const docLink = document.createElement('div');\n",
       "          docLink.innerHTML = docLinkHtml;\n",
       "          element.appendChild(docLink);\n",
       "        }\n",
       "      </script>\n",
       "    </div>\n",
       "  </div>\n",
       "  "
      ],
      "text/plain": [
       "   train_accuracy  val_accuracy  time_this_iter_s   done  timesteps_total  \\\n",
       "0       87.537778     86.746667         10.553428  False              NaN   \n",
       "1       88.702222     87.666667         10.937069  False              NaN   \n",
       "2       86.448889     85.433333         12.229949  False              NaN   \n",
       "3       87.973333     87.153333         10.727961  False              NaN   \n",
       "4       88.642222     87.766667         11.017715  False              NaN   \n",
       "\n",
       "   episodes_total  training_iteration     trial_id  \\\n",
       "0             NaN                   5  8b2e4_00000   \n",
       "1             NaN                   5  8b2e4_00001   \n",
       "2             NaN                   5  8b2e4_00002   \n",
       "3             NaN                   5  8b2e4_00003   \n",
       "4             NaN                   5  8b2e4_00004   \n",
       "\n",
       "                      experiment_id                 date  ...      hostname  \\\n",
       "0  eedba981e29f4716a8eb44ee5856bd85  2022-05-25_14-26-43  ...  db5fb9aa6cd6   \n",
       "1  f60a9dede90a44d6b4e92b05797b2829  2022-05-25_14-27-45  ...  db5fb9aa6cd6   \n",
       "2  f0260a4d816b407b96c3516f6ca97c3b  2022-05-25_14-28-51  ...  db5fb9aa6cd6   \n",
       "3  e17ca02638af4d1c8a758b8361ccc36d  2022-05-25_14-29-52  ...  db5fb9aa6cd6   \n",
       "4  4ab53ff543954d1bab215077260c1ec9  2022-05-25_14-30-54  ...  db5fb9aa6cd6   \n",
       "\n",
       "      node_ip  time_since_restore timesteps_since_restore  \\\n",
       "0  172.28.0.2           57.056912                       0   \n",
       "1  172.28.0.2           58.504091                       0   \n",
       "2  172.28.0.2           62.853097                       0   \n",
       "3  172.28.0.2           57.559098                       0   \n",
       "4  172.28.0.2           58.826188                       0   \n",
       "\n",
       "  iterations_since_restore  warmup_time  config/hidden_layer_num  \\\n",
       "0                        5     0.003110                        1   \n",
       "1                        5     0.003701                        3   \n",
       "2                        5     0.003448                        5   \n",
       "3                        5     0.003723                        1   \n",
       "4                        5     0.003186                        3   \n",
       "\n",
       "   config/hidden_layer_unit  config/optimizer_name  \\\n",
       "0                       128                    SGD   \n",
       "1                       128                    SGD   \n",
       "2                       128                    SGD   \n",
       "3                       256                    SGD   \n",
       "4                       256                    SGD   \n",
       "\n",
       "                                              logdir  \n",
       "0  /root/ray_results/train_kmnist_2022-05-25_14-2...  \n",
       "1  /root/ray_results/train_kmnist_2022-05-25_14-2...  \n",
       "2  /root/ray_results/train_kmnist_2022-05-25_14-2...  \n",
       "3  /root/ray_results/train_kmnist_2022-05-25_14-2...  \n",
       "4  /root/ray_results/train_kmnist_2022-05-25_14-2...  \n",
       "\n",
       "[5 rows x 23 columns]"
      ]
     },
     "execution_count": 57,
     "metadata": {},
     "output_type": "execute_result"
    }
   ],
   "source": [
    "df = analysis.dataframe()\n",
    "df.head()"
   ]
  },
  {
   "cell_type": "code",
   "execution_count": 58,
   "metadata": {
    "colab": {
     "base_uri": "https://localhost:8080/"
    },
    "id": "3JrJbRKoa5MI",
    "outputId": "3e7068c5-05af-43cd-a77f-624631d2a48d"
   },
   "outputs": [
    {
     "data": {
      "text/plain": [
       "Index(['train_accuracy', 'val_accuracy', 'time_this_iter_s', 'done',\n",
       "       'timesteps_total', 'episodes_total', 'training_iteration', 'trial_id',\n",
       "       'experiment_id', 'date', 'timestamp', 'time_total_s', 'pid', 'hostname',\n",
       "       'node_ip', 'time_since_restore', 'timesteps_since_restore',\n",
       "       'iterations_since_restore', 'warmup_time', 'config/hidden_layer_num',\n",
       "       'config/hidden_layer_unit', 'config/optimizer_name', 'logdir'],\n",
       "      dtype='object')"
      ]
     },
     "execution_count": 58,
     "metadata": {},
     "output_type": "execute_result"
    }
   ],
   "source": [
    "df.columns"
   ]
  },
  {
   "cell_type": "code",
   "execution_count": 59,
   "metadata": {
    "id": "RTeMD_Ana5uq"
   },
   "outputs": [],
   "source": [
    "df = df[['config/hidden_layer_num', 'config/hidden_layer_unit', 'config/optimizer_name', 'train_accuracy', 'val_accuracy', 'time_total_s']]"
   ]
  },
  {
   "cell_type": "code",
   "execution_count": 60,
   "metadata": {
    "colab": {
     "base_uri": "https://localhost:8080/",
     "height": 425
    },
    "id": "WDTJcxUijXP9",
    "outputId": "1747eeb0-00d5-4359-80c3-7f96002025a5"
   },
   "outputs": [
    {
     "data": {
      "text/html": [
       "\n",
       "  <div id=\"df-5ff724e0-1044-45c4-b661-439f9d573f16\">\n",
       "    <div class=\"colab-df-container\">\n",
       "      <div>\n",
       "<style scoped>\n",
       "    .dataframe tbody tr th:only-of-type {\n",
       "        vertical-align: middle;\n",
       "    }\n",
       "\n",
       "    .dataframe tbody tr th {\n",
       "        vertical-align: top;\n",
       "    }\n",
       "\n",
       "    .dataframe thead th {\n",
       "        text-align: right;\n",
       "    }\n",
       "</style>\n",
       "<table border=\"1\" class=\"dataframe\">\n",
       "  <thead>\n",
       "    <tr style=\"text-align: right;\">\n",
       "      <th></th>\n",
       "      <th>config/hidden_layer_num</th>\n",
       "      <th>config/hidden_layer_unit</th>\n",
       "      <th>config/optimizer_name</th>\n",
       "      <th>train_accuracy</th>\n",
       "      <th>val_accuracy</th>\n",
       "      <th>time_total_s</th>\n",
       "    </tr>\n",
       "  </thead>\n",
       "  <tbody>\n",
       "    <tr>\n",
       "      <th>10</th>\n",
       "      <td>3</td>\n",
       "      <td>256</td>\n",
       "      <td>Adam</td>\n",
       "      <td>98.926667</td>\n",
       "      <td>95.573333</td>\n",
       "      <td>62.987633</td>\n",
       "    </tr>\n",
       "    <tr>\n",
       "      <th>11</th>\n",
       "      <td>5</td>\n",
       "      <td>256</td>\n",
       "      <td>Adam</td>\n",
       "      <td>98.477778</td>\n",
       "      <td>95.566667</td>\n",
       "      <td>68.844087</td>\n",
       "    </tr>\n",
       "    <tr>\n",
       "      <th>9</th>\n",
       "      <td>1</td>\n",
       "      <td>256</td>\n",
       "      <td>Adam</td>\n",
       "      <td>98.673333</td>\n",
       "      <td>95.186667</td>\n",
       "      <td>59.716369</td>\n",
       "    </tr>\n",
       "    <tr>\n",
       "      <th>7</th>\n",
       "      <td>3</td>\n",
       "      <td>128</td>\n",
       "      <td>Adam</td>\n",
       "      <td>98.404444</td>\n",
       "      <td>94.906667</td>\n",
       "      <td>61.949591</td>\n",
       "    </tr>\n",
       "    <tr>\n",
       "      <th>6</th>\n",
       "      <td>1</td>\n",
       "      <td>128</td>\n",
       "      <td>Adam</td>\n",
       "      <td>98.160000</td>\n",
       "      <td>94.860000</td>\n",
       "      <td>58.703691</td>\n",
       "    </tr>\n",
       "    <tr>\n",
       "      <th>8</th>\n",
       "      <td>5</td>\n",
       "      <td>128</td>\n",
       "      <td>Adam</td>\n",
       "      <td>97.711111</td>\n",
       "      <td>94.466667</td>\n",
       "      <td>67.720645</td>\n",
       "    </tr>\n",
       "    <tr>\n",
       "      <th>5</th>\n",
       "      <td>5</td>\n",
       "      <td>256</td>\n",
       "      <td>SGD</td>\n",
       "      <td>89.253333</td>\n",
       "      <td>88.420000</td>\n",
       "      <td>63.310016</td>\n",
       "    </tr>\n",
       "    <tr>\n",
       "      <th>4</th>\n",
       "      <td>3</td>\n",
       "      <td>256</td>\n",
       "      <td>SGD</td>\n",
       "      <td>88.642222</td>\n",
       "      <td>87.766667</td>\n",
       "      <td>58.826188</td>\n",
       "    </tr>\n",
       "    <tr>\n",
       "      <th>1</th>\n",
       "      <td>3</td>\n",
       "      <td>128</td>\n",
       "      <td>SGD</td>\n",
       "      <td>88.702222</td>\n",
       "      <td>87.666667</td>\n",
       "      <td>58.504091</td>\n",
       "    </tr>\n",
       "    <tr>\n",
       "      <th>3</th>\n",
       "      <td>1</td>\n",
       "      <td>256</td>\n",
       "      <td>SGD</td>\n",
       "      <td>87.973333</td>\n",
       "      <td>87.153333</td>\n",
       "      <td>57.559098</td>\n",
       "    </tr>\n",
       "    <tr>\n",
       "      <th>0</th>\n",
       "      <td>1</td>\n",
       "      <td>128</td>\n",
       "      <td>SGD</td>\n",
       "      <td>87.537778</td>\n",
       "      <td>86.746667</td>\n",
       "      <td>57.056912</td>\n",
       "    </tr>\n",
       "    <tr>\n",
       "      <th>2</th>\n",
       "      <td>5</td>\n",
       "      <td>128</td>\n",
       "      <td>SGD</td>\n",
       "      <td>86.448889</td>\n",
       "      <td>85.433333</td>\n",
       "      <td>62.853097</td>\n",
       "    </tr>\n",
       "  </tbody>\n",
       "</table>\n",
       "</div>\n",
       "      <button class=\"colab-df-convert\" onclick=\"convertToInteractive('df-5ff724e0-1044-45c4-b661-439f9d573f16')\"\n",
       "              title=\"Convert this dataframe to an interactive table.\"\n",
       "              style=\"display:none;\">\n",
       "        \n",
       "  <svg xmlns=\"http://www.w3.org/2000/svg\" height=\"24px\"viewBox=\"0 0 24 24\"\n",
       "       width=\"24px\">\n",
       "    <path d=\"M0 0h24v24H0V0z\" fill=\"none\"/>\n",
       "    <path d=\"M18.56 5.44l.94 2.06.94-2.06 2.06-.94-2.06-.94-.94-2.06-.94 2.06-2.06.94zm-11 1L8.5 8.5l.94-2.06 2.06-.94-2.06-.94L8.5 2.5l-.94 2.06-2.06.94zm10 10l.94 2.06.94-2.06 2.06-.94-2.06-.94-.94-2.06-.94 2.06-2.06.94z\"/><path d=\"M17.41 7.96l-1.37-1.37c-.4-.4-.92-.59-1.43-.59-.52 0-1.04.2-1.43.59L10.3 9.45l-7.72 7.72c-.78.78-.78 2.05 0 2.83L4 21.41c.39.39.9.59 1.41.59.51 0 1.02-.2 1.41-.59l7.78-7.78 2.81-2.81c.8-.78.8-2.07 0-2.86zM5.41 20L4 18.59l7.72-7.72 1.47 1.35L5.41 20z\"/>\n",
       "  </svg>\n",
       "      </button>\n",
       "      \n",
       "  <style>\n",
       "    .colab-df-container {\n",
       "      display:flex;\n",
       "      flex-wrap:wrap;\n",
       "      gap: 12px;\n",
       "    }\n",
       "\n",
       "    .colab-df-convert {\n",
       "      background-color: #E8F0FE;\n",
       "      border: none;\n",
       "      border-radius: 50%;\n",
       "      cursor: pointer;\n",
       "      display: none;\n",
       "      fill: #1967D2;\n",
       "      height: 32px;\n",
       "      padding: 0 0 0 0;\n",
       "      width: 32px;\n",
       "    }\n",
       "\n",
       "    .colab-df-convert:hover {\n",
       "      background-color: #E2EBFA;\n",
       "      box-shadow: 0px 1px 2px rgba(60, 64, 67, 0.3), 0px 1px 3px 1px rgba(60, 64, 67, 0.15);\n",
       "      fill: #174EA6;\n",
       "    }\n",
       "\n",
       "    [theme=dark] .colab-df-convert {\n",
       "      background-color: #3B4455;\n",
       "      fill: #D2E3FC;\n",
       "    }\n",
       "\n",
       "    [theme=dark] .colab-df-convert:hover {\n",
       "      background-color: #434B5C;\n",
       "      box-shadow: 0px 1px 3px 1px rgba(0, 0, 0, 0.15);\n",
       "      filter: drop-shadow(0px 1px 2px rgba(0, 0, 0, 0.3));\n",
       "      fill: #FFFFFF;\n",
       "    }\n",
       "  </style>\n",
       "\n",
       "      <script>\n",
       "        const buttonEl =\n",
       "          document.querySelector('#df-5ff724e0-1044-45c4-b661-439f9d573f16 button.colab-df-convert');\n",
       "        buttonEl.style.display =\n",
       "          google.colab.kernel.accessAllowed ? 'block' : 'none';\n",
       "\n",
       "        async function convertToInteractive(key) {\n",
       "          const element = document.querySelector('#df-5ff724e0-1044-45c4-b661-439f9d573f16');\n",
       "          const dataTable =\n",
       "            await google.colab.kernel.invokeFunction('convertToInteractive',\n",
       "                                                     [key], {});\n",
       "          if (!dataTable) return;\n",
       "\n",
       "          const docLinkHtml = 'Like what you see? Visit the ' +\n",
       "            '<a target=\"_blank\" href=https://colab.research.google.com/notebooks/data_table.ipynb>data table notebook</a>'\n",
       "            + ' to learn more about interactive tables.';\n",
       "          element.innerHTML = '';\n",
       "          dataTable['output_type'] = 'display_data';\n",
       "          await google.colab.output.renderOutput(dataTable, element);\n",
       "          const docLink = document.createElement('div');\n",
       "          docLink.innerHTML = docLinkHtml;\n",
       "          element.appendChild(docLink);\n",
       "        }\n",
       "      </script>\n",
       "    </div>\n",
       "  </div>\n",
       "  "
      ],
      "text/plain": [
       "    config/hidden_layer_num  config/hidden_layer_unit config/optimizer_name  \\\n",
       "10                        3                       256                  Adam   \n",
       "11                        5                       256                  Adam   \n",
       "9                         1                       256                  Adam   \n",
       "7                         3                       128                  Adam   \n",
       "6                         1                       128                  Adam   \n",
       "8                         5                       128                  Adam   \n",
       "5                         5                       256                   SGD   \n",
       "4                         3                       256                   SGD   \n",
       "1                         3                       128                   SGD   \n",
       "3                         1                       256                   SGD   \n",
       "0                         1                       128                   SGD   \n",
       "2                         5                       128                   SGD   \n",
       "\n",
       "    train_accuracy  val_accuracy  time_total_s  \n",
       "10       98.926667     95.573333     62.987633  \n",
       "11       98.477778     95.566667     68.844087  \n",
       "9        98.673333     95.186667     59.716369  \n",
       "7        98.404444     94.906667     61.949591  \n",
       "6        98.160000     94.860000     58.703691  \n",
       "8        97.711111     94.466667     67.720645  \n",
       "5        89.253333     88.420000     63.310016  \n",
       "4        88.642222     87.766667     58.826188  \n",
       "1        88.702222     87.666667     58.504091  \n",
       "3        87.973333     87.153333     57.559098  \n",
       "0        87.537778     86.746667     57.056912  \n",
       "2        86.448889     85.433333     62.853097  "
      ]
     },
     "execution_count": 60,
     "metadata": {},
     "output_type": "execute_result"
    }
   ],
   "source": [
    "df = df.sort_values('val_accuracy', ascending=False)\n",
    "df"
   ]
  },
  {
   "cell_type": "code",
   "execution_count": 62,
   "metadata": {
    "id": "h36zsLnxqNgt"
   },
   "outputs": [],
   "source": [
    "df.rename(columns = {'config/hidden_layer_num':'hidden_layer_number', \n",
    "                      'config/hidden_layer_unit':'hidden unit per layer',\n",
    "                      'config/optimizer_name': 'optimizer',\n",
    "                      'time_total_s': 'training time (s)'\n",
    "                      }, inplace=True)"
   ]
  },
  {
   "cell_type": "code",
   "execution_count": 63,
   "metadata": {
    "id": "bJJBJKIfq9DK"
   },
   "outputs": [],
   "source": [
    "df['epoch'] = 5\n",
    "df['minibacth_size'] = 32\n",
    "df['training_size'] = 45000\n",
    "df['validation_size'] = 15000\n",
    "\n",
    "df['learning_rate'] = df['optimizer'].apply(lambda x: 0.01 if x=='SGD' else 0.001)"
   ]
  },
  {
   "cell_type": "code",
   "execution_count": 64,
   "metadata": {
    "colab": {
     "base_uri": "https://localhost:8080/",
     "height": 425
    },
    "id": "Y-Jr7V_jrcvL",
    "outputId": "4fbb33da-a8ba-4ea6-b7ad-fccf3bc73146"
   },
   "outputs": [
    {
     "data": {
      "text/html": [
       "\n",
       "  <div id=\"df-93feb195-fc3f-425f-ba06-10c1877b55c2\">\n",
       "    <div class=\"colab-df-container\">\n",
       "      <div>\n",
       "<style scoped>\n",
       "    .dataframe tbody tr th:only-of-type {\n",
       "        vertical-align: middle;\n",
       "    }\n",
       "\n",
       "    .dataframe tbody tr th {\n",
       "        vertical-align: top;\n",
       "    }\n",
       "\n",
       "    .dataframe thead th {\n",
       "        text-align: right;\n",
       "    }\n",
       "</style>\n",
       "<table border=\"1\" class=\"dataframe\">\n",
       "  <thead>\n",
       "    <tr style=\"text-align: right;\">\n",
       "      <th></th>\n",
       "      <th>hidden_layer_number</th>\n",
       "      <th>hidden unit per layer</th>\n",
       "      <th>optimizer</th>\n",
       "      <th>train_accuracy</th>\n",
       "      <th>val_accuracy</th>\n",
       "      <th>training time (s)</th>\n",
       "      <th>epoch</th>\n",
       "      <th>minibacth_size</th>\n",
       "      <th>training_size</th>\n",
       "      <th>validation_size</th>\n",
       "      <th>learning_rate</th>\n",
       "    </tr>\n",
       "  </thead>\n",
       "  <tbody>\n",
       "    <tr>\n",
       "      <th>10</th>\n",
       "      <td>3</td>\n",
       "      <td>256</td>\n",
       "      <td>Adam</td>\n",
       "      <td>98.926667</td>\n",
       "      <td>95.573333</td>\n",
       "      <td>62.987633</td>\n",
       "      <td>5</td>\n",
       "      <td>32</td>\n",
       "      <td>45000</td>\n",
       "      <td>15000</td>\n",
       "      <td>0.001</td>\n",
       "    </tr>\n",
       "    <tr>\n",
       "      <th>11</th>\n",
       "      <td>5</td>\n",
       "      <td>256</td>\n",
       "      <td>Adam</td>\n",
       "      <td>98.477778</td>\n",
       "      <td>95.566667</td>\n",
       "      <td>68.844087</td>\n",
       "      <td>5</td>\n",
       "      <td>32</td>\n",
       "      <td>45000</td>\n",
       "      <td>15000</td>\n",
       "      <td>0.001</td>\n",
       "    </tr>\n",
       "    <tr>\n",
       "      <th>9</th>\n",
       "      <td>1</td>\n",
       "      <td>256</td>\n",
       "      <td>Adam</td>\n",
       "      <td>98.673333</td>\n",
       "      <td>95.186667</td>\n",
       "      <td>59.716369</td>\n",
       "      <td>5</td>\n",
       "      <td>32</td>\n",
       "      <td>45000</td>\n",
       "      <td>15000</td>\n",
       "      <td>0.001</td>\n",
       "    </tr>\n",
       "    <tr>\n",
       "      <th>7</th>\n",
       "      <td>3</td>\n",
       "      <td>128</td>\n",
       "      <td>Adam</td>\n",
       "      <td>98.404444</td>\n",
       "      <td>94.906667</td>\n",
       "      <td>61.949591</td>\n",
       "      <td>5</td>\n",
       "      <td>32</td>\n",
       "      <td>45000</td>\n",
       "      <td>15000</td>\n",
       "      <td>0.001</td>\n",
       "    </tr>\n",
       "    <tr>\n",
       "      <th>6</th>\n",
       "      <td>1</td>\n",
       "      <td>128</td>\n",
       "      <td>Adam</td>\n",
       "      <td>98.160000</td>\n",
       "      <td>94.860000</td>\n",
       "      <td>58.703691</td>\n",
       "      <td>5</td>\n",
       "      <td>32</td>\n",
       "      <td>45000</td>\n",
       "      <td>15000</td>\n",
       "      <td>0.001</td>\n",
       "    </tr>\n",
       "    <tr>\n",
       "      <th>8</th>\n",
       "      <td>5</td>\n",
       "      <td>128</td>\n",
       "      <td>Adam</td>\n",
       "      <td>97.711111</td>\n",
       "      <td>94.466667</td>\n",
       "      <td>67.720645</td>\n",
       "      <td>5</td>\n",
       "      <td>32</td>\n",
       "      <td>45000</td>\n",
       "      <td>15000</td>\n",
       "      <td>0.001</td>\n",
       "    </tr>\n",
       "    <tr>\n",
       "      <th>5</th>\n",
       "      <td>5</td>\n",
       "      <td>256</td>\n",
       "      <td>SGD</td>\n",
       "      <td>89.253333</td>\n",
       "      <td>88.420000</td>\n",
       "      <td>63.310016</td>\n",
       "      <td>5</td>\n",
       "      <td>32</td>\n",
       "      <td>45000</td>\n",
       "      <td>15000</td>\n",
       "      <td>0.010</td>\n",
       "    </tr>\n",
       "    <tr>\n",
       "      <th>4</th>\n",
       "      <td>3</td>\n",
       "      <td>256</td>\n",
       "      <td>SGD</td>\n",
       "      <td>88.642222</td>\n",
       "      <td>87.766667</td>\n",
       "      <td>58.826188</td>\n",
       "      <td>5</td>\n",
       "      <td>32</td>\n",
       "      <td>45000</td>\n",
       "      <td>15000</td>\n",
       "      <td>0.010</td>\n",
       "    </tr>\n",
       "    <tr>\n",
       "      <th>1</th>\n",
       "      <td>3</td>\n",
       "      <td>128</td>\n",
       "      <td>SGD</td>\n",
       "      <td>88.702222</td>\n",
       "      <td>87.666667</td>\n",
       "      <td>58.504091</td>\n",
       "      <td>5</td>\n",
       "      <td>32</td>\n",
       "      <td>45000</td>\n",
       "      <td>15000</td>\n",
       "      <td>0.010</td>\n",
       "    </tr>\n",
       "    <tr>\n",
       "      <th>3</th>\n",
       "      <td>1</td>\n",
       "      <td>256</td>\n",
       "      <td>SGD</td>\n",
       "      <td>87.973333</td>\n",
       "      <td>87.153333</td>\n",
       "      <td>57.559098</td>\n",
       "      <td>5</td>\n",
       "      <td>32</td>\n",
       "      <td>45000</td>\n",
       "      <td>15000</td>\n",
       "      <td>0.010</td>\n",
       "    </tr>\n",
       "    <tr>\n",
       "      <th>0</th>\n",
       "      <td>1</td>\n",
       "      <td>128</td>\n",
       "      <td>SGD</td>\n",
       "      <td>87.537778</td>\n",
       "      <td>86.746667</td>\n",
       "      <td>57.056912</td>\n",
       "      <td>5</td>\n",
       "      <td>32</td>\n",
       "      <td>45000</td>\n",
       "      <td>15000</td>\n",
       "      <td>0.010</td>\n",
       "    </tr>\n",
       "    <tr>\n",
       "      <th>2</th>\n",
       "      <td>5</td>\n",
       "      <td>128</td>\n",
       "      <td>SGD</td>\n",
       "      <td>86.448889</td>\n",
       "      <td>85.433333</td>\n",
       "      <td>62.853097</td>\n",
       "      <td>5</td>\n",
       "      <td>32</td>\n",
       "      <td>45000</td>\n",
       "      <td>15000</td>\n",
       "      <td>0.010</td>\n",
       "    </tr>\n",
       "  </tbody>\n",
       "</table>\n",
       "</div>\n",
       "      <button class=\"colab-df-convert\" onclick=\"convertToInteractive('df-93feb195-fc3f-425f-ba06-10c1877b55c2')\"\n",
       "              title=\"Convert this dataframe to an interactive table.\"\n",
       "              style=\"display:none;\">\n",
       "        \n",
       "  <svg xmlns=\"http://www.w3.org/2000/svg\" height=\"24px\"viewBox=\"0 0 24 24\"\n",
       "       width=\"24px\">\n",
       "    <path d=\"M0 0h24v24H0V0z\" fill=\"none\"/>\n",
       "    <path d=\"M18.56 5.44l.94 2.06.94-2.06 2.06-.94-2.06-.94-.94-2.06-.94 2.06-2.06.94zm-11 1L8.5 8.5l.94-2.06 2.06-.94-2.06-.94L8.5 2.5l-.94 2.06-2.06.94zm10 10l.94 2.06.94-2.06 2.06-.94-2.06-.94-.94-2.06-.94 2.06-2.06.94z\"/><path d=\"M17.41 7.96l-1.37-1.37c-.4-.4-.92-.59-1.43-.59-.52 0-1.04.2-1.43.59L10.3 9.45l-7.72 7.72c-.78.78-.78 2.05 0 2.83L4 21.41c.39.39.9.59 1.41.59.51 0 1.02-.2 1.41-.59l7.78-7.78 2.81-2.81c.8-.78.8-2.07 0-2.86zM5.41 20L4 18.59l7.72-7.72 1.47 1.35L5.41 20z\"/>\n",
       "  </svg>\n",
       "      </button>\n",
       "      \n",
       "  <style>\n",
       "    .colab-df-container {\n",
       "      display:flex;\n",
       "      flex-wrap:wrap;\n",
       "      gap: 12px;\n",
       "    }\n",
       "\n",
       "    .colab-df-convert {\n",
       "      background-color: #E8F0FE;\n",
       "      border: none;\n",
       "      border-radius: 50%;\n",
       "      cursor: pointer;\n",
       "      display: none;\n",
       "      fill: #1967D2;\n",
       "      height: 32px;\n",
       "      padding: 0 0 0 0;\n",
       "      width: 32px;\n",
       "    }\n",
       "\n",
       "    .colab-df-convert:hover {\n",
       "      background-color: #E2EBFA;\n",
       "      box-shadow: 0px 1px 2px rgba(60, 64, 67, 0.3), 0px 1px 3px 1px rgba(60, 64, 67, 0.15);\n",
       "      fill: #174EA6;\n",
       "    }\n",
       "\n",
       "    [theme=dark] .colab-df-convert {\n",
       "      background-color: #3B4455;\n",
       "      fill: #D2E3FC;\n",
       "    }\n",
       "\n",
       "    [theme=dark] .colab-df-convert:hover {\n",
       "      background-color: #434B5C;\n",
       "      box-shadow: 0px 1px 3px 1px rgba(0, 0, 0, 0.15);\n",
       "      filter: drop-shadow(0px 1px 2px rgba(0, 0, 0, 0.3));\n",
       "      fill: #FFFFFF;\n",
       "    }\n",
       "  </style>\n",
       "\n",
       "      <script>\n",
       "        const buttonEl =\n",
       "          document.querySelector('#df-93feb195-fc3f-425f-ba06-10c1877b55c2 button.colab-df-convert');\n",
       "        buttonEl.style.display =\n",
       "          google.colab.kernel.accessAllowed ? 'block' : 'none';\n",
       "\n",
       "        async function convertToInteractive(key) {\n",
       "          const element = document.querySelector('#df-93feb195-fc3f-425f-ba06-10c1877b55c2');\n",
       "          const dataTable =\n",
       "            await google.colab.kernel.invokeFunction('convertToInteractive',\n",
       "                                                     [key], {});\n",
       "          if (!dataTable) return;\n",
       "\n",
       "          const docLinkHtml = 'Like what you see? Visit the ' +\n",
       "            '<a target=\"_blank\" href=https://colab.research.google.com/notebooks/data_table.ipynb>data table notebook</a>'\n",
       "            + ' to learn more about interactive tables.';\n",
       "          element.innerHTML = '';\n",
       "          dataTable['output_type'] = 'display_data';\n",
       "          await google.colab.output.renderOutput(dataTable, element);\n",
       "          const docLink = document.createElement('div');\n",
       "          docLink.innerHTML = docLinkHtml;\n",
       "          element.appendChild(docLink);\n",
       "        }\n",
       "      </script>\n",
       "    </div>\n",
       "  </div>\n",
       "  "
      ],
      "text/plain": [
       "    hidden_layer_number  hidden unit per layer optimizer  train_accuracy  \\\n",
       "10                    3                    256      Adam       98.926667   \n",
       "11                    5                    256      Adam       98.477778   \n",
       "9                     1                    256      Adam       98.673333   \n",
       "7                     3                    128      Adam       98.404444   \n",
       "6                     1                    128      Adam       98.160000   \n",
       "8                     5                    128      Adam       97.711111   \n",
       "5                     5                    256       SGD       89.253333   \n",
       "4                     3                    256       SGD       88.642222   \n",
       "1                     3                    128       SGD       88.702222   \n",
       "3                     1                    256       SGD       87.973333   \n",
       "0                     1                    128       SGD       87.537778   \n",
       "2                     5                    128       SGD       86.448889   \n",
       "\n",
       "    val_accuracy  training time (s)  epoch  minibacth_size  training_size  \\\n",
       "10     95.573333          62.987633      5              32          45000   \n",
       "11     95.566667          68.844087      5              32          45000   \n",
       "9      95.186667          59.716369      5              32          45000   \n",
       "7      94.906667          61.949591      5              32          45000   \n",
       "6      94.860000          58.703691      5              32          45000   \n",
       "8      94.466667          67.720645      5              32          45000   \n",
       "5      88.420000          63.310016      5              32          45000   \n",
       "4      87.766667          58.826188      5              32          45000   \n",
       "1      87.666667          58.504091      5              32          45000   \n",
       "3      87.153333          57.559098      5              32          45000   \n",
       "0      86.746667          57.056912      5              32          45000   \n",
       "2      85.433333          62.853097      5              32          45000   \n",
       "\n",
       "    validation_size  learning_rate  \n",
       "10            15000          0.001  \n",
       "11            15000          0.001  \n",
       "9             15000          0.001  \n",
       "7             15000          0.001  \n",
       "6             15000          0.001  \n",
       "8             15000          0.001  \n",
       "5             15000          0.010  \n",
       "4             15000          0.010  \n",
       "1             15000          0.010  \n",
       "3             15000          0.010  \n",
       "0             15000          0.010  \n",
       "2             15000          0.010  "
      ]
     },
     "execution_count": 64,
     "metadata": {},
     "output_type": "execute_result"
    }
   ],
   "source": [
    "df"
   ]
  },
  {
   "cell_type": "markdown",
   "metadata": {
    "id": "At2fzC4Vk34l"
   },
   "source": [
    "## Train Model with selected Hyperparameters"
   ]
  },
  {
   "cell_type": "code",
   "execution_count": 157,
   "metadata": {
    "id": "CcE4Nr9zkq1A"
   },
   "outputs": [],
   "source": [
    "model, criterion, optimizer = create_model(3, 256, 'Adam')"
   ]
  },
  {
   "cell_type": "code",
   "execution_count": 158,
   "metadata": {
    "id": "wnVCUiFjyLNY"
   },
   "outputs": [],
   "source": [
    "max_num_epoch = 10\n",
    "log_interval = 200\n",
    "\n",
    "train_losses_minibatches = []\n",
    "train_losses_epoch = []\n",
    "val_losses = []\n",
    "\n",
    "train_accuracy = []\n",
    "val_accuracy = []\n",
    "\n",
    "lowest_val_error = sys.maxsize\n",
    "patience = 2"
   ]
  },
  {
   "cell_type": "code",
   "execution_count": 159,
   "metadata": {
    "id": "94FN0JFEx1ou"
   },
   "outputs": [],
   "source": [
    "def train(epoch):\n",
    "    model.train()\n",
    "    for batch_idx, (data, target) in enumerate(train_loader):\n",
    "        if torch.cuda.is_available():\n",
    "            data, target = data.cuda(), target.cuda()\n",
    "\n",
    "        optimizer.zero_grad()\n",
    "        output = model(data)\n",
    "        loss = criterion(output, target)\n",
    "        loss.backward()\n",
    "        optimizer.step()\n",
    "    \n",
    "        train_losses_minibatches.append(loss.item())\n",
    "\n",
    "        if batch_idx % log_interval == 0:\n",
    "            print('Train Epoch: {} [{}/{} ({:.0f}%)]\\tLoss: {:.6f}'.format(\n",
    "                epoch, batch_idx * len(data), len(train_loader.dataset),\n",
    "                100. * batch_idx / len(train_loader), loss.item()))"
   ]
  },
  {
   "cell_type": "code",
   "execution_count": 160,
   "metadata": {
    "id": "iHy0HEilyM-x"
   },
   "outputs": [],
   "source": [
    "def evaluate():\n",
    "    model.eval()\n",
    "    val_loss = 0\n",
    "    train_loss = 0\n",
    "    correct_train = 0\n",
    "    correct_val = 0\n",
    "    with torch.no_grad():\n",
    "          # calculate accuracy on train set\n",
    "          for data, target in train_loader:\n",
    "              if torch.cuda.is_available():\n",
    "                  data, target = data.cuda(), target.cuda()\n",
    "\n",
    "              output = model(data)\n",
    "              train_loss += criterion(output, target).item()\n",
    "              pred = output.data.max(1, keepdim=True)[1]\n",
    "              correct_train += pred.eq(target.data.view_as(pred)).sum()\n",
    "\n",
    "          train_loss /= len(train_loader.dataset)\n",
    "          train_losses_epoch.append(train_loss)\n",
    "          train_accuracy.append(100. * correct_train.item() / len(train_loader.dataset))\n",
    "\n",
    "          # calculate accuracy on valdiation set\n",
    "          for data, target in val_loader:\n",
    "              if torch.cuda.is_available():\n",
    "                  data, target = data.cuda(), target.cuda()\n",
    "\n",
    "              output = model(data)\n",
    "              val_loss += criterion(output, target).item()\n",
    "              pred = output.data.max(1, keepdim=True)[1]\n",
    "              correct_val += pred.eq(target.data.view_as(pred)).sum()\n",
    "\n",
    "          val_loss /= len(val_loader.dataset)\n",
    "          val_losses.append(val_loss)\n",
    "          val_accuracy.append(100. * correct_val.item() / len(val_loader.dataset))\n",
    "\n",
    "          print('Training set: Avg. loss: {:.4f}, Accuracy: {}/{} ({:.0f}%)'.format(\n",
    "              train_loss, correct_train, len(train_loader.dataset),\n",
    "              100. * correct_train.item() / len(train_loader.dataset)))\n",
    "          print('Validation set: Avg. loss: {:.4f}, Accuracy: {}/{} ({:.0f}%)\\n'.format(\n",
    "              val_loss, correct_val, len(val_loader.dataset),\n",
    "              100. * correct_val.item() / len(val_loader.dataset)))\n",
    "      \n",
    "    return val_loss"
   ]
  },
  {
   "cell_type": "code",
   "execution_count": 161,
   "metadata": {
    "colab": {
     "base_uri": "https://localhost:8080/"
    },
    "id": "MtuRCffYyV2h",
    "outputId": "4278b739-eb7a-4bc5-a2be-09033a164a78"
   },
   "outputs": [
    {
     "name": "stdout",
     "output_type": "stream",
     "text": [
      "Training set: Avg. loss: 0.0720, Accuracy: 5330/45000 (12%)\n",
      "Validation set: Avg. loss: 0.0720, Accuracy: 1731/15000 (12%)\n",
      "\n",
      "Train Epoch: 0 [0/45000 (0%)]\tLoss: 2.305537\n",
      "Train Epoch: 0 [6400/45000 (14%)]\tLoss: 0.685759\n",
      "Train Epoch: 0 [12800/45000 (28%)]\tLoss: 0.466679\n",
      "Train Epoch: 0 [19200/45000 (43%)]\tLoss: 0.413434\n",
      "Train Epoch: 0 [25600/45000 (57%)]\tLoss: 0.366106\n",
      "Train Epoch: 0 [32000/45000 (71%)]\tLoss: 0.248457\n",
      "Train Epoch: 0 [38400/45000 (85%)]\tLoss: 0.344752\n",
      "Train Epoch: 0 [44800/45000 (100%)]\tLoss: 0.366284\n",
      "Training set: Avg. loss: 0.0055, Accuracy: 42632/45000 (95%)\n",
      "Validation set: Avg. loss: 0.0069, Accuracy: 13975/15000 (93%)\n",
      "\n",
      "Train Epoch: 1 [0/45000 (0%)]\tLoss: 0.138691\n",
      "Train Epoch: 1 [6400/45000 (14%)]\tLoss: 0.171778\n",
      "Train Epoch: 1 [12800/45000 (28%)]\tLoss: 0.075891\n",
      "Train Epoch: 1 [19200/45000 (43%)]\tLoss: 0.022150\n",
      "Train Epoch: 1 [25600/45000 (57%)]\tLoss: 0.149693\n",
      "Train Epoch: 1 [32000/45000 (71%)]\tLoss: 0.134006\n",
      "Train Epoch: 1 [38400/45000 (85%)]\tLoss: 0.372035\n",
      "Train Epoch: 1 [44800/45000 (100%)]\tLoss: 0.182558\n",
      "Training set: Avg. loss: 0.0038, Accuracy: 43322/45000 (96%)\n",
      "Validation set: Avg. loss: 0.0062, Accuracy: 14092/15000 (94%)\n",
      "\n",
      "Train Epoch: 2 [0/45000 (0%)]\tLoss: 0.131835\n",
      "Train Epoch: 2 [6400/45000 (14%)]\tLoss: 0.157772\n",
      "Train Epoch: 2 [12800/45000 (28%)]\tLoss: 0.041403\n",
      "Train Epoch: 2 [19200/45000 (43%)]\tLoss: 0.336929\n",
      "Train Epoch: 2 [25600/45000 (57%)]\tLoss: 0.006125\n",
      "Train Epoch: 2 [32000/45000 (71%)]\tLoss: 0.060384\n",
      "Train Epoch: 2 [38400/45000 (85%)]\tLoss: 0.187094\n",
      "Train Epoch: 2 [44800/45000 (100%)]\tLoss: 0.063930\n",
      "Training set: Avg. loss: 0.0021, Accuracy: 44102/45000 (98%)\n",
      "Validation set: Avg. loss: 0.0051, Accuracy: 14289/15000 (95%)\n",
      "\n",
      "Train Epoch: 3 [0/45000 (0%)]\tLoss: 0.125981\n",
      "Train Epoch: 3 [6400/45000 (14%)]\tLoss: 0.054840\n",
      "Train Epoch: 3 [12800/45000 (28%)]\tLoss: 0.011611\n",
      "Train Epoch: 3 [19200/45000 (43%)]\tLoss: 0.200701\n",
      "Train Epoch: 3 [25600/45000 (57%)]\tLoss: 0.095327\n",
      "Train Epoch: 3 [32000/45000 (71%)]\tLoss: 0.008791\n",
      "Train Epoch: 3 [38400/45000 (85%)]\tLoss: 0.048848\n",
      "Train Epoch: 3 [44800/45000 (100%)]\tLoss: 0.090723\n",
      "Training set: Avg. loss: 0.0016, Accuracy: 44310/45000 (98%)\n",
      "Validation set: Avg. loss: 0.0053, Accuracy: 14300/15000 (95%)\n",
      "\n",
      "Train Epoch: 4 [0/45000 (0%)]\tLoss: 0.001527\n",
      "Train Epoch: 4 [6400/45000 (14%)]\tLoss: 0.007545\n",
      "Train Epoch: 4 [12800/45000 (28%)]\tLoss: 0.102562\n",
      "Train Epoch: 4 [19200/45000 (43%)]\tLoss: 0.156823\n",
      "Train Epoch: 4 [25600/45000 (57%)]\tLoss: 0.097610\n",
      "Train Epoch: 4 [32000/45000 (71%)]\tLoss: 0.021215\n",
      "Train Epoch: 4 [38400/45000 (85%)]\tLoss: 0.038561\n",
      "Train Epoch: 4 [44800/45000 (100%)]\tLoss: 0.033200\n",
      "Training set: Avg. loss: 0.0011, Accuracy: 44500/45000 (99%)\n",
      "Validation set: Avg. loss: 0.0055, Accuracy: 14335/15000 (96%)\n",
      "\n",
      "Early stopping at epoch: 4 because no decrement in the validation loss.\n"
     ]
    }
   ],
   "source": [
    "no_improve_counter = 0\n",
    "evaluate()\n",
    "for epoch in range(max_num_epoch):\n",
    "    train(epoch)\n",
    "    loss = evaluate()\n",
    "    if loss <= lowest_val_error:\n",
    "        lowest_val_error = loss\n",
    "        no_improve_counter = 0\n",
    "    else:\n",
    "        no_improve_counter += 1\n",
    "    \n",
    "    if no_improve_counter >= patience:\n",
    "        print(f'Early stopping at epoch: {epoch} because no decrement in the validation loss.')\n",
    "        break"
   ]
  },
  {
   "cell_type": "markdown",
   "metadata": {
    "id": "nLg0xUD2tzBm"
   },
   "source": [
    "### Losses of every minibatches\n"
   ]
  },
  {
   "cell_type": "code",
   "execution_count": 162,
   "metadata": {
    "colab": {
     "base_uri": "https://localhost:8080/",
     "height": 283
    },
    "id": "pVR6tiUfjk72",
    "outputId": "452f00e2-5c40-47af-fd97-e05feefd993c"
   },
   "outputs": [
    {
     "data": {
      "text/plain": [
       "[<matplotlib.lines.Line2D at 0x7fc35e47af50>]"
      ]
     },
     "execution_count": 162,
     "metadata": {},
     "output_type": "execute_result"
    },
    {
     "data": {
      "image/png": "[encoded data removed]",
      "text/plain": [
       "<Figure size 432x288 with 1 Axes>"
      ]
     },
     "metadata": {
      "needs_background": "light"
     },
     "output_type": "display_data"
    }
   ],
   "source": [
    "plt.plot(train_losses_minibatches)"
   ]
  },
  {
   "cell_type": "markdown",
   "metadata": {
    "id": "_O24BuVxt4so"
   },
   "source": [
    "### Losses of every epoch"
   ]
  },
  {
   "cell_type": "code",
   "execution_count": 163,
   "metadata": {
    "colab": {
     "base_uri": "https://localhost:8080/",
     "height": 283
    },
    "id": "xxr9-WbXs_th",
    "outputId": "ffd65597-a34c-451c-ed62-f916425b23c9"
   },
   "outputs": [
    {
     "data": {
      "text/plain": [
       "<matplotlib.legend.Legend at 0x7fc35faeae10>"
      ]
     },
     "execution_count": 163,
     "metadata": {},
     "output_type": "execute_result"
    },
    {
     "data": {
      "image/png": "[encoded data removed]",
      "text/plain": [
       "<Figure size 432x288 with 1 Axes>"
      ]
     },
     "metadata": {
      "needs_background": "light"
     },
     "output_type": "display_data"
    }
   ],
   "source": [
    "plt.plot(train_losses_epoch)\n",
    "plt.plot(val_losses, color='orange')\n",
    "plt.legend(['train', 'val'])"
   ]
  },
  {
   "cell_type": "markdown",
   "metadata": {
    "id": "-G67q2BXtdRK"
   },
   "source": [
    "### Accuracy on Test Set"
   ]
  },
  {
   "cell_type": "code",
   "execution_count": 164,
   "metadata": {
    "colab": {
     "base_uri": "https://localhost:8080/"
    },
    "id": "mix5U53MvKFJ",
    "outputId": "4abb9b81-5078-46b0-c310-f539820c1748"
   },
   "outputs": [
    {
     "name": "stdout",
     "output_type": "stream",
     "text": [
      "Test set: Avg. loss: 0.0143, Accuracy: 8918/10000 (89%)\n"
     ]
    }
   ],
   "source": [
    "model.eval()\n",
    "test_loss = 0\n",
    "correct_test = 0\n",
    "\n",
    "with torch.no_grad():\n",
    "    for data, target in test_loader:\n",
    "        if torch.cuda.is_available():\n",
    "            data, target = data.cuda(), target.cuda()\n",
    "\n",
    "        output = model(data)\n",
    "        test_loss += criterion(output, target).item()\n",
    "        pred = output.data.max(1, keepdim=True)[1]\n",
    "        correct_test += pred.eq(target.data.view_as(pred)).sum()\n",
    "\n",
    "    test_loss /= len(test_loader.dataset)\n",
    "\n",
    "    print('Test set: Avg. loss: {:.4f}, Accuracy: {}/{} ({:.0f}%)'.format(\n",
    "        test_loss, correct_test, len(test_loader.dataset),\n",
    "        100. * correct_test.item() / len(test_loader.dataset)))"
   ]
  },
  {
   "cell_type": "code",
   "execution_count": null,
   "metadata": {
    "id": "Kvmo06DLwBg3"
   },
   "outputs": [],
   "source": []
  }
 ],
 "metadata": {
  "accelerator": "GPU",
  "colab": {
   "collapsed_sections": [],
   "name": "Multi Layer Perceptron with Kuzhushiji MNIST dataset.ipynb",
   "provenance": []
  },
  "kernelspec": {
   "display_name": "Python 3 (ipykernel)",
   "language": "python",
   "name": "python3"
  },
  "language_info": {
   "codemirror_mode": {
    "name": "ipython",
    "version": 3
   },
   "file_extension": ".py",
   "mimetype": "text/x-python",
   "name": "python",
   "nbconvert_exporter": "python",
   "pygments_lexer": "ipython3",
   "version": "3.9.12"
  },
  "widgets": {
   "application/vnd.jupyter.widget-state+json": {
    "133b12fb5ce44956aadc385ad31bbf84": {
     "model_module": "@jupyter-widgets/controls",
     "model_module_version": "1.5.0",
     "model_name": "ProgressStyleModel",
     "state": {
      "_model_module": "@jupyter-widgets/controls",
      "_model_module_version": "1.5.0",
      "_model_name": "ProgressStyleModel",
      "_view_count": null,
      "_view_module": "@jupyter-widgets/base",
      "_view_module_version": "1.2.0",
      "_view_name": "StyleView",
      "bar_color": null,
      "description_width": ""
     }
    },
    "14f77ef8c29445fdb9d5f3ce4f4a766a": {
     "model_module": "@jupyter-widgets/base",
     "model_module_version": "1.2.0",
     "model_name": "LayoutModel",
     "state": {
      "_model_module": "@jupyter-widgets/base",
      "_model_module_version": "1.2.0",
      "_model_name": "LayoutModel",
      "_view_count": null,
      "_view_module": "@jupyter-widgets/base",
      "_view_module_version": "1.2.0",
      "_view_name": "LayoutView",
      "align_content": null,
      "align_items": null,
      "align_self": null,
      "border": null,
      "bottom": null,
      "display": null,
      "flex": null,
      "flex_flow": null,
      "grid_area": null,
      "grid_auto_columns": null,
      "grid_auto_flow": null,
      "grid_auto_rows": null,
      "grid_column": null,
      "grid_gap": null,
      "grid_row": null,
      "grid_template_areas": null,
      "grid_template_columns": null,
      "grid_template_rows": null,
      "height": null,
      "justify_content": null,
      "justify_items": null,
      "left": null,
      "margin": null,
      "max_height": null,
      "max_width": null,
      "min_height": null,
      "min_width": null,
      "object_fit": null,
      "object_position": null,
      "order": null,
      "overflow": null,
      "overflow_x": null,
      "overflow_y": null,
      "padding": null,
      "right": null,
      "top": null,
      "visibility": null,
      "width": null
     }
    },
    "153ae4159d43493497923af94dc2e12d": {
     "model_module": "@jupyter-widgets/controls",
     "model_module_version": "1.5.0",
     "model_name": "FloatProgressModel",
     "state": {
      "_dom_classes": [],
      "_model_module": "@jupyter-widgets/controls",
      "_model_module_version": "1.5.0",
      "_model_name": "FloatProgressModel",
      "_view_count": null,
      "_view_module": "@jupyter-widgets/controls",
      "_view_module_version": "1.5.0",
      "_view_name": "ProgressView",
      "bar_style": "success",
      "description": "",
      "description_tooltip": null,
      "layout": "IPY_MODEL_d7de7f9cb86848c08779c653b663f995",
      "max": 5120,
      "min": 0,
      "orientation": "horizontal",
      "style": "IPY_MODEL_133b12fb5ce44956aadc385ad31bbf84",
      "value": 5120
     }
    },
    "23f850cfb7294412954a22c39981feaa": {
     "model_module": "@jupyter-widgets/controls",
     "model_module_version": "1.5.0",
     "model_name": "HTMLModel",
     "state": {
      "_dom_classes": [],
      "_model_module": "@jupyter-widgets/controls",
      "_model_module_version": "1.5.0",
      "_model_name": "HTMLModel",
      "_view_count": null,
      "_view_module": "@jupyter-widgets/controls",
      "_view_module_version": "1.5.0",
      "_view_name": "HTMLView",
      "description": "",
      "description_tooltip": null,
      "layout": "IPY_MODEL_6f363c76026a4e0f929f422b9b134a31",
      "placeholder": "​",
      "style": "IPY_MODEL_a48e52869289428faeb7fe85618605df",
      "value": "100%"
     }
    },
    "24636d04f6ef45e4904d3196adf58d58": {
     "model_module": "@jupyter-widgets/controls",
     "model_module_version": "1.5.0",
     "model_name": "HBoxModel",
     "state": {
      "_dom_classes": [],
      "_model_module": "@jupyter-widgets/controls",
      "_model_module_version": "1.5.0",
      "_model_name": "HBoxModel",
      "_view_count": null,
      "_view_module": "@jupyter-widgets/controls",
      "_view_module_version": "1.5.0",
      "_view_name": "HBoxView",
      "box_style": "",
      "children": [
       "IPY_MODEL_baf115c9d5794c3ebd68c236f91fc218",
       "IPY_MODEL_f05863c597a049a79bd88e9d75553b67",
       "IPY_MODEL_9779723f793946119525f679e2483f85"
      ],
      "layout": "IPY_MODEL_a7e9b85171fa455da88291b1908f7201"
     }
    },
    "339489e452e145e2bbc4e8a4188e1b97": {
     "model_module": "@jupyter-widgets/base",
     "model_module_version": "1.2.0",
     "model_name": "LayoutModel",
     "state": {
      "_model_module": "@jupyter-widgets/base",
      "_model_module_version": "1.2.0",
      "_model_name": "LayoutModel",
      "_view_count": null,
      "_view_module": "@jupyter-widgets/base",
      "_view_module_version": "1.2.0",
      "_view_name": "LayoutView",
      "align_content": null,
      "align_items": null,
      "align_self": null,
      "border": null,
      "bottom": null,
      "display": null,
      "flex": null,
      "flex_flow": null,
      "grid_area": null,
      "grid_auto_columns": null,
      "grid_auto_flow": null,
      "grid_auto_rows": null,
      "grid_column": null,
      "grid_gap": null,
      "grid_row": null,
      "grid_template_areas": null,
      "grid_template_columns": null,
      "grid_template_rows": null,
      "height": null,
      "justify_content": null,
      "justify_items": null,
      "left": null,
      "margin": null,
      "max_height": null,
      "max_width": null,
      "min_height": null,
      "min_width": null,
      "object_fit": null,
      "object_position": null,
      "order": null,
      "overflow": null,
      "overflow_x": null,
      "overflow_y": null,
      "padding": null,
      "right": null,
      "top": null,
      "visibility": null,
      "width": null
     }
    },
    "3ac6b86f8bd4420e88218ef55132d2c3": {
     "model_module": "@jupyter-widgets/controls",
     "model_module_version": "1.5.0",
     "model_name": "ProgressStyleModel",
     "state": {
      "_model_module": "@jupyter-widgets/controls",
      "_model_module_version": "1.5.0",
      "_model_name": "ProgressStyleModel",
      "_view_count": null,
      "_view_module": "@jupyter-widgets/base",
      "_view_module_version": "1.2.0",
      "_view_name": "StyleView",
      "bar_color": null,
      "description_width": ""
     }
    },
    "4bc8a8fe626147f2a089cff35aaf175d": {
     "model_module": "@jupyter-widgets/controls",
     "model_module_version": "1.5.0",
     "model_name": "DescriptionStyleModel",
     "state": {
      "_model_module": "@jupyter-widgets/controls",
      "_model_module_version": "1.5.0",
      "_model_name": "DescriptionStyleModel",
      "_view_count": null,
      "_view_module": "@jupyter-widgets/base",
      "_view_module_version": "1.2.0",
      "_view_name": "StyleView",
      "description_width": ""
     }
    },
    "541fb737d4884f02b06d040a446688b6": {
     "model_module": "@jupyter-widgets/base",
     "model_module_version": "1.2.0",
     "model_name": "LayoutModel",
     "state": {
      "_model_module": "@jupyter-widgets/base",
      "_model_module_version": "1.2.0",
      "_model_name": "LayoutModel",
      "_view_count": null,
      "_view_module": "@jupyter-widgets/base",
      "_view_module_version": "1.2.0",
      "_view_name": "LayoutView",
      "align_content": null,
      "align_items": null,
      "align_self": null,
      "border": null,
      "bottom": null,
      "display": null,
      "flex": null,
      "flex_flow": null,
      "grid_area": null,
      "grid_auto_columns": null,
      "grid_auto_flow": null,
      "grid_auto_rows": null,
      "grid_column": null,
      "grid_gap": null,
      "grid_row": null,
      "grid_template_areas": null,
      "grid_template_columns": null,
      "grid_template_rows": null,
      "height": null,
      "justify_content": null,
      "justify_items": null,
      "left": null,
      "margin": null,
      "max_height": null,
      "max_width": null,
      "min_height": null,
      "min_width": null,
      "object_fit": null,
      "object_position": null,
      "order": null,
      "overflow": null,
      "overflow_x": null,
      "overflow_y": null,
      "padding": null,
      "right": null,
      "top": null,
      "visibility": null,
      "width": null
     }
    },
    "5c5ce766e45a4124a1730abe19a1ab81": {
     "model_module": "@jupyter-widgets/controls",
     "model_module_version": "1.5.0",
     "model_name": "DescriptionStyleModel",
     "state": {
      "_model_module": "@jupyter-widgets/controls",
      "_model_module_version": "1.5.0",
      "_model_name": "DescriptionStyleModel",
      "_view_count": null,
      "_view_module": "@jupyter-widgets/base",
      "_view_module_version": "1.2.0",
      "_view_name": "StyleView",
      "description_width": ""
     }
    },
    "5e8f8d8f875348bfbfb69a1044761b51": {
     "model_module": "@jupyter-widgets/controls",
     "model_module_version": "1.5.0",
     "model_name": "FloatProgressModel",
     "state": {
      "_dom_classes": [],
      "_model_module": "@jupyter-widgets/controls",
      "_model_module_version": "1.5.0",
      "_model_name": "FloatProgressModel",
      "_view_count": null,
      "_view_module": "@jupyter-widgets/controls",
      "_view_module_version": "1.5.0",
      "_view_name": "ProgressView",
      "bar_style": "success",
      "description": "",
      "description_tooltip": null,
      "layout": "IPY_MODEL_bae565320eed4b40b6c09d6965040b04",
      "max": 29497,
      "min": 0,
      "orientation": "horizontal",
      "style": "IPY_MODEL_3ac6b86f8bd4420e88218ef55132d2c3",
      "value": 29497
     }
    },
    "5f596824de63430fb0e262010b6b06c7": {
     "model_module": "@jupyter-widgets/controls",
     "model_module_version": "1.5.0",
     "model_name": "HBoxModel",
     "state": {
      "_dom_classes": [],
      "_model_module": "@jupyter-widgets/controls",
      "_model_module_version": "1.5.0",
      "_model_name": "HBoxModel",
      "_view_count": null,
      "_view_module": "@jupyter-widgets/controls",
      "_view_module_version": "1.5.0",
      "_view_name": "HBoxView",
      "box_style": "",
      "children": [
       "IPY_MODEL_8f1e06dcdf6742709f68bd8e69bb808b",
       "IPY_MODEL_5e8f8d8f875348bfbfb69a1044761b51",
       "IPY_MODEL_7504c612baa34b5e8caa6a609858fc52"
      ],
      "layout": "IPY_MODEL_bada08c619fe4cfab6e4c32855ba6beb"
     }
    },
    "607c2a8aa948496d8eb14aa4165ba2d7": {
     "model_module": "@jupyter-widgets/controls",
     "model_module_version": "1.5.0",
     "model_name": "ProgressStyleModel",
     "state": {
      "_model_module": "@jupyter-widgets/controls",
      "_model_module_version": "1.5.0",
      "_model_name": "ProgressStyleModel",
      "_view_count": null,
      "_view_module": "@jupyter-widgets/base",
      "_view_module_version": "1.2.0",
      "_view_name": "StyleView",
      "bar_color": null,
      "description_width": ""
     }
    },
    "663669260d4c4b1cb8f9f24224623b6f": {
     "model_module": "@jupyter-widgets/controls",
     "model_module_version": "1.5.0",
     "model_name": "HTMLModel",
     "state": {
      "_dom_classes": [],
      "_model_module": "@jupyter-widgets/controls",
      "_model_module_version": "1.5.0",
      "_model_name": "HTMLModel",
      "_view_count": null,
      "_view_module": "@jupyter-widgets/controls",
      "_view_module_version": "1.5.0",
      "_view_name": "HTMLView",
      "description": "",
      "description_tooltip": null,
      "layout": "IPY_MODEL_8c2b747707a849318a916fd325519828",
      "placeholder": "​",
      "style": "IPY_MODEL_9cc16ae372dd4bbe885cf661b9da20e2",
      "value": " 18165760/? [00:17&lt;00:00, 1640823.16it/s]"
     }
    },
    "67ec23c690ad4072b7b2b02c865bd87f": {
     "model_module": "@jupyter-widgets/base",
     "model_module_version": "1.2.0",
     "model_name": "LayoutModel",
     "state": {
      "_model_module": "@jupyter-widgets/base",
      "_model_module_version": "1.2.0",
      "_model_name": "LayoutModel",
      "_view_count": null,
      "_view_module": "@jupyter-widgets/base",
      "_view_module_version": "1.2.0",
      "_view_name": "LayoutView",
      "align_content": null,
      "align_items": null,
      "align_self": null,
      "border": null,
      "bottom": null,
      "display": null,
      "flex": null,
      "flex_flow": null,
      "grid_area": null,
      "grid_auto_columns": null,
      "grid_auto_flow": null,
      "grid_auto_rows": null,
      "grid_column": null,
      "grid_gap": null,
      "grid_row": null,
      "grid_template_areas": null,
      "grid_template_columns": null,
      "grid_template_rows": null,
      "height": null,
      "justify_content": null,
      "justify_items": null,
      "left": null,
      "margin": null,
      "max_height": null,
      "max_width": null,
      "min_height": null,
      "min_width": null,
      "object_fit": null,
      "object_position": null,
      "order": null,
      "overflow": null,
      "overflow_x": null,
      "overflow_y": null,
      "padding": null,
      "right": null,
      "top": null,
      "visibility": null,
      "width": null
     }
    },
    "6f363c76026a4e0f929f422b9b134a31": {
     "model_module": "@jupyter-widgets/base",
     "model_module_version": "1.2.0",
     "model_name": "LayoutModel",
     "state": {
      "_model_module": "@jupyter-widgets/base",
      "_model_module_version": "1.2.0",
      "_model_name": "LayoutModel",
      "_view_count": null,
      "_view_module": "@jupyter-widgets/base",
      "_view_module_version": "1.2.0",
      "_view_name": "LayoutView",
      "align_content": null,
      "align_items": null,
      "align_self": null,
      "border": null,
      "bottom": null,
      "display": null,
      "flex": null,
      "flex_flow": null,
      "grid_area": null,
      "grid_auto_columns": null,
      "grid_auto_flow": null,
      "grid_auto_rows": null,
      "grid_column": null,
      "grid_gap": null,
      "grid_row": null,
      "grid_template_areas": null,
      "grid_template_columns": null,
      "grid_template_rows": null,
      "height": null,
      "justify_content": null,
      "justify_items": null,
      "left": null,
      "margin": null,
      "max_height": null,
      "max_width": null,
      "min_height": null,
      "min_width": null,
      "object_fit": null,
      "object_position": null,
      "order": null,
      "overflow": null,
      "overflow_x": null,
      "overflow_y": null,
      "padding": null,
      "right": null,
      "top": null,
      "visibility": null,
      "width": null
     }
    },
    "7504c612baa34b5e8caa6a609858fc52": {
     "model_module": "@jupyter-widgets/controls",
     "model_module_version": "1.5.0",
     "model_name": "HTMLModel",
     "state": {
      "_dom_classes": [],
      "_model_module": "@jupyter-widgets/controls",
      "_model_module_version": "1.5.0",
      "_model_name": "HTMLModel",
      "_view_count": null,
      "_view_module": "@jupyter-widgets/controls",
      "_view_module_version": "1.5.0",
      "_view_name": "HTMLView",
      "description": "",
      "description_tooltip": null,
      "layout": "IPY_MODEL_7bec0738d1c448309f5aa7e3847afd77",
      "placeholder": "​",
      "style": "IPY_MODEL_b6c71c704681472985c4282802945050",
      "value": " 29696/? [00:00&lt;00:00, 98989.26it/s]"
     }
    },
    "751a37e8422644a787a5010ae930975f": {
     "model_module": "@jupyter-widgets/controls",
     "model_module_version": "1.5.0",
     "model_name": "HTMLModel",
     "state": {
      "_dom_classes": [],
      "_model_module": "@jupyter-widgets/controls",
      "_model_module_version": "1.5.0",
      "_model_name": "HTMLModel",
      "_view_count": null,
      "_view_module": "@jupyter-widgets/controls",
      "_view_module_version": "1.5.0",
      "_view_name": "HTMLView",
      "description": "",
      "description_tooltip": null,
      "layout": "IPY_MODEL_ade188ae729b49f28f174472764e7a43",
      "placeholder": "​",
      "style": "IPY_MODEL_7a9d4256152248b9b63f5d2b763e6b90",
      "value": ""
     }
    },
    "7a9d4256152248b9b63f5d2b763e6b90": {
     "model_module": "@jupyter-widgets/controls",
     "model_module_version": "1.5.0",
     "model_name": "DescriptionStyleModel",
     "state": {
      "_model_module": "@jupyter-widgets/controls",
      "_model_module_version": "1.5.0",
      "_model_name": "DescriptionStyleModel",
      "_view_count": null,
      "_view_module": "@jupyter-widgets/base",
      "_view_module_version": "1.2.0",
      "_view_name": "StyleView",
      "description_width": ""
     }
    },
    "7bec0738d1c448309f5aa7e3847afd77": {
     "model_module": "@jupyter-widgets/base",
     "model_module_version": "1.2.0",
     "model_name": "LayoutModel",
     "state": {
      "_model_module": "@jupyter-widgets/base",
      "_model_module_version": "1.2.0",
      "_model_name": "LayoutModel",
      "_view_count": null,
      "_view_module": "@jupyter-widgets/base",
      "_view_module_version": "1.2.0",
      "_view_name": "LayoutView",
      "align_content": null,
      "align_items": null,
      "align_self": null,
      "border": null,
      "bottom": null,
      "display": null,
      "flex": null,
      "flex_flow": null,
      "grid_area": null,
      "grid_auto_columns": null,
      "grid_auto_flow": null,
      "grid_auto_rows": null,
      "grid_column": null,
      "grid_gap": null,
      "grid_row": null,
      "grid_template_areas": null,
      "grid_template_columns": null,
      "grid_template_rows": null,
      "height": null,
      "justify_content": null,
      "justify_items": null,
      "left": null,
      "margin": null,
      "max_height": null,
      "max_width": null,
      "min_height": null,
      "min_width": null,
      "object_fit": null,
      "object_position": null,
      "order": null,
      "overflow": null,
      "overflow_x": null,
      "overflow_y": null,
      "padding": null,
      "right": null,
      "top": null,
      "visibility": null,
      "width": null
     }
    },
    "82de1613dfd344e0bce8e5af47d4b4fa": {
     "model_module": "@jupyter-widgets/controls",
     "model_module_version": "1.5.0",
     "model_name": "HTMLModel",
     "state": {
      "_dom_classes": [],
      "_model_module": "@jupyter-widgets/controls",
      "_model_module_version": "1.5.0",
      "_model_name": "HTMLModel",
      "_view_count": null,
      "_view_module": "@jupyter-widgets/controls",
      "_view_module_version": "1.5.0",
      "_view_name": "HTMLView",
      "description": "",
      "description_tooltip": null,
      "layout": "IPY_MODEL_67ec23c690ad4072b7b2b02c865bd87f",
      "placeholder": "​",
      "style": "IPY_MODEL_5c5ce766e45a4124a1730abe19a1ab81",
      "value": " 5120/5120 [00:00&lt;00:00, 167760.36it/s]"
     }
    },
    "8c2b747707a849318a916fd325519828": {
     "model_module": "@jupyter-widgets/base",
     "model_module_version": "1.2.0",
     "model_name": "LayoutModel",
     "state": {
      "_model_module": "@jupyter-widgets/base",
      "_model_module_version": "1.2.0",
      "_model_name": "LayoutModel",
      "_view_count": null,
      "_view_module": "@jupyter-widgets/base",
      "_view_module_version": "1.2.0",
      "_view_name": "LayoutView",
      "align_content": null,
      "align_items": null,
      "align_self": null,
      "border": null,
      "bottom": null,
      "display": null,
      "flex": null,
      "flex_flow": null,
      "grid_area": null,
      "grid_auto_columns": null,
      "grid_auto_flow": null,
      "grid_auto_rows": null,
      "grid_column": null,
      "grid_gap": null,
      "grid_row": null,
      "grid_template_areas": null,
      "grid_template_columns": null,
      "grid_template_rows": null,
      "height": null,
      "justify_content": null,
      "justify_items": null,
      "left": null,
      "margin": null,
      "max_height": null,
      "max_width": null,
      "min_height": null,
      "min_width": null,
      "object_fit": null,
      "object_position": null,
      "order": null,
      "overflow": null,
      "overflow_x": null,
      "overflow_y": null,
      "padding": null,
      "right": null,
      "top": null,
      "visibility": null,
      "width": null
     }
    },
    "8f1e06dcdf6742709f68bd8e69bb808b": {
     "model_module": "@jupyter-widgets/controls",
     "model_module_version": "1.5.0",
     "model_name": "HTMLModel",
     "state": {
      "_dom_classes": [],
      "_model_module": "@jupyter-widgets/controls",
      "_model_module_version": "1.5.0",
      "_model_name": "HTMLModel",
      "_view_count": null,
      "_view_module": "@jupyter-widgets/controls",
      "_view_module_version": "1.5.0",
      "_view_name": "HTMLView",
      "description": "",
      "description_tooltip": null,
      "layout": "IPY_MODEL_d1b6dfd15c0e4ee99fbb20b089022f93",
      "placeholder": "​",
      "style": "IPY_MODEL_b42fe36c38ef4e088bb0a74d961af522",
      "value": ""
     }
    },
    "90b974b74ff341bdb3ab6663cec67927": {
     "model_module": "@jupyter-widgets/controls",
     "model_module_version": "1.5.0",
     "model_name": "HBoxModel",
     "state": {
      "_dom_classes": [],
      "_model_module": "@jupyter-widgets/controls",
      "_model_module_version": "1.5.0",
      "_model_name": "HBoxModel",
      "_view_count": null,
      "_view_module": "@jupyter-widgets/controls",
      "_view_module_version": "1.5.0",
      "_view_name": "HBoxView",
      "box_style": "",
      "children": [
       "IPY_MODEL_23f850cfb7294412954a22c39981feaa",
       "IPY_MODEL_153ae4159d43493497923af94dc2e12d",
       "IPY_MODEL_82de1613dfd344e0bce8e5af47d4b4fa"
      ],
      "layout": "IPY_MODEL_541fb737d4884f02b06d040a446688b6"
     }
    },
    "9779723f793946119525f679e2483f85": {
     "model_module": "@jupyter-widgets/controls",
     "model_module_version": "1.5.0",
     "model_name": "HTMLModel",
     "state": {
      "_dom_classes": [],
      "_model_module": "@jupyter-widgets/controls",
      "_model_module_version": "1.5.0",
      "_model_name": "HTMLModel",
      "_view_count": null,
      "_view_module": "@jupyter-widgets/controls",
      "_view_module_version": "1.5.0",
      "_view_name": "HTMLView",
      "description": "",
      "description_tooltip": null,
      "layout": "IPY_MODEL_c42f28af0bbc4b39b2e9fabdf2886e25",
      "placeholder": "​",
      "style": "IPY_MODEL_4bc8a8fe626147f2a089cff35aaf175d",
      "value": " 3041280/? [00:02&lt;00:00, 1721611.54it/s]"
     }
    },
    "982f315272e64439ab47f843a7aab44a": {
     "model_module": "@jupyter-widgets/controls",
     "model_module_version": "1.5.0",
     "model_name": "HBoxModel",
     "state": {
      "_dom_classes": [],
      "_model_module": "@jupyter-widgets/controls",
      "_model_module_version": "1.5.0",
      "_model_name": "HBoxModel",
      "_view_count": null,
      "_view_module": "@jupyter-widgets/controls",
      "_view_module_version": "1.5.0",
      "_view_name": "HBoxView",
      "box_style": "",
      "children": [
       "IPY_MODEL_751a37e8422644a787a5010ae930975f",
       "IPY_MODEL_eb73f666b73c4c6db12b1a5edf20c43f",
       "IPY_MODEL_663669260d4c4b1cb8f9f24224623b6f"
      ],
      "layout": "IPY_MODEL_14f77ef8c29445fdb9d5f3ce4f4a766a"
     }
    },
    "9cc16ae372dd4bbe885cf661b9da20e2": {
     "model_module": "@jupyter-widgets/controls",
     "model_module_version": "1.5.0",
     "model_name": "DescriptionStyleModel",
     "state": {
      "_model_module": "@jupyter-widgets/controls",
      "_model_module_version": "1.5.0",
      "_model_name": "DescriptionStyleModel",
      "_view_count": null,
      "_view_module": "@jupyter-widgets/base",
      "_view_module_version": "1.2.0",
      "_view_name": "StyleView",
      "description_width": ""
     }
    },
    "a212bf9ac19e4910ac710193e2fdf9b1": {
     "model_module": "@jupyter-widgets/controls",
     "model_module_version": "1.5.0",
     "model_name": "ProgressStyleModel",
     "state": {
      "_model_module": "@jupyter-widgets/controls",
      "_model_module_version": "1.5.0",
      "_model_name": "ProgressStyleModel",
      "_view_count": null,
      "_view_module": "@jupyter-widgets/base",
      "_view_module_version": "1.2.0",
      "_view_name": "StyleView",
      "bar_color": null,
      "description_width": ""
     }
    },
    "a48e52869289428faeb7fe85618605df": {
     "model_module": "@jupyter-widgets/controls",
     "model_module_version": "1.5.0",
     "model_name": "DescriptionStyleModel",
     "state": {
      "_model_module": "@jupyter-widgets/controls",
      "_model_module_version": "1.5.0",
      "_model_name": "DescriptionStyleModel",
      "_view_count": null,
      "_view_module": "@jupyter-widgets/base",
      "_view_module_version": "1.2.0",
      "_view_name": "StyleView",
      "description_width": ""
     }
    },
    "a7e9b85171fa455da88291b1908f7201": {
     "model_module": "@jupyter-widgets/base",
     "model_module_version": "1.2.0",
     "model_name": "LayoutModel",
     "state": {
      "_model_module": "@jupyter-widgets/base",
      "_model_module_version": "1.2.0",
      "_model_name": "LayoutModel",
      "_view_count": null,
      "_view_module": "@jupyter-widgets/base",
      "_view_module_version": "1.2.0",
      "_view_name": "LayoutView",
      "align_content": null,
      "align_items": null,
      "align_self": null,
      "border": null,
      "bottom": null,
      "display": null,
      "flex": null,
      "flex_flow": null,
      "grid_area": null,
      "grid_auto_columns": null,
      "grid_auto_flow": null,
      "grid_auto_rows": null,
      "grid_column": null,
      "grid_gap": null,
      "grid_row": null,
      "grid_template_areas": null,
      "grid_template_columns": null,
      "grid_template_rows": null,
      "height": null,
      "justify_content": null,
      "justify_items": null,
      "left": null,
      "margin": null,
      "max_height": null,
      "max_width": null,
      "min_height": null,
      "min_width": null,
      "object_fit": null,
      "object_position": null,
      "order": null,
      "overflow": null,
      "overflow_x": null,
      "overflow_y": null,
      "padding": null,
      "right": null,
      "top": null,
      "visibility": null,
      "width": null
     }
    },
    "ade188ae729b49f28f174472764e7a43": {
     "model_module": "@jupyter-widgets/base",
     "model_module_version": "1.2.0",
     "model_name": "LayoutModel",
     "state": {
      "_model_module": "@jupyter-widgets/base",
      "_model_module_version": "1.2.0",
      "_model_name": "LayoutModel",
      "_view_count": null,
      "_view_module": "@jupyter-widgets/base",
      "_view_module_version": "1.2.0",
      "_view_name": "LayoutView",
      "align_content": null,
      "align_items": null,
      "align_self": null,
      "border": null,
      "bottom": null,
      "display": null,
      "flex": null,
      "flex_flow": null,
      "grid_area": null,
      "grid_auto_columns": null,
      "grid_auto_flow": null,
      "grid_auto_rows": null,
      "grid_column": null,
      "grid_gap": null,
      "grid_row": null,
      "grid_template_areas": null,
      "grid_template_columns": null,
      "grid_template_rows": null,
      "height": null,
      "justify_content": null,
      "justify_items": null,
      "left": null,
      "margin": null,
      "max_height": null,
      "max_width": null,
      "min_height": null,
      "min_width": null,
      "object_fit": null,
      "object_position": null,
      "order": null,
      "overflow": null,
      "overflow_x": null,
      "overflow_y": null,
      "padding": null,
      "right": null,
      "top": null,
      "visibility": null,
      "width": null
     }
    },
    "b42fe36c38ef4e088bb0a74d961af522": {
     "model_module": "@jupyter-widgets/controls",
     "model_module_version": "1.5.0",
     "model_name": "DescriptionStyleModel",
     "state": {
      "_model_module": "@jupyter-widgets/controls",
      "_model_module_version": "1.5.0",
      "_model_name": "DescriptionStyleModel",
      "_view_count": null,
      "_view_module": "@jupyter-widgets/base",
      "_view_module_version": "1.2.0",
      "_view_name": "StyleView",
      "description_width": ""
     }
    },
    "b6c71c704681472985c4282802945050": {
     "model_module": "@jupyter-widgets/controls",
     "model_module_version": "1.5.0",
     "model_name": "DescriptionStyleModel",
     "state": {
      "_model_module": "@jupyter-widgets/controls",
      "_model_module_version": "1.5.0",
      "_model_name": "DescriptionStyleModel",
      "_view_count": null,
      "_view_module": "@jupyter-widgets/base",
      "_view_module_version": "1.2.0",
      "_view_name": "StyleView",
      "description_width": ""
     }
    },
    "bada08c619fe4cfab6e4c32855ba6beb": {
     "model_module": "@jupyter-widgets/base",
     "model_module_version": "1.2.0",
     "model_name": "LayoutModel",
     "state": {
      "_model_module": "@jupyter-widgets/base",
      "_model_module_version": "1.2.0",
      "_model_name": "LayoutModel",
      "_view_count": null,
      "_view_module": "@jupyter-widgets/base",
      "_view_module_version": "1.2.0",
      "_view_name": "LayoutView",
      "align_content": null,
      "align_items": null,
      "align_self": null,
      "border": null,
      "bottom": null,
      "display": null,
      "flex": null,
      "flex_flow": null,
      "grid_area": null,
      "grid_auto_columns": null,
      "grid_auto_flow": null,
      "grid_auto_rows": null,
      "grid_column": null,
      "grid_gap": null,
      "grid_row": null,
      "grid_template_areas": null,
      "grid_template_columns": null,
      "grid_template_rows": null,
      "height": null,
      "justify_content": null,
      "justify_items": null,
      "left": null,
      "margin": null,
      "max_height": null,
      "max_width": null,
      "min_height": null,
      "min_width": null,
      "object_fit": null,
      "object_position": null,
      "order": null,
      "overflow": null,
      "overflow_x": null,
      "overflow_y": null,
      "padding": null,
      "right": null,
      "top": null,
      "visibility": null,
      "width": null
     }
    },
    "bae565320eed4b40b6c09d6965040b04": {
     "model_module": "@jupyter-widgets/base",
     "model_module_version": "1.2.0",
     "model_name": "LayoutModel",
     "state": {
      "_model_module": "@jupyter-widgets/base",
      "_model_module_version": "1.2.0",
      "_model_name": "LayoutModel",
      "_view_count": null,
      "_view_module": "@jupyter-widgets/base",
      "_view_module_version": "1.2.0",
      "_view_name": "LayoutView",
      "align_content": null,
      "align_items": null,
      "align_self": null,
      "border": null,
      "bottom": null,
      "display": null,
      "flex": null,
      "flex_flow": null,
      "grid_area": null,
      "grid_auto_columns": null,
      "grid_auto_flow": null,
      "grid_auto_rows": null,
      "grid_column": null,
      "grid_gap": null,
      "grid_row": null,
      "grid_template_areas": null,
      "grid_template_columns": null,
      "grid_template_rows": null,
      "height": null,
      "justify_content": null,
      "justify_items": null,
      "left": null,
      "margin": null,
      "max_height": null,
      "max_width": null,
      "min_height": null,
      "min_width": null,
      "object_fit": null,
      "object_position": null,
      "order": null,
      "overflow": null,
      "overflow_x": null,
      "overflow_y": null,
      "padding": null,
      "right": null,
      "top": null,
      "visibility": null,
      "width": null
     }
    },
    "baf115c9d5794c3ebd68c236f91fc218": {
     "model_module": "@jupyter-widgets/controls",
     "model_module_version": "1.5.0",
     "model_name": "HTMLModel",
     "state": {
      "_dom_classes": [],
      "_model_module": "@jupyter-widgets/controls",
      "_model_module_version": "1.5.0",
      "_model_name": "HTMLModel",
      "_view_count": null,
      "_view_module": "@jupyter-widgets/controls",
      "_view_module_version": "1.5.0",
      "_view_name": "HTMLView",
      "description": "",
      "description_tooltip": null,
      "layout": "IPY_MODEL_d4503bc0e4f14739a875a2d322ac34ce",
      "placeholder": "​",
      "style": "IPY_MODEL_f9426a514ef64211ad1c226cdeaccdac",
      "value": ""
     }
    },
    "c1cf4d2a1d33412cb5127970254936a1": {
     "model_module": "@jupyter-widgets/base",
     "model_module_version": "1.2.0",
     "model_name": "LayoutModel",
     "state": {
      "_model_module": "@jupyter-widgets/base",
      "_model_module_version": "1.2.0",
      "_model_name": "LayoutModel",
      "_view_count": null,
      "_view_module": "@jupyter-widgets/base",
      "_view_module_version": "1.2.0",
      "_view_name": "LayoutView",
      "align_content": null,
      "align_items": null,
      "align_self": null,
      "border": null,
      "bottom": null,
      "display": null,
      "flex": null,
      "flex_flow": null,
      "grid_area": null,
      "grid_auto_columns": null,
      "grid_auto_flow": null,
      "grid_auto_rows": null,
      "grid_column": null,
      "grid_gap": null,
      "grid_row": null,
      "grid_template_areas": null,
      "grid_template_columns": null,
      "grid_template_rows": null,
      "height": null,
      "justify_content": null,
      "justify_items": null,
      "left": null,
      "margin": null,
      "max_height": null,
      "max_width": null,
      "min_height": null,
      "min_width": null,
      "object_fit": null,
      "object_position": null,
      "order": null,
      "overflow": null,
      "overflow_x": null,
      "overflow_y": null,
      "padding": null,
      "right": null,
      "top": null,
      "visibility": null,
      "width": null
     }
    },
    "c42f28af0bbc4b39b2e9fabdf2886e25": {
     "model_module": "@jupyter-widgets/base",
     "model_module_version": "1.2.0",
     "model_name": "LayoutModel",
     "state": {
      "_model_module": "@jupyter-widgets/base",
      "_model_module_version": "1.2.0",
      "_model_name": "LayoutModel",
      "_view_count": null,
      "_view_module": "@jupyter-widgets/base",
      "_view_module_version": "1.2.0",
      "_view_name": "LayoutView",
      "align_content": null,
      "align_items": null,
      "align_self": null,
      "border": null,
      "bottom": null,
      "display": null,
      "flex": null,
      "flex_flow": null,
      "grid_area": null,
      "grid_auto_columns": null,
      "grid_auto_flow": null,
      "grid_auto_rows": null,
      "grid_column": null,
      "grid_gap": null,
      "grid_row": null,
      "grid_template_areas": null,
      "grid_template_columns": null,
      "grid_template_rows": null,
      "height": null,
      "justify_content": null,
      "justify_items": null,
      "left": null,
      "margin": null,
      "max_height": null,
      "max_width": null,
      "min_height": null,
      "min_width": null,
      "object_fit": null,
      "object_position": null,
      "order": null,
      "overflow": null,
      "overflow_x": null,
      "overflow_y": null,
      "padding": null,
      "right": null,
      "top": null,
      "visibility": null,
      "width": null
     }
    },
    "d1b6dfd15c0e4ee99fbb20b089022f93": {
     "model_module": "@jupyter-widgets/base",
     "model_module_version": "1.2.0",
     "model_name": "LayoutModel",
     "state": {
      "_model_module": "@jupyter-widgets/base",
      "_model_module_version": "1.2.0",
      "_model_name": "LayoutModel",
      "_view_count": null,
      "_view_module": "@jupyter-widgets/base",
      "_view_module_version": "1.2.0",
      "_view_name": "LayoutView",
      "align_content": null,
      "align_items": null,
      "align_self": null,
      "border": null,
      "bottom": null,
      "display": null,
      "flex": null,
      "flex_flow": null,
      "grid_area": null,
      "grid_auto_columns": null,
      "grid_auto_flow": null,
      "grid_auto_rows": null,
      "grid_column": null,
      "grid_gap": null,
      "grid_row": null,
      "grid_template_areas": null,
      "grid_template_columns": null,
      "grid_template_rows": null,
      "height": null,
      "justify_content": null,
      "justify_items": null,
      "left": null,
      "margin": null,
      "max_height": null,
      "max_width": null,
      "min_height": null,
      "min_width": null,
      "object_fit": null,
      "object_position": null,
      "order": null,
      "overflow": null,
      "overflow_x": null,
      "overflow_y": null,
      "padding": null,
      "right": null,
      "top": null,
      "visibility": null,
      "width": null
     }
    },
    "d4503bc0e4f14739a875a2d322ac34ce": {
     "model_module": "@jupyter-widgets/base",
     "model_module_version": "1.2.0",
     "model_name": "LayoutModel",
     "state": {
      "_model_module": "@jupyter-widgets/base",
      "_model_module_version": "1.2.0",
      "_model_name": "LayoutModel",
      "_view_count": null,
      "_view_module": "@jupyter-widgets/base",
      "_view_module_version": "1.2.0",
      "_view_name": "LayoutView",
      "align_content": null,
      "align_items": null,
      "align_self": null,
      "border": null,
      "bottom": null,
      "display": null,
      "flex": null,
      "flex_flow": null,
      "grid_area": null,
      "grid_auto_columns": null,
      "grid_auto_flow": null,
      "grid_auto_rows": null,
      "grid_column": null,
      "grid_gap": null,
      "grid_row": null,
      "grid_template_areas": null,
      "grid_template_columns": null,
      "grid_template_rows": null,
      "height": null,
      "justify_content": null,
      "justify_items": null,
      "left": null,
      "margin": null,
      "max_height": null,
      "max_width": null,
      "min_height": null,
      "min_width": null,
      "object_fit": null,
      "object_position": null,
      "order": null,
      "overflow": null,
      "overflow_x": null,
      "overflow_y": null,
      "padding": null,
      "right": null,
      "top": null,
      "visibility": null,
      "width": null
     }
    },
    "d7de7f9cb86848c08779c653b663f995": {
     "model_module": "@jupyter-widgets/base",
     "model_module_version": "1.2.0",
     "model_name": "LayoutModel",
     "state": {
      "_model_module": "@jupyter-widgets/base",
      "_model_module_version": "1.2.0",
      "_model_name": "LayoutModel",
      "_view_count": null,
      "_view_module": "@jupyter-widgets/base",
      "_view_module_version": "1.2.0",
      "_view_name": "LayoutView",
      "align_content": null,
      "align_items": null,
      "align_self": null,
      "border": null,
      "bottom": null,
      "display": null,
      "flex": null,
      "flex_flow": null,
      "grid_area": null,
      "grid_auto_columns": null,
      "grid_auto_flow": null,
      "grid_auto_rows": null,
      "grid_column": null,
      "grid_gap": null,
      "grid_row": null,
      "grid_template_areas": null,
      "grid_template_columns": null,
      "grid_template_rows": null,
      "height": null,
      "justify_content": null,
      "justify_items": null,
      "left": null,
      "margin": null,
      "max_height": null,
      "max_width": null,
      "min_height": null,
      "min_width": null,
      "object_fit": null,
      "object_position": null,
      "order": null,
      "overflow": null,
      "overflow_x": null,
      "overflow_y": null,
      "padding": null,
      "right": null,
      "top": null,
      "visibility": null,
      "width": null
     }
    },
    "eb73f666b73c4c6db12b1a5edf20c43f": {
     "model_module": "@jupyter-widgets/controls",
     "model_module_version": "1.5.0",
     "model_name": "FloatProgressModel",
     "state": {
      "_dom_classes": [],
      "_model_module": "@jupyter-widgets/controls",
      "_model_module_version": "1.5.0",
      "_model_name": "FloatProgressModel",
      "_view_count": null,
      "_view_module": "@jupyter-widgets/controls",
      "_view_module_version": "1.5.0",
      "_view_name": "ProgressView",
      "bar_style": "success",
      "description": "",
      "description_tooltip": null,
      "layout": "IPY_MODEL_c1cf4d2a1d33412cb5127970254936a1",
      "max": 18165135,
      "min": 0,
      "orientation": "horizontal",
      "style": "IPY_MODEL_a212bf9ac19e4910ac710193e2fdf9b1",
      "value": 18165135
     }
    },
    "f05863c597a049a79bd88e9d75553b67": {
     "model_module": "@jupyter-widgets/controls",
     "model_module_version": "1.5.0",
     "model_name": "FloatProgressModel",
     "state": {
      "_dom_classes": [],
      "_model_module": "@jupyter-widgets/controls",
      "_model_module_version": "1.5.0",
      "_model_name": "FloatProgressModel",
      "_view_count": null,
      "_view_module": "@jupyter-widgets/controls",
      "_view_module_version": "1.5.0",
      "_view_name": "ProgressView",
      "bar_style": "success",
      "description": "",
      "description_tooltip": null,
      "layout": "IPY_MODEL_339489e452e145e2bbc4e8a4188e1b97",
      "max": 3041136,
      "min": 0,
      "orientation": "horizontal",
      "style": "IPY_MODEL_607c2a8aa948496d8eb14aa4165ba2d7",
      "value": 3041136
     }
    },
    "f9426a514ef64211ad1c226cdeaccdac": {
     "model_module": "@jupyter-widgets/controls",
     "model_module_version": "1.5.0",
     "model_name": "DescriptionStyleModel",
     "state": {
      "_model_module": "@jupyter-widgets/controls",
      "_model_module_version": "1.5.0",
      "_model_name": "DescriptionStyleModel",
      "_view_count": null,
      "_view_module": "@jupyter-widgets/base",
      "_view_module_version": "1.2.0",
      "_view_name": "StyleView",
      "description_width": ""
     }
    }
   }
  }
 },
 "nbformat": 4,
 "nbformat_minor": 1
}
