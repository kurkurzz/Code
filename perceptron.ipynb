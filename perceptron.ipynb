{
 "cells": [
  {
   "cell_type": "code",
   "execution_count": 65,
   "id": "sweet-rough",
   "metadata": {},
   "outputs": [],
   "source": [
    "import numpy as np"
   ]
  },
  {
   "attachments": {
    "image.png": {
     "image/png": "[encoded data removed]"
    }
   },
   "cell_type": "markdown",
   "id": "basic-cream",
   "metadata": {},
   "source": [
    "![image.png](attachment:image.png)"
   ]
  },
  {
   "cell_type": "code",
   "execution_count": 68,
   "id": "9212acfc",
   "metadata": {},
   "outputs": [],
   "source": [
    "# step function is one of the activation functions\n",
    "def step_fx(value):\n",
    "    return 1 if value >= 0 else 0"
   ]
  },
  {
   "cell_type": "code",
   "execution_count": 105,
   "id": "6e68a284",
   "metadata": {},
   "outputs": [],
   "source": [
    "def perceptron(X, y, learning_rate=0.1, max_iter=100):\n",
    "    error = np.array([0,0,0,0])\n",
    "    current_iter = 0\n",
    "    sum_error = 1\n",
    "    \n",
    "    # initialize weightages\n",
    "    weightages = np.random.rand(len(X[0])+1)\n",
    "\n",
    "    while current_iter < max_iter and sum_error != 0:\n",
    "        print(f'iteration: {current_iter}')\n",
    "        predicted_outputs = []\n",
    "        \n",
    "        for i in range(len(X)):\n",
    "            # predict output based on current weightage (hypothesis)\n",
    "            hx = step_fx(np.dot(np.array(weightages[:-1]), X[i]) + weightages[-1])\n",
    "            predicted_outputs.append(hx)\n",
    "            \n",
    "            error[i] = y[i] - hx\n",
    "            \n",
    "            # adjust weightages\n",
    "            for n in range(len(weightages)-1):\n",
    "                weightages[n] = weightages[n] + learning_rate*error[i]*X[i][n]\n",
    "            weightages[-1] = weightages[-1] + learning_rate*error[i]\n",
    "        \n",
    "        # cost function\n",
    "        sum_error = np.sum((error**2)**(1/2))\n",
    "\n",
    "        print(f'weightages: {weightages}')\n",
    "        print(f'error: {error}')\n",
    "        print(f'error: {sum_error}')\n",
    "        print(f'predicted outputs: {predicted_outputs}')\n",
    "        print()\n",
    "        current_iter += 1"
   ]
  },
  {
   "cell_type": "markdown",
   "id": "9b130ad6",
   "metadata": {},
   "source": [
    "## AND Gate"
   ]
  },
  {
   "cell_type": "code",
   "execution_count": 106,
   "id": "5d33093b",
   "metadata": {},
   "outputs": [
    {
     "name": "stdout",
     "output_type": "stream",
     "text": [
      "iteration: 0\n",
      "weightages: [0.29470623 0.50998226 0.03680587]\n",
      "error: [-1 -1 -1  0]\n",
      "error: 3.0\n",
      "predicted outputs: [1, 1, 1, 1]\n",
      "\n",
      "iteration: 1\n",
      "weightages: [ 0.19470623  0.40998226 -0.26319413]\n",
      "error: [-1 -1 -1  0]\n",
      "error: 3.0\n",
      "predicted outputs: [1, 1, 1, 1]\n",
      "\n",
      "iteration: 2\n",
      "weightages: [ 0.19470623  0.30998226 -0.36319413]\n",
      "error: [ 0 -1  0  0]\n",
      "error: 1.0\n",
      "predicted outputs: [0, 1, 0, 1]\n",
      "\n",
      "iteration: 3\n",
      "weightages: [ 0.19470623  0.30998226 -0.36319413]\n",
      "error: [0 0 0 0]\n",
      "error: 0.0\n",
      "predicted outputs: [0, 0, 0, 1]\n",
      "\n"
     ]
    }
   ],
   "source": [
    "X = np.array([[0, 0], [0, 1], [1, 0], [1, 1]])\n",
    "y = np.array([[0], [0], [0], [1]])\n",
    "perceptron(X, y)"
   ]
  },
  {
   "cell_type": "markdown",
   "id": "ab0f99cc",
   "metadata": {},
   "source": [
    "## OR Gate"
   ]
  },
  {
   "cell_type": "code",
   "execution_count": 107,
   "id": "0d6dfae4",
   "metadata": {},
   "outputs": [
    {
     "name": "stdout",
     "output_type": "stream",
     "text": [
      "iteration: 0\n",
      "weightages: [0.03381924 0.36747349 0.68631729]\n",
      "error: [-1  0  0  0]\n",
      "error: 1.0\n",
      "predicted outputs: [1, 1, 1, 1]\n",
      "\n",
      "iteration: 1\n",
      "weightages: [0.03381924 0.36747349 0.58631729]\n",
      "error: [-1  0  0  0]\n",
      "error: 1.0\n",
      "predicted outputs: [1, 1, 1, 1]\n",
      "\n",
      "iteration: 2\n",
      "weightages: [0.03381924 0.36747349 0.48631729]\n",
      "error: [-1  0  0  0]\n",
      "error: 1.0\n",
      "predicted outputs: [1, 1, 1, 1]\n",
      "\n",
      "iteration: 3\n",
      "weightages: [0.03381924 0.36747349 0.38631729]\n",
      "error: [-1  0  0  0]\n",
      "error: 1.0\n",
      "predicted outputs: [1, 1, 1, 1]\n",
      "\n",
      "iteration: 4\n",
      "weightages: [0.03381924 0.36747349 0.28631729]\n",
      "error: [-1  0  0  0]\n",
      "error: 1.0\n",
      "predicted outputs: [1, 1, 1, 1]\n",
      "\n",
      "iteration: 5\n",
      "weightages: [0.03381924 0.36747349 0.18631729]\n",
      "error: [-1  0  0  0]\n",
      "error: 1.0\n",
      "predicted outputs: [1, 1, 1, 1]\n",
      "\n",
      "iteration: 6\n",
      "weightages: [0.03381924 0.36747349 0.08631729]\n",
      "error: [-1  0  0  0]\n",
      "error: 1.0\n",
      "predicted outputs: [1, 1, 1, 1]\n",
      "\n",
      "iteration: 7\n",
      "weightages: [ 0.03381924  0.36747349 -0.01368271]\n",
      "error: [-1  0  0  0]\n",
      "error: 1.0\n",
      "predicted outputs: [1, 1, 1, 1]\n",
      "\n",
      "iteration: 8\n",
      "weightages: [ 0.03381924  0.36747349 -0.01368271]\n",
      "error: [0 0 0 0]\n",
      "error: 0.0\n",
      "predicted outputs: [0, 1, 1, 1]\n",
      "\n"
     ]
    }
   ],
   "source": [
    "X = np.array([[0, 0], [0, 1], [1, 0], [1, 1]])\n",
    "y = np.array([[0], [1], [1], [1]])\n",
    "perceptron(X, y)"
   ]
  },
  {
   "cell_type": "markdown",
   "id": "107e44f2",
   "metadata": {},
   "source": [
    "## NOT Gate"
   ]
  },
  {
   "cell_type": "code",
   "execution_count": 108,
   "id": "30ced6a4",
   "metadata": {},
   "outputs": [
    {
     "name": "stdout",
     "output_type": "stream",
     "text": [
      "iteration: 0\n",
      "weightages: [0.13649841 0.79800098]\n",
      "error: [ 0 -1  0  0]\n",
      "error: 1.0\n",
      "predicted outputs: [1, 1]\n",
      "\n",
      "iteration: 1\n",
      "weightages: [0.03649841 0.69800098]\n",
      "error: [ 0 -1  0  0]\n",
      "error: 1.0\n",
      "predicted outputs: [1, 1]\n",
      "\n",
      "iteration: 2\n",
      "weightages: [-0.06350159  0.59800098]\n",
      "error: [ 0 -1  0  0]\n",
      "error: 1.0\n",
      "predicted outputs: [1, 1]\n",
      "\n",
      "iteration: 3\n",
      "weightages: [-0.16350159  0.49800098]\n",
      "error: [ 0 -1  0  0]\n",
      "error: 1.0\n",
      "predicted outputs: [1, 1]\n",
      "\n",
      "iteration: 4\n",
      "weightages: [-0.26350159  0.39800098]\n",
      "error: [ 0 -1  0  0]\n",
      "error: 1.0\n",
      "predicted outputs: [1, 1]\n",
      "\n",
      "iteration: 5\n",
      "weightages: [-0.36350159  0.29800098]\n",
      "error: [ 0 -1  0  0]\n",
      "error: 1.0\n",
      "predicted outputs: [1, 1]\n",
      "\n",
      "iteration: 6\n",
      "weightages: [-0.36350159  0.29800098]\n",
      "error: [0 0 0 0]\n",
      "error: 0.0\n",
      "predicted outputs: [1, 0]\n",
      "\n"
     ]
    }
   ],
   "source": [
    "X = np.array([[0], [1]])\n",
    "y = np.array([[1], [0]])\n",
    "perceptron(X, y)"
   ]
  },
  {
   "cell_type": "markdown",
   "id": "740ad7f7",
   "metadata": {},
   "source": [
    "### Reference\n",
    "https://medium.com/analytics-vidhya/implementing-perceptron-learning-algorithm-to-solve-and-in-python-903516300b2f"
   ]
  },
  {
   "cell_type": "code",
   "execution_count": null,
   "id": "dca2a5d1",
   "metadata": {},
   "outputs": [],
   "source": []
  }
 ],
 "metadata": {
  "kernelspec": {
   "display_name": "Python 3 (ipykernel)",
   "language": "python",
   "name": "python3"
  },
  "language_info": {
   "codemirror_mode": {
    "name": "ipython",
    "version": 3
   },
   "file_extension": ".py",
   "mimetype": "text/x-python",
   "name": "python",
   "nbconvert_exporter": "python",
   "pygments_lexer": "ipython3",
   "version": "3.8.12"
  }
 },
 "nbformat": 4,
 "nbformat_minor": 5
}
