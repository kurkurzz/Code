{
 "cells": [
  {
   "cell_type": "code",
   "execution_count": 705,
   "id": "2ea36889",
   "metadata": {},
   "outputs": [],
   "source": [
    "import math\n",
    "import numpy as np\n",
    "import random\n",
    "import matplotlib.pyplot as plt"
   ]
  },
  {
   "cell_type": "markdown",
   "id": "61163afc",
   "metadata": {},
   "source": [
    "## Initialize Dataset"
   ]
  },
  {
   "cell_type": "code",
   "execution_count": 806,
   "id": "62446a64",
   "metadata": {},
   "outputs": [],
   "source": [
    "n_samples = 400\n",
    "std_dev = 1.5\n",
    "\n",
    "Y_mean = (6.5, 5.5)\n",
    "N_mean = (3.0,2.0)"
   ]
  },
  {
   "cell_type": "code",
   "execution_count": 807,
   "id": "bb8f1ecf",
   "metadata": {},
   "outputs": [],
   "source": [
    "def generate_dataset(mean, std_dev):\n",
    "    np.random.seed(14)\n",
    "    x_axis = np.random.normal(loc=mean[0], scale=std_dev, size=int(n_samples/2))\n",
    "    y_axis = np.random.normal(loc=mean[1], scale=std_dev, size=int(n_samples/2))\n",
    "    return np.transpose((x_axis, y_axis))"
   ]
  },
  {
   "cell_type": "code",
   "execution_count": 808,
   "id": "6122e80f",
   "metadata": {},
   "outputs": [],
   "source": [
    "Y_data = generate_dataset(Y_mean, std_dev)\n",
    "N_data = generate_dataset(N_mean, std_dev)"
   ]
  },
  {
   "cell_type": "code",
   "execution_count": 809,
   "id": "c1339a02",
   "metadata": {},
   "outputs": [
    {
     "data": {
      "text/plain": [
       "<matplotlib.legend.Legend at 0x20cf6605e50>"
      ]
     },
     "execution_count": 809,
     "metadata": {},
     "output_type": "execute_result"
    },
    {
     "data": {
      "image/png": "[encoded data removed]",
      "text/plain": [
       "<Figure size 432x288 with 1 Axes>"
      ]
     },
     "metadata": {
      "needs_background": "light"
     },
     "output_type": "display_data"
    }
   ],
   "source": [
    "plt.scatter(Y_data[:,0], Y_data[:,1])\n",
    "plt.scatter(N_data[:,0], N_data[:,1])\n",
    "plt.legend(['Yes', 'No'])"
   ]
  },
  {
   "cell_type": "code",
   "execution_count": 810,
   "id": "ab50e746",
   "metadata": {},
   "outputs": [],
   "source": [
    "Y_data = np.append(Y_data, np.ones((200,1)), axis=1)\n",
    "N_data = np.append(N_data, np.zeros((200,1)), axis=1)\n",
    "\n",
    "data = np.concatenate([Y_data, N_data])"
   ]
  },
  {
   "cell_type": "code",
   "execution_count": 811,
   "id": "7ea99178",
   "metadata": {},
   "outputs": [
    {
     "name": "stdout",
     "output_type": "stream",
     "text": [
      "(400, 3)\n",
      "\n",
      "[[8.82700867 8.38049208 1.        ]\n",
      " [6.61877904 4.5680135  1.        ]\n",
      " [6.76096479 8.34096156 1.        ]\n",
      " [6.39149515 4.18470989 1.        ]\n",
      " [3.4935059  5.93503598 1.        ]]\n",
      "\n",
      "[[3.54191414 2.31483602 0.        ]\n",
      " [0.90956773 3.06165266 0.        ]\n",
      " [3.06859276 2.5918089  0.        ]\n",
      " [3.01753821 1.53954429 0.        ]\n",
      " [2.32080406 1.61804941 0.        ]]\n"
     ]
    }
   ],
   "source": [
    "print(data.shape)\n",
    "print()\n",
    "print(data[:5])\n",
    "print()\n",
    "print(data[-5:])"
   ]
  },
  {
   "cell_type": "markdown",
   "id": "1697552e",
   "metadata": {},
   "source": [
    "**last column is the label**"
   ]
  },
  {
   "cell_type": "markdown",
   "id": "8d9ba7d2",
   "metadata": {},
   "source": [
    "## Split Train and Test Set"
   ]
  },
  {
   "cell_type": "code",
   "execution_count": 812,
   "id": "f443ccd3",
   "metadata": {},
   "outputs": [],
   "source": [
    "np.random.seed(14)\n",
    "np.random.shuffle(data)"
   ]
  },
  {
   "cell_type": "code",
   "execution_count": 813,
   "id": "fdc732c1",
   "metadata": {},
   "outputs": [
    {
     "data": {
      "text/plain": [
       "array([[ 3.64896198,  5.69586821,  1.        ],\n",
       "       [ 4.74181731,  4.76673602,  1.        ],\n",
       "       [ 6.61877904,  4.5680135 ,  1.        ],\n",
       "       [ 0.0797832 ,  2.01743968,  0.        ],\n",
       "       [ 3.23575753,  3.00722843,  1.        ],\n",
       "       [ 5.73293541,  3.05106684,  1.        ],\n",
       "       [ 5.03170394,  1.54092955,  0.        ],\n",
       "       [ 3.5797832 ,  5.51743968,  1.        ],\n",
       "       [ 7.42915277,  6.79353612,  1.        ],\n",
       "       [ 5.2919024 , -0.39438921,  0.        ]])"
      ]
     },
     "execution_count": 813,
     "metadata": {},
     "output_type": "execute_result"
    }
   ],
   "source": [
    "data[:10]"
   ]
  },
  {
   "cell_type": "code",
   "execution_count": 814,
   "id": "93eaaf96",
   "metadata": {},
   "outputs": [
    {
     "name": "stdout",
     "output_type": "stream",
     "text": [
      "shape for X_train: (280, 3)\n",
      "shape for X_test: (120, 3)\n"
     ]
    }
   ],
   "source": [
    "train_ratio = 0.7\n",
    "\n",
    "train_data = data[:int(0.7*n_samples)]\n",
    "test_data = data[int(-0.3*n_samples):]\n",
    "\n",
    "print(f'shape for X_train: {train_data.shape}')\n",
    "print(f'shape for X_test: {test_data.shape}')"
   ]
  },
  {
   "cell_type": "markdown",
   "id": "9c142aee",
   "metadata": {},
   "source": [
    "## Creating Model\n",
    "\n",
    "- activation function: sigmoid\n",
    "- loss function: sum of squared"
   ]
  },
  {
   "cell_type": "code",
   "execution_count": 836,
   "id": "c189f80f",
   "metadata": {},
   "outputs": [],
   "source": [
    "def sigmoid(x):\n",
    "    return 1 / (1 + math.exp(-x))\n",
    "\n",
    "sigmoid_v = np.vectorize(sigmoid)"
   ]
  },
  {
   "cell_type": "code",
   "execution_count": 837,
   "id": "442043da",
   "metadata": {},
   "outputs": [],
   "source": [
    "def apply_threshold(x, threshold=0.5):\n",
    "    if x >= threshold:\n",
    "        return 1.0\n",
    "    else:\n",
    "        return 0.0\n",
    "    \n",
    "apply_threshold_v = np.vectorize(apply_threshold)  "
   ]
  },
  {
   "cell_type": "markdown",
   "id": "051d485e",
   "metadata": {},
   "source": [
    "## Stochastic Gradient Descent v1"
   ]
  },
  {
   "cell_type": "code",
   "execution_count": 838,
   "id": "4613d730",
   "metadata": {},
   "outputs": [],
   "source": [
    "def stochastic_gradient_descent(data, alpha=0.01, iteration=2500, theshold=0.5):\n",
    "    # [1, x1, x2]\n",
    "    data = np.append(np.ones((len(data),1)), data, axis=1)\n",
    "    # [bias, theta1, theta2]\n",
    "    np.random.seed(14)\n",
    "    thetas = np.random.rand(len(data[0])-1)\n",
    "    \n",
    "    loss_history = []\n",
    "    accuracy_history = []\n",
    "    thetas_history = []\n",
    "    \n",
    "    X = data[:,:3]\n",
    "    y = data[:,-1]\n",
    "    \n",
    "    for current_iteration in range(iteration):\n",
    "        sum_loss = 0.0\n",
    "        sum_accuracy = []\n",
    "        \n",
    "        #select random sample\n",
    "        i = np.random.randint(0, len(X))\n",
    "        hx = sigmoid(np.dot(X[i], thetas.T))\n",
    "        thetas = thetas - np.multiply(X[i], alpha*(2*(hx - y[i])*hx*(1 - hx)))\n",
    "        \n",
    "        # this loop is only to calculate the losses and accuracy\n",
    "        for i in range(len(data)):\n",
    "            hx = sigmoid(np.dot(X[i], thetas.T))\n",
    "            sum_loss += (hx-y[i])**2\n",
    "            predicted_y = apply_threshold(hx)\n",
    "            sum_accuracy.append(predicted_y == y[i])\n",
    "        \n",
    "        \n",
    "        accuracy = sum_accuracy.count(True)/len(X)\n",
    "        if current_iteration % 200 == 0:\n",
    "            print(f'Epoch: {current_iteration}')\n",
    "            print(f'    losses: {sum_loss}')\n",
    "            print(f'    accuracy: {accuracy}')\n",
    "        \n",
    "        thetas_history.append(thetas)\n",
    "        loss_history.append(sum_loss)\n",
    "        accuracy_history.append(accuracy)\n",
    "        \n",
    "    return loss_history, accuracy_history, thetas_history"
   ]
  },
  {
   "cell_type": "code",
   "execution_count": 839,
   "id": "d7729399",
   "metadata": {},
   "outputs": [
    {
     "name": "stdout",
     "output_type": "stream",
     "text": [
      "Epoch: 0\n",
      "    losses: 125.07397745228585\n",
      "    accuracy: 0.5178571428571429\n",
      "Epoch: 200\n",
      "    losses: 55.89601506445915\n",
      "    accuracy: 0.6964285714285714\n",
      "Epoch: 400\n",
      "    losses: 36.06931346444312\n",
      "    accuracy: 0.7964285714285714\n",
      "Epoch: 600\n",
      "    losses: 27.2381039041105\n",
      "    accuracy: 0.9071428571428571\n",
      "Epoch: 800\n",
      "    losses: 29.534766753899238\n",
      "    accuracy: 0.8464285714285714\n",
      "Epoch: 1000\n",
      "    losses: 35.638915997400545\n",
      "    accuracy: 0.8107142857142857\n",
      "Epoch: 1200\n",
      "    losses: 20.7937430868341\n",
      "    accuracy: 0.9392857142857143\n",
      "Epoch: 1400\n",
      "    losses: 19.263865236070032\n",
      "    accuracy: 0.9214285714285714\n",
      "Epoch: 1600\n",
      "    losses: 19.411043843427006\n",
      "    accuracy: 0.9142857142857143\n",
      "Epoch: 1800\n",
      "    losses: 40.73390027367273\n",
      "    accuracy: 0.7857142857142857\n",
      "Epoch: 2000\n",
      "    losses: 21.98301905796471\n",
      "    accuracy: 0.8785714285714286\n",
      "Epoch: 2200\n",
      "    losses: 17.141800121540044\n",
      "    accuracy: 0.9392857142857143\n",
      "Epoch: 2400\n",
      "    losses: 17.36897905475163\n",
      "    accuracy: 0.9357142857142857\n"
     ]
    }
   ],
   "source": [
    "loss_history, accuracy_history, thetas_history = stochastic_gradient_descent(train_data, alpha=0.1)"
   ]
  },
  {
   "cell_type": "code",
   "execution_count": 840,
   "id": "6867ddf0",
   "metadata": {},
   "outputs": [
    {
     "data": {
      "text/plain": [
       "Text(0, 0.5, 'Sum of Squared Error')"
      ]
     },
     "execution_count": 840,
     "metadata": {},
     "output_type": "execute_result"
    },
    {
     "data": {
      "image/png": "[encoded data removed]",
      "text/plain": [
       "<Figure size 432x288 with 1 Axes>"
      ]
     },
     "metadata": {
      "needs_background": "light"
     },
     "output_type": "display_data"
    }
   ],
   "source": [
    "plt.plot(loss_history)\n",
    "plt.xlabel('Epoch')\n",
    "plt.ylabel('Sum of Squared Error')"
   ]
  },
  {
   "cell_type": "code",
   "execution_count": 841,
   "id": "3dd96eb4",
   "metadata": {},
   "outputs": [
    {
     "data": {
      "text/plain": [
       "Text(0, 0.5, 'Accuracy')"
      ]
     },
     "execution_count": 841,
     "metadata": {},
     "output_type": "execute_result"
    },
    {
     "data": {
      "image/png": "[encoded data removed]",
      "text/plain": [
       "<Figure size 432x288 with 1 Axes>"
      ]
     },
     "metadata": {
      "needs_background": "light"
     },
     "output_type": "display_data"
    }
   ],
   "source": [
    "plt.plot(accuracy_history)\n",
    "plt.xlabel('Epoch')\n",
    "plt.ylabel('Accuracy')"
   ]
  },
  {
   "cell_type": "code",
   "execution_count": 842,
   "id": "e83c540f",
   "metadata": {},
   "outputs": [
    {
     "data": {
      "text/plain": [
       "<matplotlib.legend.Legend at 0x20cf7a9e520>"
      ]
     },
     "execution_count": 842,
     "metadata": {},
     "output_type": "execute_result"
    },
    {
     "data": {
      "image/png": "[encoded data removed]",
      "text/plain": [
       "<Figure size 432x288 with 1 Axes>"
      ]
     },
     "metadata": {
      "needs_background": "light"
     },
     "output_type": "display_data"
    }
   ],
   "source": [
    "thetas_history = np.array(thetas_history)\n",
    "plt.plot(thetas_history[:, 1:])\n",
    "plt.xlabel('Epoch')\n",
    "plt.ylabel('Weights')\n",
    "plt.legend(['w1', 'w2'])"
   ]
  },
  {
   "cell_type": "code",
   "execution_count": 843,
   "id": "98d594f7",
   "metadata": {},
   "outputs": [
    {
     "data": {
      "text/plain": [
       "<matplotlib.legend.Legend at 0x20cf7acdd60>"
      ]
     },
     "execution_count": 843,
     "metadata": {},
     "output_type": "execute_result"
    },
    {
     "data": {
      "image/png": "[encoded data removed]",
      "text/plain": [
       "<Figure size 432x288 with 1 Axes>"
      ]
     },
     "metadata": {
      "needs_background": "light"
     },
     "output_type": "display_data"
    }
   ],
   "source": [
    "thetas = thetas_history[-1]\n",
    "\n",
    "plt.scatter(Y_data[:,0], Y_data[:,1])\n",
    "plt.scatter(N_data[:,0], N_data[:,1])\n",
    "\n",
    "x = np.linspace(-2.0, 10.0, 50)\n",
    "y = -(thetas[0] + thetas[1]*x)/thetas[2]\n",
    "plt.plot(x, y)\n",
    "plt.legend(['Yes', 'No', 'Decision line'])"
   ]
  },
  {
   "cell_type": "code",
   "execution_count": 844,
   "id": "09cd8f90",
   "metadata": {},
   "outputs": [
    {
     "name": "stdout",
     "output_type": "stream",
     "text": [
      "(array([0., 1.]), array([136, 144], dtype=int64))\n",
      "\n",
      "YES class: 0.9652777777777778\n",
      "N0 class: 0.8823529411764706\n"
     ]
    }
   ],
   "source": [
    "total_label = np.unique(train_data[:,-1], return_counts=True)\n",
    "print(total_label)\n",
    "# thetas = thetas_history[-1]\n",
    "\n",
    "true_positive_counter = 0\n",
    "true_negative_counter = 0\n",
    "\n",
    "train_data_new = np.append(np.ones((len(train_data),1)), train_data, axis=1)\n",
    "X = train_data_new[:,:3]\n",
    "y = train_data_new[:,-1]\n",
    "\n",
    "for i in range(len(train_data_new)):\n",
    "    hx = sigmoid(np.dot(X[i], thetas))\n",
    "    predicted_y = apply_threshold(hx)\n",
    "    \n",
    "    if y[i] == 1.0:\n",
    "        if predicted_y == y[i]:\n",
    "            true_positive_counter += 1\n",
    "    \n",
    "    else:\n",
    "        if predicted_y == y[i]:\n",
    "            true_negative_counter += 1\n",
    "\n",
    "print()\n",
    "print(f'YES class: {true_positive_counter/total_label[1][1]}')\n",
    "print(f'N0 class: {true_negative_counter/total_label[1][0]}')"
   ]
  },
  {
   "cell_type": "markdown",
   "id": "1eaeb28c",
   "metadata": {},
   "source": [
    "## Batch Gradient Descent"
   ]
  },
  {
   "cell_type": "code",
   "execution_count": 845,
   "id": "341091ac",
   "metadata": {},
   "outputs": [],
   "source": [
    "def batch_gradient_descent(data, alpha=0.01, epoch=100, theshold=0.5):\n",
    "    # [1, x1, x2]\n",
    "    data = np.append(np.ones((len(data),1)), data, axis=1)\n",
    "    # [bias, theta1, theta2]\n",
    "    np.random.seed(14)\n",
    "    thetas = np.random.rand(len(data[0])-1)\n",
    "    \n",
    "    loss_history = []\n",
    "    accuracy_history = []\n",
    "    thetas_history = []\n",
    "    for current_epoch in range(epoch):\n",
    "        sum_loss = 0.0\n",
    "        sum_accuracy = []\n",
    "        \n",
    "        #shuffle to prevent cycles\n",
    "        np.random.seed(14)\n",
    "        np.random.shuffle(data)\n",
    "        X = data[:,:3]\n",
    "        y = data[:,-1]\n",
    "        hx = sigmoid_v(np.dot(X, thetas.T))\n",
    "        sum_loss = ((hx-y)**2).sum()\n",
    "        \n",
    "        predicted_y = apply_threshold_v(hx)\n",
    "        sum_accuracy = predicted_y == y\n",
    "        thetas = thetas - alpha*np.sum(((2*(hx - y)*hx*(1 - hx)).reshape(-1, 1) * X), axis=0)\n",
    "\n",
    "        accuracy = np.sum(sum_accuracy)/len(X)\n",
    "        if current_epoch % 10 == 0:\n",
    "            print(f'Epoch: {current_epoch}')\n",
    "            print(f'    losses: {sum_loss}')\n",
    "            print(f'    accuracy: {accuracy}')\n",
    "        loss_history.append(sum_loss)\n",
    "        accuracy_history.append(accuracy)\n",
    "        thetas_history.append(thetas)\n",
    "\n",
    "    return loss_history, accuracy_history, thetas_history"
   ]
  },
  {
   "cell_type": "code",
   "execution_count": 846,
   "id": "c3203c56",
   "metadata": {},
   "outputs": [
    {
     "name": "stdout",
     "output_type": "stream",
     "text": [
      "Epoch: 0\n",
      "    losses: 125.07397728961439\n",
      "    accuracy: 0.5178571428571429\n",
      "Epoch: 10\n",
      "    losses: 120.73585886660794\n",
      "    accuracy: 0.5214285714285715\n",
      "Epoch: 20\n",
      "    losses: 106.05953768260031\n",
      "    accuracy: 0.5214285714285715\n",
      "Epoch: 30\n",
      "    losses: 59.17617043572122\n",
      "    accuracy: 0.6464285714285715\n",
      "Epoch: 40\n",
      "    losses: 55.169838649380914\n",
      "    accuracy: 0.6607142857142857\n",
      "Epoch: 50\n",
      "    losses: 51.455655049699544\n",
      "    accuracy: 0.675\n",
      "Epoch: 60\n",
      "    losses: 48.10875629511857\n",
      "    accuracy: 0.7107142857142857\n",
      "Epoch: 70\n",
      "    losses: 45.139486093581844\n",
      "    accuracy: 0.7607142857142857\n",
      "Epoch: 80\n",
      "    losses: 42.52431767217003\n",
      "    accuracy: 0.8\n",
      "Epoch: 90\n",
      "    losses: 40.22720970228521\n",
      "    accuracy: 0.8392857142857143\n",
      "Epoch: 100\n",
      "    losses: 38.20946336199601\n",
      "    accuracy: 0.85\n",
      "Epoch: 110\n",
      "    losses: 36.43392785681601\n",
      "    accuracy: 0.8678571428571429\n",
      "Epoch: 120\n",
      "    losses: 34.866841238631324\n",
      "    accuracy: 0.8785714285714286\n",
      "Epoch: 130\n",
      "    losses: 33.47851244314694\n",
      "    accuracy: 0.9\n",
      "Epoch: 140\n",
      "    losses: 32.243362521594534\n",
      "    accuracy: 0.9071428571428571\n",
      "Epoch: 150\n",
      "    losses: 31.139629183400814\n",
      "    accuracy: 0.9071428571428571\n",
      "Epoch: 160\n",
      "    losses: 30.14892590484699\n",
      "    accuracy: 0.9071428571428571\n",
      "Epoch: 170\n",
      "    losses: 29.255767197303058\n",
      "    accuracy: 0.9071428571428571\n",
      "Epoch: 180\n",
      "    losses: 28.44711798872489\n",
      "    accuracy: 0.9107142857142857\n",
      "Epoch: 190\n",
      "    losses: 27.711992457402772\n",
      "    accuracy: 0.9178571428571428\n"
     ]
    }
   ],
   "source": [
    "loss_history, accuracy_history, thetas_history = batch_gradient_descent(train_data, alpha=0.001, epoch=200)"
   ]
  },
  {
   "cell_type": "code",
   "execution_count": 847,
   "id": "a7fef901",
   "metadata": {},
   "outputs": [
    {
     "data": {
      "text/plain": [
       "Text(0, 0.5, 'Sum of Squared Error')"
      ]
     },
     "execution_count": 847,
     "metadata": {},
     "output_type": "execute_result"
    },
    {
     "data": {
      "image/png": "[encoded data removed]",
      "text/plain": [
       "<Figure size 432x288 with 1 Axes>"
      ]
     },
     "metadata": {
      "needs_background": "light"
     },
     "output_type": "display_data"
    }
   ],
   "source": [
    "plt.plot(loss_history)\n",
    "plt.xlabel('Epoch')\n",
    "plt.ylabel('Sum of Squared Error')"
   ]
  },
  {
   "cell_type": "code",
   "execution_count": 848,
   "id": "8c1ed3db",
   "metadata": {},
   "outputs": [
    {
     "data": {
      "text/plain": [
       "Text(0, 0.5, 'Accuracy')"
      ]
     },
     "execution_count": 848,
     "metadata": {},
     "output_type": "execute_result"
    },
    {
     "data": {
      "image/png": "[encoded data removed]",
      "text/plain": [
       "<Figure size 432x288 with 1 Axes>"
      ]
     },
     "metadata": {
      "needs_background": "light"
     },
     "output_type": "display_data"
    }
   ],
   "source": [
    "plt.plot(accuracy_history)\n",
    "plt.xlabel('Epoch')\n",
    "plt.ylabel('Accuracy')"
   ]
  },
  {
   "cell_type": "code",
   "execution_count": 849,
   "id": "151381ab",
   "metadata": {},
   "outputs": [
    {
     "data": {
      "text/plain": [
       "<matplotlib.legend.Legend at 0x20cf8c04ca0>"
      ]
     },
     "execution_count": 849,
     "metadata": {},
     "output_type": "execute_result"
    },
    {
     "data": {
      "image/png": "[encoded data removed]",
      "text/plain": [
       "<Figure size 432x288 with 1 Axes>"
      ]
     },
     "metadata": {
      "needs_background": "light"
     },
     "output_type": "display_data"
    }
   ],
   "source": [
    "thetas_history = np.array(thetas_history)\n",
    "plt.plot(thetas_history[:, 1:])\n",
    "plt.xlabel('Epoch')\n",
    "plt.ylabel('Weights')\n",
    "plt.legend(['w1', 'w2'])"
   ]
  },
  {
   "cell_type": "code",
   "execution_count": 850,
   "id": "560d83f0",
   "metadata": {},
   "outputs": [
    {
     "data": {
      "text/plain": [
       "<matplotlib.legend.Legend at 0x20cf8c816a0>"
      ]
     },
     "execution_count": 850,
     "metadata": {},
     "output_type": "execute_result"
    },
    {
     "data": {
      "image/png": "[encoded data removed]",
      "text/plain": [
       "<Figure size 432x288 with 1 Axes>"
      ]
     },
     "metadata": {
      "needs_background": "light"
     },
     "output_type": "display_data"
    }
   ],
   "source": [
    "thetas = thetas_history[-1]\n",
    "\n",
    "plt.scatter(Y_data[:,0], Y_data[:,1])\n",
    "plt.scatter(N_data[:,0], N_data[:,1])\n",
    "\n",
    "x = np.linspace(-2.0, 10.0, 50)\n",
    "y = -(thetas[0] + thetas[1]*x)/thetas[2]\n",
    "plt.plot(x, y)\n",
    "plt.legend(['Yes', 'No', 'Decision line'])"
   ]
  },
  {
   "cell_type": "code",
   "execution_count": 851,
   "id": "92e14948",
   "metadata": {},
   "outputs": [
    {
     "name": "stdout",
     "output_type": "stream",
     "text": [
      "(array([0., 1.]), array([136, 144], dtype=int64))\n",
      "\n",
      "YES class: 0.9722222222222222\n",
      "N0 class: 0.8676470588235294\n"
     ]
    }
   ],
   "source": [
    "total_label = np.unique(train_data[:,-1], return_counts=True)\n",
    "print(total_label)\n",
    "# thetas = thetas_history[-1]\n",
    "\n",
    "true_positive_counter = 0\n",
    "true_negative_counter = 0\n",
    "\n",
    "train_data_new = np.append(np.ones((len(train_data),1)), train_data, axis=1)\n",
    "X = train_data_new[:,:3]\n",
    "y = train_data_new[:,-1]\n",
    "\n",
    "for i in range(len(train_data_new)):\n",
    "    hx = sigmoid(np.dot(X[i], thetas))\n",
    "    predicted_y = apply_threshold(hx)\n",
    "    \n",
    "    if y[i] == 1.0:\n",
    "        if predicted_y == y[i]:\n",
    "            true_positive_counter += 1\n",
    "    \n",
    "    else:\n",
    "        if predicted_y == y[i]:\n",
    "            true_negative_counter += 1\n",
    "\n",
    "print()\n",
    "print(f'YES class: {true_positive_counter/total_label[1][1]}')\n",
    "print(f'N0 class: {true_negative_counter/total_label[1][0]}')"
   ]
  },
  {
   "cell_type": "markdown",
   "id": "c573ecd9",
   "metadata": {},
   "source": [
    "## (ARCHIVE) Stochastic Gradient Descent v2"
   ]
  },
  {
   "cell_type": "code",
   "execution_count": 450,
   "id": "f5ea5b5d",
   "metadata": {},
   "outputs": [],
   "source": [
    "def online_stochastic_gradient_descent(data, alpha=0.01, epoch=100, theshold=0.5):\n",
    "    # [1, x1, x2]\n",
    "    data = np.append(np.ones((len(data),1)), data, axis=1)\n",
    "    # [bias, theta1, theta2]\n",
    "    np.random.seed(14)\n",
    "    thetas = np.random.rand(len(data[0])-1)\n",
    "    \n",
    "    loss_history = []\n",
    "    accuracy_history = []\n",
    "    thetas_history = []\n",
    "    \n",
    "    for current_epoch in range(epoch):\n",
    "        sum_loss = 0.0\n",
    "        sum_accuracy = []\n",
    "        \n",
    "        #shuffle to prevent cycles\n",
    "        np.random.seed(14)\n",
    "        np.random.shuffle(data)\n",
    "        X = data[:,:3]\n",
    "        y = data[:,-1]\n",
    "        \n",
    "        for i in range(len(data)):\n",
    "            hx = sigmoid(np.dot(X[i], thetas.T))\n",
    "            thetas = thetas - np.multiply(X[i], alpha*(2*(hx - y[i])*hx*(1 - hx)))\n",
    "            \n",
    "            sum_loss += (hx-y[i])**2\n",
    "            predicted_y = apply_threshold(hx)\n",
    "            sum_accuracy.append(predicted_y == y[i])\n",
    "            \n",
    "        accuracy = sum_accuracy.count(True)/len(X)\n",
    "        print(f'Epoch: {current_epoch}')\n",
    "        print(f'    losses: {sum_loss}')\n",
    "        print(f'    accuracy: {accuracy}')\n",
    "        \n",
    "        thetas_history.append(thetas)\n",
    "        loss_history.append(sum_loss)\n",
    "        accuracy_history.append(accuracy)\n",
    "        \n",
    "    return loss_history, accuracy_history, thetas_history"
   ]
  },
  {
   "cell_type": "code",
   "execution_count": 451,
   "id": "3dd1e29b",
   "metadata": {
    "scrolled": false
   },
   "outputs": [
    {
     "name": "stdout",
     "output_type": "stream",
     "text": [
      "Epoch: 0\n",
      "    losses: 123.20887026960385\n",
      "    accuracy: 0.5178571428571429\n",
      "Epoch: 1\n",
      "    losses: 114.52229699985233\n",
      "    accuracy: 0.5214285714285715\n",
      "Epoch: 2\n",
      "    losses: 73.45585954219793\n",
      "    accuracy: 0.5892857142857143\n",
      "Epoch: 3\n",
      "    losses: 57.231655022925004\n",
      "    accuracy: 0.6535714285714286\n",
      "Epoch: 4\n",
      "    losses: 54.08582382201406\n",
      "    accuracy: 0.6714285714285714\n",
      "Epoch: 5\n",
      "    losses: 50.618891788041445\n",
      "    accuracy: 0.6964285714285714\n",
      "Epoch: 6\n",
      "    losses: 47.19135378609151\n",
      "    accuracy: 0.75\n",
      "Epoch: 7\n",
      "    losses: 44.068281394234006\n",
      "    accuracy: 0.7964285714285714\n",
      "Epoch: 8\n",
      "    losses: 42.06118210482242\n",
      "    accuracy: 0.8035714285714286\n",
      "Epoch: 9\n",
      "    losses: 39.610368213938195\n",
      "    accuracy: 0.8464285714285714\n",
      "Epoch: 10\n",
      "    losses: 38.072135539403796\n",
      "    accuracy: 0.8607142857142858\n",
      "Epoch: 11\n",
      "    losses: 35.89968527621775\n",
      "    accuracy: 0.8607142857142858\n",
      "Epoch: 12\n",
      "    losses: 34.615738601364306\n",
      "    accuracy: 0.8785714285714286\n",
      "Epoch: 13\n",
      "    losses: 33.34176182089913\n",
      "    accuracy: 0.8928571428571429\n",
      "Epoch: 14\n",
      "    losses: 31.926106402951163\n",
      "    accuracy: 0.9035714285714286\n",
      "Epoch: 15\n",
      "    losses: 31.284713366223194\n",
      "    accuracy: 0.8892857142857142\n",
      "Epoch: 16\n",
      "    losses: 30.182972641368853\n",
      "    accuracy: 0.8964285714285715\n",
      "Epoch: 17\n",
      "    losses: 29.50110836905694\n",
      "    accuracy: 0.9071428571428571\n",
      "Epoch: 18\n",
      "    losses: 28.67301170430366\n",
      "    accuracy: 0.9142857142857143\n",
      "Epoch: 19\n",
      "    losses: 27.564791362219765\n",
      "    accuracy: 0.925\n",
      "Epoch: 20\n",
      "    losses: 27.226731450250416\n",
      "    accuracy: 0.9178571428571428\n",
      "Epoch: 21\n",
      "    losses: 26.502981917793907\n",
      "    accuracy: 0.925\n",
      "Epoch: 22\n",
      "    losses: 25.908044071461127\n",
      "    accuracy: 0.925\n",
      "Epoch: 23\n",
      "    losses: 25.664986301374558\n",
      "    accuracy: 0.9285714285714286\n",
      "Epoch: 24\n",
      "    losses: 24.976848679171667\n",
      "    accuracy: 0.9285714285714286\n",
      "Epoch: 25\n",
      "    losses: 24.79355787984943\n",
      "    accuracy: 0.9428571428571428\n",
      "Epoch: 26\n",
      "    losses: 24.107217137660765\n",
      "    accuracy: 0.925\n",
      "Epoch: 27\n",
      "    losses: 23.69939372912123\n",
      "    accuracy: 0.9357142857142857\n",
      "Epoch: 28\n",
      "    losses: 23.42263897750818\n",
      "    accuracy: 0.95\n",
      "Epoch: 29\n",
      "    losses: 22.93500111876483\n",
      "    accuracy: 0.9321428571428572\n",
      "Epoch: 30\n",
      "    losses: 22.863155641303404\n",
      "    accuracy: 0.9392857142857143\n",
      "Epoch: 31\n",
      "    losses: 22.497757477519734\n",
      "    accuracy: 0.9464285714285714\n",
      "Epoch: 32\n",
      "    losses: 22.28344720220514\n",
      "    accuracy: 0.925\n",
      "Epoch: 33\n",
      "    losses: 21.855311760450608\n",
      "    accuracy: 0.9464285714285714\n",
      "Epoch: 34\n",
      "    losses: 21.820918454291572\n",
      "    accuracy: 0.9321428571428572\n",
      "Epoch: 35\n",
      "    losses: 21.369521077231738\n",
      "    accuracy: 0.9428571428571428\n",
      "Epoch: 36\n",
      "    losses: 21.213590141503637\n",
      "    accuracy: 0.9428571428571428\n",
      "Epoch: 37\n",
      "    losses: 21.17817577858606\n",
      "    accuracy: 0.9535714285714286\n",
      "Epoch: 38\n",
      "    losses: 20.937924656650235\n",
      "    accuracy: 0.9464285714285714\n",
      "Epoch: 39\n",
      "    losses: 20.716042054112847\n",
      "    accuracy: 0.9428571428571428\n",
      "Epoch: 40\n",
      "    losses: 20.55651269100002\n",
      "    accuracy: 0.95\n",
      "Epoch: 41\n",
      "    losses: 20.113174095210642\n",
      "    accuracy: 0.9392857142857143\n",
      "Epoch: 42\n",
      "    losses: 20.151883917928668\n",
      "    accuracy: 0.9428571428571428\n",
      "Epoch: 43\n",
      "    losses: 20.062110474123184\n",
      "    accuracy: 0.9428571428571428\n",
      "Epoch: 44\n",
      "    losses: 19.70630247621439\n",
      "    accuracy: 0.9392857142857143\n",
      "Epoch: 45\n",
      "    losses: 19.705888775187475\n",
      "    accuracy: 0.9392857142857143\n",
      "Epoch: 46\n",
      "    losses: 19.599121616494976\n",
      "    accuracy: 0.9571428571428572\n",
      "Epoch: 47\n",
      "    losses: 19.332307469102226\n",
      "    accuracy: 0.9428571428571428\n",
      "Epoch: 48\n",
      "    losses: 19.07053470183594\n",
      "    accuracy: 0.95\n",
      "Epoch: 49\n",
      "    losses: 19.13944043359252\n",
      "    accuracy: 0.9357142857142857\n",
      "Epoch: 50\n",
      "    losses: 19.07274543137466\n",
      "    accuracy: 0.9392857142857143\n",
      "Epoch: 51\n",
      "    losses: 18.768571715712163\n",
      "    accuracy: 0.9464285714285714\n",
      "Epoch: 52\n",
      "    losses: 18.865888400697656\n",
      "    accuracy: 0.9464285714285714\n",
      "Epoch: 53\n",
      "    losses: 18.291749617782624\n",
      "    accuracy: 0.9464285714285714\n",
      "Epoch: 54\n",
      "    losses: 18.424938859608478\n",
      "    accuracy: 0.95\n",
      "Epoch: 55\n",
      "    losses: 18.46648989603825\n",
      "    accuracy: 0.9464285714285714\n",
      "Epoch: 56\n",
      "    losses: 18.37230611546627\n",
      "    accuracy: 0.95\n",
      "Epoch: 57\n",
      "    losses: 18.273332909848722\n",
      "    accuracy: 0.95\n",
      "Epoch: 58\n",
      "    losses: 18.15692014543255\n",
      "    accuracy: 0.9607142857142857\n",
      "Epoch: 59\n",
      "    losses: 18.017017825939988\n",
      "    accuracy: 0.9464285714285714\n",
      "Epoch: 60\n",
      "    losses: 17.711125028272455\n",
      "    accuracy: 0.9571428571428572\n",
      "Epoch: 61\n",
      "    losses: 17.920309214328224\n",
      "    accuracy: 0.9357142857142857\n",
      "Epoch: 62\n",
      "    losses: 17.704203637379877\n",
      "    accuracy: 0.9464285714285714\n",
      "Epoch: 63\n",
      "    losses: 17.79724473692095\n",
      "    accuracy: 0.9571428571428572\n",
      "Epoch: 64\n",
      "    losses: 17.68109180804208\n",
      "    accuracy: 0.95\n",
      "Epoch: 65\n",
      "    losses: 17.60445213339013\n",
      "    accuracy: 0.9464285714285714\n",
      "Epoch: 66\n",
      "    losses: 17.527214834971737\n",
      "    accuracy: 0.95\n",
      "Epoch: 67\n",
      "    losses: 17.47263396047275\n",
      "    accuracy: 0.9535714285714286\n",
      "Epoch: 68\n",
      "    losses: 17.462416704540143\n",
      "    accuracy: 0.9464285714285714\n",
      "Epoch: 69\n",
      "    losses: 17.342828228291822\n",
      "    accuracy: 0.9392857142857143\n",
      "Epoch: 70\n",
      "    losses: 17.31314856737653\n",
      "    accuracy: 0.9428571428571428\n",
      "Epoch: 71\n",
      "    losses: 17.195419068006043\n",
      "    accuracy: 0.9428571428571428\n",
      "Epoch: 72\n",
      "    losses: 17.101886597607557\n",
      "    accuracy: 0.9392857142857143\n",
      "Epoch: 73\n",
      "    losses: 16.7636341709122\n",
      "    accuracy: 0.95\n",
      "Epoch: 74\n",
      "    losses: 16.804462390246588\n",
      "    accuracy: 0.9357142857142857\n",
      "Epoch: 75\n",
      "    losses: 16.779963158230792\n",
      "    accuracy: 0.9357142857142857\n",
      "Epoch: 76\n",
      "    losses: 16.99323885717964\n",
      "    accuracy: 0.95\n",
      "Epoch: 77\n",
      "    losses: 16.850205907188247\n",
      "    accuracy: 0.9464285714285714\n",
      "Epoch: 78\n",
      "    losses: 16.794102808085164\n",
      "    accuracy: 0.9464285714285714\n",
      "Epoch: 79\n",
      "    losses: 16.602511867057114\n",
      "    accuracy: 0.9392857142857143\n",
      "Epoch: 80\n",
      "    losses: 16.719963929261947\n",
      "    accuracy: 0.95\n",
      "Epoch: 81\n",
      "    losses: 16.496874931915393\n",
      "    accuracy: 0.9535714285714286\n",
      "Epoch: 82\n",
      "    losses: 16.605981633327477\n",
      "    accuracy: 0.9428571428571428\n",
      "Epoch: 83\n",
      "    losses: 16.560090051520277\n",
      "    accuracy: 0.9464285714285714\n",
      "Epoch: 84\n",
      "    losses: 16.528275501878422\n",
      "    accuracy: 0.9392857142857143\n",
      "Epoch: 85\n",
      "    losses: 16.515957387598068\n",
      "    accuracy: 0.9535714285714286\n",
      "Epoch: 86\n",
      "    losses: 16.08561088794406\n",
      "    accuracy: 0.9428571428571428\n",
      "Epoch: 87\n",
      "    losses: 16.409655569620927\n",
      "    accuracy: 0.9392857142857143\n",
      "Epoch: 88\n",
      "    losses: 16.176713947004696\n",
      "    accuracy: 0.95\n",
      "Epoch: 89\n",
      "    losses: 16.373053444637943\n",
      "    accuracy: 0.9428571428571428\n",
      "Epoch: 90\n",
      "    losses: 16.26077851569665\n",
      "    accuracy: 0.9535714285714286\n",
      "Epoch: 91\n",
      "    losses: 16.13720404398113\n",
      "    accuracy: 0.9535714285714286\n",
      "Epoch: 92\n",
      "    losses: 15.882298398942135\n",
      "    accuracy: 0.9392857142857143\n",
      "Epoch: 93\n",
      "    losses: 16.16669861561777\n",
      "    accuracy: 0.9392857142857143\n",
      "Epoch: 94\n",
      "    losses: 15.99611404059471\n",
      "    accuracy: 0.9357142857142857\n",
      "Epoch: 95\n",
      "    losses: 16.080389000676533\n",
      "    accuracy: 0.9464285714285714\n",
      "Epoch: 96\n",
      "    losses: 15.916611995621226\n",
      "    accuracy: 0.9464285714285714\n",
      "Epoch: 97\n",
      "    losses: 15.994720293429838\n",
      "    accuracy: 0.95\n",
      "Epoch: 98\n",
      "    losses: 15.999395483184147\n",
      "    accuracy: 0.9428571428571428\n",
      "Epoch: 99\n",
      "    losses: 15.194117945865207\n",
      "    accuracy: 0.95\n"
     ]
    }
   ],
   "source": [
    "loss_history, accuracy_history, thetas_history = online_stochastic_gradient_descent(train_data)"
   ]
  },
  {
   "cell_type": "code",
   "execution_count": 339,
   "id": "b3b2f0e5",
   "metadata": {},
   "outputs": [
    {
     "name": "stdout",
     "output_type": "stream",
     "text": [
      "Epoch: 0\n",
      "    losses: 130.85661665414563\n",
      "    accuracy: 0.49642857142857144\n",
      "Epoch: 1\n",
      "    losses: 123.01535163946437\n",
      "    accuracy: 0.49642857142857144\n",
      "Epoch: 2\n",
      "    losses: 77.85064176718635\n",
      "    accuracy: 0.5857142857142857\n",
      "Epoch: 3\n",
      "    losses: 57.43703919090382\n",
      "    accuracy: 0.6857142857142857\n",
      "Epoch: 4\n",
      "    losses: 54.057351123368605\n",
      "    accuracy: 0.7107142857142857\n",
      "Epoch: 5\n",
      "    losses: 51.132275734744745\n",
      "    accuracy: 0.7142857142857143\n",
      "Epoch: 6\n",
      "    losses: 48.04692909807956\n",
      "    accuracy: 0.7642857142857142\n",
      "Epoch: 7\n",
      "    losses: 46.1319491015973\n",
      "    accuracy: 0.7714285714285715\n",
      "Epoch: 8\n",
      "    losses: 43.57518158712079\n",
      "    accuracy: 0.7964285714285714\n",
      "Epoch: 9\n",
      "    losses: 42.028940314817355\n",
      "    accuracy: 0.8107142857142857\n",
      "Epoch: 10\n",
      "    losses: 39.87059522844754\n",
      "    accuracy: 0.8285714285714286\n",
      "Epoch: 11\n",
      "    losses: 38.17149000999186\n",
      "    accuracy: 0.8535714285714285\n",
      "Epoch: 12\n",
      "    losses: 36.339661772809485\n",
      "    accuracy: 0.8571428571428571\n",
      "Epoch: 13\n",
      "    losses: 35.04186165673503\n",
      "    accuracy: 0.8642857142857143\n",
      "Epoch: 14\n",
      "    losses: 34.210546861784906\n",
      "    accuracy: 0.8821428571428571\n",
      "Epoch: 15\n",
      "    losses: 32.807754354671275\n",
      "    accuracy: 0.8857142857142857\n",
      "Epoch: 16\n",
      "    losses: 31.988560023549578\n",
      "    accuracy: 0.8892857142857142\n",
      "Epoch: 17\n",
      "    losses: 30.225565043644135\n",
      "    accuracy: 0.9142857142857143\n",
      "Epoch: 18\n",
      "    losses: 30.038714039253687\n",
      "    accuracy: 0.8821428571428571\n",
      "Epoch: 19\n",
      "    losses: 29.107438796620276\n",
      "    accuracy: 0.9035714285714286\n",
      "Epoch: 20\n",
      "    losses: 28.588672470155387\n",
      "    accuracy: 0.9\n",
      "Epoch: 21\n",
      "    losses: 27.67373894232884\n",
      "    accuracy: 0.9071428571428571\n",
      "Epoch: 22\n",
      "    losses: 27.483779648903745\n",
      "    accuracy: 0.9071428571428571\n",
      "Epoch: 23\n",
      "    losses: 26.485523747322357\n",
      "    accuracy: 0.9214285714285714\n",
      "Epoch: 24\n",
      "    losses: 26.37785335732438\n",
      "    accuracy: 0.8892857142857142\n",
      "Epoch: 25\n",
      "    losses: 25.927688178049042\n",
      "    accuracy: 0.9142857142857143\n",
      "Epoch: 26\n",
      "    losses: 25.33081923841164\n",
      "    accuracy: 0.9214285714285714\n",
      "Epoch: 27\n",
      "    losses: 24.695956495642008\n",
      "    accuracy: 0.9285714285714286\n",
      "Epoch: 28\n",
      "    losses: 24.35307285921522\n",
      "    accuracy: 0.9321428571428572\n",
      "Epoch: 29\n",
      "    losses: 23.743854788897405\n",
      "    accuracy: 0.9285714285714286\n",
      "Epoch: 30\n",
      "    losses: 23.986828857549934\n",
      "    accuracy: 0.925\n",
      "Epoch: 31\n",
      "    losses: 23.263093061383035\n",
      "    accuracy: 0.9178571428571428\n",
      "Epoch: 32\n",
      "    losses: 23.21923249613429\n",
      "    accuracy: 0.9285714285714286\n",
      "Epoch: 33\n",
      "    losses: 23.02667600661656\n",
      "    accuracy: 0.9214285714285714\n",
      "Epoch: 34\n",
      "    losses: 22.03305981374176\n",
      "    accuracy: 0.9214285714285714\n",
      "Epoch: 35\n",
      "    losses: 22.361092024879333\n",
      "    accuracy: 0.9285714285714286\n",
      "Epoch: 36\n",
      "    losses: 22.07405458986836\n",
      "    accuracy: 0.9321428571428572\n",
      "Epoch: 37\n",
      "    losses: 21.85712477093781\n",
      "    accuracy: 0.9357142857142857\n",
      "Epoch: 38\n",
      "    losses: 21.653217524412245\n",
      "    accuracy: 0.9357142857142857\n",
      "Epoch: 39\n",
      "    losses: 21.508850810166404\n",
      "    accuracy: 0.9357142857142857\n",
      "Epoch: 40\n",
      "    losses: 21.166905022862142\n",
      "    accuracy: 0.9321428571428572\n",
      "Epoch: 41\n",
      "    losses: 21.075210818387763\n",
      "    accuracy: 0.9321428571428572\n",
      "Epoch: 42\n",
      "    losses: 20.708088351377256\n",
      "    accuracy: 0.9357142857142857\n",
      "Epoch: 43\n",
      "    losses: 20.59824150903349\n",
      "    accuracy: 0.9321428571428572\n",
      "Epoch: 44\n",
      "    losses: 20.423970393412308\n",
      "    accuracy: 0.9357142857142857\n",
      "Epoch: 45\n",
      "    losses: 20.444284872962122\n",
      "    accuracy: 0.9357142857142857\n",
      "Epoch: 46\n",
      "    losses: 20.218313598783805\n",
      "    accuracy: 0.9428571428571428\n",
      "Epoch: 47\n",
      "    losses: 19.908493482945286\n",
      "    accuracy: 0.9321428571428572\n",
      "Epoch: 48\n",
      "    losses: 19.882200511368737\n",
      "    accuracy: 0.9321428571428572\n",
      "Epoch: 49\n",
      "    losses: 19.597155134422646\n",
      "    accuracy: 0.9321428571428572\n",
      "Epoch: 50\n",
      "    losses: 19.47783156155451\n",
      "    accuracy: 0.9321428571428572\n",
      "Epoch: 51\n",
      "    losses: 19.2360666308743\n",
      "    accuracy: 0.95\n",
      "Epoch: 52\n",
      "    losses: 19.356293355699943\n",
      "    accuracy: 0.9392857142857143\n",
      "Epoch: 53\n",
      "    losses: 19.131178635743236\n",
      "    accuracy: 0.9392857142857143\n",
      "Epoch: 54\n",
      "    losses: 19.074838288283587\n",
      "    accuracy: 0.9392857142857143\n",
      "Epoch: 55\n",
      "    losses: 19.045642237910915\n",
      "    accuracy: 0.9428571428571428\n",
      "Epoch: 56\n",
      "    losses: 18.85622618896456\n",
      "    accuracy: 0.9428571428571428\n",
      "Epoch: 57\n",
      "    losses: 18.599463701383186\n",
      "    accuracy: 0.9357142857142857\n",
      "Epoch: 58\n",
      "    losses: 18.70448503825638\n",
      "    accuracy: 0.9392857142857143\n",
      "Epoch: 59\n",
      "    losses: 18.60281097892866\n",
      "    accuracy: 0.9357142857142857\n",
      "Epoch: 60\n",
      "    losses: 18.476291413709284\n",
      "    accuracy: 0.9357142857142857\n",
      "Epoch: 61\n",
      "    losses: 18.162034800250627\n",
      "    accuracy: 0.9392857142857143\n",
      "Epoch: 62\n",
      "    losses: 18.011166352177828\n",
      "    accuracy: 0.9428571428571428\n",
      "Epoch: 63\n",
      "    losses: 18.1981802370401\n",
      "    accuracy: 0.9392857142857143\n",
      "Epoch: 64\n",
      "    losses: 17.894814555638966\n",
      "    accuracy: 0.9392857142857143\n",
      "Epoch: 65\n",
      "    losses: 18.153122094625704\n",
      "    accuracy: 0.9321428571428572\n",
      "Epoch: 66\n",
      "    losses: 17.920542161988795\n",
      "    accuracy: 0.9464285714285714\n",
      "Epoch: 67\n",
      "    losses: 17.447005274822665\n",
      "    accuracy: 0.9392857142857143\n",
      "Epoch: 68\n",
      "    losses: 17.648355583058443\n",
      "    accuracy: 0.9357142857142857\n",
      "Epoch: 69\n",
      "    losses: 17.51083121864094\n",
      "    accuracy: 0.9428571428571428\n",
      "Epoch: 70\n",
      "    losses: 17.660763569646075\n",
      "    accuracy: 0.9428571428571428\n",
      "Epoch: 71\n",
      "    losses: 17.62845332539178\n",
      "    accuracy: 0.9392857142857143\n",
      "Epoch: 72\n",
      "    losses: 17.598241858309194\n",
      "    accuracy: 0.9392857142857143\n",
      "Epoch: 73\n",
      "    losses: 17.186566822312077\n",
      "    accuracy: 0.9392857142857143\n",
      "Epoch: 74\n",
      "    losses: 17.50401201383212\n",
      "    accuracy: 0.9464285714285714\n",
      "Epoch: 75\n",
      "    losses: 17.27381293678603\n",
      "    accuracy: 0.9464285714285714\n",
      "Epoch: 76\n",
      "    losses: 17.221035705002073\n",
      "    accuracy: 0.9392857142857143\n",
      "Epoch: 77\n",
      "    losses: 17.104499951088485\n",
      "    accuracy: 0.9428571428571428\n",
      "Epoch: 78\n",
      "    losses: 17.021496634306036\n",
      "    accuracy: 0.9464285714285714\n",
      "Epoch: 79\n",
      "    losses: 17.03986072124286\n",
      "    accuracy: 0.9428571428571428\n",
      "Epoch: 80\n",
      "    losses: 17.119950075721675\n",
      "    accuracy: 0.9428571428571428\n",
      "Epoch: 81\n",
      "    losses: 17.05643372158193\n",
      "    accuracy: 0.9428571428571428\n",
      "Epoch: 82\n",
      "    losses: 16.96614784334594\n",
      "    accuracy: 0.9357142857142857\n",
      "Epoch: 83\n",
      "    losses: 16.701247947217812\n",
      "    accuracy: 0.9357142857142857\n",
      "Epoch: 84\n",
      "    losses: 16.92034694888876\n",
      "    accuracy: 0.9428571428571428\n",
      "Epoch: 85\n",
      "    losses: 16.67830314698314\n",
      "    accuracy: 0.9428571428571428\n",
      "Epoch: 86\n",
      "    losses: 16.6144532994722\n",
      "    accuracy: 0.9357142857142857\n",
      "Epoch: 87\n",
      "    losses: 16.717620247787995\n",
      "    accuracy: 0.9392857142857143\n",
      "Epoch: 88\n",
      "    losses: 16.62414735610683\n",
      "    accuracy: 0.95\n",
      "Epoch: 89\n",
      "    losses: 16.614031038513858\n",
      "    accuracy: 0.9321428571428572\n",
      "Epoch: 90\n",
      "    losses: 16.559293320642418\n",
      "    accuracy: 0.9392857142857143\n",
      "Epoch: 91\n",
      "    losses: 16.418997604303758\n",
      "    accuracy: 0.95\n",
      "Epoch: 92\n",
      "    losses: 16.499845691438985\n",
      "    accuracy: 0.9392857142857143\n",
      "Epoch: 93\n",
      "    losses: 16.45206393218081\n",
      "    accuracy: 0.9392857142857143\n",
      "Epoch: 94\n",
      "    losses: 16.399989933153567\n",
      "    accuracy: 0.9464285714285714\n",
      "Epoch: 95\n",
      "    losses: 16.385577994973982\n",
      "    accuracy: 0.9392857142857143\n",
      "Epoch: 96\n",
      "    losses: 16.345506073639555\n",
      "    accuracy: 0.95\n",
      "Epoch: 97\n",
      "    losses: 16.228080555090614\n",
      "    accuracy: 0.9392857142857143\n",
      "Epoch: 98\n",
      "    losses: 16.20093766673072\n",
      "    accuracy: 0.9357142857142857\n",
      "Epoch: 99\n",
      "    losses: 16.25981384792201\n",
      "    accuracy: 0.9357142857142857\n"
     ]
    }
   ],
   "source": [
    "loss_history, accuracy_history, thetas_history = batch_gradient_descent(train_data)"
   ]
  },
  {
   "cell_type": "code",
   "execution_count": 452,
   "id": "3b55b951",
   "metadata": {},
   "outputs": [
    {
     "data": {
      "text/plain": [
       "Text(0, 0.5, 'Sum of Squared Error')"
      ]
     },
     "execution_count": 452,
     "metadata": {},
     "output_type": "execute_result"
    },
    {
     "data": {
      "image/png": "[encoded data removed]",
      "text/plain": [
       "<Figure size 432x288 with 1 Axes>"
      ]
     },
     "metadata": {
      "needs_background": "light"
     },
     "output_type": "display_data"
    }
   ],
   "source": [
    "plt.plot(loss_history)\n",
    "plt.xlabel('Epoch')\n",
    "plt.ylabel('Sum of Squared Error')"
   ]
  },
  {
   "cell_type": "code",
   "execution_count": 453,
   "id": "f4162d11",
   "metadata": {},
   "outputs": [
    {
     "data": {
      "text/plain": [
       "Text(0, 0.5, 'Accuracy')"
      ]
     },
     "execution_count": 453,
     "metadata": {},
     "output_type": "execute_result"
    },
    {
     "data": {
      "image/png": "[encoded data removed]",
      "text/plain": [
       "<Figure size 432x288 with 1 Axes>"
      ]
     },
     "metadata": {
      "needs_background": "light"
     },
     "output_type": "display_data"
    }
   ],
   "source": [
    "plt.plot(accuracy_history)\n",
    "plt.xlabel('Epoch')\n",
    "plt.ylabel('Accuracy')"
   ]
  },
  {
   "cell_type": "code",
   "execution_count": 454,
   "id": "d59c4698",
   "metadata": {},
   "outputs": [
    {
     "data": {
      "text/plain": [
       "<matplotlib.legend.Legend at 0x20cefbcee80>"
      ]
     },
     "execution_count": 454,
     "metadata": {},
     "output_type": "execute_result"
    },
    {
     "data": {
      "image/png": "[encoded data removed]",
      "text/plain": [
       "<Figure size 432x288 with 1 Axes>"
      ]
     },
     "metadata": {
      "needs_background": "light"
     },
     "output_type": "display_data"
    }
   ],
   "source": [
    "thetas_history = np.array(thetas_history)\n",
    "plt.plot(thetas_history[:, 1:])\n",
    "plt.xlabel('Epoch')\n",
    "plt.ylabel('Weights')\n",
    "plt.legend(['w1', 'w2'])"
   ]
  }
 ],
 "metadata": {
  "kernelspec": {
   "display_name": "Python 3 (ipykernel)",
   "language": "python",
   "name": "python3"
  },
  "language_info": {
   "codemirror_mode": {
    "name": "ipython",
    "version": 3
   },
   "file_extension": ".py",
   "mimetype": "text/x-python",
   "name": "python",
   "nbconvert_exporter": "python",
   "pygments_lexer": "ipython3",
   "version": "3.9.12"
  }
 },
 "nbformat": 4,
 "nbformat_minor": 5
}
