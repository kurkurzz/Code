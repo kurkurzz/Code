{
  "nbformat": 4,
  "nbformat_minor": 0,
  "metadata": {
    "colab": {
      "name": "Multi Layer Perceptron with Kuzhushiji MNIST dataset.ipynb",
      "provenance": [],
      "collapsed_sections": [],
      "authorship_tag": "ABX9TyOH49bdsOYLIwaeaEdwwDBe",
      "include_colab_link": true
    },
    "kernelspec": {
      "name": "python3",
      "display_name": "Python 3"
    },
    "language_info": {
      "name": "python"
    },
    "widgets": {
      "application/vnd.jupyter.widget-state+json": {
        "47e6ee3eadab45d4bafedc4f38d5b0e9": {
          "model_module": "@jupyter-widgets/controls",
          "model_name": "HBoxModel",
          "model_module_version": "1.5.0",
          "state": {
            "_dom_classes": [],
            "_model_module": "@jupyter-widgets/controls",
            "_model_module_version": "1.5.0",
            "_model_name": "HBoxModel",
            "_view_count": null,
            "_view_module": "@jupyter-widgets/controls",
            "_view_module_version": "1.5.0",
            "_view_name": "HBoxView",
            "box_style": "",
            "children": [
              "IPY_MODEL_f6f8b4990a7b4d8faa1a37a43f4489b8",
              "IPY_MODEL_dc60a74aadb9419f94972348552cecb1",
              "IPY_MODEL_2c58fd1695ec48d0b65559ccc6bac36d"
            ],
            "layout": "IPY_MODEL_81481025629c44318e4e087a64a5a26c"
          }
        },
        "f6f8b4990a7b4d8faa1a37a43f4489b8": {
          "model_module": "@jupyter-widgets/controls",
          "model_name": "HTMLModel",
          "model_module_version": "1.5.0",
          "state": {
            "_dom_classes": [],
            "_model_module": "@jupyter-widgets/controls",
            "_model_module_version": "1.5.0",
            "_model_name": "HTMLModel",
            "_view_count": null,
            "_view_module": "@jupyter-widgets/controls",
            "_view_module_version": "1.5.0",
            "_view_name": "HTMLView",
            "description": "",
            "description_tooltip": null,
            "layout": "IPY_MODEL_2c2b49be7e4843c4859eb76b412502c0",
            "placeholder": "​",
            "style": "IPY_MODEL_b6149ff1a0cb4782b68d6411915cc1a6",
            "value": ""
          }
        },
        "dc60a74aadb9419f94972348552cecb1": {
          "model_module": "@jupyter-widgets/controls",
          "model_name": "FloatProgressModel",
          "model_module_version": "1.5.0",
          "state": {
            "_dom_classes": [],
            "_model_module": "@jupyter-widgets/controls",
            "_model_module_version": "1.5.0",
            "_model_name": "FloatProgressModel",
            "_view_count": null,
            "_view_module": "@jupyter-widgets/controls",
            "_view_module_version": "1.5.0",
            "_view_name": "ProgressView",
            "bar_style": "success",
            "description": "",
            "description_tooltip": null,
            "layout": "IPY_MODEL_4fa539cc3cd1480da7adcb07b3508fdc",
            "max": 18165135,
            "min": 0,
            "orientation": "horizontal",
            "style": "IPY_MODEL_bd68c49917ce4a79b3473ef89054070c",
            "value": 18165135
          }
        },
        "2c58fd1695ec48d0b65559ccc6bac36d": {
          "model_module": "@jupyter-widgets/controls",
          "model_name": "HTMLModel",
          "model_module_version": "1.5.0",
          "state": {
            "_dom_classes": [],
            "_model_module": "@jupyter-widgets/controls",
            "_model_module_version": "1.5.0",
            "_model_name": "HTMLModel",
            "_view_count": null,
            "_view_module": "@jupyter-widgets/controls",
            "_view_module_version": "1.5.0",
            "_view_name": "HTMLView",
            "description": "",
            "description_tooltip": null,
            "layout": "IPY_MODEL_132504dcf2444e3e9cb8844faaa42394",
            "placeholder": "​",
            "style": "IPY_MODEL_beede099f9204cc38279dd1ef1329d46",
            "value": " 18165760/? [00:14&lt;00:00, 1440032.67it/s]"
          }
        },
        "81481025629c44318e4e087a64a5a26c": {
          "model_module": "@jupyter-widgets/base",
          "model_name": "LayoutModel",
          "model_module_version": "1.2.0",
          "state": {
            "_model_module": "@jupyter-widgets/base",
            "_model_module_version": "1.2.0",
            "_model_name": "LayoutModel",
            "_view_count": null,
            "_view_module": "@jupyter-widgets/base",
            "_view_module_version": "1.2.0",
            "_view_name": "LayoutView",
            "align_content": null,
            "align_items": null,
            "align_self": null,
            "border": null,
            "bottom": null,
            "display": null,
            "flex": null,
            "flex_flow": null,
            "grid_area": null,
            "grid_auto_columns": null,
            "grid_auto_flow": null,
            "grid_auto_rows": null,
            "grid_column": null,
            "grid_gap": null,
            "grid_row": null,
            "grid_template_areas": null,
            "grid_template_columns": null,
            "grid_template_rows": null,
            "height": null,
            "justify_content": null,
            "justify_items": null,
            "left": null,
            "margin": null,
            "max_height": null,
            "max_width": null,
            "min_height": null,
            "min_width": null,
            "object_fit": null,
            "object_position": null,
            "order": null,
            "overflow": null,
            "overflow_x": null,
            "overflow_y": null,
            "padding": null,
            "right": null,
            "top": null,
            "visibility": null,
            "width": null
          }
        },
        "2c2b49be7e4843c4859eb76b412502c0": {
          "model_module": "@jupyter-widgets/base",
          "model_name": "LayoutModel",
          "model_module_version": "1.2.0",
          "state": {
            "_model_module": "@jupyter-widgets/base",
            "_model_module_version": "1.2.0",
            "_model_name": "LayoutModel",
            "_view_count": null,
            "_view_module": "@jupyter-widgets/base",
            "_view_module_version": "1.2.0",
            "_view_name": "LayoutView",
            "align_content": null,
            "align_items": null,
            "align_self": null,
            "border": null,
            "bottom": null,
            "display": null,
            "flex": null,
            "flex_flow": null,
            "grid_area": null,
            "grid_auto_columns": null,
            "grid_auto_flow": null,
            "grid_auto_rows": null,
            "grid_column": null,
            "grid_gap": null,
            "grid_row": null,
            "grid_template_areas": null,
            "grid_template_columns": null,
            "grid_template_rows": null,
            "height": null,
            "justify_content": null,
            "justify_items": null,
            "left": null,
            "margin": null,
            "max_height": null,
            "max_width": null,
            "min_height": null,
            "min_width": null,
            "object_fit": null,
            "object_position": null,
            "order": null,
            "overflow": null,
            "overflow_x": null,
            "overflow_y": null,
            "padding": null,
            "right": null,
            "top": null,
            "visibility": null,
            "width": null
          }
        },
        "b6149ff1a0cb4782b68d6411915cc1a6": {
          "model_module": "@jupyter-widgets/controls",
          "model_name": "DescriptionStyleModel",
          "model_module_version": "1.5.0",
          "state": {
            "_model_module": "@jupyter-widgets/controls",
            "_model_module_version": "1.5.0",
            "_model_name": "DescriptionStyleModel",
            "_view_count": null,
            "_view_module": "@jupyter-widgets/base",
            "_view_module_version": "1.2.0",
            "_view_name": "StyleView",
            "description_width": ""
          }
        },
        "4fa539cc3cd1480da7adcb07b3508fdc": {
          "model_module": "@jupyter-widgets/base",
          "model_name": "LayoutModel",
          "model_module_version": "1.2.0",
          "state": {
            "_model_module": "@jupyter-widgets/base",
            "_model_module_version": "1.2.0",
            "_model_name": "LayoutModel",
            "_view_count": null,
            "_view_module": "@jupyter-widgets/base",
            "_view_module_version": "1.2.0",
            "_view_name": "LayoutView",
            "align_content": null,
            "align_items": null,
            "align_self": null,
            "border": null,
            "bottom": null,
            "display": null,
            "flex": null,
            "flex_flow": null,
            "grid_area": null,
            "grid_auto_columns": null,
            "grid_auto_flow": null,
            "grid_auto_rows": null,
            "grid_column": null,
            "grid_gap": null,
            "grid_row": null,
            "grid_template_areas": null,
            "grid_template_columns": null,
            "grid_template_rows": null,
            "height": null,
            "justify_content": null,
            "justify_items": null,
            "left": null,
            "margin": null,
            "max_height": null,
            "max_width": null,
            "min_height": null,
            "min_width": null,
            "object_fit": null,
            "object_position": null,
            "order": null,
            "overflow": null,
            "overflow_x": null,
            "overflow_y": null,
            "padding": null,
            "right": null,
            "top": null,
            "visibility": null,
            "width": null
          }
        },
        "bd68c49917ce4a79b3473ef89054070c": {
          "model_module": "@jupyter-widgets/controls",
          "model_name": "ProgressStyleModel",
          "model_module_version": "1.5.0",
          "state": {
            "_model_module": "@jupyter-widgets/controls",
            "_model_module_version": "1.5.0",
            "_model_name": "ProgressStyleModel",
            "_view_count": null,
            "_view_module": "@jupyter-widgets/base",
            "_view_module_version": "1.2.0",
            "_view_name": "StyleView",
            "bar_color": null,
            "description_width": ""
          }
        },
        "132504dcf2444e3e9cb8844faaa42394": {
          "model_module": "@jupyter-widgets/base",
          "model_name": "LayoutModel",
          "model_module_version": "1.2.0",
          "state": {
            "_model_module": "@jupyter-widgets/base",
            "_model_module_version": "1.2.0",
            "_model_name": "LayoutModel",
            "_view_count": null,
            "_view_module": "@jupyter-widgets/base",
            "_view_module_version": "1.2.0",
            "_view_name": "LayoutView",
            "align_content": null,
            "align_items": null,
            "align_self": null,
            "border": null,
            "bottom": null,
            "display": null,
            "flex": null,
            "flex_flow": null,
            "grid_area": null,
            "grid_auto_columns": null,
            "grid_auto_flow": null,
            "grid_auto_rows": null,
            "grid_column": null,
            "grid_gap": null,
            "grid_row": null,
            "grid_template_areas": null,
            "grid_template_columns": null,
            "grid_template_rows": null,
            "height": null,
            "justify_content": null,
            "justify_items": null,
            "left": null,
            "margin": null,
            "max_height": null,
            "max_width": null,
            "min_height": null,
            "min_width": null,
            "object_fit": null,
            "object_position": null,
            "order": null,
            "overflow": null,
            "overflow_x": null,
            "overflow_y": null,
            "padding": null,
            "right": null,
            "top": null,
            "visibility": null,
            "width": null
          }
        },
        "beede099f9204cc38279dd1ef1329d46": {
          "model_module": "@jupyter-widgets/controls",
          "model_name": "DescriptionStyleModel",
          "model_module_version": "1.5.0",
          "state": {
            "_model_module": "@jupyter-widgets/controls",
            "_model_module_version": "1.5.0",
            "_model_name": "DescriptionStyleModel",
            "_view_count": null,
            "_view_module": "@jupyter-widgets/base",
            "_view_module_version": "1.2.0",
            "_view_name": "StyleView",
            "description_width": ""
          }
        },
        "631494dbb103462fb5f4084bea2f4a7a": {
          "model_module": "@jupyter-widgets/controls",
          "model_name": "HBoxModel",
          "model_module_version": "1.5.0",
          "state": {
            "_dom_classes": [],
            "_model_module": "@jupyter-widgets/controls",
            "_model_module_version": "1.5.0",
            "_model_name": "HBoxModel",
            "_view_count": null,
            "_view_module": "@jupyter-widgets/controls",
            "_view_module_version": "1.5.0",
            "_view_name": "HBoxView",
            "box_style": "",
            "children": [
              "IPY_MODEL_ff2b87014af4470eb1ac243a0ab2840f",
              "IPY_MODEL_5ffbf2a0613e4c56b8946ea593271176",
              "IPY_MODEL_0b747359dc1d42ed9c99d9a00fe36e7e"
            ],
            "layout": "IPY_MODEL_2f9f0334d74642a1b8fee4b069659cb1"
          }
        },
        "ff2b87014af4470eb1ac243a0ab2840f": {
          "model_module": "@jupyter-widgets/controls",
          "model_name": "HTMLModel",
          "model_module_version": "1.5.0",
          "state": {
            "_dom_classes": [],
            "_model_module": "@jupyter-widgets/controls",
            "_model_module_version": "1.5.0",
            "_model_name": "HTMLModel",
            "_view_count": null,
            "_view_module": "@jupyter-widgets/controls",
            "_view_module_version": "1.5.0",
            "_view_name": "HTMLView",
            "description": "",
            "description_tooltip": null,
            "layout": "IPY_MODEL_2d895e8049604dd2ab67be167e4aee98",
            "placeholder": "​",
            "style": "IPY_MODEL_41f898885a564e5eae69dcc0efa139cc",
            "value": ""
          }
        },
        "5ffbf2a0613e4c56b8946ea593271176": {
          "model_module": "@jupyter-widgets/controls",
          "model_name": "FloatProgressModel",
          "model_module_version": "1.5.0",
          "state": {
            "_dom_classes": [],
            "_model_module": "@jupyter-widgets/controls",
            "_model_module_version": "1.5.0",
            "_model_name": "FloatProgressModel",
            "_view_count": null,
            "_view_module": "@jupyter-widgets/controls",
            "_view_module_version": "1.5.0",
            "_view_name": "ProgressView",
            "bar_style": "success",
            "description": "",
            "description_tooltip": null,
            "layout": "IPY_MODEL_3c41a37361074c83aae0e8007f04a914",
            "max": 29497,
            "min": 0,
            "orientation": "horizontal",
            "style": "IPY_MODEL_1fb411541a3e4d53bd68bcad8161f34c",
            "value": 29497
          }
        },
        "0b747359dc1d42ed9c99d9a00fe36e7e": {
          "model_module": "@jupyter-widgets/controls",
          "model_name": "HTMLModel",
          "model_module_version": "1.5.0",
          "state": {
            "_dom_classes": [],
            "_model_module": "@jupyter-widgets/controls",
            "_model_module_version": "1.5.0",
            "_model_name": "HTMLModel",
            "_view_count": null,
            "_view_module": "@jupyter-widgets/controls",
            "_view_module_version": "1.5.0",
            "_view_name": "HTMLView",
            "description": "",
            "description_tooltip": null,
            "layout": "IPY_MODEL_807ba39b78de4e89a9973674b8519abf",
            "placeholder": "​",
            "style": "IPY_MODEL_37c904c534f84be2bfa12f5ae84535c2",
            "value": " 29696/? [00:00&lt;00:00, 5315.48it/s]"
          }
        },
        "2f9f0334d74642a1b8fee4b069659cb1": {
          "model_module": "@jupyter-widgets/base",
          "model_name": "LayoutModel",
          "model_module_version": "1.2.0",
          "state": {
            "_model_module": "@jupyter-widgets/base",
            "_model_module_version": "1.2.0",
            "_model_name": "LayoutModel",
            "_view_count": null,
            "_view_module": "@jupyter-widgets/base",
            "_view_module_version": "1.2.0",
            "_view_name": "LayoutView",
            "align_content": null,
            "align_items": null,
            "align_self": null,
            "border": null,
            "bottom": null,
            "display": null,
            "flex": null,
            "flex_flow": null,
            "grid_area": null,
            "grid_auto_columns": null,
            "grid_auto_flow": null,
            "grid_auto_rows": null,
            "grid_column": null,
            "grid_gap": null,
            "grid_row": null,
            "grid_template_areas": null,
            "grid_template_columns": null,
            "grid_template_rows": null,
            "height": null,
            "justify_content": null,
            "justify_items": null,
            "left": null,
            "margin": null,
            "max_height": null,
            "max_width": null,
            "min_height": null,
            "min_width": null,
            "object_fit": null,
            "object_position": null,
            "order": null,
            "overflow": null,
            "overflow_x": null,
            "overflow_y": null,
            "padding": null,
            "right": null,
            "top": null,
            "visibility": null,
            "width": null
          }
        },
        "2d895e8049604dd2ab67be167e4aee98": {
          "model_module": "@jupyter-widgets/base",
          "model_name": "LayoutModel",
          "model_module_version": "1.2.0",
          "state": {
            "_model_module": "@jupyter-widgets/base",
            "_model_module_version": "1.2.0",
            "_model_name": "LayoutModel",
            "_view_count": null,
            "_view_module": "@jupyter-widgets/base",
            "_view_module_version": "1.2.0",
            "_view_name": "LayoutView",
            "align_content": null,
            "align_items": null,
            "align_self": null,
            "border": null,
            "bottom": null,
            "display": null,
            "flex": null,
            "flex_flow": null,
            "grid_area": null,
            "grid_auto_columns": null,
            "grid_auto_flow": null,
            "grid_auto_rows": null,
            "grid_column": null,
            "grid_gap": null,
            "grid_row": null,
            "grid_template_areas": null,
            "grid_template_columns": null,
            "grid_template_rows": null,
            "height": null,
            "justify_content": null,
            "justify_items": null,
            "left": null,
            "margin": null,
            "max_height": null,
            "max_width": null,
            "min_height": null,
            "min_width": null,
            "object_fit": null,
            "object_position": null,
            "order": null,
            "overflow": null,
            "overflow_x": null,
            "overflow_y": null,
            "padding": null,
            "right": null,
            "top": null,
            "visibility": null,
            "width": null
          }
        },
        "41f898885a564e5eae69dcc0efa139cc": {
          "model_module": "@jupyter-widgets/controls",
          "model_name": "DescriptionStyleModel",
          "model_module_version": "1.5.0",
          "state": {
            "_model_module": "@jupyter-widgets/controls",
            "_model_module_version": "1.5.0",
            "_model_name": "DescriptionStyleModel",
            "_view_count": null,
            "_view_module": "@jupyter-widgets/base",
            "_view_module_version": "1.2.0",
            "_view_name": "StyleView",
            "description_width": ""
          }
        },
        "3c41a37361074c83aae0e8007f04a914": {
          "model_module": "@jupyter-widgets/base",
          "model_name": "LayoutModel",
          "model_module_version": "1.2.0",
          "state": {
            "_model_module": "@jupyter-widgets/base",
            "_model_module_version": "1.2.0",
            "_model_name": "LayoutModel",
            "_view_count": null,
            "_view_module": "@jupyter-widgets/base",
            "_view_module_version": "1.2.0",
            "_view_name": "LayoutView",
            "align_content": null,
            "align_items": null,
            "align_self": null,
            "border": null,
            "bottom": null,
            "display": null,
            "flex": null,
            "flex_flow": null,
            "grid_area": null,
            "grid_auto_columns": null,
            "grid_auto_flow": null,
            "grid_auto_rows": null,
            "grid_column": null,
            "grid_gap": null,
            "grid_row": null,
            "grid_template_areas": null,
            "grid_template_columns": null,
            "grid_template_rows": null,
            "height": null,
            "justify_content": null,
            "justify_items": null,
            "left": null,
            "margin": null,
            "max_height": null,
            "max_width": null,
            "min_height": null,
            "min_width": null,
            "object_fit": null,
            "object_position": null,
            "order": null,
            "overflow": null,
            "overflow_x": null,
            "overflow_y": null,
            "padding": null,
            "right": null,
            "top": null,
            "visibility": null,
            "width": null
          }
        },
        "1fb411541a3e4d53bd68bcad8161f34c": {
          "model_module": "@jupyter-widgets/controls",
          "model_name": "ProgressStyleModel",
          "model_module_version": "1.5.0",
          "state": {
            "_model_module": "@jupyter-widgets/controls",
            "_model_module_version": "1.5.0",
            "_model_name": "ProgressStyleModel",
            "_view_count": null,
            "_view_module": "@jupyter-widgets/base",
            "_view_module_version": "1.2.0",
            "_view_name": "StyleView",
            "bar_color": null,
            "description_width": ""
          }
        },
        "807ba39b78de4e89a9973674b8519abf": {
          "model_module": "@jupyter-widgets/base",
          "model_name": "LayoutModel",
          "model_module_version": "1.2.0",
          "state": {
            "_model_module": "@jupyter-widgets/base",
            "_model_module_version": "1.2.0",
            "_model_name": "LayoutModel",
            "_view_count": null,
            "_view_module": "@jupyter-widgets/base",
            "_view_module_version": "1.2.0",
            "_view_name": "LayoutView",
            "align_content": null,
            "align_items": null,
            "align_self": null,
            "border": null,
            "bottom": null,
            "display": null,
            "flex": null,
            "flex_flow": null,
            "grid_area": null,
            "grid_auto_columns": null,
            "grid_auto_flow": null,
            "grid_auto_rows": null,
            "grid_column": null,
            "grid_gap": null,
            "grid_row": null,
            "grid_template_areas": null,
            "grid_template_columns": null,
            "grid_template_rows": null,
            "height": null,
            "justify_content": null,
            "justify_items": null,
            "left": null,
            "margin": null,
            "max_height": null,
            "max_width": null,
            "min_height": null,
            "min_width": null,
            "object_fit": null,
            "object_position": null,
            "order": null,
            "overflow": null,
            "overflow_x": null,
            "overflow_y": null,
            "padding": null,
            "right": null,
            "top": null,
            "visibility": null,
            "width": null
          }
        },
        "37c904c534f84be2bfa12f5ae84535c2": {
          "model_module": "@jupyter-widgets/controls",
          "model_name": "DescriptionStyleModel",
          "model_module_version": "1.5.0",
          "state": {
            "_model_module": "@jupyter-widgets/controls",
            "_model_module_version": "1.5.0",
            "_model_name": "DescriptionStyleModel",
            "_view_count": null,
            "_view_module": "@jupyter-widgets/base",
            "_view_module_version": "1.2.0",
            "_view_name": "StyleView",
            "description_width": ""
          }
        },
        "9fab68e419ee4e6d8cb1074a0a43308d": {
          "model_module": "@jupyter-widgets/controls",
          "model_name": "HBoxModel",
          "model_module_version": "1.5.0",
          "state": {
            "_dom_classes": [],
            "_model_module": "@jupyter-widgets/controls",
            "_model_module_version": "1.5.0",
            "_model_name": "HBoxModel",
            "_view_count": null,
            "_view_module": "@jupyter-widgets/controls",
            "_view_module_version": "1.5.0",
            "_view_name": "HBoxView",
            "box_style": "",
            "children": [
              "IPY_MODEL_b29b3c92994b440e9c5f8828af365671",
              "IPY_MODEL_b0753021774542f0ab29e15c5d94ab5c",
              "IPY_MODEL_41fea644855e4e619553384f1ec8b913"
            ],
            "layout": "IPY_MODEL_159c7cdb5a244cc5aa4f98ad42ad2ece"
          }
        },
        "b29b3c92994b440e9c5f8828af365671": {
          "model_module": "@jupyter-widgets/controls",
          "model_name": "HTMLModel",
          "model_module_version": "1.5.0",
          "state": {
            "_dom_classes": [],
            "_model_module": "@jupyter-widgets/controls",
            "_model_module_version": "1.5.0",
            "_model_name": "HTMLModel",
            "_view_count": null,
            "_view_module": "@jupyter-widgets/controls",
            "_view_module_version": "1.5.0",
            "_view_name": "HTMLView",
            "description": "",
            "description_tooltip": null,
            "layout": "IPY_MODEL_4eb14a3c25674a5cae764f8edd9f9c17",
            "placeholder": "​",
            "style": "IPY_MODEL_94889ea607c84f1b9604e8b7c29728bc",
            "value": ""
          }
        },
        "b0753021774542f0ab29e15c5d94ab5c": {
          "model_module": "@jupyter-widgets/controls",
          "model_name": "FloatProgressModel",
          "model_module_version": "1.5.0",
          "state": {
            "_dom_classes": [],
            "_model_module": "@jupyter-widgets/controls",
            "_model_module_version": "1.5.0",
            "_model_name": "FloatProgressModel",
            "_view_count": null,
            "_view_module": "@jupyter-widgets/controls",
            "_view_module_version": "1.5.0",
            "_view_name": "ProgressView",
            "bar_style": "success",
            "description": "",
            "description_tooltip": null,
            "layout": "IPY_MODEL_8123c659dc6a411688549003f0379fb7",
            "max": 3041136,
            "min": 0,
            "orientation": "horizontal",
            "style": "IPY_MODEL_c14e7feafc1d4bf4a9ef00c4550ca140",
            "value": 3041136
          }
        },
        "41fea644855e4e619553384f1ec8b913": {
          "model_module": "@jupyter-widgets/controls",
          "model_name": "HTMLModel",
          "model_module_version": "1.5.0",
          "state": {
            "_dom_classes": [],
            "_model_module": "@jupyter-widgets/controls",
            "_model_module_version": "1.5.0",
            "_model_name": "HTMLModel",
            "_view_count": null,
            "_view_module": "@jupyter-widgets/controls",
            "_view_module_version": "1.5.0",
            "_view_name": "HTMLView",
            "description": "",
            "description_tooltip": null,
            "layout": "IPY_MODEL_0c3ad84cec8445b1973d0ac3bc67a9dc",
            "placeholder": "​",
            "style": "IPY_MODEL_4ca2719046cb4078b3b3734cb1ea5aec",
            "value": " 3041280/? [00:03&lt;00:00, 762699.75it/s]"
          }
        },
        "159c7cdb5a244cc5aa4f98ad42ad2ece": {
          "model_module": "@jupyter-widgets/base",
          "model_name": "LayoutModel",
          "model_module_version": "1.2.0",
          "state": {
            "_model_module": "@jupyter-widgets/base",
            "_model_module_version": "1.2.0",
            "_model_name": "LayoutModel",
            "_view_count": null,
            "_view_module": "@jupyter-widgets/base",
            "_view_module_version": "1.2.0",
            "_view_name": "LayoutView",
            "align_content": null,
            "align_items": null,
            "align_self": null,
            "border": null,
            "bottom": null,
            "display": null,
            "flex": null,
            "flex_flow": null,
            "grid_area": null,
            "grid_auto_columns": null,
            "grid_auto_flow": null,
            "grid_auto_rows": null,
            "grid_column": null,
            "grid_gap": null,
            "grid_row": null,
            "grid_template_areas": null,
            "grid_template_columns": null,
            "grid_template_rows": null,
            "height": null,
            "justify_content": null,
            "justify_items": null,
            "left": null,
            "margin": null,
            "max_height": null,
            "max_width": null,
            "min_height": null,
            "min_width": null,
            "object_fit": null,
            "object_position": null,
            "order": null,
            "overflow": null,
            "overflow_x": null,
            "overflow_y": null,
            "padding": null,
            "right": null,
            "top": null,
            "visibility": null,
            "width": null
          }
        },
        "4eb14a3c25674a5cae764f8edd9f9c17": {
          "model_module": "@jupyter-widgets/base",
          "model_name": "LayoutModel",
          "model_module_version": "1.2.0",
          "state": {
            "_model_module": "@jupyter-widgets/base",
            "_model_module_version": "1.2.0",
            "_model_name": "LayoutModel",
            "_view_count": null,
            "_view_module": "@jupyter-widgets/base",
            "_view_module_version": "1.2.0",
            "_view_name": "LayoutView",
            "align_content": null,
            "align_items": null,
            "align_self": null,
            "border": null,
            "bottom": null,
            "display": null,
            "flex": null,
            "flex_flow": null,
            "grid_area": null,
            "grid_auto_columns": null,
            "grid_auto_flow": null,
            "grid_auto_rows": null,
            "grid_column": null,
            "grid_gap": null,
            "grid_row": null,
            "grid_template_areas": null,
            "grid_template_columns": null,
            "grid_template_rows": null,
            "height": null,
            "justify_content": null,
            "justify_items": null,
            "left": null,
            "margin": null,
            "max_height": null,
            "max_width": null,
            "min_height": null,
            "min_width": null,
            "object_fit": null,
            "object_position": null,
            "order": null,
            "overflow": null,
            "overflow_x": null,
            "overflow_y": null,
            "padding": null,
            "right": null,
            "top": null,
            "visibility": null,
            "width": null
          }
        },
        "94889ea607c84f1b9604e8b7c29728bc": {
          "model_module": "@jupyter-widgets/controls",
          "model_name": "DescriptionStyleModel",
          "model_module_version": "1.5.0",
          "state": {
            "_model_module": "@jupyter-widgets/controls",
            "_model_module_version": "1.5.0",
            "_model_name": "DescriptionStyleModel",
            "_view_count": null,
            "_view_module": "@jupyter-widgets/base",
            "_view_module_version": "1.2.0",
            "_view_name": "StyleView",
            "description_width": ""
          }
        },
        "8123c659dc6a411688549003f0379fb7": {
          "model_module": "@jupyter-widgets/base",
          "model_name": "LayoutModel",
          "model_module_version": "1.2.0",
          "state": {
            "_model_module": "@jupyter-widgets/base",
            "_model_module_version": "1.2.0",
            "_model_name": "LayoutModel",
            "_view_count": null,
            "_view_module": "@jupyter-widgets/base",
            "_view_module_version": "1.2.0",
            "_view_name": "LayoutView",
            "align_content": null,
            "align_items": null,
            "align_self": null,
            "border": null,
            "bottom": null,
            "display": null,
            "flex": null,
            "flex_flow": null,
            "grid_area": null,
            "grid_auto_columns": null,
            "grid_auto_flow": null,
            "grid_auto_rows": null,
            "grid_column": null,
            "grid_gap": null,
            "grid_row": null,
            "grid_template_areas": null,
            "grid_template_columns": null,
            "grid_template_rows": null,
            "height": null,
            "justify_content": null,
            "justify_items": null,
            "left": null,
            "margin": null,
            "max_height": null,
            "max_width": null,
            "min_height": null,
            "min_width": null,
            "object_fit": null,
            "object_position": null,
            "order": null,
            "overflow": null,
            "overflow_x": null,
            "overflow_y": null,
            "padding": null,
            "right": null,
            "top": null,
            "visibility": null,
            "width": null
          }
        },
        "c14e7feafc1d4bf4a9ef00c4550ca140": {
          "model_module": "@jupyter-widgets/controls",
          "model_name": "ProgressStyleModel",
          "model_module_version": "1.5.0",
          "state": {
            "_model_module": "@jupyter-widgets/controls",
            "_model_module_version": "1.5.0",
            "_model_name": "ProgressStyleModel",
            "_view_count": null,
            "_view_module": "@jupyter-widgets/base",
            "_view_module_version": "1.2.0",
            "_view_name": "StyleView",
            "bar_color": null,
            "description_width": ""
          }
        },
        "0c3ad84cec8445b1973d0ac3bc67a9dc": {
          "model_module": "@jupyter-widgets/base",
          "model_name": "LayoutModel",
          "model_module_version": "1.2.0",
          "state": {
            "_model_module": "@jupyter-widgets/base",
            "_model_module_version": "1.2.0",
            "_model_name": "LayoutModel",
            "_view_count": null,
            "_view_module": "@jupyter-widgets/base",
            "_view_module_version": "1.2.0",
            "_view_name": "LayoutView",
            "align_content": null,
            "align_items": null,
            "align_self": null,
            "border": null,
            "bottom": null,
            "display": null,
            "flex": null,
            "flex_flow": null,
            "grid_area": null,
            "grid_auto_columns": null,
            "grid_auto_flow": null,
            "grid_auto_rows": null,
            "grid_column": null,
            "grid_gap": null,
            "grid_row": null,
            "grid_template_areas": null,
            "grid_template_columns": null,
            "grid_template_rows": null,
            "height": null,
            "justify_content": null,
            "justify_items": null,
            "left": null,
            "margin": null,
            "max_height": null,
            "max_width": null,
            "min_height": null,
            "min_width": null,
            "object_fit": null,
            "object_position": null,
            "order": null,
            "overflow": null,
            "overflow_x": null,
            "overflow_y": null,
            "padding": null,
            "right": null,
            "top": null,
            "visibility": null,
            "width": null
          }
        },
        "4ca2719046cb4078b3b3734cb1ea5aec": {
          "model_module": "@jupyter-widgets/controls",
          "model_name": "DescriptionStyleModel",
          "model_module_version": "1.5.0",
          "state": {
            "_model_module": "@jupyter-widgets/controls",
            "_model_module_version": "1.5.0",
            "_model_name": "DescriptionStyleModel",
            "_view_count": null,
            "_view_module": "@jupyter-widgets/base",
            "_view_module_version": "1.2.0",
            "_view_name": "StyleView",
            "description_width": ""
          }
        },
        "5bc4314305134a49808aa2fe72a5c812": {
          "model_module": "@jupyter-widgets/controls",
          "model_name": "HBoxModel",
          "model_module_version": "1.5.0",
          "state": {
            "_dom_classes": [],
            "_model_module": "@jupyter-widgets/controls",
            "_model_module_version": "1.5.0",
            "_model_name": "HBoxModel",
            "_view_count": null,
            "_view_module": "@jupyter-widgets/controls",
            "_view_module_version": "1.5.0",
            "_view_name": "HBoxView",
            "box_style": "",
            "children": [
              "IPY_MODEL_82e857dfdd9b4248bfad12a813da7766",
              "IPY_MODEL_c4c351882cc54a8b84946401bdd9024a",
              "IPY_MODEL_024d9883c4684ef081f5406a1a757383"
            ],
            "layout": "IPY_MODEL_9161699679394ac5bdbfe988cd4cb312"
          }
        },
        "82e857dfdd9b4248bfad12a813da7766": {
          "model_module": "@jupyter-widgets/controls",
          "model_name": "HTMLModel",
          "model_module_version": "1.5.0",
          "state": {
            "_dom_classes": [],
            "_model_module": "@jupyter-widgets/controls",
            "_model_module_version": "1.5.0",
            "_model_name": "HTMLModel",
            "_view_count": null,
            "_view_module": "@jupyter-widgets/controls",
            "_view_module_version": "1.5.0",
            "_view_name": "HTMLView",
            "description": "",
            "description_tooltip": null,
            "layout": "IPY_MODEL_099c8cc9e7394e1e9f9b4a4e795aae7e",
            "placeholder": "​",
            "style": "IPY_MODEL_b7ef8982743045c0830778358cc88326",
            "value": "100%"
          }
        },
        "c4c351882cc54a8b84946401bdd9024a": {
          "model_module": "@jupyter-widgets/controls",
          "model_name": "FloatProgressModel",
          "model_module_version": "1.5.0",
          "state": {
            "_dom_classes": [],
            "_model_module": "@jupyter-widgets/controls",
            "_model_module_version": "1.5.0",
            "_model_name": "FloatProgressModel",
            "_view_count": null,
            "_view_module": "@jupyter-widgets/controls",
            "_view_module_version": "1.5.0",
            "_view_name": "ProgressView",
            "bar_style": "success",
            "description": "",
            "description_tooltip": null,
            "layout": "IPY_MODEL_c9ae1d1dc5d2430093eb3325558760cd",
            "max": 5120,
            "min": 0,
            "orientation": "horizontal",
            "style": "IPY_MODEL_680c9c4823f54ea4b7981f1460f19138",
            "value": 5120
          }
        },
        "024d9883c4684ef081f5406a1a757383": {
          "model_module": "@jupyter-widgets/controls",
          "model_name": "HTMLModel",
          "model_module_version": "1.5.0",
          "state": {
            "_dom_classes": [],
            "_model_module": "@jupyter-widgets/controls",
            "_model_module_version": "1.5.0",
            "_model_name": "HTMLModel",
            "_view_count": null,
            "_view_module": "@jupyter-widgets/controls",
            "_view_module_version": "1.5.0",
            "_view_name": "HTMLView",
            "description": "",
            "description_tooltip": null,
            "layout": "IPY_MODEL_19152636659a4995996175e3dd8c9b5c",
            "placeholder": "​",
            "style": "IPY_MODEL_409695878b9243d6a96805c787aa3825",
            "value": " 5120/5120 [00:00&lt;00:00, 8218.55it/s]"
          }
        },
        "9161699679394ac5bdbfe988cd4cb312": {
          "model_module": "@jupyter-widgets/base",
          "model_name": "LayoutModel",
          "model_module_version": "1.2.0",
          "state": {
            "_model_module": "@jupyter-widgets/base",
            "_model_module_version": "1.2.0",
            "_model_name": "LayoutModel",
            "_view_count": null,
            "_view_module": "@jupyter-widgets/base",
            "_view_module_version": "1.2.0",
            "_view_name": "LayoutView",
            "align_content": null,
            "align_items": null,
            "align_self": null,
            "border": null,
            "bottom": null,
            "display": null,
            "flex": null,
            "flex_flow": null,
            "grid_area": null,
            "grid_auto_columns": null,
            "grid_auto_flow": null,
            "grid_auto_rows": null,
            "grid_column": null,
            "grid_gap": null,
            "grid_row": null,
            "grid_template_areas": null,
            "grid_template_columns": null,
            "grid_template_rows": null,
            "height": null,
            "justify_content": null,
            "justify_items": null,
            "left": null,
            "margin": null,
            "max_height": null,
            "max_width": null,
            "min_height": null,
            "min_width": null,
            "object_fit": null,
            "object_position": null,
            "order": null,
            "overflow": null,
            "overflow_x": null,
            "overflow_y": null,
            "padding": null,
            "right": null,
            "top": null,
            "visibility": null,
            "width": null
          }
        },
        "099c8cc9e7394e1e9f9b4a4e795aae7e": {
          "model_module": "@jupyter-widgets/base",
          "model_name": "LayoutModel",
          "model_module_version": "1.2.0",
          "state": {
            "_model_module": "@jupyter-widgets/base",
            "_model_module_version": "1.2.0",
            "_model_name": "LayoutModel",
            "_view_count": null,
            "_view_module": "@jupyter-widgets/base",
            "_view_module_version": "1.2.0",
            "_view_name": "LayoutView",
            "align_content": null,
            "align_items": null,
            "align_self": null,
            "border": null,
            "bottom": null,
            "display": null,
            "flex": null,
            "flex_flow": null,
            "grid_area": null,
            "grid_auto_columns": null,
            "grid_auto_flow": null,
            "grid_auto_rows": null,
            "grid_column": null,
            "grid_gap": null,
            "grid_row": null,
            "grid_template_areas": null,
            "grid_template_columns": null,
            "grid_template_rows": null,
            "height": null,
            "justify_content": null,
            "justify_items": null,
            "left": null,
            "margin": null,
            "max_height": null,
            "max_width": null,
            "min_height": null,
            "min_width": null,
            "object_fit": null,
            "object_position": null,
            "order": null,
            "overflow": null,
            "overflow_x": null,
            "overflow_y": null,
            "padding": null,
            "right": null,
            "top": null,
            "visibility": null,
            "width": null
          }
        },
        "b7ef8982743045c0830778358cc88326": {
          "model_module": "@jupyter-widgets/controls",
          "model_name": "DescriptionStyleModel",
          "model_module_version": "1.5.0",
          "state": {
            "_model_module": "@jupyter-widgets/controls",
            "_model_module_version": "1.5.0",
            "_model_name": "DescriptionStyleModel",
            "_view_count": null,
            "_view_module": "@jupyter-widgets/base",
            "_view_module_version": "1.2.0",
            "_view_name": "StyleView",
            "description_width": ""
          }
        },
        "c9ae1d1dc5d2430093eb3325558760cd": {
          "model_module": "@jupyter-widgets/base",
          "model_name": "LayoutModel",
          "model_module_version": "1.2.0",
          "state": {
            "_model_module": "@jupyter-widgets/base",
            "_model_module_version": "1.2.0",
            "_model_name": "LayoutModel",
            "_view_count": null,
            "_view_module": "@jupyter-widgets/base",
            "_view_module_version": "1.2.0",
            "_view_name": "LayoutView",
            "align_content": null,
            "align_items": null,
            "align_self": null,
            "border": null,
            "bottom": null,
            "display": null,
            "flex": null,
            "flex_flow": null,
            "grid_area": null,
            "grid_auto_columns": null,
            "grid_auto_flow": null,
            "grid_auto_rows": null,
            "grid_column": null,
            "grid_gap": null,
            "grid_row": null,
            "grid_template_areas": null,
            "grid_template_columns": null,
            "grid_template_rows": null,
            "height": null,
            "justify_content": null,
            "justify_items": null,
            "left": null,
            "margin": null,
            "max_height": null,
            "max_width": null,
            "min_height": null,
            "min_width": null,
            "object_fit": null,
            "object_position": null,
            "order": null,
            "overflow": null,
            "overflow_x": null,
            "overflow_y": null,
            "padding": null,
            "right": null,
            "top": null,
            "visibility": null,
            "width": null
          }
        },
        "680c9c4823f54ea4b7981f1460f19138": {
          "model_module": "@jupyter-widgets/controls",
          "model_name": "ProgressStyleModel",
          "model_module_version": "1.5.0",
          "state": {
            "_model_module": "@jupyter-widgets/controls",
            "_model_module_version": "1.5.0",
            "_model_name": "ProgressStyleModel",
            "_view_count": null,
            "_view_module": "@jupyter-widgets/base",
            "_view_module_version": "1.2.0",
            "_view_name": "StyleView",
            "bar_color": null,
            "description_width": ""
          }
        },
        "19152636659a4995996175e3dd8c9b5c": {
          "model_module": "@jupyter-widgets/base",
          "model_name": "LayoutModel",
          "model_module_version": "1.2.0",
          "state": {
            "_model_module": "@jupyter-widgets/base",
            "_model_module_version": "1.2.0",
            "_model_name": "LayoutModel",
            "_view_count": null,
            "_view_module": "@jupyter-widgets/base",
            "_view_module_version": "1.2.0",
            "_view_name": "LayoutView",
            "align_content": null,
            "align_items": null,
            "align_self": null,
            "border": null,
            "bottom": null,
            "display": null,
            "flex": null,
            "flex_flow": null,
            "grid_area": null,
            "grid_auto_columns": null,
            "grid_auto_flow": null,
            "grid_auto_rows": null,
            "grid_column": null,
            "grid_gap": null,
            "grid_row": null,
            "grid_template_areas": null,
            "grid_template_columns": null,
            "grid_template_rows": null,
            "height": null,
            "justify_content": null,
            "justify_items": null,
            "left": null,
            "margin": null,
            "max_height": null,
            "max_width": null,
            "min_height": null,
            "min_width": null,
            "object_fit": null,
            "object_position": null,
            "order": null,
            "overflow": null,
            "overflow_x": null,
            "overflow_y": null,
            "padding": null,
            "right": null,
            "top": null,
            "visibility": null,
            "width": null
          }
        },
        "409695878b9243d6a96805c787aa3825": {
          "model_module": "@jupyter-widgets/controls",
          "model_name": "DescriptionStyleModel",
          "model_module_version": "1.5.0",
          "state": {
            "_model_module": "@jupyter-widgets/controls",
            "_model_module_version": "1.5.0",
            "_model_name": "DescriptionStyleModel",
            "_view_count": null,
            "_view_module": "@jupyter-widgets/base",
            "_view_module_version": "1.2.0",
            "_view_name": "StyleView",
            "description_width": ""
          }
        }
      }
    }
  },
  "cells": [
    {
      "cell_type": "markdown",
      "metadata": {
        "id": "view-in-github",
        "colab_type": "text"
      },
      "source": [
        "<a href=\"https://colab.research.google.com/github/kurkurzz/neural-computing-assignments/blob/master/Multi_Layer_Perceptron_with_Kuzhushiji_MNIST_dataset.ipynb\" target=\"_parent\"><img src=\"https://colab.research.google.com/assets/colab-badge.svg\" alt=\"Open In Colab\"/></a>"
      ]
    },
    {
      "cell_type": "code",
      "source": [
        "# raytune is a a hyperparameter tuning library\n",
        "!pip install \"ray[tune]\""
      ],
      "metadata": {
        "colab": {
          "base_uri": "https://localhost:8080/",
          "height": 1000
        },
        "id": "7ECZG7yNcNLZ",
        "outputId": "ceab3e05-62d8-49aa-8aee-3371bdc0d1f9"
      },
      "execution_count": 2,
      "outputs": [
        {
          "output_type": "stream",
          "name": "stdout",
          "text": [
            "Looking in indexes: https://pypi.org/simple, https://us-python.pkg.dev/colab-wheels/public/simple/\n",
            "Collecting ray[tune]\n",
            "  Downloading ray-1.12.1-cp37-cp37m-manylinux2014_x86_64.whl (53.2 MB)\n",
            "\u001b[K     |████████████████████████████████| 53.2 MB 243 kB/s \n",
            "\u001b[?25hRequirement already satisfied: numpy>=1.16 in /usr/local/lib/python3.7/dist-packages (from ray[tune]) (1.21.6)\n",
            "Requirement already satisfied: requests in /usr/local/lib/python3.7/dist-packages (from ray[tune]) (2.23.0)\n",
            "Requirement already satisfied: attrs in /usr/local/lib/python3.7/dist-packages (from ray[tune]) (21.4.0)\n",
            "Requirement already satisfied: pyyaml in /usr/local/lib/python3.7/dist-packages (from ray[tune]) (3.13)\n",
            "Collecting frozenlist\n",
            "  Downloading frozenlist-1.3.0-cp37-cp37m-manylinux_2_5_x86_64.manylinux1_x86_64.manylinux_2_17_x86_64.manylinux2014_x86_64.whl (144 kB)\n",
            "\u001b[K     |████████████████████████████████| 144 kB 57.9 MB/s \n",
            "\u001b[?25hRequirement already satisfied: click>=7.0 in /usr/local/lib/python3.7/dist-packages (from ray[tune]) (7.1.2)\n",
            "Collecting aiosignal\n",
            "  Downloading aiosignal-1.2.0-py3-none-any.whl (8.2 kB)\n",
            "Requirement already satisfied: msgpack<2.0.0,>=1.0.0 in /usr/local/lib/python3.7/dist-packages (from ray[tune]) (1.0.3)\n",
            "Collecting grpcio<=1.43.0,>=1.28.1\n",
            "  Downloading grpcio-1.43.0-cp37-cp37m-manylinux_2_17_x86_64.manylinux2014_x86_64.whl (4.1 MB)\n",
            "\u001b[K     |████████████████████████████████| 4.1 MB 47.7 MB/s \n",
            "\u001b[?25hRequirement already satisfied: filelock in /usr/local/lib/python3.7/dist-packages (from ray[tune]) (3.7.0)\n",
            "Requirement already satisfied: jsonschema in /usr/local/lib/python3.7/dist-packages (from ray[tune]) (4.3.3)\n",
            "Requirement already satisfied: protobuf>=3.15.3 in /usr/local/lib/python3.7/dist-packages (from ray[tune]) (3.17.3)\n",
            "Collecting virtualenv\n",
            "  Downloading virtualenv-20.14.1-py2.py3-none-any.whl (8.8 MB)\n",
            "\u001b[K     |████████████████████████████████| 8.8 MB 43.7 MB/s \n",
            "\u001b[?25hCollecting tensorboardX>=1.9\n",
            "  Downloading tensorboardX-2.5-py2.py3-none-any.whl (125 kB)\n",
            "\u001b[K     |████████████████████████████████| 125 kB 70.7 MB/s \n",
            "\u001b[?25hRequirement already satisfied: pandas in /usr/local/lib/python3.7/dist-packages (from ray[tune]) (1.3.5)\n",
            "Requirement already satisfied: tabulate in /usr/local/lib/python3.7/dist-packages (from ray[tune]) (0.8.9)\n",
            "Requirement already satisfied: six>=1.5.2 in /usr/local/lib/python3.7/dist-packages (from grpcio<=1.43.0,>=1.28.1->ray[tune]) (1.15.0)\n",
            "Requirement already satisfied: importlib-metadata in /usr/local/lib/python3.7/dist-packages (from jsonschema->ray[tune]) (4.11.3)\n",
            "Requirement already satisfied: importlib-resources>=1.4.0 in /usr/local/lib/python3.7/dist-packages (from jsonschema->ray[tune]) (5.7.1)\n",
            "Requirement already satisfied: pyrsistent!=0.17.0,!=0.17.1,!=0.17.2,>=0.14.0 in /usr/local/lib/python3.7/dist-packages (from jsonschema->ray[tune]) (0.18.1)\n",
            "Requirement already satisfied: typing-extensions in /usr/local/lib/python3.7/dist-packages (from jsonschema->ray[tune]) (4.2.0)\n",
            "Requirement already satisfied: zipp>=3.1.0 in /usr/local/lib/python3.7/dist-packages (from importlib-resources>=1.4.0->jsonschema->ray[tune]) (3.8.0)\n",
            "Requirement already satisfied: python-dateutil>=2.7.3 in /usr/local/lib/python3.7/dist-packages (from pandas->ray[tune]) (2.8.2)\n",
            "Requirement already satisfied: pytz>=2017.3 in /usr/local/lib/python3.7/dist-packages (from pandas->ray[tune]) (2022.1)\n",
            "Requirement already satisfied: idna<3,>=2.5 in /usr/local/lib/python3.7/dist-packages (from requests->ray[tune]) (2.10)\n",
            "Requirement already satisfied: urllib3!=1.25.0,!=1.25.1,<1.26,>=1.21.1 in /usr/local/lib/python3.7/dist-packages (from requests->ray[tune]) (1.24.3)\n",
            "Requirement already satisfied: chardet<4,>=3.0.2 in /usr/local/lib/python3.7/dist-packages (from requests->ray[tune]) (3.0.4)\n",
            "Requirement already satisfied: certifi>=2017.4.17 in /usr/local/lib/python3.7/dist-packages (from requests->ray[tune]) (2022.5.18.1)\n",
            "Collecting distlib<1,>=0.3.1\n",
            "  Downloading distlib-0.3.4-py2.py3-none-any.whl (461 kB)\n",
            "\u001b[K     |████████████████████████████████| 461 kB 67.2 MB/s \n",
            "\u001b[?25hCollecting platformdirs<3,>=2\n",
            "  Downloading platformdirs-2.5.2-py3-none-any.whl (14 kB)\n",
            "Installing collected packages: platformdirs, frozenlist, distlib, virtualenv, grpcio, aiosignal, tensorboardX, ray\n",
            "  Attempting uninstall: grpcio\n",
            "    Found existing installation: grpcio 1.46.1\n",
            "    Uninstalling grpcio-1.46.1:\n",
            "      Successfully uninstalled grpcio-1.46.1\n",
            "\u001b[31mERROR: pip's dependency resolver does not currently take into account all the packages that are installed. This behaviour is the source of the following dependency conflicts.\n",
            "tensorflow 2.8.0+zzzcolab20220506162203 requires tf-estimator-nightly==2.8.0.dev2021122109, which is not installed.\u001b[0m\n",
            "Successfully installed aiosignal-1.2.0 distlib-0.3.4 frozenlist-1.3.0 grpcio-1.43.0 platformdirs-2.5.2 ray-1.12.1 tensorboardX-2.5 virtualenv-20.14.1\n"
          ]
        },
        {
          "output_type": "display_data",
          "data": {
            "application/vnd.colab-display-data+json": {
              "pip_warning": {
                "packages": [
                  "grpc"
                ]
              }
            }
          },
          "metadata": {}
        }
      ]
    },
    {
      "cell_type": "code",
      "execution_count": 3,
      "metadata": {
        "id": "Hh39PZuWPtfv"
      },
      "outputs": [],
      "source": [
        "import sys\n",
        "import math\n",
        "\n",
        "import torch\n",
        "from torch import nn\n",
        "from torch import optim\n",
        "import torch.nn.functional as F\n",
        "from torchvision import datasets, transforms\n",
        "from torch.utils.data import random_split, DataLoader\n",
        "\n",
        "import matplotlib.pyplot as plt\n",
        "from ray import tune\n",
        "import numpy as np\n",
        "import seaborn as sns\n",
        "import pandas as pd"
      ]
    },
    {
      "cell_type": "markdown",
      "source": [
        "# Task 1"
      ],
      "metadata": {
        "id": "rLygOJ_243NX"
      }
    },
    {
      "cell_type": "markdown",
      "source": [
        "## Loading Data"
      ],
      "metadata": {
        "id": "Yge8aY1sV0fm"
      }
    },
    {
      "cell_type": "markdown",
      "source": [
        "**Train data**"
      ],
      "metadata": {
        "id": "rF8dMvMFV9QU"
      }
    },
    {
      "cell_type": "code",
      "source": [
        "# import kmnist training data and split for train and validation\n",
        "train_data = datasets.KMNIST('data', train=True, download=True, transform=transforms.ToTensor())\n",
        "print(train_data)\n",
        "train, val = random_split(train_data, [45_000, 15_000])"
      ],
      "metadata": {
        "colab": {
          "base_uri": "https://localhost:8080/",
          "height": 527,
          "referenced_widgets": [
            "47e6ee3eadab45d4bafedc4f38d5b0e9",
            "f6f8b4990a7b4d8faa1a37a43f4489b8",
            "dc60a74aadb9419f94972348552cecb1",
            "2c58fd1695ec48d0b65559ccc6bac36d",
            "81481025629c44318e4e087a64a5a26c",
            "2c2b49be7e4843c4859eb76b412502c0",
            "b6149ff1a0cb4782b68d6411915cc1a6",
            "4fa539cc3cd1480da7adcb07b3508fdc",
            "bd68c49917ce4a79b3473ef89054070c",
            "132504dcf2444e3e9cb8844faaa42394",
            "beede099f9204cc38279dd1ef1329d46",
            "631494dbb103462fb5f4084bea2f4a7a",
            "ff2b87014af4470eb1ac243a0ab2840f",
            "5ffbf2a0613e4c56b8946ea593271176",
            "0b747359dc1d42ed9c99d9a00fe36e7e",
            "2f9f0334d74642a1b8fee4b069659cb1",
            "2d895e8049604dd2ab67be167e4aee98",
            "41f898885a564e5eae69dcc0efa139cc",
            "3c41a37361074c83aae0e8007f04a914",
            "1fb411541a3e4d53bd68bcad8161f34c",
            "807ba39b78de4e89a9973674b8519abf",
            "37c904c534f84be2bfa12f5ae84535c2",
            "9fab68e419ee4e6d8cb1074a0a43308d",
            "b29b3c92994b440e9c5f8828af365671",
            "b0753021774542f0ab29e15c5d94ab5c",
            "41fea644855e4e619553384f1ec8b913",
            "159c7cdb5a244cc5aa4f98ad42ad2ece",
            "4eb14a3c25674a5cae764f8edd9f9c17",
            "94889ea607c84f1b9604e8b7c29728bc",
            "8123c659dc6a411688549003f0379fb7",
            "c14e7feafc1d4bf4a9ef00c4550ca140",
            "0c3ad84cec8445b1973d0ac3bc67a9dc",
            "4ca2719046cb4078b3b3734cb1ea5aec",
            "5bc4314305134a49808aa2fe72a5c812",
            "82e857dfdd9b4248bfad12a813da7766",
            "c4c351882cc54a8b84946401bdd9024a",
            "024d9883c4684ef081f5406a1a757383",
            "9161699679394ac5bdbfe988cd4cb312",
            "099c8cc9e7394e1e9f9b4a4e795aae7e",
            "b7ef8982743045c0830778358cc88326",
            "c9ae1d1dc5d2430093eb3325558760cd",
            "680c9c4823f54ea4b7981f1460f19138",
            "19152636659a4995996175e3dd8c9b5c",
            "409695878b9243d6a96805c787aa3825"
          ]
        },
        "id": "VJJIj5BuV94a",
        "outputId": "e6a48c40-4282-46fa-f88e-c82d0f808786"
      },
      "execution_count": 4,
      "outputs": [
        {
          "output_type": "stream",
          "name": "stdout",
          "text": [
            "Downloading http://codh.rois.ac.jp/kmnist/dataset/kmnist/train-images-idx3-ubyte.gz\n",
            "Downloading http://codh.rois.ac.jp/kmnist/dataset/kmnist/train-images-idx3-ubyte.gz to data/KMNIST/raw/train-images-idx3-ubyte.gz\n"
          ]
        },
        {
          "output_type": "display_data",
          "data": {
            "text/plain": [
              "  0%|          | 0/18165135 [00:00<?, ?it/s]"
            ],
            "application/vnd.jupyter.widget-view+json": {
              "version_major": 2,
              "version_minor": 0,
              "model_id": "47e6ee3eadab45d4bafedc4f38d5b0e9"
            }
          },
          "metadata": {}
        },
        {
          "output_type": "stream",
          "name": "stdout",
          "text": [
            "Extracting data/KMNIST/raw/train-images-idx3-ubyte.gz to data/KMNIST/raw\n",
            "\n",
            "Downloading http://codh.rois.ac.jp/kmnist/dataset/kmnist/train-labels-idx1-ubyte.gz\n",
            "Downloading http://codh.rois.ac.jp/kmnist/dataset/kmnist/train-labels-idx1-ubyte.gz to data/KMNIST/raw/train-labels-idx1-ubyte.gz\n"
          ]
        },
        {
          "output_type": "display_data",
          "data": {
            "text/plain": [
              "  0%|          | 0/29497 [00:00<?, ?it/s]"
            ],
            "application/vnd.jupyter.widget-view+json": {
              "version_major": 2,
              "version_minor": 0,
              "model_id": "631494dbb103462fb5f4084bea2f4a7a"
            }
          },
          "metadata": {}
        },
        {
          "output_type": "stream",
          "name": "stdout",
          "text": [
            "Extracting data/KMNIST/raw/train-labels-idx1-ubyte.gz to data/KMNIST/raw\n",
            "\n",
            "Downloading http://codh.rois.ac.jp/kmnist/dataset/kmnist/t10k-images-idx3-ubyte.gz\n",
            "Downloading http://codh.rois.ac.jp/kmnist/dataset/kmnist/t10k-images-idx3-ubyte.gz to data/KMNIST/raw/t10k-images-idx3-ubyte.gz\n"
          ]
        },
        {
          "output_type": "display_data",
          "data": {
            "text/plain": [
              "  0%|          | 0/3041136 [00:00<?, ?it/s]"
            ],
            "application/vnd.jupyter.widget-view+json": {
              "version_major": 2,
              "version_minor": 0,
              "model_id": "9fab68e419ee4e6d8cb1074a0a43308d"
            }
          },
          "metadata": {}
        },
        {
          "output_type": "stream",
          "name": "stdout",
          "text": [
            "Extracting data/KMNIST/raw/t10k-images-idx3-ubyte.gz to data/KMNIST/raw\n",
            "\n",
            "Downloading http://codh.rois.ac.jp/kmnist/dataset/kmnist/t10k-labels-idx1-ubyte.gz\n",
            "Downloading http://codh.rois.ac.jp/kmnist/dataset/kmnist/t10k-labels-idx1-ubyte.gz to data/KMNIST/raw/t10k-labels-idx1-ubyte.gz\n"
          ]
        },
        {
          "output_type": "display_data",
          "data": {
            "text/plain": [
              "  0%|          | 0/5120 [00:00<?, ?it/s]"
            ],
            "application/vnd.jupyter.widget-view+json": {
              "version_major": 2,
              "version_minor": 0,
              "model_id": "5bc4314305134a49808aa2fe72a5c812"
            }
          },
          "metadata": {}
        },
        {
          "output_type": "stream",
          "name": "stdout",
          "text": [
            "Extracting data/KMNIST/raw/t10k-labels-idx1-ubyte.gz to data/KMNIST/raw\n",
            "\n",
            "Dataset KMNIST\n",
            "    Number of datapoints: 60000\n",
            "    Root location: data\n",
            "    Split: Train\n",
            "    StandardTransform\n",
            "Transform: ToTensor()\n"
          ]
        }
      ]
    },
    {
      "cell_type": "code",
      "source": [
        "train_loader = DataLoader(train, batch_size=32, shuffle=True)\n",
        "val_loader = DataLoader(val, batch_size=32)"
      ],
      "metadata": {
        "id": "aBtTEHBbWCEV"
      },
      "execution_count": 5,
      "outputs": []
    },
    {
      "cell_type": "markdown",
      "source": [
        "**Test data**"
      ],
      "metadata": {
        "id": "fYF_EbBGWDb5"
      }
    },
    {
      "cell_type": "code",
      "source": [
        "# import kmnist test data\n",
        "test_data = datasets.KMNIST('data', train=False, download=True, transform=transforms.ToTensor())\n",
        "test_data"
      ],
      "metadata": {
        "colab": {
          "base_uri": "https://localhost:8080/"
        },
        "id": "yLaaRDbVWGSq",
        "outputId": "0d98eec6-1a87-4ee6-c507-edc4f4f86f84"
      },
      "execution_count": 6,
      "outputs": [
        {
          "output_type": "execute_result",
          "data": {
            "text/plain": [
              "Dataset KMNIST\n",
              "    Number of datapoints: 10000\n",
              "    Root location: data\n",
              "    Split: Test\n",
              "    StandardTransform\n",
              "Transform: ToTensor()"
            ]
          },
          "metadata": {},
          "execution_count": 6
        }
      ]
    },
    {
      "cell_type": "code",
      "source": [
        "test_loader = DataLoader(test_data, batch_size=32)"
      ],
      "metadata": {
        "id": "9xpBy9oTWGQs"
      },
      "execution_count": 7,
      "outputs": []
    },
    {
      "cell_type": "markdown",
      "source": [
        "## Check 1: Visualize Data"
      ],
      "metadata": {
        "id": "EUmK3VK1WGOm"
      }
    },
    {
      "cell_type": "code",
      "source": [
        "examples = enumerate(train_loader)\n",
        "batch_idx, (example_data, example_targets) = next(examples)"
      ],
      "metadata": {
        "id": "4V3-6BJCWGM1"
      },
      "execution_count": 8,
      "outputs": []
    },
    {
      "cell_type": "code",
      "source": [
        "print(f'X shape: {example_data.shape}')\n",
        "print(f'y shape: {example_targets.shape}')"
      ],
      "metadata": {
        "colab": {
          "base_uri": "https://localhost:8080/"
        },
        "id": "lOk0KJG2WGLG",
        "outputId": "72c27649-4df1-4710-bd2d-2ea92649539d"
      },
      "execution_count": 9,
      "outputs": [
        {
          "output_type": "stream",
          "name": "stdout",
          "text": [
            "X shape: torch.Size([32, 1, 28, 28])\n",
            "y shape: torch.Size([32])\n"
          ]
        }
      ]
    },
    {
      "cell_type": "markdown",
      "source": [
        "32 is the the number of samples per batch hence the shape"
      ],
      "metadata": {
        "id": "eYoXoKtHU2Rf"
      }
    },
    {
      "cell_type": "code",
      "source": [
        "fig = plt.figure()\n",
        "for i in range(6):\n",
        "    plt.subplot(2, 3, i+1)\n",
        "    plt.tight_layout()\n",
        "    plt.imshow(example_data[i][0, :, :], cmap='gray', interpolation='none')\n",
        "    plt.title(f'Ground Truth: {train_data.classes[example_targets[i]]}')\n",
        "    plt.xticks([])\n",
        "    plt.yticks([])\n",
        "fig"
      ],
      "metadata": {
        "colab": {
          "base_uri": "https://localhost:8080/",
          "height": 551
        },
        "id": "N-h2rXveWUEC",
        "outputId": "b403643f-813a-406c-d4cf-22cea2d6cf2f"
      },
      "execution_count": 10,
      "outputs": [
        {
          "output_type": "execute_result",
          "data": {
            "text/plain": [
              "<Figure size 432x288 with 6 Axes>"
            ],
            "image/png": "[encoded data removed]"
          },
          "metadata": {},
          "execution_count": 10
        },
        {
          "output_type": "display_data",
          "data": {
            "text/plain": [
              "<Figure size 432x288 with 6 Axes>"
            ],
            "image/png": "[encoded data removed]"
          },
          "metadata": {}
        }
      ]
    },
    {
      "cell_type": "markdown",
      "source": [
        "## Check 2: Check Labels"
      ],
      "metadata": {
        "id": "p1-G6Ve7WUBz"
      }
    },
    {
      "cell_type": "code",
      "source": [
        "num_classes = 10"
      ],
      "metadata": {
        "id": "2tQRsrJTWT_9"
      },
      "execution_count": 10,
      "outputs": []
    },
    {
      "cell_type": "code",
      "source": [
        "train_data.classes"
      ],
      "metadata": {
        "colab": {
          "base_uri": "https://localhost:8080/"
        },
        "id": "vDIr_8Zctr7n",
        "outputId": "6fda9286-906e-4cf4-93c3-9f78f40eafc9"
      },
      "execution_count": 11,
      "outputs": [
        {
          "output_type": "execute_result",
          "data": {
            "text/plain": [
              "['o', 'ki', 'su', 'tsu', 'na', 'ha', 'ma', 'ya', 're', 'wo']"
            ]
          },
          "metadata": {},
          "execution_count": 11
        }
      ]
    },
    {
      "cell_type": "code",
      "source": [
        "train_class_count = [0 for i in range(num_classes)]\n",
        "for _, labels_batch in train_loader:\n",
        "    for label in labels_batch:\n",
        "        train_class_count[label] += 1"
      ],
      "metadata": {
        "id": "ws7ETTDJWT96"
      },
      "execution_count": 12,
      "outputs": []
    },
    {
      "cell_type": "code",
      "source": [
        "print('Train data:')\n",
        "for idx, num in enumerate(train_class_count):\n",
        "    print(f'Label {train_data.classes[idx]}: {num}')"
      ],
      "metadata": {
        "colab": {
          "base_uri": "https://localhost:8080/"
        },
        "id": "BVKAaTqtWT6I",
        "outputId": "d77177d3-5166-42b3-8b40-7eb888375907"
      },
      "execution_count": 13,
      "outputs": [
        {
          "output_type": "stream",
          "name": "stdout",
          "text": [
            "Train data:\n",
            "Label o: 4527\n",
            "Label ki: 4500\n",
            "Label su: 4547\n",
            "Label tsu: 4477\n",
            "Label na: 4516\n",
            "Label ha: 4477\n",
            "Label ma: 4534\n",
            "Label ya: 4442\n",
            "Label re: 4508\n",
            "Label wo: 4472\n"
          ]
        }
      ]
    },
    {
      "cell_type": "code",
      "source": [
        "val_class_count = [0 for i in range(num_classes)]\n",
        "for _, labels_batch in val_loader:\n",
        "    for label in labels_batch:\n",
        "        val_class_count[label] += 1"
      ],
      "metadata": {
        "id": "RvmubX8-WT4Q"
      },
      "execution_count": 14,
      "outputs": []
    },
    {
      "cell_type": "code",
      "source": [
        "print('Validation data:')\n",
        "for idx, num in enumerate(val_class_count):\n",
        "    print(f'Label {train_data.classes[idx]}: {num}')"
      ],
      "metadata": {
        "colab": {
          "base_uri": "https://localhost:8080/"
        },
        "id": "HGUrFbDMWTO8",
        "outputId": "0f85806c-b58a-47c3-cbe1-8e1f58dd81fe"
      },
      "execution_count": 15,
      "outputs": [
        {
          "output_type": "stream",
          "name": "stdout",
          "text": [
            "Validation data:\n",
            "Label o: 1473\n",
            "Label ki: 1500\n",
            "Label su: 1453\n",
            "Label tsu: 1523\n",
            "Label na: 1484\n",
            "Label ha: 1523\n",
            "Label ma: 1466\n",
            "Label ya: 1558\n",
            "Label re: 1492\n",
            "Label wo: 1528\n"
          ]
        }
      ]
    },
    {
      "cell_type": "code",
      "source": [
        "print('All Training data:')\n",
        "total_sample = 0\n",
        "for idx, num in enumerate(train_class_count):\n",
        "    print(f'Label {train_data.classes[idx]}: {num + val_class_count[idx]}')\n",
        "    total_sample += num + val_class_count[idx]\n",
        "\n",
        "print()\n",
        "print(f'Total samples for training data: {total_sample}')"
      ],
      "metadata": {
        "colab": {
          "base_uri": "https://localhost:8080/"
        },
        "id": "Tguj_mF9WdD5",
        "outputId": "b0079831-cbde-47c3-cc40-b82f0b9a6cdf"
      },
      "execution_count": 16,
      "outputs": [
        {
          "output_type": "stream",
          "name": "stdout",
          "text": [
            "All Training data:\n",
            "Label o: 6000\n",
            "Label ki: 6000\n",
            "Label su: 6000\n",
            "Label tsu: 6000\n",
            "Label na: 6000\n",
            "Label ha: 6000\n",
            "Label ma: 6000\n",
            "Label ya: 6000\n",
            "Label re: 6000\n",
            "Label wo: 6000\n",
            "\n",
            "Total samples for training data: 60000\n"
          ]
        }
      ]
    },
    {
      "cell_type": "code",
      "source": [
        "test_class_count = [0 for i in range(num_classes)]\n",
        "for _, labels_batch in test_loader:\n",
        "    for label in labels_batch:\n",
        "        test_class_count[label] += 1"
      ],
      "metadata": {
        "id": "PDlIopYNWeEe"
      },
      "execution_count": 17,
      "outputs": []
    },
    {
      "cell_type": "code",
      "source": [
        "print('Test data:')\n",
        "total_sample = 0\n",
        "for idx, num in enumerate(test_class_count):\n",
        "    print(f'Label {train_data.classes[idx]}: {num}')\n",
        "    total_sample += num\n",
        "\n",
        "print()\n",
        "print(f'Total samples for test data: {total_sample}')"
      ],
      "metadata": {
        "colab": {
          "base_uri": "https://localhost:8080/"
        },
        "id": "Dx_X-SCiWi1u",
        "outputId": "0d070b53-5eb8-45e7-8ba3-9f7b784913ca"
      },
      "execution_count": 18,
      "outputs": [
        {
          "output_type": "stream",
          "name": "stdout",
          "text": [
            "Test data:\n",
            "Label o: 1000\n",
            "Label ki: 1000\n",
            "Label su: 1000\n",
            "Label tsu: 1000\n",
            "Label na: 1000\n",
            "Label ha: 1000\n",
            "Label ma: 1000\n",
            "Label ya: 1000\n",
            "Label re: 1000\n",
            "Label wo: 1000\n",
            "\n",
            "Total samples for test data: 10000\n"
          ]
        }
      ]
    },
    {
      "cell_type": "markdown",
      "source": [
        "## Create Model\n",
        "\n"
      ],
      "metadata": {
        "id": "dUlsvwt_WiyF"
      }
    },
    {
      "cell_type": "code",
      "source": [
        "# define func to create a model\n",
        "# accept parameters such as number of hidden layer and number of unit per hidden layer\n",
        "class MLP(nn.Module):\n",
        "    def __init__(self, hidden_layer_num, hidden_layer_unit):\n",
        "        super(MLP, self).__init__()\n",
        "        self.fc1 = nn.Linear(28*28, hidden_layer_unit)\n",
        "        \n",
        "        # use ModuleList() to add layers dynamically\n",
        "        self.fc_list = nn.ModuleList()\n",
        "        for i in range(hidden_layer_num):\n",
        "            if i == 1:\n",
        "                continue\n",
        "            if i == hidden_layer_num - 1:\n",
        "                break\n",
        "            self.fc_list.append(nn.Linear(hidden_layer_unit, hidden_layer_unit))\n",
        "        \n",
        "        self.fc_last = nn.Linear(hidden_layer_unit, 10)\n",
        "\n",
        "    def forward(self, x):\n",
        "        # flatten all dimensions except the batch dimension\n",
        "        x = x.view(x.shape[0],-1)  \n",
        "        x = F.relu(self.fc1(x))\n",
        "        \n",
        "        for fc in self.fc_list:\n",
        "            x = F.relu(fc(x))\n",
        "        \n",
        "        x = self.fc_last(x)\n",
        "        return x"
      ],
      "metadata": {
        "id": "mQbSQm8XWiwA"
      },
      "execution_count": 19,
      "outputs": []
    },
    {
      "cell_type": "code",
      "source": [
        "torch.cuda.is_available()"
      ],
      "metadata": {
        "colab": {
          "base_uri": "https://localhost:8080/"
        },
        "id": "0QQsGj00cdPp",
        "outputId": "0d9aa19c-29af-433f-afa6-2be207249604"
      },
      "execution_count": 20,
      "outputs": [
        {
          "output_type": "execute_result",
          "data": {
            "text/plain": [
              "False"
            ]
          },
          "metadata": {},
          "execution_count": 20
        }
      ]
    },
    {
      "cell_type": "code",
      "source": [
        "# define func to create model + criterion and chosen optimizer\n",
        "def create_model(hidden_layer_num, hidden_layer_unit, optimizer_name):\n",
        "    model = MLP(hidden_layer_num=hidden_layer_num, hidden_layer_unit=hidden_layer_unit)\n",
        "    if torch.cuda.is_available():\n",
        "        model = model.cuda()\n",
        "        \n",
        "    # use cross entropy loss as loss func\n",
        "    criterion = nn.CrossEntropyLoss()\n",
        "    if optimizer_name == 'SGD':\n",
        "        optimizer = optim.SGD(model.parameters(), lr=0.01)\n",
        "    elif optimizer_name == 'Adam':\n",
        "        optimizer = optim.Adam(model.parameters(), lr=0.001)\n",
        "    \n",
        "    return model, criterion, optimizer"
      ],
      "metadata": {
        "id": "RwbfaOwiWiuK"
      },
      "execution_count": 21,
      "outputs": []
    },
    {
      "cell_type": "code",
      "source": [
        "# sample model\n",
        "create_model(2, 256, 'SGD')"
      ],
      "metadata": {
        "colab": {
          "base_uri": "https://localhost:8080/"
        },
        "id": "YnDUL3heWisY",
        "outputId": "f2030fc8-c31f-4d23-a5ec-8e66871f8e16"
      },
      "execution_count": 22,
      "outputs": [
        {
          "output_type": "execute_result",
          "data": {
            "text/plain": [
              "(MLP(\n",
              "   (fc1): Linear(in_features=784, out_features=256, bias=True)\n",
              "   (fc_list): ModuleList(\n",
              "     (0): Linear(in_features=256, out_features=256, bias=True)\n",
              "   )\n",
              "   (fc_last): Linear(in_features=256, out_features=10, bias=True)\n",
              " ), CrossEntropyLoss(), SGD (\n",
              " Parameter Group 0\n",
              "     dampening: 0\n",
              "     lr: 0.01\n",
              "     maximize: False\n",
              "     momentum: 0\n",
              "     nesterov: False\n",
              "     weight_decay: 0\n",
              " ))"
            ]
          },
          "metadata": {},
          "execution_count": 22
        }
      ]
    },
    {
      "cell_type": "code",
      "source": [
        "def train_kmnist(config):\n",
        "    max_epoch = 20\n",
        "    \n",
        "    print(config)\n",
        "    model, criterion, optimizer = create_model(config['hidden_layer_num'], \n",
        "                                               config['hidden_layer_unit'], \n",
        "                                               config['optimizer_name'])\n",
        "\n",
        "    train_losses_minibatches = []\n",
        "    train_losses_epoch = []\n",
        "    val_losses = []\n",
        "    \n",
        "    # for early stopping\n",
        "    # after 2 epoch of no improvement of validation loss, stop training\n",
        "    # to prevent from overfitting\n",
        "    no_improve_counter = 0\n",
        "    lowest_val_error = sys.maxsize\n",
        "    patience = 2\n",
        "\n",
        "    for epoch in range(max_epoch):\n",
        "        # TRAIN\n",
        "        model.train()\n",
        "        epoch_losses = 0\n",
        "        for batch_idx, (data, target) in enumerate(train_loader):\n",
        "            if torch.cuda.is_available():\n",
        "                data, target = data.cuda(), target.cuda()\n",
        "\n",
        "            optimizer.zero_grad()\n",
        "            output = model(data)\n",
        "            loss = criterion(output, target)\n",
        "            loss.backward()\n",
        "            optimizer.step()\n",
        "        \n",
        "            train_losses_minibatches.append(loss.item())\n",
        "            epoch_losses += loss.item()\n",
        " \n",
        "        train_losses_epoch.append(epoch_losses)\n",
        "        \n",
        "        # EVALUATION\n",
        "        # check in validation set\n",
        "        model.eval()\n",
        "        val_loss = 0\n",
        "        correct_train = 0\n",
        "        correct_val = 0\n",
        "        correct_test = 0\n",
        "        with torch.no_grad():\n",
        "            # calculate accuracy on train set\n",
        "            for data, target in train_loader:\n",
        "                if torch.cuda.is_available():\n",
        "                   data, target = data.cuda(), target.cuda()\n",
        "\n",
        "                output = model(data)\n",
        "                val_loss += criterion(output, target).item()\n",
        "                pred = output.data.max(1, keepdim=True)[1]\n",
        "                correct_train += pred.eq(target.data.view_as(pred)).sum()\n",
        "\n",
        "\n",
        "            # calculate accuracy on validation set\n",
        "            for data, target in val_loader:\n",
        "                if torch.cuda.is_available():\n",
        "                   data, target = data.cuda(), target.cuda()\n",
        "\n",
        "                output = model(data)\n",
        "                val_loss += criterion(output, target).item()\n",
        "                pred = output.data.max(1, keepdim=True)[1]\n",
        "                correct_val += pred.eq(target.data.view_as(pred)).sum()\n",
        "\n",
        "            val_loss /= len(val_loader.dataset)\n",
        "            val_losses.append(val_loss)\n",
        "\n",
        "            if val_loss <= lowest_val_error:\n",
        "                lowest_val_error = val_loss\n",
        "                no_improve_counter = 0\n",
        "            else:\n",
        "                no_improve_counter += 1\n",
        "\n",
        "            # calculate accuracy on test set\n",
        "            for data, target in test_loader:\n",
        "                if torch.cuda.is_available():\n",
        "                   data, target = data.cuda(), target.cuda()\n",
        "\n",
        "                output = model(data)\n",
        "                pred = output.data.max(1, keepdim=True)[1]\n",
        "                correct_test += pred.eq(target.data.view_as(pred)).sum()\n",
        "            \n",
        "            tune.report(train_accuracy=100. * correct_train.item() / len(train_loader.dataset), \n",
        "                        val_accuracy=100. * correct_val.item() / len(val_loader.dataset), \n",
        "                        test_accuracy=100. * correct_test.item() / len(test_loader.dataset),\n",
        "                        epoch=epoch)\n",
        "            \n",
        "            # early stopping\n",
        "            if no_improve_counter >= patience:\n",
        "                break"
      ],
      "metadata": {
        "id": "DIRFskhUWiZb"
      },
      "execution_count": 11,
      "outputs": []
    },
    {
      "cell_type": "markdown",
      "source": [
        "## Hyperparameter Tuning"
      ],
      "metadata": {
        "id": "1xCswEv4dNTx"
      }
    },
    {
      "cell_type": "code",
      "source": [
        "%%time\n",
        "# use raytune to run hyperparameter tuning\n",
        "# a few hyperparameter value is inserted to be explored\n",
        "# total number of model combination will be 12 (3c1 x 2c1 x 2c1)\n",
        "\n",
        "analysis = tune.run(\n",
        "    train_kmnist, config={\n",
        "        'hidden_layer_num': tune.grid_search([1, 3, 5]),\n",
        "        'hidden_layer_unit': tune.grid_search([128, 256]),\n",
        "        'optimizer_name': tune.grid_search(['SGD', 'Adam'])\n",
        "        }, resources_per_trial={'gpu': 1}, verbose=0)"
      ],
      "metadata": {
        "colab": {
          "base_uri": "https://localhost:8080/"
        },
        "id": "XcTrXsGzWuc7",
        "outputId": "ca467d6d-934e-4276-9d52-cffce1e098b2"
      },
      "execution_count": 71,
      "outputs": [
        {
          "output_type": "stream",
          "name": "stderr",
          "text": [
            "2022-05-29 07:16:04,334\tINFO trial_runner.py:803 -- starting train_kmnist_2f428_00000\n",
            "2022-05-29 07:16:04,916\tWARNING worker.py:1382 -- Warning: The actor ImplicitFunc is very large (53 MiB). Check that its definition is not implicitly capturing a large array or other object in scope. Tip: use ray.put() to put large objects in the Ray object store.\n",
            "2022-05-29 07:16:05,976\tWARNING util.py:171 -- The `start_trial` operation took 1.640 s, which may be a performance bottleneck.\n"
          ]
        },
        {
          "output_type": "stream",
          "name": "stdout",
          "text": [
            "\u001b[2m\u001b[36m(train_kmnist pid=2124)\u001b[0m {'hidden_layer_num': 1, 'hidden_layer_unit': 128, 'optimizer_name': 'SGD'}\n"
          ]
        },
        {
          "output_type": "stream",
          "name": "stderr",
          "text": [
            "2022-05-29 07:20:12,838\tINFO trial_runner.py:803 -- starting train_kmnist_2f428_00001\n"
          ]
        },
        {
          "output_type": "stream",
          "name": "stdout",
          "text": [
            "\u001b[2m\u001b[36m(train_kmnist pid=2258)\u001b[0m {'hidden_layer_num': 3, 'hidden_layer_unit': 128, 'optimizer_name': 'SGD'}\n"
          ]
        },
        {
          "output_type": "stream",
          "name": "stderr",
          "text": [
            "2022-05-29 07:24:16,877\tINFO trial_runner.py:803 -- starting train_kmnist_2f428_00002\n"
          ]
        },
        {
          "output_type": "stream",
          "name": "stdout",
          "text": [
            "\u001b[2m\u001b[36m(train_kmnist pid=2410)\u001b[0m {'hidden_layer_num': 5, 'hidden_layer_unit': 128, 'optimizer_name': 'SGD'}\n"
          ]
        },
        {
          "output_type": "stream",
          "name": "stderr",
          "text": [
            "2022-05-29 07:27:33,911\tINFO trial_runner.py:803 -- starting train_kmnist_2f428_00003\n"
          ]
        },
        {
          "output_type": "stream",
          "name": "stdout",
          "text": [
            "\u001b[2m\u001b[36m(train_kmnist pid=2533)\u001b[0m {'hidden_layer_num': 1, 'hidden_layer_unit': 256, 'optimizer_name': 'SGD'}\n"
          ]
        },
        {
          "output_type": "stream",
          "name": "stderr",
          "text": [
            "2022-05-29 07:31:30,966\tINFO trial_runner.py:803 -- starting train_kmnist_2f428_00004\n"
          ]
        },
        {
          "output_type": "stream",
          "name": "stdout",
          "text": [
            "\u001b[2m\u001b[36m(train_kmnist pid=2686)\u001b[0m {'hidden_layer_num': 3, 'hidden_layer_unit': 256, 'optimizer_name': 'SGD'}\n"
          ]
        },
        {
          "output_type": "stream",
          "name": "stderr",
          "text": [
            "2022-05-29 07:35:37,007\tINFO trial_runner.py:803 -- starting train_kmnist_2f428_00005\n"
          ]
        },
        {
          "output_type": "stream",
          "name": "stdout",
          "text": [
            "\u001b[2m\u001b[36m(train_kmnist pid=2838)\u001b[0m {'hidden_layer_num': 5, 'hidden_layer_unit': 256, 'optimizer_name': 'SGD'}\n"
          ]
        },
        {
          "output_type": "stream",
          "name": "stderr",
          "text": [
            "2022-05-29 07:39:56,045\tINFO trial_runner.py:803 -- starting train_kmnist_2f428_00006\n"
          ]
        },
        {
          "output_type": "stream",
          "name": "stdout",
          "text": [
            "\u001b[2m\u001b[36m(train_kmnist pid=2988)\u001b[0m {'hidden_layer_num': 1, 'hidden_layer_unit': 128, 'optimizer_name': 'Adam'}\n"
          ]
        },
        {
          "output_type": "stream",
          "name": "stderr",
          "text": [
            "2022-05-29 07:42:25,078\tINFO trial_runner.py:803 -- starting train_kmnist_2f428_00007\n"
          ]
        },
        {
          "output_type": "stream",
          "name": "stdout",
          "text": [
            "\u001b[2m\u001b[36m(train_kmnist pid=3098)\u001b[0m {'hidden_layer_num': 3, 'hidden_layer_unit': 128, 'optimizer_name': 'Adam'}\n"
          ]
        },
        {
          "output_type": "stream",
          "name": "stderr",
          "text": [
            "2022-05-29 07:44:36,098\tINFO trial_runner.py:803 -- starting train_kmnist_2f428_00008\n"
          ]
        },
        {
          "output_type": "stream",
          "name": "stdout",
          "text": [
            "\u001b[2m\u001b[36m(train_kmnist pid=3200)\u001b[0m {'hidden_layer_num': 5, 'hidden_layer_unit': 128, 'optimizer_name': 'Adam'}\n"
          ]
        },
        {
          "output_type": "stream",
          "name": "stderr",
          "text": [
            "2022-05-29 07:46:43,115\tINFO trial_runner.py:803 -- starting train_kmnist_2f428_00009\n"
          ]
        },
        {
          "output_type": "stream",
          "name": "stdout",
          "text": [
            "\u001b[2m\u001b[36m(train_kmnist pid=3294)\u001b[0m {'hidden_layer_num': 1, 'hidden_layer_unit': 256, 'optimizer_name': 'Adam'}\n"
          ]
        },
        {
          "output_type": "stream",
          "name": "stderr",
          "text": [
            "2022-05-29 07:48:50,127\tINFO trial_runner.py:803 -- starting train_kmnist_2f428_00010\n"
          ]
        },
        {
          "output_type": "stream",
          "name": "stdout",
          "text": [
            "\u001b[2m\u001b[36m(train_kmnist pid=3388)\u001b[0m {'hidden_layer_num': 3, 'hidden_layer_unit': 256, 'optimizer_name': 'Adam'}\n"
          ]
        },
        {
          "output_type": "stream",
          "name": "stderr",
          "text": [
            "2022-05-29 07:51:02,141\tINFO trial_runner.py:803 -- starting train_kmnist_2f428_00011\n"
          ]
        },
        {
          "output_type": "stream",
          "name": "stdout",
          "text": [
            "\u001b[2m\u001b[36m(train_kmnist pid=3474)\u001b[0m {'hidden_layer_num': 5, 'hidden_layer_unit': 256, 'optimizer_name': 'Adam'}\n",
            "CPU times: user 30 s, sys: 5.71 s, total: 35.7 s\n",
            "Wall time: 37min 1s\n"
          ]
        }
      ]
    },
    {
      "cell_type": "code",
      "source": [
        "df = analysis.dataframe()\n",
        "df.head()"
      ],
      "metadata": {
        "colab": {
          "base_uri": "https://localhost:8080/",
          "height": 386
        },
        "id": "8kgZNexiaOrc",
        "outputId": "14cc34fb-366b-47ef-fc0c-cafa6a52cc02"
      },
      "execution_count": 72,
      "outputs": [
        {
          "output_type": "execute_result",
          "data": {
            "text/plain": [
              "   train_accuracy  val_accuracy  test_accuracy  epoch  time_this_iter_s  \\\n",
              "0       94.360000     92.973333          83.56     19         11.414748   \n",
              "1       96.875556     94.153333          86.55     19         11.875785   \n",
              "2       95.917778     92.933333          83.77     14         12.590681   \n",
              "3       95.048889     93.526667          84.90     19         11.362148   \n",
              "4       97.404444     94.740000          86.88     19         11.862994   \n",
              "\n",
              "    done  timesteps_total  episodes_total  training_iteration     trial_id  \\\n",
              "0  False              NaN             NaN                  20  2f428_00000   \n",
              "1  False              NaN             NaN                  20  2f428_00001   \n",
              "2  False              NaN             NaN                  15  2f428_00002   \n",
              "3  False              NaN             NaN                  20  2f428_00003   \n",
              "4  False              NaN             NaN                  20  2f428_00004   \n",
              "\n",
              "   ...      hostname     node_ip  time_since_restore  timesteps_since_restore  \\\n",
              "0  ...  402ae5c8602e  172.28.0.2          242.120171                        0   \n",
              "1  ...  402ae5c8602e  172.28.0.2          241.040340                        0   \n",
              "2  ...  402ae5c8602e  172.28.0.2          193.274626                        0   \n",
              "3  ...  402ae5c8602e  172.28.0.2          234.198379                        0   \n",
              "4  ...  402ae5c8602e  172.28.0.2          242.416913                        0   \n",
              "\n",
              "   iterations_since_restore warmup_time config/hidden_layer_num  \\\n",
              "0                        20    0.011972                       1   \n",
              "1                        20    0.003013                       3   \n",
              "2                        15    0.003040                       5   \n",
              "3                        20    0.003107                       1   \n",
              "4                        20    0.003681                       3   \n",
              "\n",
              "   config/hidden_layer_unit  config/optimizer_name  \\\n",
              "0                       128                    SGD   \n",
              "1                       128                    SGD   \n",
              "2                       128                    SGD   \n",
              "3                       256                    SGD   \n",
              "4                       256                    SGD   \n",
              "\n",
              "                                              logdir  \n",
              "0  /root/ray_results/train_kmnist_2022-05-29_07-1...  \n",
              "1  /root/ray_results/train_kmnist_2022-05-29_07-1...  \n",
              "2  /root/ray_results/train_kmnist_2022-05-29_07-1...  \n",
              "3  /root/ray_results/train_kmnist_2022-05-29_07-1...  \n",
              "4  /root/ray_results/train_kmnist_2022-05-29_07-1...  \n",
              "\n",
              "[5 rows x 25 columns]"
            ],
            "text/html": [
              "\n",
              "  <div id=\"df-fa331330-86db-47e3-a4f6-057dcd526883\">\n",
              "    <div class=\"colab-df-container\">\n",
              "      <div>\n",
              "<style scoped>\n",
              "    .dataframe tbody tr th:only-of-type {\n",
              "        vertical-align: middle;\n",
              "    }\n",
              "\n",
              "    .dataframe tbody tr th {\n",
              "        vertical-align: top;\n",
              "    }\n",
              "\n",
              "    .dataframe thead th {\n",
              "        text-align: right;\n",
              "    }\n",
              "</style>\n",
              "<table border=\"1\" class=\"dataframe\">\n",
              "  <thead>\n",
              "    <tr style=\"text-align: right;\">\n",
              "      <th></th>\n",
              "      <th>train_accuracy</th>\n",
              "      <th>val_accuracy</th>\n",
              "      <th>test_accuracy</th>\n",
              "      <th>epoch</th>\n",
              "      <th>time_this_iter_s</th>\n",
              "      <th>done</th>\n",
              "      <th>timesteps_total</th>\n",
              "      <th>episodes_total</th>\n",
              "      <th>training_iteration</th>\n",
              "      <th>trial_id</th>\n",
              "      <th>...</th>\n",
              "      <th>hostname</th>\n",
              "      <th>node_ip</th>\n",
              "      <th>time_since_restore</th>\n",
              "      <th>timesteps_since_restore</th>\n",
              "      <th>iterations_since_restore</th>\n",
              "      <th>warmup_time</th>\n",
              "      <th>config/hidden_layer_num</th>\n",
              "      <th>config/hidden_layer_unit</th>\n",
              "      <th>config/optimizer_name</th>\n",
              "      <th>logdir</th>\n",
              "    </tr>\n",
              "  </thead>\n",
              "  <tbody>\n",
              "    <tr>\n",
              "      <th>0</th>\n",
              "      <td>94.360000</td>\n",
              "      <td>92.973333</td>\n",
              "      <td>83.56</td>\n",
              "      <td>19</td>\n",
              "      <td>11.414748</td>\n",
              "      <td>False</td>\n",
              "      <td>NaN</td>\n",
              "      <td>NaN</td>\n",
              "      <td>20</td>\n",
              "      <td>2f428_00000</td>\n",
              "      <td>...</td>\n",
              "      <td>402ae5c8602e</td>\n",
              "      <td>172.28.0.2</td>\n",
              "      <td>242.120171</td>\n",
              "      <td>0</td>\n",
              "      <td>20</td>\n",
              "      <td>0.011972</td>\n",
              "      <td>1</td>\n",
              "      <td>128</td>\n",
              "      <td>SGD</td>\n",
              "      <td>/root/ray_results/train_kmnist_2022-05-29_07-1...</td>\n",
              "    </tr>\n",
              "    <tr>\n",
              "      <th>1</th>\n",
              "      <td>96.875556</td>\n",
              "      <td>94.153333</td>\n",
              "      <td>86.55</td>\n",
              "      <td>19</td>\n",
              "      <td>11.875785</td>\n",
              "      <td>False</td>\n",
              "      <td>NaN</td>\n",
              "      <td>NaN</td>\n",
              "      <td>20</td>\n",
              "      <td>2f428_00001</td>\n",
              "      <td>...</td>\n",
              "      <td>402ae5c8602e</td>\n",
              "      <td>172.28.0.2</td>\n",
              "      <td>241.040340</td>\n",
              "      <td>0</td>\n",
              "      <td>20</td>\n",
              "      <td>0.003013</td>\n",
              "      <td>3</td>\n",
              "      <td>128</td>\n",
              "      <td>SGD</td>\n",
              "      <td>/root/ray_results/train_kmnist_2022-05-29_07-1...</td>\n",
              "    </tr>\n",
              "    <tr>\n",
              "      <th>2</th>\n",
              "      <td>95.917778</td>\n",
              "      <td>92.933333</td>\n",
              "      <td>83.77</td>\n",
              "      <td>14</td>\n",
              "      <td>12.590681</td>\n",
              "      <td>False</td>\n",
              "      <td>NaN</td>\n",
              "      <td>NaN</td>\n",
              "      <td>15</td>\n",
              "      <td>2f428_00002</td>\n",
              "      <td>...</td>\n",
              "      <td>402ae5c8602e</td>\n",
              "      <td>172.28.0.2</td>\n",
              "      <td>193.274626</td>\n",
              "      <td>0</td>\n",
              "      <td>15</td>\n",
              "      <td>0.003040</td>\n",
              "      <td>5</td>\n",
              "      <td>128</td>\n",
              "      <td>SGD</td>\n",
              "      <td>/root/ray_results/train_kmnist_2022-05-29_07-1...</td>\n",
              "    </tr>\n",
              "    <tr>\n",
              "      <th>3</th>\n",
              "      <td>95.048889</td>\n",
              "      <td>93.526667</td>\n",
              "      <td>84.90</td>\n",
              "      <td>19</td>\n",
              "      <td>11.362148</td>\n",
              "      <td>False</td>\n",
              "      <td>NaN</td>\n",
              "      <td>NaN</td>\n",
              "      <td>20</td>\n",
              "      <td>2f428_00003</td>\n",
              "      <td>...</td>\n",
              "      <td>402ae5c8602e</td>\n",
              "      <td>172.28.0.2</td>\n",
              "      <td>234.198379</td>\n",
              "      <td>0</td>\n",
              "      <td>20</td>\n",
              "      <td>0.003107</td>\n",
              "      <td>1</td>\n",
              "      <td>256</td>\n",
              "      <td>SGD</td>\n",
              "      <td>/root/ray_results/train_kmnist_2022-05-29_07-1...</td>\n",
              "    </tr>\n",
              "    <tr>\n",
              "      <th>4</th>\n",
              "      <td>97.404444</td>\n",
              "      <td>94.740000</td>\n",
              "      <td>86.88</td>\n",
              "      <td>19</td>\n",
              "      <td>11.862994</td>\n",
              "      <td>False</td>\n",
              "      <td>NaN</td>\n",
              "      <td>NaN</td>\n",
              "      <td>20</td>\n",
              "      <td>2f428_00004</td>\n",
              "      <td>...</td>\n",
              "      <td>402ae5c8602e</td>\n",
              "      <td>172.28.0.2</td>\n",
              "      <td>242.416913</td>\n",
              "      <td>0</td>\n",
              "      <td>20</td>\n",
              "      <td>0.003681</td>\n",
              "      <td>3</td>\n",
              "      <td>256</td>\n",
              "      <td>SGD</td>\n",
              "      <td>/root/ray_results/train_kmnist_2022-05-29_07-1...</td>\n",
              "    </tr>\n",
              "  </tbody>\n",
              "</table>\n",
              "<p>5 rows × 25 columns</p>\n",
              "</div>\n",
              "      <button class=\"colab-df-convert\" onclick=\"convertToInteractive('df-fa331330-86db-47e3-a4f6-057dcd526883')\"\n",
              "              title=\"Convert this dataframe to an interactive table.\"\n",
              "              style=\"display:none;\">\n",
              "        \n",
              "  <svg xmlns=\"http://www.w3.org/2000/svg\" height=\"24px\"viewBox=\"0 0 24 24\"\n",
              "       width=\"24px\">\n",
              "    <path d=\"M0 0h24v24H0V0z\" fill=\"none\"/>\n",
              "    <path d=\"M18.56 5.44l.94 2.06.94-2.06 2.06-.94-2.06-.94-.94-2.06-.94 2.06-2.06.94zm-11 1L8.5 8.5l.94-2.06 2.06-.94-2.06-.94L8.5 2.5l-.94 2.06-2.06.94zm10 10l.94 2.06.94-2.06 2.06-.94-2.06-.94-.94-2.06-.94 2.06-2.06.94z\"/><path d=\"M17.41 7.96l-1.37-1.37c-.4-.4-.92-.59-1.43-.59-.52 0-1.04.2-1.43.59L10.3 9.45l-7.72 7.72c-.78.78-.78 2.05 0 2.83L4 21.41c.39.39.9.59 1.41.59.51 0 1.02-.2 1.41-.59l7.78-7.78 2.81-2.81c.8-.78.8-2.07 0-2.86zM5.41 20L4 18.59l7.72-7.72 1.47 1.35L5.41 20z\"/>\n",
              "  </svg>\n",
              "      </button>\n",
              "      \n",
              "  <style>\n",
              "    .colab-df-container {\n",
              "      display:flex;\n",
              "      flex-wrap:wrap;\n",
              "      gap: 12px;\n",
              "    }\n",
              "\n",
              "    .colab-df-convert {\n",
              "      background-color: #E8F0FE;\n",
              "      border: none;\n",
              "      border-radius: 50%;\n",
              "      cursor: pointer;\n",
              "      display: none;\n",
              "      fill: #1967D2;\n",
              "      height: 32px;\n",
              "      padding: 0 0 0 0;\n",
              "      width: 32px;\n",
              "    }\n",
              "\n",
              "    .colab-df-convert:hover {\n",
              "      background-color: #E2EBFA;\n",
              "      box-shadow: 0px 1px 2px rgba(60, 64, 67, 0.3), 0px 1px 3px 1px rgba(60, 64, 67, 0.15);\n",
              "      fill: #174EA6;\n",
              "    }\n",
              "\n",
              "    [theme=dark] .colab-df-convert {\n",
              "      background-color: #3B4455;\n",
              "      fill: #D2E3FC;\n",
              "    }\n",
              "\n",
              "    [theme=dark] .colab-df-convert:hover {\n",
              "      background-color: #434B5C;\n",
              "      box-shadow: 0px 1px 3px 1px rgba(0, 0, 0, 0.15);\n",
              "      filter: drop-shadow(0px 1px 2px rgba(0, 0, 0, 0.3));\n",
              "      fill: #FFFFFF;\n",
              "    }\n",
              "  </style>\n",
              "\n",
              "      <script>\n",
              "        const buttonEl =\n",
              "          document.querySelector('#df-fa331330-86db-47e3-a4f6-057dcd526883 button.colab-df-convert');\n",
              "        buttonEl.style.display =\n",
              "          google.colab.kernel.accessAllowed ? 'block' : 'none';\n",
              "\n",
              "        async function convertToInteractive(key) {\n",
              "          const element = document.querySelector('#df-fa331330-86db-47e3-a4f6-057dcd526883');\n",
              "          const dataTable =\n",
              "            await google.colab.kernel.invokeFunction('convertToInteractive',\n",
              "                                                     [key], {});\n",
              "          if (!dataTable) return;\n",
              "\n",
              "          const docLinkHtml = 'Like what you see? Visit the ' +\n",
              "            '<a target=\"_blank\" href=https://colab.research.google.com/notebooks/data_table.ipynb>data table notebook</a>'\n",
              "            + ' to learn more about interactive tables.';\n",
              "          element.innerHTML = '';\n",
              "          dataTable['output_type'] = 'display_data';\n",
              "          await google.colab.output.renderOutput(dataTable, element);\n",
              "          const docLink = document.createElement('div');\n",
              "          docLink.innerHTML = docLinkHtml;\n",
              "          element.appendChild(docLink);\n",
              "        }\n",
              "      </script>\n",
              "    </div>\n",
              "  </div>\n",
              "  "
            ]
          },
          "metadata": {},
          "execution_count": 72
        }
      ]
    },
    {
      "cell_type": "code",
      "source": [
        "df.columns"
      ],
      "metadata": {
        "colab": {
          "base_uri": "https://localhost:8080/"
        },
        "id": "3JrJbRKoa5MI",
        "outputId": "b8b45c57-21a6-445a-958d-2b7418fbcd21"
      },
      "execution_count": 73,
      "outputs": [
        {
          "output_type": "execute_result",
          "data": {
            "text/plain": [
              "Index(['train_accuracy', 'val_accuracy', 'test_accuracy', 'epoch',\n",
              "       'time_this_iter_s', 'done', 'timesteps_total', 'episodes_total',\n",
              "       'training_iteration', 'trial_id', 'experiment_id', 'date', 'timestamp',\n",
              "       'time_total_s', 'pid', 'hostname', 'node_ip', 'time_since_restore',\n",
              "       'timesteps_since_restore', 'iterations_since_restore', 'warmup_time',\n",
              "       'config/hidden_layer_num', 'config/hidden_layer_unit',\n",
              "       'config/optimizer_name', 'logdir'],\n",
              "      dtype='object')"
            ]
          },
          "metadata": {},
          "execution_count": 73
        }
      ]
    },
    {
      "cell_type": "code",
      "source": [
        "# select important columns only\n",
        "df = df[['config/hidden_layer_num', 'config/hidden_layer_unit', 'config/optimizer_name', 'train_accuracy', 'val_accuracy', 'test_accuracy', 'epoch', 'time_total_s']]"
      ],
      "metadata": {
        "id": "RTeMD_Ana5uq"
      },
      "execution_count": 74,
      "outputs": []
    },
    {
      "cell_type": "code",
      "source": [
        "df = df.sort_values('val_accuracy', ascending=False)\n",
        "df"
      ],
      "metadata": {
        "colab": {
          "base_uri": "https://localhost:8080/",
          "height": 426
        },
        "id": "WDTJcxUijXP9",
        "outputId": "a64d0025-e653-4a93-acba-9789f3d09c14"
      },
      "execution_count": 75,
      "outputs": [
        {
          "output_type": "execute_result",
          "data": {
            "text/plain": [
              "    config/hidden_layer_num  config/hidden_layer_unit config/optimizer_name  \\\n",
              "11                        5                       256                  Adam   \n",
              "10                        3                       256                  Adam   \n",
              "8                         5                       128                  Adam   \n",
              "7                         3                       128                  Adam   \n",
              "9                         1                       256                  Adam   \n",
              "4                         3                       256                   SGD   \n",
              "5                         5                       256                   SGD   \n",
              "6                         1                       128                  Adam   \n",
              "1                         3                       128                   SGD   \n",
              "3                         1                       256                   SGD   \n",
              "0                         1                       128                   SGD   \n",
              "2                         5                       128                   SGD   \n",
              "\n",
              "    train_accuracy  val_accuracy  test_accuracy  epoch  time_total_s  \n",
              "11       99.037778     96.066667          89.43      7    112.714998  \n",
              "10       99.075556     95.753333          89.04      9    128.891190  \n",
              "8        98.517778     95.313333          88.50      8    123.507330  \n",
              "7        99.388889     95.280000          89.40      9    128.092762  \n",
              "9        99.088889     95.226667          88.10      9    123.297398  \n",
              "4        97.404444     94.740000          86.88     19    242.416913  \n",
              "5        99.233333     94.613333          86.37     19    255.874643  \n",
              "6        98.815556     94.373333          86.68     11    146.095783  \n",
              "1        96.875556     94.153333          86.55     19    241.040340  \n",
              "3        95.048889     93.526667          84.90     19    234.198379  \n",
              "0        94.360000     92.973333          83.56     19    242.120171  \n",
              "2        95.917778     92.933333          83.77     14    193.274626  "
            ],
            "text/html": [
              "\n",
              "  <div id=\"df-f8c8b94d-8574-4dbf-80ec-c0e7bae4f814\">\n",
              "    <div class=\"colab-df-container\">\n",
              "      <div>\n",
              "<style scoped>\n",
              "    .dataframe tbody tr th:only-of-type {\n",
              "        vertical-align: middle;\n",
              "    }\n",
              "\n",
              "    .dataframe tbody tr th {\n",
              "        vertical-align: top;\n",
              "    }\n",
              "\n",
              "    .dataframe thead th {\n",
              "        text-align: right;\n",
              "    }\n",
              "</style>\n",
              "<table border=\"1\" class=\"dataframe\">\n",
              "  <thead>\n",
              "    <tr style=\"text-align: right;\">\n",
              "      <th></th>\n",
              "      <th>config/hidden_layer_num</th>\n",
              "      <th>config/hidden_layer_unit</th>\n",
              "      <th>config/optimizer_name</th>\n",
              "      <th>train_accuracy</th>\n",
              "      <th>val_accuracy</th>\n",
              "      <th>test_accuracy</th>\n",
              "      <th>epoch</th>\n",
              "      <th>time_total_s</th>\n",
              "    </tr>\n",
              "  </thead>\n",
              "  <tbody>\n",
              "    <tr>\n",
              "      <th>11</th>\n",
              "      <td>5</td>\n",
              "      <td>256</td>\n",
              "      <td>Adam</td>\n",
              "      <td>99.037778</td>\n",
              "      <td>96.066667</td>\n",
              "      <td>89.43</td>\n",
              "      <td>7</td>\n",
              "      <td>112.714998</td>\n",
              "    </tr>\n",
              "    <tr>\n",
              "      <th>10</th>\n",
              "      <td>3</td>\n",
              "      <td>256</td>\n",
              "      <td>Adam</td>\n",
              "      <td>99.075556</td>\n",
              "      <td>95.753333</td>\n",
              "      <td>89.04</td>\n",
              "      <td>9</td>\n",
              "      <td>128.891190</td>\n",
              "    </tr>\n",
              "    <tr>\n",
              "      <th>8</th>\n",
              "      <td>5</td>\n",
              "      <td>128</td>\n",
              "      <td>Adam</td>\n",
              "      <td>98.517778</td>\n",
              "      <td>95.313333</td>\n",
              "      <td>88.50</td>\n",
              "      <td>8</td>\n",
              "      <td>123.507330</td>\n",
              "    </tr>\n",
              "    <tr>\n",
              "      <th>7</th>\n",
              "      <td>3</td>\n",
              "      <td>128</td>\n",
              "      <td>Adam</td>\n",
              "      <td>99.388889</td>\n",
              "      <td>95.280000</td>\n",
              "      <td>89.40</td>\n",
              "      <td>9</td>\n",
              "      <td>128.092762</td>\n",
              "    </tr>\n",
              "    <tr>\n",
              "      <th>9</th>\n",
              "      <td>1</td>\n",
              "      <td>256</td>\n",
              "      <td>Adam</td>\n",
              "      <td>99.088889</td>\n",
              "      <td>95.226667</td>\n",
              "      <td>88.10</td>\n",
              "      <td>9</td>\n",
              "      <td>123.297398</td>\n",
              "    </tr>\n",
              "    <tr>\n",
              "      <th>4</th>\n",
              "      <td>3</td>\n",
              "      <td>256</td>\n",
              "      <td>SGD</td>\n",
              "      <td>97.404444</td>\n",
              "      <td>94.740000</td>\n",
              "      <td>86.88</td>\n",
              "      <td>19</td>\n",
              "      <td>242.416913</td>\n",
              "    </tr>\n",
              "    <tr>\n",
              "      <th>5</th>\n",
              "      <td>5</td>\n",
              "      <td>256</td>\n",
              "      <td>SGD</td>\n",
              "      <td>99.233333</td>\n",
              "      <td>94.613333</td>\n",
              "      <td>86.37</td>\n",
              "      <td>19</td>\n",
              "      <td>255.874643</td>\n",
              "    </tr>\n",
              "    <tr>\n",
              "      <th>6</th>\n",
              "      <td>1</td>\n",
              "      <td>128</td>\n",
              "      <td>Adam</td>\n",
              "      <td>98.815556</td>\n",
              "      <td>94.373333</td>\n",
              "      <td>86.68</td>\n",
              "      <td>11</td>\n",
              "      <td>146.095783</td>\n",
              "    </tr>\n",
              "    <tr>\n",
              "      <th>1</th>\n",
              "      <td>3</td>\n",
              "      <td>128</td>\n",
              "      <td>SGD</td>\n",
              "      <td>96.875556</td>\n",
              "      <td>94.153333</td>\n",
              "      <td>86.55</td>\n",
              "      <td>19</td>\n",
              "      <td>241.040340</td>\n",
              "    </tr>\n",
              "    <tr>\n",
              "      <th>3</th>\n",
              "      <td>1</td>\n",
              "      <td>256</td>\n",
              "      <td>SGD</td>\n",
              "      <td>95.048889</td>\n",
              "      <td>93.526667</td>\n",
              "      <td>84.90</td>\n",
              "      <td>19</td>\n",
              "      <td>234.198379</td>\n",
              "    </tr>\n",
              "    <tr>\n",
              "      <th>0</th>\n",
              "      <td>1</td>\n",
              "      <td>128</td>\n",
              "      <td>SGD</td>\n",
              "      <td>94.360000</td>\n",
              "      <td>92.973333</td>\n",
              "      <td>83.56</td>\n",
              "      <td>19</td>\n",
              "      <td>242.120171</td>\n",
              "    </tr>\n",
              "    <tr>\n",
              "      <th>2</th>\n",
              "      <td>5</td>\n",
              "      <td>128</td>\n",
              "      <td>SGD</td>\n",
              "      <td>95.917778</td>\n",
              "      <td>92.933333</td>\n",
              "      <td>83.77</td>\n",
              "      <td>14</td>\n",
              "      <td>193.274626</td>\n",
              "    </tr>\n",
              "  </tbody>\n",
              "</table>\n",
              "</div>\n",
              "      <button class=\"colab-df-convert\" onclick=\"convertToInteractive('df-f8c8b94d-8574-4dbf-80ec-c0e7bae4f814')\"\n",
              "              title=\"Convert this dataframe to an interactive table.\"\n",
              "              style=\"display:none;\">\n",
              "        \n",
              "  <svg xmlns=\"http://www.w3.org/2000/svg\" height=\"24px\"viewBox=\"0 0 24 24\"\n",
              "       width=\"24px\">\n",
              "    <path d=\"M0 0h24v24H0V0z\" fill=\"none\"/>\n",
              "    <path d=\"M18.56 5.44l.94 2.06.94-2.06 2.06-.94-2.06-.94-.94-2.06-.94 2.06-2.06.94zm-11 1L8.5 8.5l.94-2.06 2.06-.94-2.06-.94L8.5 2.5l-.94 2.06-2.06.94zm10 10l.94 2.06.94-2.06 2.06-.94-2.06-.94-.94-2.06-.94 2.06-2.06.94z\"/><path d=\"M17.41 7.96l-1.37-1.37c-.4-.4-.92-.59-1.43-.59-.52 0-1.04.2-1.43.59L10.3 9.45l-7.72 7.72c-.78.78-.78 2.05 0 2.83L4 21.41c.39.39.9.59 1.41.59.51 0 1.02-.2 1.41-.59l7.78-7.78 2.81-2.81c.8-.78.8-2.07 0-2.86zM5.41 20L4 18.59l7.72-7.72 1.47 1.35L5.41 20z\"/>\n",
              "  </svg>\n",
              "      </button>\n",
              "      \n",
              "  <style>\n",
              "    .colab-df-container {\n",
              "      display:flex;\n",
              "      flex-wrap:wrap;\n",
              "      gap: 12px;\n",
              "    }\n",
              "\n",
              "    .colab-df-convert {\n",
              "      background-color: #E8F0FE;\n",
              "      border: none;\n",
              "      border-radius: 50%;\n",
              "      cursor: pointer;\n",
              "      display: none;\n",
              "      fill: #1967D2;\n",
              "      height: 32px;\n",
              "      padding: 0 0 0 0;\n",
              "      width: 32px;\n",
              "    }\n",
              "\n",
              "    .colab-df-convert:hover {\n",
              "      background-color: #E2EBFA;\n",
              "      box-shadow: 0px 1px 2px rgba(60, 64, 67, 0.3), 0px 1px 3px 1px rgba(60, 64, 67, 0.15);\n",
              "      fill: #174EA6;\n",
              "    }\n",
              "\n",
              "    [theme=dark] .colab-df-convert {\n",
              "      background-color: #3B4455;\n",
              "      fill: #D2E3FC;\n",
              "    }\n",
              "\n",
              "    [theme=dark] .colab-df-convert:hover {\n",
              "      background-color: #434B5C;\n",
              "      box-shadow: 0px 1px 3px 1px rgba(0, 0, 0, 0.15);\n",
              "      filter: drop-shadow(0px 1px 2px rgba(0, 0, 0, 0.3));\n",
              "      fill: #FFFFFF;\n",
              "    }\n",
              "  </style>\n",
              "\n",
              "      <script>\n",
              "        const buttonEl =\n",
              "          document.querySelector('#df-f8c8b94d-8574-4dbf-80ec-c0e7bae4f814 button.colab-df-convert');\n",
              "        buttonEl.style.display =\n",
              "          google.colab.kernel.accessAllowed ? 'block' : 'none';\n",
              "\n",
              "        async function convertToInteractive(key) {\n",
              "          const element = document.querySelector('#df-f8c8b94d-8574-4dbf-80ec-c0e7bae4f814');\n",
              "          const dataTable =\n",
              "            await google.colab.kernel.invokeFunction('convertToInteractive',\n",
              "                                                     [key], {});\n",
              "          if (!dataTable) return;\n",
              "\n",
              "          const docLinkHtml = 'Like what you see? Visit the ' +\n",
              "            '<a target=\"_blank\" href=https://colab.research.google.com/notebooks/data_table.ipynb>data table notebook</a>'\n",
              "            + ' to learn more about interactive tables.';\n",
              "          element.innerHTML = '';\n",
              "          dataTable['output_type'] = 'display_data';\n",
              "          await google.colab.output.renderOutput(dataTable, element);\n",
              "          const docLink = document.createElement('div');\n",
              "          docLink.innerHTML = docLinkHtml;\n",
              "          element.appendChild(docLink);\n",
              "        }\n",
              "      </script>\n",
              "    </div>\n",
              "  </div>\n",
              "  "
            ]
          },
          "metadata": {},
          "execution_count": 75
        }
      ]
    },
    {
      "cell_type": "code",
      "source": [
        "df.rename(columns = {'config/hidden_layer_num':'hidden_layer_number', \n",
        "                      'config/hidden_layer_unit':'hidden_unit_per_layer',\n",
        "                      'config/optimizer_name': 'optimizer',\n",
        "                      'time_total_s': 'training time (s)'\n",
        "                      }, inplace=True)"
      ],
      "metadata": {
        "id": "h36zsLnxqNgt"
      },
      "execution_count": 76,
      "outputs": []
    },
    {
      "cell_type": "code",
      "source": [
        "df['minibacth_size'] = 32\n",
        "df['training_size'] = 45000\n",
        "df['validation_size'] = 15000\n",
        "df['test_size'] = 10000\n",
        "\n",
        "df['learning_rate'] = df['optimizer'].apply(lambda x: 0.01 if x=='SGD' else 0.001)"
      ],
      "metadata": {
        "id": "bJJBJKIfq9DK"
      },
      "execution_count": 77,
      "outputs": []
    },
    {
      "cell_type": "code",
      "source": [
        "# hyperparameter table\n",
        "df"
      ],
      "metadata": {
        "colab": {
          "base_uri": "https://localhost:8080/",
          "height": 426
        },
        "id": "Y-Jr7V_jrcvL",
        "outputId": "68b8827f-0cf5-46e3-ed00-5f220d802dd7"
      },
      "execution_count": 16,
      "outputs": [
        {
          "output_type": "execute_result",
          "data": {
            "text/plain": [
              "    hidden_layer_number  hidden unit per layer optimizer  train_accuracy  \\\n",
              "0                     5                    256      Adam       99.037778   \n",
              "1                     3                    256      Adam       99.075556   \n",
              "2                     5                    128      Adam       98.517778   \n",
              "3                     3                    128      Adam       99.388889   \n",
              "4                     1                    256      Adam       99.088889   \n",
              "5                     3                    256       SGD       97.404444   \n",
              "6                     5                    256       SGD       99.233333   \n",
              "7                     1                    128      Adam       98.815556   \n",
              "8                     3                    128       SGD       96.875556   \n",
              "9                     1                    256       SGD       95.048889   \n",
              "10                    1                    128       SGD       94.360000   \n",
              "11                    5                    128       SGD       95.917778   \n",
              "\n",
              "    val_accuracy  test_accuracy  epoch  training time (s)  minibacth_size  \\\n",
              "0      96.066667          89.43      7         112.714998              32   \n",
              "1      95.753333          89.04      9         128.891190              32   \n",
              "2      95.313333          88.50      8         123.507330              32   \n",
              "3      95.280000          89.40      9         128.092762              32   \n",
              "4      95.226667          88.10      9         123.297398              32   \n",
              "5      94.740000          86.88     19         242.416913              32   \n",
              "6      94.613333          86.37     19         255.874643              32   \n",
              "7      94.373333          86.68     11         146.095783              32   \n",
              "8      94.153333          86.55     19         241.040340              32   \n",
              "9      93.526667          84.90     19         234.198379              32   \n",
              "10     92.973333          83.56     19         242.120171              32   \n",
              "11     92.933333          83.77     14         193.274626              32   \n",
              "\n",
              "    training_size  validation_size  test_size  learning_rate  \n",
              "0           45000            15000      10000          0.001  \n",
              "1           45000            15000      10000          0.001  \n",
              "2           45000            15000      10000          0.001  \n",
              "3           45000            15000      10000          0.001  \n",
              "4           45000            15000      10000          0.001  \n",
              "5           45000            15000      10000          0.010  \n",
              "6           45000            15000      10000          0.010  \n",
              "7           45000            15000      10000          0.001  \n",
              "8           45000            15000      10000          0.010  \n",
              "9           45000            15000      10000          0.010  \n",
              "10          45000            15000      10000          0.010  \n",
              "11          45000            15000      10000          0.010  "
            ],
            "text/html": [
              "\n",
              "  <div id=\"df-a8549ded-b522-4243-a933-56959f896b49\">\n",
              "    <div class=\"colab-df-container\">\n",
              "      <div>\n",
              "<style scoped>\n",
              "    .dataframe tbody tr th:only-of-type {\n",
              "        vertical-align: middle;\n",
              "    }\n",
              "\n",
              "    .dataframe tbody tr th {\n",
              "        vertical-align: top;\n",
              "    }\n",
              "\n",
              "    .dataframe thead th {\n",
              "        text-align: right;\n",
              "    }\n",
              "</style>\n",
              "<table border=\"1\" class=\"dataframe\">\n",
              "  <thead>\n",
              "    <tr style=\"text-align: right;\">\n",
              "      <th></th>\n",
              "      <th>hidden_layer_number</th>\n",
              "      <th>hidden unit per layer</th>\n",
              "      <th>optimizer</th>\n",
              "      <th>train_accuracy</th>\n",
              "      <th>val_accuracy</th>\n",
              "      <th>test_accuracy</th>\n",
              "      <th>epoch</th>\n",
              "      <th>training time (s)</th>\n",
              "      <th>minibacth_size</th>\n",
              "      <th>training_size</th>\n",
              "      <th>validation_size</th>\n",
              "      <th>test_size</th>\n",
              "      <th>learning_rate</th>\n",
              "    </tr>\n",
              "  </thead>\n",
              "  <tbody>\n",
              "    <tr>\n",
              "      <th>0</th>\n",
              "      <td>5</td>\n",
              "      <td>256</td>\n",
              "      <td>Adam</td>\n",
              "      <td>99.037778</td>\n",
              "      <td>96.066667</td>\n",
              "      <td>89.43</td>\n",
              "      <td>7</td>\n",
              "      <td>112.714998</td>\n",
              "      <td>32</td>\n",
              "      <td>45000</td>\n",
              "      <td>15000</td>\n",
              "      <td>10000</td>\n",
              "      <td>0.001</td>\n",
              "    </tr>\n",
              "    <tr>\n",
              "      <th>1</th>\n",
              "      <td>3</td>\n",
              "      <td>256</td>\n",
              "      <td>Adam</td>\n",
              "      <td>99.075556</td>\n",
              "      <td>95.753333</td>\n",
              "      <td>89.04</td>\n",
              "      <td>9</td>\n",
              "      <td>128.891190</td>\n",
              "      <td>32</td>\n",
              "      <td>45000</td>\n",
              "      <td>15000</td>\n",
              "      <td>10000</td>\n",
              "      <td>0.001</td>\n",
              "    </tr>\n",
              "    <tr>\n",
              "      <th>2</th>\n",
              "      <td>5</td>\n",
              "      <td>128</td>\n",
              "      <td>Adam</td>\n",
              "      <td>98.517778</td>\n",
              "      <td>95.313333</td>\n",
              "      <td>88.50</td>\n",
              "      <td>8</td>\n",
              "      <td>123.507330</td>\n",
              "      <td>32</td>\n",
              "      <td>45000</td>\n",
              "      <td>15000</td>\n",
              "      <td>10000</td>\n",
              "      <td>0.001</td>\n",
              "    </tr>\n",
              "    <tr>\n",
              "      <th>3</th>\n",
              "      <td>3</td>\n",
              "      <td>128</td>\n",
              "      <td>Adam</td>\n",
              "      <td>99.388889</td>\n",
              "      <td>95.280000</td>\n",
              "      <td>89.40</td>\n",
              "      <td>9</td>\n",
              "      <td>128.092762</td>\n",
              "      <td>32</td>\n",
              "      <td>45000</td>\n",
              "      <td>15000</td>\n",
              "      <td>10000</td>\n",
              "      <td>0.001</td>\n",
              "    </tr>\n",
              "    <tr>\n",
              "      <th>4</th>\n",
              "      <td>1</td>\n",
              "      <td>256</td>\n",
              "      <td>Adam</td>\n",
              "      <td>99.088889</td>\n",
              "      <td>95.226667</td>\n",
              "      <td>88.10</td>\n",
              "      <td>9</td>\n",
              "      <td>123.297398</td>\n",
              "      <td>32</td>\n",
              "      <td>45000</td>\n",
              "      <td>15000</td>\n",
              "      <td>10000</td>\n",
              "      <td>0.001</td>\n",
              "    </tr>\n",
              "    <tr>\n",
              "      <th>5</th>\n",
              "      <td>3</td>\n",
              "      <td>256</td>\n",
              "      <td>SGD</td>\n",
              "      <td>97.404444</td>\n",
              "      <td>94.740000</td>\n",
              "      <td>86.88</td>\n",
              "      <td>19</td>\n",
              "      <td>242.416913</td>\n",
              "      <td>32</td>\n",
              "      <td>45000</td>\n",
              "      <td>15000</td>\n",
              "      <td>10000</td>\n",
              "      <td>0.010</td>\n",
              "    </tr>\n",
              "    <tr>\n",
              "      <th>6</th>\n",
              "      <td>5</td>\n",
              "      <td>256</td>\n",
              "      <td>SGD</td>\n",
              "      <td>99.233333</td>\n",
              "      <td>94.613333</td>\n",
              "      <td>86.37</td>\n",
              "      <td>19</td>\n",
              "      <td>255.874643</td>\n",
              "      <td>32</td>\n",
              "      <td>45000</td>\n",
              "      <td>15000</td>\n",
              "      <td>10000</td>\n",
              "      <td>0.010</td>\n",
              "    </tr>\n",
              "    <tr>\n",
              "      <th>7</th>\n",
              "      <td>1</td>\n",
              "      <td>128</td>\n",
              "      <td>Adam</td>\n",
              "      <td>98.815556</td>\n",
              "      <td>94.373333</td>\n",
              "      <td>86.68</td>\n",
              "      <td>11</td>\n",
              "      <td>146.095783</td>\n",
              "      <td>32</td>\n",
              "      <td>45000</td>\n",
              "      <td>15000</td>\n",
              "      <td>10000</td>\n",
              "      <td>0.001</td>\n",
              "    </tr>\n",
              "    <tr>\n",
              "      <th>8</th>\n",
              "      <td>3</td>\n",
              "      <td>128</td>\n",
              "      <td>SGD</td>\n",
              "      <td>96.875556</td>\n",
              "      <td>94.153333</td>\n",
              "      <td>86.55</td>\n",
              "      <td>19</td>\n",
              "      <td>241.040340</td>\n",
              "      <td>32</td>\n",
              "      <td>45000</td>\n",
              "      <td>15000</td>\n",
              "      <td>10000</td>\n",
              "      <td>0.010</td>\n",
              "    </tr>\n",
              "    <tr>\n",
              "      <th>9</th>\n",
              "      <td>1</td>\n",
              "      <td>256</td>\n",
              "      <td>SGD</td>\n",
              "      <td>95.048889</td>\n",
              "      <td>93.526667</td>\n",
              "      <td>84.90</td>\n",
              "      <td>19</td>\n",
              "      <td>234.198379</td>\n",
              "      <td>32</td>\n",
              "      <td>45000</td>\n",
              "      <td>15000</td>\n",
              "      <td>10000</td>\n",
              "      <td>0.010</td>\n",
              "    </tr>\n",
              "    <tr>\n",
              "      <th>10</th>\n",
              "      <td>1</td>\n",
              "      <td>128</td>\n",
              "      <td>SGD</td>\n",
              "      <td>94.360000</td>\n",
              "      <td>92.973333</td>\n",
              "      <td>83.56</td>\n",
              "      <td>19</td>\n",
              "      <td>242.120171</td>\n",
              "      <td>32</td>\n",
              "      <td>45000</td>\n",
              "      <td>15000</td>\n",
              "      <td>10000</td>\n",
              "      <td>0.010</td>\n",
              "    </tr>\n",
              "    <tr>\n",
              "      <th>11</th>\n",
              "      <td>5</td>\n",
              "      <td>128</td>\n",
              "      <td>SGD</td>\n",
              "      <td>95.917778</td>\n",
              "      <td>92.933333</td>\n",
              "      <td>83.77</td>\n",
              "      <td>14</td>\n",
              "      <td>193.274626</td>\n",
              "      <td>32</td>\n",
              "      <td>45000</td>\n",
              "      <td>15000</td>\n",
              "      <td>10000</td>\n",
              "      <td>0.010</td>\n",
              "    </tr>\n",
              "  </tbody>\n",
              "</table>\n",
              "</div>\n",
              "      <button class=\"colab-df-convert\" onclick=\"convertToInteractive('df-a8549ded-b522-4243-a933-56959f896b49')\"\n",
              "              title=\"Convert this dataframe to an interactive table.\"\n",
              "              style=\"display:none;\">\n",
              "        \n",
              "  <svg xmlns=\"http://www.w3.org/2000/svg\" height=\"24px\"viewBox=\"0 0 24 24\"\n",
              "       width=\"24px\">\n",
              "    <path d=\"M0 0h24v24H0V0z\" fill=\"none\"/>\n",
              "    <path d=\"M18.56 5.44l.94 2.06.94-2.06 2.06-.94-2.06-.94-.94-2.06-.94 2.06-2.06.94zm-11 1L8.5 8.5l.94-2.06 2.06-.94-2.06-.94L8.5 2.5l-.94 2.06-2.06.94zm10 10l.94 2.06.94-2.06 2.06-.94-2.06-.94-.94-2.06-.94 2.06-2.06.94z\"/><path d=\"M17.41 7.96l-1.37-1.37c-.4-.4-.92-.59-1.43-.59-.52 0-1.04.2-1.43.59L10.3 9.45l-7.72 7.72c-.78.78-.78 2.05 0 2.83L4 21.41c.39.39.9.59 1.41.59.51 0 1.02-.2 1.41-.59l7.78-7.78 2.81-2.81c.8-.78.8-2.07 0-2.86zM5.41 20L4 18.59l7.72-7.72 1.47 1.35L5.41 20z\"/>\n",
              "  </svg>\n",
              "      </button>\n",
              "      \n",
              "  <style>\n",
              "    .colab-df-container {\n",
              "      display:flex;\n",
              "      flex-wrap:wrap;\n",
              "      gap: 12px;\n",
              "    }\n",
              "\n",
              "    .colab-df-convert {\n",
              "      background-color: #E8F0FE;\n",
              "      border: none;\n",
              "      border-radius: 50%;\n",
              "      cursor: pointer;\n",
              "      display: none;\n",
              "      fill: #1967D2;\n",
              "      height: 32px;\n",
              "      padding: 0 0 0 0;\n",
              "      width: 32px;\n",
              "    }\n",
              "\n",
              "    .colab-df-convert:hover {\n",
              "      background-color: #E2EBFA;\n",
              "      box-shadow: 0px 1px 2px rgba(60, 64, 67, 0.3), 0px 1px 3px 1px rgba(60, 64, 67, 0.15);\n",
              "      fill: #174EA6;\n",
              "    }\n",
              "\n",
              "    [theme=dark] .colab-df-convert {\n",
              "      background-color: #3B4455;\n",
              "      fill: #D2E3FC;\n",
              "    }\n",
              "\n",
              "    [theme=dark] .colab-df-convert:hover {\n",
              "      background-color: #434B5C;\n",
              "      box-shadow: 0px 1px 3px 1px rgba(0, 0, 0, 0.15);\n",
              "      filter: drop-shadow(0px 1px 2px rgba(0, 0, 0, 0.3));\n",
              "      fill: #FFFFFF;\n",
              "    }\n",
              "  </style>\n",
              "\n",
              "      <script>\n",
              "        const buttonEl =\n",
              "          document.querySelector('#df-a8549ded-b522-4243-a933-56959f896b49 button.colab-df-convert');\n",
              "        buttonEl.style.display =\n",
              "          google.colab.kernel.accessAllowed ? 'block' : 'none';\n",
              "\n",
              "        async function convertToInteractive(key) {\n",
              "          const element = document.querySelector('#df-a8549ded-b522-4243-a933-56959f896b49');\n",
              "          const dataTable =\n",
              "            await google.colab.kernel.invokeFunction('convertToInteractive',\n",
              "                                                     [key], {});\n",
              "          if (!dataTable) return;\n",
              "\n",
              "          const docLinkHtml = 'Like what you see? Visit the ' +\n",
              "            '<a target=\"_blank\" href=https://colab.research.google.com/notebooks/data_table.ipynb>data table notebook</a>'\n",
              "            + ' to learn more about interactive tables.';\n",
              "          element.innerHTML = '';\n",
              "          dataTable['output_type'] = 'display_data';\n",
              "          await google.colab.output.renderOutput(dataTable, element);\n",
              "          const docLink = document.createElement('div');\n",
              "          docLink.innerHTML = docLinkHtml;\n",
              "          element.appendChild(docLink);\n",
              "        }\n",
              "      </script>\n",
              "    </div>\n",
              "  </div>\n",
              "  "
            ]
          },
          "metadata": {},
          "execution_count": 16
        }
      ]
    },
    {
      "cell_type": "code",
      "source": [
        "df.to_excel('hyperparameter_result_v2.xlsx', index=False)\n",
        "from google.colab import files\n",
        "files.download('hyperparameter_result_v2.xlsx')"
      ],
      "metadata": {
        "colab": {
          "base_uri": "https://localhost:8080/",
          "height": 17
        },
        "id": "a991ZlGAhJK5",
        "outputId": "e9af062c-6e6e-4ab6-9695-6fb5290054e3"
      },
      "execution_count": 79,
      "outputs": [
        {
          "output_type": "display_data",
          "data": {
            "text/plain": [
              "<IPython.core.display.Javascript object>"
            ],
            "application/javascript": [
              "\n",
              "    async function download(id, filename, size) {\n",
              "      if (!google.colab.kernel.accessAllowed) {\n",
              "        return;\n",
              "      }\n",
              "      const div = document.createElement('div');\n",
              "      const label = document.createElement('label');\n",
              "      label.textContent = `Downloading \"${filename}\": `;\n",
              "      div.appendChild(label);\n",
              "      const progress = document.createElement('progress');\n",
              "      progress.max = size;\n",
              "      div.appendChild(progress);\n",
              "      document.body.appendChild(div);\n",
              "\n",
              "      const buffers = [];\n",
              "      let downloaded = 0;\n",
              "\n",
              "      const channel = await google.colab.kernel.comms.open(id);\n",
              "      // Send a message to notify the kernel that we're ready.\n",
              "      channel.send({})\n",
              "\n",
              "      for await (const message of channel.messages) {\n",
              "        // Send a message to notify the kernel that we're ready.\n",
              "        channel.send({})\n",
              "        if (message.buffers) {\n",
              "          for (const buffer of message.buffers) {\n",
              "            buffers.push(buffer);\n",
              "            downloaded += buffer.byteLength;\n",
              "            progress.value = downloaded;\n",
              "          }\n",
              "        }\n",
              "      }\n",
              "      const blob = new Blob(buffers, {type: 'application/binary'});\n",
              "      const a = document.createElement('a');\n",
              "      a.href = window.URL.createObjectURL(blob);\n",
              "      a.download = filename;\n",
              "      div.appendChild(a);\n",
              "      a.click();\n",
              "      div.remove();\n",
              "    }\n",
              "  "
            ]
          },
          "metadata": {}
        },
        {
          "output_type": "display_data",
          "data": {
            "text/plain": [
              "<IPython.core.display.Javascript object>"
            ],
            "application/javascript": [
              "download(\"download_fc554818-db99-46de-a9e2-c34c8e592c54\", \"hyperparameter_result_v2.xlsx\", 5976)"
            ]
          },
          "metadata": {}
        }
      ]
    },
    {
      "cell_type": "code",
      "source": [
        "from google.colab import files\n",
        "uploaded = files.upload()"
      ],
      "metadata": {
        "colab": {
          "resources": {
            "http://localhost:8080/nbextensions/google.colab/files.js": {
              "data": "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",
              "ok": true,
              "headers": [
                [
                  "content-type",
                  "application/javascript"
                ]
              ],
              "status": 200,
              "status_text": ""
            }
          },
          "base_uri": "https://localhost:8080/",
          "height": 73
        },
        "id": "bqwdmtYyqQRg",
        "outputId": "957a444d-d96b-478e-9d91-a3200b0f83f7"
      },
      "execution_count": 14,
      "outputs": [
        {
          "output_type": "display_data",
          "data": {
            "text/plain": [
              "<IPython.core.display.HTML object>"
            ],
            "text/html": [
              "\n",
              "     <input type=\"file\" id=\"files-0155535c-f6e9-4496-9a16-06690ef87ee2\" name=\"files[]\" multiple disabled\n",
              "        style=\"border:none\" />\n",
              "     <output id=\"result-0155535c-f6e9-4496-9a16-06690ef87ee2\">\n",
              "      Upload widget is only available when the cell has been executed in the\n",
              "      current browser session. Please rerun this cell to enable.\n",
              "      </output>\n",
              "      <script src=\"/nbextensions/google.colab/files.js\"></script> "
            ]
          },
          "metadata": {}
        },
        {
          "output_type": "stream",
          "name": "stdout",
          "text": [
            "Saving hyperparameter_result_v2.xlsx to hyperparameter_result_v2.xlsx\n"
          ]
        }
      ]
    },
    {
      "cell_type": "code",
      "source": [
        "df = pd.read_excel('hyperparameter_result_v2.xlsx')"
      ],
      "metadata": {
        "id": "T6m4HNQsO0K5"
      },
      "execution_count": 15,
      "outputs": []
    },
    {
      "cell_type": "markdown",
      "source": [
        "## Check 4: Training and Test Accuracy"
      ],
      "metadata": {
        "id": "ClFTGgWAXfzx"
      }
    },
    {
      "cell_type": "code",
      "source": [
        "def print_model_accuracy(row):\n",
        "    print(f'Model {row.name + 1}: {row[\"hidden_layer_number\"]} hidden layer, {row[\"hidden unit per layer\"]} hidden unit per layer, {row[\"optimizer\"]} optimizer')\n",
        "    print('Training:')\n",
        "    print(f'  Number of data: {len(train)}')\n",
        "    print(f'  Number of wrong predicted: {len(train) - (int(row[\"train_accuracy\"] / 100 * len(train)))}')\n",
        "    print(f'  Accuracy: {row[\"train_accuracy\"]:.2f} %')\n",
        "    print('Validation:')\n",
        "    print(f'  Number of data: {len(val)}')\n",
        "    print(f'  Number of wrong predicted: {len(val) - (int(row[\"val_accuracy\"] / 100 * len(val)))}')\n",
        "    print(f'  Accuracy: {row[\"val_accuracy\"]:.2f} %')\n",
        "    print('Test:')\n",
        "    print(f'  Number of data: {len(test_data)}')\n",
        "    print(f'  Number of wrong predicted: {len(test_data) - (int(row[\"test_accuracy\"] / 100 * len(test_data)))}')\n",
        "    print(f'  Accuracy: {row[\"test_accuracy\"]:.2f} %')\n",
        "    print()"
      ],
      "metadata": {
        "id": "QdDg7wowO4qG"
      },
      "execution_count": 88,
      "outputs": []
    },
    {
      "cell_type": "code",
      "source": [
        "# check 4\n",
        "df.apply(print_model_accuracy, axis=1);"
      ],
      "metadata": {
        "colab": {
          "base_uri": "https://localhost:8080/"
        },
        "id": "mfIOvnEHPi4K",
        "outputId": "2f1bcce4-22a1-47a6-d1c6-9d4f45e9ed93"
      },
      "execution_count": 89,
      "outputs": [
        {
          "output_type": "stream",
          "name": "stdout",
          "text": [
            "Model 1: 5 hidden layer, 256 hidden unit per layer, Adam optimizer\n",
            "Training:\n",
            "  Number of data: 45000\n",
            "  Number of wrong predicted: 433\n",
            "  Accuracy: 99.04 %\n",
            "Validation:\n",
            "  Number of data: 15000\n",
            "  Number of wrong predicted: 590\n",
            "  Accuracy: 96.07 %\n",
            "Test:\n",
            "  Number of data: 10000\n",
            "  Number of wrong predicted: 1057\n",
            "  Accuracy: 89.43 %\n",
            "\n",
            "Model 2: 3 hidden layer, 256 hidden unit per layer, Adam optimizer\n",
            "Training:\n",
            "  Number of data: 45000\n",
            "  Number of wrong predicted: 416\n",
            "  Accuracy: 99.08 %\n",
            "Validation:\n",
            "  Number of data: 15000\n",
            "  Number of wrong predicted: 638\n",
            "  Accuracy: 95.75 %\n",
            "Test:\n",
            "  Number of data: 10000\n",
            "  Number of wrong predicted: 1096\n",
            "  Accuracy: 89.04 %\n",
            "\n",
            "Model 3: 5 hidden layer, 128 hidden unit per layer, Adam optimizer\n",
            "Training:\n",
            "  Number of data: 45000\n",
            "  Number of wrong predicted: 667\n",
            "  Accuracy: 98.52 %\n",
            "Validation:\n",
            "  Number of data: 15000\n",
            "  Number of wrong predicted: 704\n",
            "  Accuracy: 95.31 %\n",
            "Test:\n",
            "  Number of data: 10000\n",
            "  Number of wrong predicted: 1150\n",
            "  Accuracy: 88.50 %\n",
            "\n",
            "Model 4: 3 hidden layer, 128 hidden unit per layer, Adam optimizer\n",
            "Training:\n",
            "  Number of data: 45000\n",
            "  Number of wrong predicted: 275\n",
            "  Accuracy: 99.39 %\n",
            "Validation:\n",
            "  Number of data: 15000\n",
            "  Number of wrong predicted: 708\n",
            "  Accuracy: 95.28 %\n",
            "Test:\n",
            "  Number of data: 10000\n",
            "  Number of wrong predicted: 1060\n",
            "  Accuracy: 89.40 %\n",
            "\n",
            "Model 5: 1 hidden layer, 256 hidden unit per layer, Adam optimizer\n",
            "Training:\n",
            "  Number of data: 45000\n",
            "  Number of wrong predicted: 411\n",
            "  Accuracy: 99.09 %\n",
            "Validation:\n",
            "  Number of data: 15000\n",
            "  Number of wrong predicted: 716\n",
            "  Accuracy: 95.23 %\n",
            "Test:\n",
            "  Number of data: 10000\n",
            "  Number of wrong predicted: 1191\n",
            "  Accuracy: 88.10 %\n",
            "\n",
            "Model 6: 3 hidden layer, 256 hidden unit per layer, SGD optimizer\n",
            "Training:\n",
            "  Number of data: 45000\n",
            "  Number of wrong predicted: 1168\n",
            "  Accuracy: 97.40 %\n",
            "Validation:\n",
            "  Number of data: 15000\n",
            "  Number of wrong predicted: 790\n",
            "  Accuracy: 94.74 %\n",
            "Test:\n",
            "  Number of data: 10000\n",
            "  Number of wrong predicted: 1313\n",
            "  Accuracy: 86.88 %\n",
            "\n",
            "Model 7: 5 hidden layer, 256 hidden unit per layer, SGD optimizer\n",
            "Training:\n",
            "  Number of data: 45000\n",
            "  Number of wrong predicted: 346\n",
            "  Accuracy: 99.23 %\n",
            "Validation:\n",
            "  Number of data: 15000\n",
            "  Number of wrong predicted: 809\n",
            "  Accuracy: 94.61 %\n",
            "Test:\n",
            "  Number of data: 10000\n",
            "  Number of wrong predicted: 1363\n",
            "  Accuracy: 86.37 %\n",
            "\n",
            "Model 8: 1 hidden layer, 128 hidden unit per layer, Adam optimizer\n",
            "Training:\n",
            "  Number of data: 45000\n",
            "  Number of wrong predicted: 533\n",
            "  Accuracy: 98.82 %\n",
            "Validation:\n",
            "  Number of data: 15000\n",
            "  Number of wrong predicted: 845\n",
            "  Accuracy: 94.37 %\n",
            "Test:\n",
            "  Number of data: 10000\n",
            "  Number of wrong predicted: 1332\n",
            "  Accuracy: 86.68 %\n",
            "\n",
            "Model 9: 3 hidden layer, 128 hidden unit per layer, SGD optimizer\n",
            "Training:\n",
            "  Number of data: 45000\n",
            "  Number of wrong predicted: 1406\n",
            "  Accuracy: 96.88 %\n",
            "Validation:\n",
            "  Number of data: 15000\n",
            "  Number of wrong predicted: 877\n",
            "  Accuracy: 94.15 %\n",
            "Test:\n",
            "  Number of data: 10000\n",
            "  Number of wrong predicted: 1345\n",
            "  Accuracy: 86.55 %\n",
            "\n",
            "Model 10: 1 hidden layer, 256 hidden unit per layer, SGD optimizer\n",
            "Training:\n",
            "  Number of data: 45000\n",
            "  Number of wrong predicted: 2228\n",
            "  Accuracy: 95.05 %\n",
            "Validation:\n",
            "  Number of data: 15000\n",
            "  Number of wrong predicted: 971\n",
            "  Accuracy: 93.53 %\n",
            "Test:\n",
            "  Number of data: 10000\n",
            "  Number of wrong predicted: 1510\n",
            "  Accuracy: 84.90 %\n",
            "\n",
            "Model 11: 1 hidden layer, 128 hidden unit per layer, SGD optimizer\n",
            "Training:\n",
            "  Number of data: 45000\n",
            "  Number of wrong predicted: 2538\n",
            "  Accuracy: 94.36 %\n",
            "Validation:\n",
            "  Number of data: 15000\n",
            "  Number of wrong predicted: 1055\n",
            "  Accuracy: 92.97 %\n",
            "Test:\n",
            "  Number of data: 10000\n",
            "  Number of wrong predicted: 1644\n",
            "  Accuracy: 83.56 %\n",
            "\n",
            "Model 12: 5 hidden layer, 128 hidden unit per layer, SGD optimizer\n",
            "Training:\n",
            "  Number of data: 45000\n",
            "  Number of wrong predicted: 1838\n",
            "  Accuracy: 95.92 %\n",
            "Validation:\n",
            "  Number of data: 15000\n",
            "  Number of wrong predicted: 1060\n",
            "  Accuracy: 92.93 %\n",
            "Test:\n",
            "  Number of data: 10000\n",
            "  Number of wrong predicted: 1623\n",
            "  Accuracy: 83.77 %\n",
            "\n"
          ]
        }
      ]
    },
    {
      "cell_type": "markdown",
      "source": [
        "## Train Model with selected Hyperparameters"
      ],
      "metadata": {
        "id": "At2fzC4Vk34l"
      }
    },
    {
      "cell_type": "code",
      "source": [
        "model, criterion, optimizer = create_model(5, 256, 'Adam')"
      ],
      "metadata": {
        "id": "CcE4Nr9zkq1A"
      },
      "execution_count": 61,
      "outputs": []
    },
    {
      "cell_type": "code",
      "source": [
        "max_num_epoch = 20\n",
        "log_interval = 200\n",
        "\n",
        "train_losses_minibatches = []\n",
        "train_losses_epoch = []\n",
        "val_losses = []\n",
        "\n",
        "train_accuracy = []\n",
        "val_accuracy = []\n",
        "\n",
        "lowest_val_error = sys.maxsize\n",
        "patience = 2"
      ],
      "metadata": {
        "id": "wnVCUiFjyLNY"
      },
      "execution_count": 62,
      "outputs": []
    },
    {
      "cell_type": "code",
      "source": [
        "def train(epoch):\n",
        "    model.train()\n",
        "    for batch_idx, (data, target) in enumerate(train_loader):\n",
        "        if torch.cuda.is_available():\n",
        "            data, target = data.cuda(), target.cuda()\n",
        "\n",
        "        optimizer.zero_grad()\n",
        "        output = model(data)\n",
        "        loss = criterion(output, target)\n",
        "        loss.backward()\n",
        "        optimizer.step()\n",
        "    \n",
        "        train_losses_minibatches.append(loss.item())\n",
        "\n",
        "        if batch_idx % log_interval == 0:\n",
        "            print('Train Epoch: {} [{}/{} ({:.0f}%)]\\tLoss: {:.6f}'.format(\n",
        "                epoch, batch_idx * len(data), len(train_loader.dataset),\n",
        "                100. * batch_idx / len(train_loader), loss.item()))"
      ],
      "metadata": {
        "id": "94FN0JFEx1ou"
      },
      "execution_count": 63,
      "outputs": []
    },
    {
      "cell_type": "code",
      "source": [
        "def evaluate():\n",
        "    model.eval()\n",
        "    val_loss = 0\n",
        "    train_loss = 0\n",
        "    correct_train = 0\n",
        "    correct_val = 0\n",
        "    with torch.no_grad():\n",
        "          # calculate accuracy on train set\n",
        "          for data, target in train_loader:\n",
        "              if torch.cuda.is_available():\n",
        "                  data, target = data.cuda(), target.cuda()\n",
        "\n",
        "              output = model(data)\n",
        "              train_loss += criterion(output, target).item()\n",
        "              pred = output.data.max(1, keepdim=True)[1]\n",
        "              correct_train += pred.eq(target.data.view_as(pred)).sum()\n",
        "\n",
        "          train_loss /= len(train_loader.dataset)\n",
        "          train_losses_epoch.append(train_loss)\n",
        "          train_accuracy.append(100. * correct_train.item() / len(train_loader.dataset))\n",
        "\n",
        "          # calculate accuracy on valdiation set\n",
        "          for data, target in val_loader:\n",
        "              if torch.cuda.is_available():\n",
        "                  data, target = data.cuda(), target.cuda()\n",
        "\n",
        "              output = model(data)\n",
        "              val_loss += criterion(output, target).item()\n",
        "              pred = output.data.max(1, keepdim=True)[1]\n",
        "              correct_val += pred.eq(target.data.view_as(pred)).sum()\n",
        "\n",
        "          val_loss /= len(val_loader.dataset)\n",
        "          val_losses.append(val_loss)\n",
        "          val_accuracy.append(100. * correct_val.item() / len(val_loader.dataset))\n",
        "\n",
        "          print('Training set: Avg. loss: {:.4f}, Accuracy: {}/{} ({:.0f}%)'.format(\n",
        "              train_loss, correct_train, len(train_loader.dataset),\n",
        "              100. * correct_train.item() / len(train_loader.dataset)))\n",
        "          print('Validation set: Avg. loss: {:.4f}, Accuracy: {}/{} ({:.0f}%)\\n'.format(\n",
        "              val_loss, correct_val, len(val_loader.dataset),\n",
        "              100. * correct_val.item() / len(val_loader.dataset)))\n",
        "      \n",
        "    return val_loss"
      ],
      "metadata": {
        "id": "iHy0HEilyM-x"
      },
      "execution_count": 64,
      "outputs": []
    },
    {
      "cell_type": "code",
      "source": [
        "no_improve_counter = 0\n",
        "evaluate()\n",
        "for epoch in range(max_num_epoch):\n",
        "    train(epoch)\n",
        "    loss = evaluate()\n",
        "    if loss <= lowest_val_error:\n",
        "        lowest_val_error = loss\n",
        "        no_improve_counter = 0\n",
        "    else:\n",
        "        no_improve_counter += 1\n",
        "    \n",
        "    if no_improve_counter >= patience:\n",
        "        print(f'Early stopping at epoch: {epoch} because no decrement in the validation loss.')\n",
        "        break"
      ],
      "metadata": {
        "colab": {
          "base_uri": "https://localhost:8080/"
        },
        "id": "MtuRCffYyV2h",
        "outputId": "248a2861-4ab1-4e42-841f-c88a1eba5c30"
      },
      "execution_count": 65,
      "outputs": [
        {
          "output_type": "stream",
          "name": "stdout",
          "text": [
            "Training set: Avg. loss: 0.0720, Accuracy: 4508/45000 (10%)\n",
            "Validation set: Avg. loss: 0.0720, Accuracy: 1492/15000 (10%)\n",
            "\n",
            "Train Epoch: 0 [0/45000 (0%)]\tLoss: 2.303945\n",
            "Train Epoch: 0 [6400/45000 (14%)]\tLoss: 0.326471\n",
            "Train Epoch: 0 [12800/45000 (28%)]\tLoss: 0.611550\n",
            "Train Epoch: 0 [19200/45000 (43%)]\tLoss: 0.140433\n",
            "Train Epoch: 0 [25600/45000 (57%)]\tLoss: 0.292165\n",
            "Train Epoch: 0 [32000/45000 (71%)]\tLoss: 0.371853\n",
            "Train Epoch: 0 [38400/45000 (85%)]\tLoss: 0.354035\n",
            "Train Epoch: 0 [44800/45000 (100%)]\tLoss: 0.063282\n",
            "Training set: Avg. loss: 0.0065, Accuracy: 42137/45000 (94%)\n",
            "Validation set: Avg. loss: 0.0073, Accuracy: 13901/15000 (93%)\n",
            "\n",
            "Train Epoch: 1 [0/45000 (0%)]\tLoss: 0.252221\n",
            "Train Epoch: 1 [6400/45000 (14%)]\tLoss: 0.332521\n",
            "Train Epoch: 1 [12800/45000 (28%)]\tLoss: 0.122460\n",
            "Train Epoch: 1 [19200/45000 (43%)]\tLoss: 0.253763\n",
            "Train Epoch: 1 [25600/45000 (57%)]\tLoss: 0.065496\n",
            "Train Epoch: 1 [32000/45000 (71%)]\tLoss: 0.269109\n",
            "Train Epoch: 1 [38400/45000 (85%)]\tLoss: 0.108857\n",
            "Train Epoch: 1 [44800/45000 (100%)]\tLoss: 0.198469\n",
            "Training set: Avg. loss: 0.0036, Accuracy: 43539/45000 (97%)\n",
            "Validation set: Avg. loss: 0.0051, Accuracy: 14283/15000 (95%)\n",
            "\n",
            "Train Epoch: 2 [0/45000 (0%)]\tLoss: 0.153396\n",
            "Train Epoch: 2 [6400/45000 (14%)]\tLoss: 0.182512\n",
            "Train Epoch: 2 [12800/45000 (28%)]\tLoss: 0.043507\n",
            "Train Epoch: 2 [19200/45000 (43%)]\tLoss: 0.056269\n",
            "Train Epoch: 2 [25600/45000 (57%)]\tLoss: 0.022997\n",
            "Train Epoch: 2 [32000/45000 (71%)]\tLoss: 0.154659\n",
            "Train Epoch: 2 [38400/45000 (85%)]\tLoss: 0.028745\n",
            "Train Epoch: 2 [44800/45000 (100%)]\tLoss: 0.130001\n",
            "Training set: Avg. loss: 0.0027, Accuracy: 43849/45000 (97%)\n",
            "Validation set: Avg. loss: 0.0049, Accuracy: 14306/15000 (95%)\n",
            "\n",
            "Train Epoch: 3 [0/45000 (0%)]\tLoss: 0.064784\n",
            "Train Epoch: 3 [6400/45000 (14%)]\tLoss: 0.016712\n",
            "Train Epoch: 3 [12800/45000 (28%)]\tLoss: 0.083009\n",
            "Train Epoch: 3 [19200/45000 (43%)]\tLoss: 0.117800\n",
            "Train Epoch: 3 [25600/45000 (57%)]\tLoss: 0.008338\n",
            "Train Epoch: 3 [32000/45000 (71%)]\tLoss: 0.014269\n",
            "Train Epoch: 3 [38400/45000 (85%)]\tLoss: 0.011008\n",
            "Train Epoch: 3 [44800/45000 (100%)]\tLoss: 0.030537\n",
            "Training set: Avg. loss: 0.0021, Accuracy: 44134/45000 (98%)\n",
            "Validation set: Avg. loss: 0.0049, Accuracy: 14366/15000 (96%)\n",
            "\n",
            "Train Epoch: 4 [0/45000 (0%)]\tLoss: 0.080211\n",
            "Train Epoch: 4 [6400/45000 (14%)]\tLoss: 0.017538\n",
            "Train Epoch: 4 [12800/45000 (28%)]\tLoss: 0.005828\n",
            "Train Epoch: 4 [19200/45000 (43%)]\tLoss: 0.190155\n",
            "Train Epoch: 4 [25600/45000 (57%)]\tLoss: 0.031835\n",
            "Train Epoch: 4 [32000/45000 (71%)]\tLoss: 0.130611\n",
            "Train Epoch: 4 [38400/45000 (85%)]\tLoss: 0.006744\n",
            "Train Epoch: 4 [44800/45000 (100%)]\tLoss: 0.128510\n",
            "Training set: Avg. loss: 0.0013, Accuracy: 44450/45000 (99%)\n",
            "Validation set: Avg. loss: 0.0045, Accuracy: 14426/15000 (96%)\n",
            "\n",
            "Train Epoch: 5 [0/45000 (0%)]\tLoss: 0.160274\n",
            "Train Epoch: 5 [6400/45000 (14%)]\tLoss: 0.021534\n",
            "Train Epoch: 5 [12800/45000 (28%)]\tLoss: 0.005078\n",
            "Train Epoch: 5 [19200/45000 (43%)]\tLoss: 0.109656\n",
            "Train Epoch: 5 [25600/45000 (57%)]\tLoss: 0.050956\n",
            "Train Epoch: 5 [32000/45000 (71%)]\tLoss: 0.217889\n",
            "Train Epoch: 5 [38400/45000 (85%)]\tLoss: 0.058008\n",
            "Train Epoch: 5 [44800/45000 (100%)]\tLoss: 0.025902\n",
            "Training set: Avg. loss: 0.0012, Accuracy: 44515/45000 (99%)\n",
            "Validation set: Avg. loss: 0.0045, Accuracy: 14433/15000 (96%)\n",
            "\n",
            "Train Epoch: 6 [0/45000 (0%)]\tLoss: 0.006169\n",
            "Train Epoch: 6 [6400/45000 (14%)]\tLoss: 0.001021\n",
            "Train Epoch: 6 [12800/45000 (28%)]\tLoss: 0.013122\n",
            "Train Epoch: 6 [19200/45000 (43%)]\tLoss: 0.079874\n",
            "Train Epoch: 6 [25600/45000 (57%)]\tLoss: 0.068861\n",
            "Train Epoch: 6 [32000/45000 (71%)]\tLoss: 0.011188\n",
            "Train Epoch: 6 [38400/45000 (85%)]\tLoss: 0.150404\n",
            "Train Epoch: 6 [44800/45000 (100%)]\tLoss: 0.018014\n",
            "Training set: Avg. loss: 0.0010, Accuracy: 44560/45000 (99%)\n",
            "Validation set: Avg. loss: 0.0047, Accuracy: 14409/15000 (96%)\n",
            "\n",
            "Early stopping at epoch: 6 because no decrement in the validation loss.\n"
          ]
        }
      ]
    },
    {
      "cell_type": "markdown",
      "source": [
        "## Check 3: Losses Visualisation"
      ],
      "metadata": {
        "id": "eR6QgqPBXwf_"
      }
    },
    {
      "cell_type": "markdown",
      "source": [
        "### Losses of every minibatches\n"
      ],
      "metadata": {
        "id": "nLg0xUD2tzBm"
      }
    },
    {
      "cell_type": "code",
      "source": [
        "plt.plot(train_losses_minibatches)"
      ],
      "metadata": {
        "colab": {
          "base_uri": "https://localhost:8080/",
          "height": 282
        },
        "id": "pVR6tiUfjk72",
        "outputId": "8ce4601d-870d-4443-d313-8181ac8104c2"
      },
      "execution_count": 66,
      "outputs": [
        {
          "output_type": "execute_result",
          "data": {
            "text/plain": [
              "[<matplotlib.lines.Line2D at 0x7fd95fbe7850>]"
            ]
          },
          "metadata": {},
          "execution_count": 66
        },
        {
          "output_type": "display_data",
          "data": {
            "text/plain": [
              "<Figure size 432x288 with 1 Axes>"
            ],
            "image/png": "[encoded data removed]"
          },
          "metadata": {
            "needs_background": "light"
          }
        }
      ]
    },
    {
      "cell_type": "markdown",
      "source": [
        "### Losses of every epoch"
      ],
      "metadata": {
        "id": "_O24BuVxt4so"
      }
    },
    {
      "cell_type": "code",
      "source": [
        "plt.plot(train_losses_epoch)\n",
        "plt.plot(val_losses, color='orange')\n",
        "plt.legend(['train', 'val'])"
      ],
      "metadata": {
        "colab": {
          "base_uri": "https://localhost:8080/",
          "height": 282
        },
        "id": "xxr9-WbXs_th",
        "outputId": "8d5743d0-f3ad-4b4e-9ece-e86cc5690d43"
      },
      "execution_count": 67,
      "outputs": [
        {
          "output_type": "execute_result",
          "data": {
            "text/plain": [
              "<matplotlib.legend.Legend at 0x7fd95ff98910>"
            ]
          },
          "metadata": {},
          "execution_count": 67
        },
        {
          "output_type": "display_data",
          "data": {
            "text/plain": [
              "<Figure size 432x288 with 1 Axes>"
            ],
            "image/png": "[encoded data removed]"
          },
          "metadata": {
            "needs_background": "light"
          }
        }
      ]
    },
    {
      "cell_type": "markdown",
      "source": [
        "### Accuracy after of every epoch"
      ],
      "metadata": {
        "id": "mvQFMDIwvBTV"
      }
    },
    {
      "cell_type": "code",
      "source": [
        "plt.plot(train_accuracy)\n",
        "plt.plot(val_accuracy, color='orange')\n",
        "plt.legend(['train', 'val'])"
      ],
      "metadata": {
        "colab": {
          "base_uri": "https://localhost:8080/",
          "height": 282
        },
        "id": "Ln1mp_O-vIXX",
        "outputId": "3feb13bf-f1d8-4c4a-f74a-c716d7a15eca"
      },
      "execution_count": 68,
      "outputs": [
        {
          "output_type": "execute_result",
          "data": {
            "text/plain": [
              "<matplotlib.legend.Legend at 0x7fd9601bccd0>"
            ]
          },
          "metadata": {},
          "execution_count": 68
        },
        {
          "output_type": "display_data",
          "data": {
            "text/plain": [
              "<Figure size 432x288 with 1 Axes>"
            ],
            "image/png": "[encoded data removed]"
          },
          "metadata": {
            "needs_background": "light"
          }
        }
      ]
    },
    {
      "cell_type": "markdown",
      "source": [
        "### Accuracy on Test Set"
      ],
      "metadata": {
        "id": "-G67q2BXtdRK"
      }
    },
    {
      "cell_type": "code",
      "source": [
        "model.eval()\n",
        "test_loss = 0\n",
        "correct_test = 0\n",
        "\n",
        "with torch.no_grad():\n",
        "    for data, target in test_loader:\n",
        "        if torch.cuda.is_available():\n",
        "            data, target = data.cuda(), target.cuda()\n",
        "\n",
        "        output = model(data)\n",
        "        test_loss += criterion(output, target).item()\n",
        "        pred = output.data.max(1, keepdim=True)[1]\n",
        "        correct_test += pred.eq(target.data.view_as(pred)).sum()\n",
        "\n",
        "    test_loss /= len(test_loader.dataset)\n",
        "\n",
        "    print('Test set: Avg. loss: {:.4f}, Accuracy: {}/{} ({:.0f}%)'.format(\n",
        "        test_loss, correct_test, len(test_loader.dataset),\n",
        "        100. * correct_test.item() / len(test_loader.dataset)))"
      ],
      "metadata": {
        "colab": {
          "base_uri": "https://localhost:8080/"
        },
        "id": "mix5U53MvKFJ",
        "outputId": "b2eb5eba-fc75-4b29-fbc9-ecd2e95205d2"
      },
      "execution_count": 69,
      "outputs": [
        {
          "output_type": "stream",
          "name": "stdout",
          "text": [
            "Test set: Avg. loss: 0.0148, Accuracy: 8989/10000 (90%)\n"
          ]
        }
      ]
    },
    {
      "cell_type": "markdown",
      "source": [
        "# Task 2"
      ],
      "metadata": {
        "id": "NzO54P-etSiy"
      }
    },
    {
      "cell_type": "code",
      "source": [
        "def compute_probability_dist(dataset):\n",
        "    # convert tensor to numpy\n",
        "    dataset_np = dataset.data.numpy()\n",
        "    # flatten the array\n",
        "    dataset_np = np.reshape(dataset_np, (-1, 28*28))\n",
        "\n",
        "    # create an array to store the value of probability of the value of each pixel\n",
        "    # pixel_probab.shape = (784, 256)\n",
        "    pixel_proba = np.array([[0. for j in range(256)] for i in range(28*28)])\n",
        "    \n",
        "    for i in range(28*28):\n",
        "        pixel_i = dataset_np[:, i]\n",
        "\n",
        "        # count the value contain in each pixel and divide by total length to get the probability\n",
        "        unique_count = np.unique(pixel_i, return_counts=True)\n",
        "        \n",
        "        for idx, value in enumerate(unique_count[0]):\n",
        "            pixel_proba[i][value] = unique_count[1][idx]/len(dataset_np)\n",
        "\n",
        "    return pixel_proba\n"
      ],
      "metadata": {
        "id": "NAvTMsrHtSi3"
      },
      "execution_count": 63,
      "outputs": []
    },
    {
      "cell_type": "markdown",
      "source": [
        "### Q1 Probability on Training Data"
      ],
      "metadata": {
        "id": "wqFfOAzytSi3"
      }
    },
    {
      "cell_type": "code",
      "source": [
        "train_pixel_proba = compute_probability_dist(train_data)"
      ],
      "metadata": {
        "id": "mDi4af7ntSi3"
      },
      "execution_count": 64,
      "outputs": []
    },
    {
      "cell_type": "code",
      "source": [
        "# peek into the training pixel probability array\n",
        "train_pixel_proba[0][:20]"
      ],
      "metadata": {
        "colab": {
          "base_uri": "https://localhost:8080/"
        },
        "outputId": "abc9b254-aff5-461e-a7ee-231c0c1f5f26",
        "id": "pbAD3lpqtSi3"
      },
      "execution_count": 65,
      "outputs": [
        {
          "output_type": "execute_result",
          "data": {
            "text/plain": [
              "array([9.94100000e-01, 5.00000000e-04, 2.66666667e-04, 2.83333333e-04,\n",
              "       1.50000000e-04, 1.66666667e-04, 1.83333333e-04, 1.00000000e-04,\n",
              "       5.00000000e-05, 1.00000000e-04, 1.00000000e-04, 6.66666667e-05,\n",
              "       5.00000000e-05, 1.33333333e-04, 1.33333333e-04, 3.33333333e-05,\n",
              "       8.33333333e-05, 8.33333333e-05, 6.66666667e-05, 3.33333333e-05])"
            ]
          },
          "metadata": {},
          "execution_count": 65
        }
      ]
    },
    {
      "cell_type": "markdown",
      "source": [
        "### Q2 Probability on Test Data"
      ],
      "metadata": {
        "id": "UsLLxH-KtSi4"
      }
    },
    {
      "cell_type": "code",
      "source": [
        "test_pixel_proba = compute_probability_dist(test_data)"
      ],
      "metadata": {
        "id": "Np_OVZCZtSi4"
      },
      "execution_count": 66,
      "outputs": []
    },
    {
      "cell_type": "code",
      "source": [
        "# peek into the test pixel probability array\n",
        "test_pixel_proba[0][:20]"
      ],
      "metadata": {
        "colab": {
          "base_uri": "https://localhost:8080/"
        },
        "outputId": "9102da0f-dc57-483f-cb56-dc8862215075",
        "id": "43eYzvw-tSi4"
      },
      "execution_count": 67,
      "outputs": [
        {
          "output_type": "execute_result",
          "data": {
            "text/plain": [
              "array([9.949e-01, 3.000e-04, 1.000e-04, 1.000e-04, 2.000e-04, 2.000e-04,\n",
              "       3.000e-04, 1.000e-04, 3.000e-04, 1.000e-04, 2.000e-04, 1.000e-04,\n",
              "       1.000e-04, 2.000e-04, 1.000e-04, 0.000e+00, 0.000e+00, 0.000e+00,\n",
              "       2.000e-04, 0.000e+00])"
            ]
          },
          "metadata": {},
          "execution_count": 67
        }
      ]
    },
    {
      "cell_type": "markdown",
      "source": [
        "### Q3 Visualize probability for pixel #123"
      ],
      "metadata": {
        "id": "agxkfF0xtSi4"
      }
    },
    {
      "cell_type": "code",
      "source": [
        "# make sure that the total of probability is 1\n",
        "print(train_pixel_proba[123].sum())\n",
        "print(test_pixel_proba[123].sum())"
      ],
      "metadata": {
        "colab": {
          "base_uri": "https://localhost:8080/"
        },
        "outputId": "f63b4c8e-67ec-40b9-c415-efeeca931bb9",
        "id": "DmxgD2hxtSi4"
      },
      "execution_count": 68,
      "outputs": [
        {
          "output_type": "stream",
          "name": "stdout",
          "text": [
            "1.0000000000000002\n",
            "0.9999999999999998\n"
          ]
        }
      ]
    },
    {
      "cell_type": "code",
      "source": [
        "fig, (ax1, ax2) = plt.subplots(1, 2, figsize=(10,5))\n",
        "\n",
        "ax1.hist(x=[i for i in range(256)], bins=256, weights=train_pixel_proba[123]);\n",
        "ax1.set_title('Probability Distribution for train data #123')\n",
        "ax1.set_xlabel(\"Pixel values\")\n",
        "ax1.set_ylabel(\"Probability\")\n",
        "\n",
        "ax2.hist(x=[i for i in range(256)], bins=256, weights=test_pixel_proba[123]);\n",
        "ax2.set_title('Probability Distribution for test data #123')\n",
        "ax2.set_xlabel(\"Pixel values\")\n",
        "ax2.set_ylabel(\"Probability\");"
      ],
      "metadata": {
        "colab": {
          "base_uri": "https://localhost:8080/",
          "height": 350
        },
        "outputId": "0a6664b0-5357-4467-b932-c3e90db228fc",
        "id": "pgppIjh1tSi4"
      },
      "execution_count": 69,
      "outputs": [
        {
          "output_type": "display_data",
          "data": {
            "text/plain": [
              "<Figure size 720x360 with 2 Axes>"
            ],
            "image/png": "[encoded data removed]"
          },
          "metadata": {
            "needs_background": "light"
          }
        }
      ]
    },
    {
      "cell_type": "markdown",
      "source": [
        "### Q4a Compute the Shannon Entropy"
      ],
      "metadata": {
        "id": "aFHPVCUCtSi4"
      }
    },
    {
      "cell_type": "code",
      "source": [
        "def shannon_log(x):\n",
        "    return -1 * x * math.log(x, 2)"
      ],
      "metadata": {
        "id": "3OO9hXEstSi4"
      },
      "execution_count": 70,
      "outputs": []
    },
    {
      "cell_type": "code",
      "source": [
        "def compute_entropy(probability_dist):\n",
        "    entropies = []\n",
        "\n",
        "    for proba in probability_dist:\n",
        "        entropy = [shannon_log(x) for x in proba if x>0]\n",
        "        entropies.append(sum(entropy))\n",
        "\n",
        "    total_entropy = sum(entropies)\n",
        "\n",
        "    return np.array(entropies), total_entropy"
      ],
      "metadata": {
        "id": "h4DiA1MntSi4"
      },
      "execution_count": 71,
      "outputs": []
    },
    {
      "cell_type": "code",
      "source": [
        "train_entropy_list, train_total_entropy = compute_entropy(train_pixel_proba)\n",
        "print(f'Entropy for train data H(x): {train_total_entropy}')"
      ],
      "metadata": {
        "colab": {
          "base_uri": "https://localhost:8080/"
        },
        "outputId": "df7efd50-d2bd-4106-8de1-6596e6fe7fc7",
        "id": "qaeIKAn8tSi4"
      },
      "execution_count": 72,
      "outputs": [
        {
          "output_type": "stream",
          "name": "stdout",
          "text": [
            "Entropy for train data H(x): 2447.150658798105\n"
          ]
        }
      ]
    },
    {
      "cell_type": "code",
      "source": [
        "test_entropy_list, test_total_entropy = compute_entropy(test_pixel_proba)\n",
        "print(f'Entropy for test data H(x): {test_total_entropy}')"
      ],
      "metadata": {
        "colab": {
          "base_uri": "https://localhost:8080/"
        },
        "outputId": "43f28ce7-a822-4608-a3b3-b86d880d6be6",
        "id": "YqrXmnostSi5"
      },
      "execution_count": 73,
      "outputs": [
        {
          "output_type": "stream",
          "name": "stdout",
          "text": [
            "Entropy for test data H(x): 2407.1840029090063\n"
          ]
        }
      ]
    },
    {
      "cell_type": "code",
      "source": [
        "print(train_entropy_list.shape)\n",
        "train_entropy_list[:20]"
      ],
      "metadata": {
        "colab": {
          "base_uri": "https://localhost:8080/"
        },
        "outputId": "1ce35248-453e-4084-a6de-fd9768e5339a",
        "id": "jsTZbfXutSi5"
      },
      "execution_count": 74,
      "outputs": [
        {
          "output_type": "stream",
          "name": "stdout",
          "text": [
            "(784,)\n"
          ]
        },
        {
          "output_type": "execute_result",
          "data": {
            "text/plain": [
              "array([0.0895588 , 0.16458159, 0.26130604, 0.39351536, 0.59963562,\n",
              "       0.87885991, 1.23728993, 1.62892182, 2.03865259, 2.43851124,\n",
              "       2.825307  , 3.20288528, 3.4651016 , 3.55357147, 3.41686392,\n",
              "       3.07092999, 2.54436874, 1.99952839, 1.60492879, 1.32814015])"
            ]
          },
          "metadata": {},
          "execution_count": 74
        }
      ]
    },
    {
      "cell_type": "code",
      "source": [
        "fig, (ax1, ax2) = plt.subplots(1, 2, figsize=(10,5))\n",
        "\n",
        "ax1.hist(x=[i for i in range(784)], bins=784, weights=train_entropy_list);\n",
        "ax1.set_title('-P(x)log2[P(x)] Distribution')\n",
        "ax1.set_xlabel(\"Features (0-784)\")\n",
        "ax1.set_ylabel(\"h(x)\")\n",
        "\n",
        "ax2.hist(x=[i for i in range(784)], bins=784, weights=test_entropy_list);\n",
        "ax2.set_title('-Q(x)log2[Q(x)] Distribution')\n",
        "ax2.set_xlabel(\"Features (0-784)\")\n",
        "ax2.set_ylabel(\"h(x)\");"
      ],
      "metadata": {
        "colab": {
          "base_uri": "https://localhost:8080/",
          "height": 350
        },
        "outputId": "3828e424-ed0b-4d5a-bc7b-a731203606ed",
        "id": "u3p-8G7CtSi5"
      },
      "execution_count": 75,
      "outputs": [
        {
          "output_type": "display_data",
          "data": {
            "text/plain": [
              "<Figure size 720x360 with 2 Axes>"
            ],
            "image/png": "[encoded data removed]"
          },
          "metadata": {
            "needs_background": "light"
          }
        }
      ]
    },
    {
      "cell_type": "markdown",
      "source": [
        "### Q4b What is the best way to measure the difference between entropy of training vs test dataset that you have computed?"
      ],
      "metadata": {
        "id": "5r17y5WItSi5"
      }
    },
    {
      "cell_type": "markdown",
      "source": [
        "The best way to measure the difference between entropy of training vs test dataset is by compute the total entropy of each feature and compared it between the train and test set. After we get a table of differences between each feature, we could evaluate between the most and the least important feature in the dataset."
      ],
      "metadata": {
        "id": "0NlB4wtrtSi5"
      }
    },
    {
      "cell_type": "code",
      "source": [
        "plt.figure(figsize=(10,8))\n",
        "entropy_diff = np.array(abs(train_entropy_list-test_entropy_list))\n",
        "plt.hist(x=[i for i in range(784)], bins=784, weights=entropy_diff);"
      ],
      "metadata": {
        "colab": {
          "base_uri": "https://localhost:8080/",
          "height": 483
        },
        "outputId": "d94f1c5b-dfd1-4292-c71b-892799385bea",
        "id": "NeqIysqRtSi5"
      },
      "execution_count": 76,
      "outputs": [
        {
          "output_type": "display_data",
          "data": {
            "text/plain": [
              "<Figure size 720x576 with 1 Axes>"
            ],
            "image/png": "[encoded data removed]"
          },
          "metadata": {
            "needs_background": "light"
          }
        }
      ]
    },
    {
      "cell_type": "code",
      "source": [
        "top_20_entropy_diff = np.argsort(-entropy_diff)[:20]\n",
        "print(f'Features with the highest amount of difference in entropy: {top_20_entropy_diff}')"
      ],
      "metadata": {
        "colab": {
          "base_uri": "https://localhost:8080/"
        },
        "outputId": "6c5d3c83-1952-4045-8c48-c933d190bdd6",
        "id": "lHltFRBUtSi5"
      },
      "execution_count": 77,
      "outputs": [
        {
          "output_type": "stream",
          "name": "stdout",
          "text": [
            "Features with the highest amount of difference in entropy: [391 419 363 447 306 334 335 362 305 333 390 277 418 475 278 332 446 276\n",
            " 304 307]\n"
          ]
        }
      ]
    },
    {
      "cell_type": "code",
      "source": [
        "bottom_20_entropy_diff = np.argsort(entropy_diff)[:20]\n",
        "print(f'Features with the lowest amount of difference in entropy: {bottom_20_entropy_diff}')"
      ],
      "metadata": {
        "colab": {
          "base_uri": "https://localhost:8080/"
        },
        "outputId": "fc2397a4-469d-4d22-ff93-fdb9d218fd52",
        "id": "HbG5AgsutSi5"
      },
      "execution_count": 78,
      "outputs": [
        {
          "output_type": "stream",
          "name": "stdout",
          "text": [
            "Features with the lowest amount of difference in entropy: [699 454 712 517 453 661 135   2 590 604 658 727 545 181 598   1 617 611\n",
            " 400  33]\n"
          ]
        }
      ]
    },
    {
      "cell_type": "markdown",
      "source": [
        "We can see that feature #391 has the highest amount of difference in entropy. This means that this particular feature have a high contribution in identifying the label.\n"
      ],
      "metadata": {
        "id": "t8HQm-9oTDBn"
      }
    },
    {
      "cell_type": "code",
      "source": [
        "entropy_diff.reshape(28, 28).shape"
      ],
      "metadata": {
        "colab": {
          "base_uri": "https://localhost:8080/"
        },
        "id": "Pvq9tjmQShA6",
        "outputId": "874dfe3e-9368-4279-bfe4-6ed60eeb3ae4"
      },
      "execution_count": 84,
      "outputs": [
        {
          "output_type": "execute_result",
          "data": {
            "text/plain": [
              "(28, 28)"
            ]
          },
          "metadata": {},
          "execution_count": 84
        }
      ]
    },
    {
      "cell_type": "code",
      "source": [
        "plt.figure(figsize=(10,8))\n",
        "sns.heatmap(entropy_diff.reshape(28, 28), cmap='Blues')"
      ],
      "metadata": {
        "colab": {
          "base_uri": "https://localhost:8080/",
          "height": 500
        },
        "id": "FQXq3SAcSfuX",
        "outputId": "0754631f-5a72-4b7a-c51f-bd60a4c0a6d8"
      },
      "execution_count": 87,
      "outputs": [
        {
          "output_type": "execute_result",
          "data": {
            "text/plain": [
              "<matplotlib.axes._subplots.AxesSubplot at 0x7f557d924d50>"
            ]
          },
          "metadata": {},
          "execution_count": 87
        },
        {
          "output_type": "display_data",
          "data": {
            "text/plain": [
              "<Figure size 720x576 with 2 Axes>"
            ],
            "image/png": "[encoded data removed]"
          },
          "metadata": {
            "needs_background": "light"
          }
        }
      ]
    },
    {
      "cell_type": "markdown",
      "source": [
        "Figure above shows the intensity of difference in feature. The higher the entropy differences, the darker the pixel colour. We can see that there are certain spots that have really high intensities such as middle right and middle left. This could mean that this area is very important in determining the label.\n",
        "\n"
      ],
      "metadata": {
        "id": "C7_DxCHftSi5"
      }
    },
    {
      "cell_type": "code",
      "source": [
        ""
      ],
      "metadata": {
        "id": "LrOM-15yTb0w"
      },
      "execution_count": null,
      "outputs": []
    }
  ]
}